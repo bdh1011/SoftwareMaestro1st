{
 "metadata": {
  "name": "",
  "signature": "sha256:3f9aaa0b002616cc8cc4d5e2424f9ac3e7c0aeea567fc27fe7e583c4bbb013c9"
 },
 "nbformat": 3,
 "nbformat_minor": 0,
 "worksheets": [
  {
   "cells": [
    {
     "cell_type": "code",
     "collapsed": false,
     "input": [
      "from elasticutils import get_es, S"
     ],
     "language": "python",
     "metadata": {},
     "outputs": [],
     "prompt_number": 81
    },
    {
     "cell_type": "code",
     "collapsed": false,
     "input": [
      "URL = \"http://localhost:9200\""
     ],
     "language": "python",
     "metadata": {},
     "outputs": [],
     "prompt_number": 82
    },
    {
     "cell_type": "code",
     "collapsed": false,
     "input": [
      "INDEX = \"logstash-2014.07.06\""
     ],
     "language": "python",
     "metadata": {},
     "outputs": [],
     "prompt_number": 83
    },
    {
     "cell_type": "code",
     "collapsed": false,
     "input": [
      "_es = S().es(urls=[URL]).indexes(INDEX)"
     ],
     "language": "python",
     "metadata": {},
     "outputs": [],
     "prompt_number": 84
    },
    {
     "cell_type": "code",
     "collapsed": false,
     "input": [
      "_es.count()"
     ],
     "language": "python",
     "metadata": {},
     "outputs": [
      {
       "metadata": {},
       "output_type": "pyout",
       "prompt_number": 85,
       "text": [
        "10000"
       ]
      }
     ],
     "prompt_number": 85
    },
    {
     "cell_type": "code",
     "collapsed": false,
     "input": [
      "data_list = []\n",
      "_es.start = 0\n",
      "_es.stop = 100000\n"
     ],
     "language": "python",
     "metadata": {},
     "outputs": [],
     "prompt_number": 86
    },
    {
     "cell_type": "code",
     "collapsed": false,
     "input": [
      "for item in _es.execute():\n",
      "    data_list.append(item._results_dict)"
     ],
     "language": "python",
     "metadata": {},
     "outputs": [],
     "prompt_number": 87
    },
    {
     "cell_type": "code",
     "collapsed": false,
     "input": [
      "print len(data_list)"
     ],
     "language": "python",
     "metadata": {},
     "outputs": [
      {
       "output_type": "stream",
       "stream": "stdout",
       "text": [
        "10000\n"
       ]
      }
     ],
     "prompt_number": 88
    },
    {
     "cell_type": "code",
     "collapsed": false,
     "input": [
      "import pandas as pd"
     ],
     "language": "python",
     "metadata": {},
     "outputs": [],
     "prompt_number": 89
    },
    {
     "cell_type": "code",
     "collapsed": false,
     "input": [
      "df = pd.DataFrame(data_list)"
     ],
     "language": "python",
     "metadata": {},
     "outputs": [],
     "prompt_number": 90
    },
    {
     "cell_type": "code",
     "collapsed": false,
     "input": [
      "df"
     ],
     "language": "python",
     "metadata": {},
     "outputs": [
      {
       "html": [
        "<div style=\"max-height:1000px;max-width:1500px;overflow:auto;\">\n",
        "<table border=\"1\" class=\"dataframe\">\n",
        "  <thead>\n",
        "    <tr style=\"text-align: right;\">\n",
        "      <th></th>\n",
        "      <th>@timestamp</th>\n",
        "      <th>agent</th>\n",
        "      <th>duration</th>\n",
        "      <th>host</th>\n",
        "      <th>size</th>\n",
        "      <th>url</th>\n",
        "    </tr>\n",
        "  </thead>\n",
        "  <tbody>\n",
        "    <tr>\n",
        "      <th>0   </th>\n",
        "      <td> 2014-07-06T16:14:12+09:00</td>\n",
        "      <td> Mozilla/5.0 (Linux; U; Android 2.3.6; ko-kr; S...</td>\n",
        "      <td> 0.006</td>\n",
        "      <td>   119.70.27.162</td>\n",
        "      <td>  493</td>\n",
        "      <td> /stat/swipe_main?v=tvshop759418&amp;xid=upYqq7IOWG...</td>\n",
        "    </tr>\n",
        "    <tr>\n",
        "      <th>1   </th>\n",
        "      <td> 2014-07-06T16:14:12+09:00</td>\n",
        "      <td> Mozilla/5.0 (Linux; U; Android 4.0.4; ko-kr; S...</td>\n",
        "      <td> 0.005</td>\n",
        "      <td>   119.195.17.74</td>\n",
        "      <td>  578</td>\n",
        "      <td> /stat/swipe_main?v=tvshop238487&amp;xid=O4CRHhoFyA...</td>\n",
        "    </tr>\n",
        "    <tr>\n",
        "      <th>2   </th>\n",
        "      <td> 2014-07-06T16:14:12+09:00</td>\n",
        "      <td> Mozilla/5.0 (Linux; U; Android 4.3; ko-kr; SHV...</td>\n",
        "      <td> 0.111</td>\n",
        "      <td>    61.79.55.195</td>\n",
        "      <td>  618</td>\n",
        "      <td> /api/rewardapply/todayvisitreward?json=1&amp;v=don...</td>\n",
        "    </tr>\n",
        "    <tr>\n",
        "      <th>3   </th>\n",
        "      <td> 2014-07-06T16:14:12+09:00</td>\n",
        "      <td> Mozilla/5.0 (iPad; CPU OS 7_1_1 like Mac OS X)...</td>\n",
        "      <td> 0.009</td>\n",
        "      <td>    211.59.21.43</td>\n",
        "      <td>  429</td>\n",
        "      <td> /stat/swipe_main?v=tvshop48925&amp;xid=StJ825u8Rj&amp;...</td>\n",
        "    </tr>\n",
        "    <tr>\n",
        "      <th>4   </th>\n",
        "      <td> 2014-07-06T16:14:12+09:00</td>\n",
        "      <td> Mozilla/5.0 (Linux; U; Android 4.3; ko-kr; SHV...</td>\n",
        "      <td> 0.118</td>\n",
        "      <td>    61.79.55.195</td>\n",
        "      <td>  661</td>\n",
        "      <td> /chip?title=%ED%99%A9%EA%B8%88%EC%83%81%EC%9E%...</td>\n",
        "    </tr>\n",
        "    <tr>\n",
        "      <th>5   </th>\n",
        "      <td> 2014-07-06T16:14:12+09:00</td>\n",
        "      <td> Mozilla/5.0 (Linux; U; Android 4.0.4; ko-kr; S...</td>\n",
        "      <td> 0.025</td>\n",
        "      <td>   61.81.119.250</td>\n",
        "      <td>  758</td>\n",
        "      <td> /api/content/actioninfo?json=1&amp;id=229622&amp;v=adm...</td>\n",
        "    </tr>\n",
        "    <tr>\n",
        "      <th>6   </th>\n",
        "      <td> 2014-07-06T16:14:13+09:00</td>\n",
        "      <td> Mozilla/5.0 (Linux; U; Android 4.3; ko-kr; SHV...</td>\n",
        "      <td> 0.057</td>\n",
        "      <td>  122.35.171.144</td>\n",
        "      <td>  615</td>\n",
        "      <td> /content/229628?title=%EC%B4%9D%EC%95%8C%ED%94...</td>\n",
        "    </tr>\n",
        "    <tr>\n",
        "      <th>7   </th>\n",
        "      <td> 2014-07-06T16:14:13+09:00</td>\n",
        "      <td> Mozilla/5.0 (Linux; U; Android 4.3; ko-kr; SHV...</td>\n",
        "      <td> 0.023</td>\n",
        "      <td>   39.114.56.157</td>\n",
        "      <td>  614</td>\n",
        "      <td> /api/opn/cloudstat?v=tvshop503179&amp;xid=Wg0sGefq...</td>\n",
        "    </tr>\n",
        "    <tr>\n",
        "      <th>8   </th>\n",
        "      <td> 2014-07-06T16:14:13+09:00</td>\n",
        "      <td> Mozilla/5.0 (Linux; U; Android 4.3; ko-kr; SHV...</td>\n",
        "      <td> 0.021</td>\n",
        "      <td>   39.114.56.157</td>\n",
        "      <td>  579</td>\n",
        "      <td> /api/entity/actioninfo?v=tvshop687329&amp;xid=Wg0s...</td>\n",
        "    </tr>\n",
        "    <tr>\n",
        "      <th>9   </th>\n",
        "      <td> 2014-07-06T16:14:13+09:00</td>\n",
        "      <td> Mozilla/5.0 (Linux; U; Android 4.3; ko-kr; SHV...</td>\n",
        "      <td> 0.027</td>\n",
        "      <td>   39.114.56.157</td>\n",
        "      <td>  577</td>\n",
        "      <td> /api/goodsviewlog/add?v=tvshop75734&amp;xid=Wg0sGe...</td>\n",
        "    </tr>\n",
        "    <tr>\n",
        "      <th>10  </th>\n",
        "      <td> 2014-07-06T16:14:14+09:00</td>\n",
        "      <td> Mozilla/5.0 (Linux; U; Android 4.0.3; ko-kr; S...</td>\n",
        "      <td> 0.010</td>\n",
        "      <td> 122.252.126.234</td>\n",
        "      <td>  638</td>\n",
        "      <td> /chip/layer?title=%ED%99%A9%EA%B8%88%EC%83%81%...</td>\n",
        "    </tr>\n",
        "    <tr>\n",
        "      <th>11  </th>\n",
        "      <td> 2014-07-06T16:14:14+09:00</td>\n",
        "      <td> Mozilla/5.0 (Linux; U; Android 4.1.2; ko-kr; I...</td>\n",
        "      <td> 0.010</td>\n",
        "      <td>  182.210.82.211</td>\n",
        "      <td>  520</td>\n",
        "      <td> /stat/swipe_main?v=tvshop45818&amp;xid=UdO9Shn4fb&amp;...</td>\n",
        "    </tr>\n",
        "    <tr>\n",
        "      <th>12  </th>\n",
        "      <td> 2014-07-06T16:14:14+09:00</td>\n",
        "      <td> Mozilla/5.0 (Linux; U; Android 4.3; ko-kr; SHV...</td>\n",
        "      <td> 0.028</td>\n",
        "      <td>   39.114.56.157</td>\n",
        "      <td>  614</td>\n",
        "      <td> /api/opn/cloudstat?v=tvshop495504&amp;xid=Wg0sGefq...</td>\n",
        "    </tr>\n",
        "    <tr>\n",
        "      <th>13  </th>\n",
        "      <td> 2014-07-06T16:14:14+09:00</td>\n",
        "      <td> Mozilla/5.0 (Linux; U; Android 4.3; ko-kr; SM-...</td>\n",
        "      <td> 0.151</td>\n",
        "      <td>      39.7.45.92</td>\n",
        "      <td>  649</td>\n",
        "      <td> /api/goods/getitemlist?v=tvshop576550&amp;xid=SD7G...</td>\n",
        "    </tr>\n",
        "    <tr>\n",
        "      <th>14  </th>\n",
        "      <td> 2014-07-06T16:14:14+09:00</td>\n",
        "      <td> Mozilla/5.0 (Linux; U; Android 4.3; ko-kr; SHV...</td>\n",
        "      <td> 0.006</td>\n",
        "      <td>  211.36.141.103</td>\n",
        "      <td>  551</td>\n",
        "      <td> /stat/nextday?v=tvshop173197&amp;xid=gpb8Irvtgf&amp;ne...</td>\n",
        "    </tr>\n",
        "    <tr>\n",
        "      <th>15  </th>\n",
        "      <td> 2014-07-06T16:14:14+09:00</td>\n",
        "      <td> Mozilla/5.0 (Linux; U; Android 4.3; ko-kr; SHV...</td>\n",
        "      <td> 0.226</td>\n",
        "      <td>  115.95.181.165</td>\n",
        "      <td> 1128</td>\n",
        "      <td>                                            /first</td>\n",
        "    </tr>\n",
        "    <tr>\n",
        "      <th>16  </th>\n",
        "      <td> 2014-07-06T16:14:14+09:00</td>\n",
        "      <td> Mozilla/5.0 (Linux; U; Android 4.1.2; ko-kr; L...</td>\n",
        "      <td> 0.006</td>\n",
        "      <td>    1.231.93.245</td>\n",
        "      <td>  547</td>\n",
        "      <td> /stat/swipe_main?v=tvshop63103&amp;xid=PasiAcMgbt&amp;...</td>\n",
        "    </tr>\n",
        "    <tr>\n",
        "      <th>17  </th>\n",
        "      <td> 2014-07-06T16:14:14+09:00</td>\n",
        "      <td> Mozilla/5.0 (Linux; U; Android 4.2.2; ko-kr; S...</td>\n",
        "      <td> 0.020</td>\n",
        "      <td>  223.33.153.112</td>\n",
        "      <td>  773</td>\n",
        "      <td> /api/device/pushcode?device_code=b889b4c372662...</td>\n",
        "    </tr>\n",
        "    <tr>\n",
        "      <th>18  </th>\n",
        "      <td> 2014-07-06T16:14:15+09:00</td>\n",
        "      <td> Mozilla/5.0 (Linux; Android 4.4.2; LG-F320K Bu...</td>\n",
        "      <td> 0.191</td>\n",
        "      <td>   210.121.110.6</td>\n",
        "      <td> 1108</td>\n",
        "      <td>                                            /first</td>\n",
        "    </tr>\n",
        "    <tr>\n",
        "      <th>19  </th>\n",
        "      <td> 2014-07-06T16:14:15+09:00</td>\n",
        "      <td> Mozilla/5.0 (Linux; U; Android 4.3; ko-kr; SHV...</td>\n",
        "      <td> 0.178</td>\n",
        "      <td>  211.36.141.103</td>\n",
        "      <td>  650</td>\n",
        "      <td> /api/goods/getitemlist?v=tvshop692583&amp;xid=gpb8...</td>\n",
        "    </tr>\n",
        "    <tr>\n",
        "      <th>20  </th>\n",
        "      <td> 2014-07-06T16:14:15+09:00</td>\n",
        "      <td> Mozilla/5.0 (Linux; U; Android 4.2.2; ko-kr; S...</td>\n",
        "      <td> 0.085</td>\n",
        "      <td>   121.159.85.97</td>\n",
        "      <td>  609</td>\n",
        "      <td>                                    /tvshop/mobile</td>\n",
        "    </tr>\n",
        "    <tr>\n",
        "      <th>21  </th>\n",
        "      <td> 2014-07-06T16:14:15+09:00</td>\n",
        "      <td> Mozilla/5.0 (Linux; Android 4.4.2; SHV-E300K B...</td>\n",
        "      <td> 0.061</td>\n",
        "      <td>   59.16.200.109</td>\n",
        "      <td>  611</td>\n",
        "      <td> /api/goods/getitemlist?v=tvshop843705&amp;xid=I2T8...</td>\n",
        "    </tr>\n",
        "    <tr>\n",
        "      <th>22  </th>\n",
        "      <td> 2014-07-06T16:14:15+09:00</td>\n",
        "      <td> Mozilla/5.0 (Linux; U; Android 4.1.2; ko-kr; S...</td>\n",
        "      <td> 0.025</td>\n",
        "      <td>   223.62.190.72</td>\n",
        "      <td>  849</td>\n",
        "      <td> /api/goodsviewlog/add?v=tvshop749443&amp;xid=sFnWM...</td>\n",
        "    </tr>\n",
        "    <tr>\n",
        "      <th>23  </th>\n",
        "      <td> 2014-07-06T16:14:15+09:00</td>\n",
        "      <td> Mozilla/5.0 (Linux; Android 4.4.2; IM-A890K Bu...</td>\n",
        "      <td> 0.022</td>\n",
        "      <td> 112.162.108.156</td>\n",
        "      <td>  696</td>\n",
        "      <td> /api/content/actioninfo?json=1&amp;id=229592&amp;v=don...</td>\n",
        "    </tr>\n",
        "    <tr>\n",
        "      <th>24  </th>\n",
        "      <td> 2014-07-06T16:14:15+09:00</td>\n",
        "      <td> Mozilla/5.0 (Linux; U; Android 4.3; ko-kr; SM-...</td>\n",
        "      <td> 0.088</td>\n",
        "      <td>      39.7.45.92</td>\n",
        "      <td>  649</td>\n",
        "      <td> /api/goods/getitemlist?v=tvshop293405&amp;xid=SD7G...</td>\n",
        "    </tr>\n",
        "    <tr>\n",
        "      <th>25  </th>\n",
        "      <td> 2014-07-06T16:14:15+09:00</td>\n",
        "      <td> Mozilla/5.0 (Linux; U; Android 4.3; ko-kr; SHV...</td>\n",
        "      <td> 0.163</td>\n",
        "      <td>    223.62.203.5</td>\n",
        "      <td>  650</td>\n",
        "      <td> /api/goods/getitemlist?v=tvshop817321&amp;xid=qNQj...</td>\n",
        "    </tr>\n",
        "    <tr>\n",
        "      <th>26  </th>\n",
        "      <td> 2014-07-06T16:14:16+09:00</td>\n",
        "      <td> Mozilla/5.0 (Linux; Android 4.4.2; SM-N900K Bu...</td>\n",
        "      <td> 0.006</td>\n",
        "      <td>    14.38.191.53</td>\n",
        "      <td>  480</td>\n",
        "      <td> /stat/swipe_main?v=tvshop304437&amp;xid=xARgfQa7aN...</td>\n",
        "    </tr>\n",
        "    <tr>\n",
        "      <th>27  </th>\n",
        "      <td> 2014-07-06T16:14:16+09:00</td>\n",
        "      <td> Mozilla/5.0 (Linux; U; Android 4.2.2; ko-kr; S...</td>\n",
        "      <td> 0.140</td>\n",
        "      <td>   121.159.85.97</td>\n",
        "      <td>  643</td>\n",
        "      <td> /api/goods/getitemlist?skin=tvshopweb%2F_skin_...</td>\n",
        "    </tr>\n",
        "    <tr>\n",
        "      <th>28  </th>\n",
        "      <td> 2014-07-06T16:14:16+09:00</td>\n",
        "      <td> Mozilla/5.0 (Linux; Android 4.4.2; IM-A890K Bu...</td>\n",
        "      <td> 0.087</td>\n",
        "      <td> 112.162.108.156</td>\n",
        "      <td>  760</td>\n",
        "      <td> /api/cmt/getlist?skin=skin%2F_skin_cmt_list&amp;ac...</td>\n",
        "    </tr>\n",
        "    <tr>\n",
        "      <th>29  </th>\n",
        "      <td> 2014-07-06T16:14:16+09:00</td>\n",
        "      <td> Mozilla/5.0 (Linux; Android 4.4.2; SHV-E300S B...</td>\n",
        "      <td> 0.011</td>\n",
        "      <td>  119.207.234.82</td>\n",
        "      <td>  514</td>\n",
        "      <td> /stat/swipe_main?v=tvshop250086&amp;xid=E1QHVehi3k...</td>\n",
        "    </tr>\n",
        "    <tr>\n",
        "      <th>...</th>\n",
        "      <td>...</td>\n",
        "      <td>...</td>\n",
        "      <td>...</td>\n",
        "      <td>...</td>\n",
        "      <td>...</td>\n",
        "      <td>...</td>\n",
        "    </tr>\n",
        "    <tr>\n",
        "      <th>9970</th>\n",
        "      <td> 2014-07-06T16:20:02+09:00</td>\n",
        "      <td>                                                 -</td>\n",
        "      <td> 0.000</td>\n",
        "      <td>  116.121.136.79</td>\n",
        "      <td>    0</td>\n",
        "      <td>                                                 -</td>\n",
        "    </tr>\n",
        "    <tr>\n",
        "      <th>9971</th>\n",
        "      <td> 2014-07-06T16:20:02+09:00</td>\n",
        "      <td>                                                 -</td>\n",
        "      <td> 0.000</td>\n",
        "      <td>  116.121.136.79</td>\n",
        "      <td>    0</td>\n",
        "      <td>                                                 -</td>\n",
        "    </tr>\n",
        "    <tr>\n",
        "      <th>9972</th>\n",
        "      <td> 2014-07-06T16:20:02+09:00</td>\n",
        "      <td> Mozilla/5.0 (Linux; U; Android 4.1.2; ko-kr; I...</td>\n",
        "      <td> 0.008</td>\n",
        "      <td>  116.121.136.79</td>\n",
        "      <td>  748</td>\n",
        "      <td> /select/cate?title=%EC%83%81%ED%92%88%20%EC%B9...</td>\n",
        "    </tr>\n",
        "    <tr>\n",
        "      <th>9973</th>\n",
        "      <td> 2014-07-06T16:20:02+09:00</td>\n",
        "      <td> Mozilla/5.0 (Linux; U; Android 4.1.2; ko-kr; I...</td>\n",
        "      <td> 0.180</td>\n",
        "      <td>  175.118.68.138</td>\n",
        "      <td>  592</td>\n",
        "      <td> /api/user/istodaynewvisit?v=tvshop423715&amp;xid=h...</td>\n",
        "    </tr>\n",
        "    <tr>\n",
        "      <th>9974</th>\n",
        "      <td> 2014-07-06T16:20:02+09:00</td>\n",
        "      <td> Mozilla/5.0 (Linux; U; Android 4.1.1; ko-kr; N...</td>\n",
        "      <td> 0.013</td>\n",
        "      <td> 117.123.131.238</td>\n",
        "      <td>  621</td>\n",
        "      <td> /stat/entity?v=tvshop286285&amp;xid=WrPYoTP2op&amp;ent...</td>\n",
        "    </tr>\n",
        "    <tr>\n",
        "      <th>9975</th>\n",
        "      <td> 2014-07-06T16:20:03+09:00</td>\n",
        "      <td> Mozilla/5.0 (Linux; U; Android 2.3.4; ko-kr; S...</td>\n",
        "      <td> 0.031</td>\n",
        "      <td>   14.45.208.136</td>\n",
        "      <td>  744</td>\n",
        "      <td> /api/content/getlist?skin=skin%2F_skin_content...</td>\n",
        "    </tr>\n",
        "    <tr>\n",
        "      <th>9976</th>\n",
        "      <td> 2014-07-06T16:20:03+09:00</td>\n",
        "      <td> Mozilla/5.0 (Linux; U; Android 4.2.2; ko-kr; S...</td>\n",
        "      <td> 0.011</td>\n",
        "      <td>  211.186.80.151</td>\n",
        "      <td>  977</td>\n",
        "      <td> /stat/search/goods/meta?v=tvshop767031&amp;xid=73G...</td>\n",
        "    </tr>\n",
        "    <tr>\n",
        "      <th>9977</th>\n",
        "      <td> 2014-07-06T16:20:03+09:00</td>\n",
        "      <td> python-requests/1.2.0 CPython/2.7.3 Linux/3.2....</td>\n",
        "      <td> 0.087</td>\n",
        "      <td>  121.78.146.137</td>\n",
        "      <td>  542</td>\n",
        "      <td> /item?title=%EC%98%A4%EB%85%B8%EB%9D%BC%EB%9D%...</td>\n",
        "    </tr>\n",
        "    <tr>\n",
        "      <th>9978</th>\n",
        "      <td> 2014-07-06T16:20:03+09:00</td>\n",
        "      <td> Mozilla/5.0 (Linux; Android 4.4.2; SHV-E330S B...</td>\n",
        "      <td> 0.009</td>\n",
        "      <td>   223.62.188.50</td>\n",
        "      <td>  480</td>\n",
        "      <td> /stat/swipe_main?v=tvshop51084&amp;xid=ZsUr1J4w8x&amp;...</td>\n",
        "    </tr>\n",
        "    <tr>\n",
        "      <th>9979</th>\n",
        "      <td> 2014-07-06T16:20:04+09:00</td>\n",
        "      <td> Mozilla/5.0 (Linux; Android 4.4.2; SM-N900K Bu...</td>\n",
        "      <td> 0.063</td>\n",
        "      <td>    110.70.55.52</td>\n",
        "      <td>  842</td>\n",
        "      <td> /api/search/goodssmartsearch?v=tvshop665505&amp;xi...</td>\n",
        "    </tr>\n",
        "    <tr>\n",
        "      <th>9980</th>\n",
        "      <td> 2014-07-06T16:20:04+09:00</td>\n",
        "      <td> Mozilla/5.0 (Linux; Android 4.4.2; SM-N900K Bu...</td>\n",
        "      <td> 0.074</td>\n",
        "      <td>    110.70.55.52</td>\n",
        "      <td>  842</td>\n",
        "      <td> /api/search/goodssmartsearch?v=tvshop344711&amp;xi...</td>\n",
        "    </tr>\n",
        "    <tr>\n",
        "      <th>9981</th>\n",
        "      <td> 2014-07-06T16:20:04+09:00</td>\n",
        "      <td> Mozilla/5.0 (Linux; U; Android 4.1.2; ko-kr; L...</td>\n",
        "      <td> 0.109</td>\n",
        "      <td>    117.111.8.79</td>\n",
        "      <td>  651</td>\n",
        "      <td> /api/goods/getitemlist?v=tvshop686038&amp;xid=9u87...</td>\n",
        "    </tr>\n",
        "    <tr>\n",
        "      <th>9982</th>\n",
        "      <td> 2014-07-06T16:20:05+09:00</td>\n",
        "      <td> Mozilla/5.0 (Linux; U; Android 4.1.2; ko-kr; I...</td>\n",
        "      <td> 0.055</td>\n",
        "      <td>  175.118.68.138</td>\n",
        "      <td>  703</td>\n",
        "      <td> /item?entity_id=1067555&amp;nav=show&amp;tabbar=hide&amp;m...</td>\n",
        "    </tr>\n",
        "    <tr>\n",
        "      <th>9983</th>\n",
        "      <td> 2014-07-06T16:20:05+09:00</td>\n",
        "      <td> Mozilla/5.0 (Linux; Android 4.4.2; SM-N9005 Bu...</td>\n",
        "      <td> 0.013</td>\n",
        "      <td> 218.212.233.252</td>\n",
        "      <td>  640</td>\n",
        "      <td> /item/search?title=%EC%83%81%ED%92%88%EA%B2%80...</td>\n",
        "    </tr>\n",
        "    <tr>\n",
        "      <th>9984</th>\n",
        "      <td> 2014-07-06T16:20:05+09:00</td>\n",
        "      <td> Mozilla/5.0 (Windows NT 6.1; Trident/7.0; rv:1...</td>\n",
        "      <td> 0.140</td>\n",
        "      <td> 121.174.215.139</td>\n",
        "      <td>  505</td>\n",
        "      <td> /api/goods/getitemlist?v=web21648&amp;xid=&amp;skin=we...</td>\n",
        "    </tr>\n",
        "    <tr>\n",
        "      <th>9985</th>\n",
        "      <td> 2014-07-06T16:20:05+09:00</td>\n",
        "      <td> Mozilla/5.0 (Linux; U; Android 4.3; ko-kr; SHV...</td>\n",
        "      <td> 0.029</td>\n",
        "      <td>  211.36.148.110</td>\n",
        "      <td>  578</td>\n",
        "      <td> /api/entity/actioninfo?v=tvshop48122&amp;xid=pXrtR...</td>\n",
        "    </tr>\n",
        "    <tr>\n",
        "      <th>9986</th>\n",
        "      <td> 2014-07-06T16:20:05+09:00</td>\n",
        "      <td> Mozilla/5.0 (Linux; U; Android 4.3; ko-kr; SHV...</td>\n",
        "      <td> 0.112</td>\n",
        "      <td>  211.36.148.110</td>\n",
        "      <td>  578</td>\n",
        "      <td> /api/goodsviewlog/add?v=tvshop404781&amp;xid=pXrtR...</td>\n",
        "    </tr>\n",
        "    <tr>\n",
        "      <th>9987</th>\n",
        "      <td> 2014-07-06T16:20:06+09:00</td>\n",
        "      <td> Mozilla/5.0 (Linux; Android 4.4.2; SHV-E330S B...</td>\n",
        "      <td> 0.225</td>\n",
        "      <td>   223.62.188.50</td>\n",
        "      <td>  611</td>\n",
        "      <td> /api/goods/getitemlist?v=tvshop692372&amp;xid=ZsUr...</td>\n",
        "    </tr>\n",
        "    <tr>\n",
        "      <th>9988</th>\n",
        "      <td> 2014-07-06T16:20:06+09:00</td>\n",
        "      <td> Mozilla/5.0 (Linux; U; Android 4.0.4; ko-kr; L...</td>\n",
        "      <td> 0.178</td>\n",
        "      <td>  175.223.37.186</td>\n",
        "      <td>  694</td>\n",
        "      <td> /api/goods/getitemlist?v=tvshop644194&amp;xid=NigR...</td>\n",
        "    </tr>\n",
        "    <tr>\n",
        "      <th>9989</th>\n",
        "      <td> 2014-07-06T16:20:06+09:00</td>\n",
        "      <td> Mozilla/5.0 (Linux; U; Android 4.0.4; ko-kr; L...</td>\n",
        "      <td> 0.031</td>\n",
        "      <td>  175.223.37.186</td>\n",
        "      <td>  566</td>\n",
        "      <td> /api/goods/getvideoinfo?v=tvshop716001&amp;xid=Nig...</td>\n",
        "    </tr>\n",
        "    <tr>\n",
        "      <th>9990</th>\n",
        "      <td> 2014-07-06T16:20:06+09:00</td>\n",
        "      <td> Mozilla/5.0 (Linux; U; Android 4.0.4; ko-kr; L...</td>\n",
        "      <td> 0.064</td>\n",
        "      <td>  175.223.37.186</td>\n",
        "      <td>  569</td>\n",
        "      <td> /api/search/getrecokeyword?v=tvshop158309&amp;xid=...</td>\n",
        "    </tr>\n",
        "    <tr>\n",
        "      <th>9991</th>\n",
        "      <td> 2014-07-06T16:20:06+09:00</td>\n",
        "      <td> Mozilla/5.0 (Linux; Android 4.4.2; SHV-E330S B...</td>\n",
        "      <td> 0.010</td>\n",
        "      <td>   180.228.59.17</td>\n",
        "      <td>  481</td>\n",
        "      <td> /stat/swipe_main?v=tvshop939748&amp;xid=1eaPveDXbg...</td>\n",
        "    </tr>\n",
        "    <tr>\n",
        "      <th>9992</th>\n",
        "      <td> 2014-07-06T16:20:07+09:00</td>\n",
        "      <td> Mozilla/5.0 (iPhone; CPU iPhone OS 6_1 like Ma...</td>\n",
        "      <td> 0.009</td>\n",
        "      <td>     39.7.55.225</td>\n",
        "      <td>  430</td>\n",
        "      <td> /stat/swipe_main?v=tvshop444251&amp;xid=RFxnbCNm9x...</td>\n",
        "    </tr>\n",
        "    <tr>\n",
        "      <th>9993</th>\n",
        "      <td> 2014-07-06T16:20:07+09:00</td>\n",
        "      <td> Mozilla/5.0 (Linux; Android 4.4.2; LG-F340S Bu...</td>\n",
        "      <td> 0.076</td>\n",
        "      <td>   218.49.229.51</td>\n",
        "      <td>  695</td>\n",
        "      <td> /api/search/goodssmartsearch?v=tvshop154412&amp;xi...</td>\n",
        "    </tr>\n",
        "    <tr>\n",
        "      <th>9994</th>\n",
        "      <td> 2014-07-06T16:20:07+09:00</td>\n",
        "      <td>                                                 -</td>\n",
        "      <td> 0.000</td>\n",
        "      <td>   39.118.132.60</td>\n",
        "      <td>    0</td>\n",
        "      <td>                                                 -</td>\n",
        "    </tr>\n",
        "    <tr>\n",
        "      <th>9995</th>\n",
        "      <td> 2014-07-06T16:20:07+09:00</td>\n",
        "      <td> Mozilla/5.0 (Linux; U; Android 4.1.2; ko-kr; I...</td>\n",
        "      <td> 0.011</td>\n",
        "      <td>   39.118.132.60</td>\n",
        "      <td>  521</td>\n",
        "      <td> /stat/swipe_main?v=tvshop652828&amp;xid=2lHvz9pGlz...</td>\n",
        "    </tr>\n",
        "    <tr>\n",
        "      <th>9996</th>\n",
        "      <td> 2014-07-06T16:20:07+09:00</td>\n",
        "      <td> Mozilla/5.0 (Linux; U; Android 4.1.2; ko-kr; I...</td>\n",
        "      <td> 0.006</td>\n",
        "      <td>   223.62.169.80</td>\n",
        "      <td>  507</td>\n",
        "      <td>      /stat/todayall?v=tvshop698623&amp;xid=VswobfEyQE</td>\n",
        "    </tr>\n",
        "    <tr>\n",
        "      <th>9997</th>\n",
        "      <td> 2014-07-06T16:20:08+09:00</td>\n",
        "      <td> Mozilla/5.0 (Linux; U; Android 4.3; ko-kr; SHV...</td>\n",
        "      <td> 0.045</td>\n",
        "      <td>   110.70.52.102</td>\n",
        "      <td>  969</td>\n",
        "      <td> /api/entity/getlist?v=tvshop84948&amp;xid=X3PrEuvV...</td>\n",
        "    </tr>\n",
        "    <tr>\n",
        "      <th>9998</th>\n",
        "      <td> 2014-07-06T16:20:08+09:00</td>\n",
        "      <td> Mozilla/5.0 (Linux; Android 4.4.2; SM-N9005 Bu...</td>\n",
        "      <td> 0.052</td>\n",
        "      <td> 218.212.233.252</td>\n",
        "      <td>  794</td>\n",
        "      <td> /api/search/goodssearch?v=tvshop534335&amp;xid=rSu...</td>\n",
        "    </tr>\n",
        "    <tr>\n",
        "      <th>9999</th>\n",
        "      <td> 2014-07-06T16:20:08+09:00</td>\n",
        "      <td> Mozilla/5.0 (Linux; U; Android 4.0.4; ko-kr; S...</td>\n",
        "      <td> 0.059</td>\n",
        "      <td>     39.7.51.173</td>\n",
        "      <td>  919</td>\n",
        "      <td> /api/search/goodssmartsearch?v=tvshop473133&amp;xi...</td>\n",
        "    </tr>\n",
        "  </tbody>\n",
        "</table>\n",
        "<p>10000 rows \u00d7 6 columns</p>\n",
        "</div>"
       ],
       "metadata": {},
       "output_type": "pyout",
       "prompt_number": 132,
       "text": [
        "                     @timestamp  \\\n",
        "0     2014-07-06T16:14:12+09:00   \n",
        "1     2014-07-06T16:14:12+09:00   \n",
        "2     2014-07-06T16:14:12+09:00   \n",
        "3     2014-07-06T16:14:12+09:00   \n",
        "4     2014-07-06T16:14:12+09:00   \n",
        "5     2014-07-06T16:14:12+09:00   \n",
        "6     2014-07-06T16:14:13+09:00   \n",
        "7     2014-07-06T16:14:13+09:00   \n",
        "8     2014-07-06T16:14:13+09:00   \n",
        "9     2014-07-06T16:14:13+09:00   \n",
        "10    2014-07-06T16:14:14+09:00   \n",
        "11    2014-07-06T16:14:14+09:00   \n",
        "12    2014-07-06T16:14:14+09:00   \n",
        "13    2014-07-06T16:14:14+09:00   \n",
        "14    2014-07-06T16:14:14+09:00   \n",
        "15    2014-07-06T16:14:14+09:00   \n",
        "16    2014-07-06T16:14:14+09:00   \n",
        "17    2014-07-06T16:14:14+09:00   \n",
        "18    2014-07-06T16:14:15+09:00   \n",
        "19    2014-07-06T16:14:15+09:00   \n",
        "20    2014-07-06T16:14:15+09:00   \n",
        "21    2014-07-06T16:14:15+09:00   \n",
        "22    2014-07-06T16:14:15+09:00   \n",
        "23    2014-07-06T16:14:15+09:00   \n",
        "24    2014-07-06T16:14:15+09:00   \n",
        "25    2014-07-06T16:14:15+09:00   \n",
        "26    2014-07-06T16:14:16+09:00   \n",
        "27    2014-07-06T16:14:16+09:00   \n",
        "28    2014-07-06T16:14:16+09:00   \n",
        "29    2014-07-06T16:14:16+09:00   \n",
        "...                         ...   \n",
        "9970  2014-07-06T16:20:02+09:00   \n",
        "9971  2014-07-06T16:20:02+09:00   \n",
        "9972  2014-07-06T16:20:02+09:00   \n",
        "9973  2014-07-06T16:20:02+09:00   \n",
        "9974  2014-07-06T16:20:02+09:00   \n",
        "9975  2014-07-06T16:20:03+09:00   \n",
        "9976  2014-07-06T16:20:03+09:00   \n",
        "9977  2014-07-06T16:20:03+09:00   \n",
        "9978  2014-07-06T16:20:03+09:00   \n",
        "9979  2014-07-06T16:20:04+09:00   \n",
        "9980  2014-07-06T16:20:04+09:00   \n",
        "9981  2014-07-06T16:20:04+09:00   \n",
        "9982  2014-07-06T16:20:05+09:00   \n",
        "9983  2014-07-06T16:20:05+09:00   \n",
        "9984  2014-07-06T16:20:05+09:00   \n",
        "9985  2014-07-06T16:20:05+09:00   \n",
        "9986  2014-07-06T16:20:05+09:00   \n",
        "9987  2014-07-06T16:20:06+09:00   \n",
        "9988  2014-07-06T16:20:06+09:00   \n",
        "9989  2014-07-06T16:20:06+09:00   \n",
        "9990  2014-07-06T16:20:06+09:00   \n",
        "9991  2014-07-06T16:20:06+09:00   \n",
        "9992  2014-07-06T16:20:07+09:00   \n",
        "9993  2014-07-06T16:20:07+09:00   \n",
        "9994  2014-07-06T16:20:07+09:00   \n",
        "9995  2014-07-06T16:20:07+09:00   \n",
        "9996  2014-07-06T16:20:07+09:00   \n",
        "9997  2014-07-06T16:20:08+09:00   \n",
        "9998  2014-07-06T16:20:08+09:00   \n",
        "9999  2014-07-06T16:20:08+09:00   \n",
        "\n",
        "                                                  agent duration  \\\n",
        "0     Mozilla/5.0 (Linux; U; Android 2.3.6; ko-kr; S...    0.006   \n",
        "1     Mozilla/5.0 (Linux; U; Android 4.0.4; ko-kr; S...    0.005   \n",
        "2     Mozilla/5.0 (Linux; U; Android 4.3; ko-kr; SHV...    0.111   \n",
        "3     Mozilla/5.0 (iPad; CPU OS 7_1_1 like Mac OS X)...    0.009   \n",
        "4     Mozilla/5.0 (Linux; U; Android 4.3; ko-kr; SHV...    0.118   \n",
        "5     Mozilla/5.0 (Linux; U; Android 4.0.4; ko-kr; S...    0.025   \n",
        "6     Mozilla/5.0 (Linux; U; Android 4.3; ko-kr; SHV...    0.057   \n",
        "7     Mozilla/5.0 (Linux; U; Android 4.3; ko-kr; SHV...    0.023   \n",
        "8     Mozilla/5.0 (Linux; U; Android 4.3; ko-kr; SHV...    0.021   \n",
        "9     Mozilla/5.0 (Linux; U; Android 4.3; ko-kr; SHV...    0.027   \n",
        "10    Mozilla/5.0 (Linux; U; Android 4.0.3; ko-kr; S...    0.010   \n",
        "11    Mozilla/5.0 (Linux; U; Android 4.1.2; ko-kr; I...    0.010   \n",
        "12    Mozilla/5.0 (Linux; U; Android 4.3; ko-kr; SHV...    0.028   \n",
        "13    Mozilla/5.0 (Linux; U; Android 4.3; ko-kr; SM-...    0.151   \n",
        "14    Mozilla/5.0 (Linux; U; Android 4.3; ko-kr; SHV...    0.006   \n",
        "15    Mozilla/5.0 (Linux; U; Android 4.3; ko-kr; SHV...    0.226   \n",
        "16    Mozilla/5.0 (Linux; U; Android 4.1.2; ko-kr; L...    0.006   \n",
        "17    Mozilla/5.0 (Linux; U; Android 4.2.2; ko-kr; S...    0.020   \n",
        "18    Mozilla/5.0 (Linux; Android 4.4.2; LG-F320K Bu...    0.191   \n",
        "19    Mozilla/5.0 (Linux; U; Android 4.3; ko-kr; SHV...    0.178   \n",
        "20    Mozilla/5.0 (Linux; U; Android 4.2.2; ko-kr; S...    0.085   \n",
        "21    Mozilla/5.0 (Linux; Android 4.4.2; SHV-E300K B...    0.061   \n",
        "22    Mozilla/5.0 (Linux; U; Android 4.1.2; ko-kr; S...    0.025   \n",
        "23    Mozilla/5.0 (Linux; Android 4.4.2; IM-A890K Bu...    0.022   \n",
        "24    Mozilla/5.0 (Linux; U; Android 4.3; ko-kr; SM-...    0.088   \n",
        "25    Mozilla/5.0 (Linux; U; Android 4.3; ko-kr; SHV...    0.163   \n",
        "26    Mozilla/5.0 (Linux; Android 4.4.2; SM-N900K Bu...    0.006   \n",
        "27    Mozilla/5.0 (Linux; U; Android 4.2.2; ko-kr; S...    0.140   \n",
        "28    Mozilla/5.0 (Linux; Android 4.4.2; IM-A890K Bu...    0.087   \n",
        "29    Mozilla/5.0 (Linux; Android 4.4.2; SHV-E300S B...    0.011   \n",
        "...                                                 ...      ...   \n",
        "9970                                                  -    0.000   \n",
        "9971                                                  -    0.000   \n",
        "9972  Mozilla/5.0 (Linux; U; Android 4.1.2; ko-kr; I...    0.008   \n",
        "9973  Mozilla/5.0 (Linux; U; Android 4.1.2; ko-kr; I...    0.180   \n",
        "9974  Mozilla/5.0 (Linux; U; Android 4.1.1; ko-kr; N...    0.013   \n",
        "9975  Mozilla/5.0 (Linux; U; Android 2.3.4; ko-kr; S...    0.031   \n",
        "9976  Mozilla/5.0 (Linux; U; Android 4.2.2; ko-kr; S...    0.011   \n",
        "9977  python-requests/1.2.0 CPython/2.7.3 Linux/3.2....    0.087   \n",
        "9978  Mozilla/5.0 (Linux; Android 4.4.2; SHV-E330S B...    0.009   \n",
        "9979  Mozilla/5.0 (Linux; Android 4.4.2; SM-N900K Bu...    0.063   \n",
        "9980  Mozilla/5.0 (Linux; Android 4.4.2; SM-N900K Bu...    0.074   \n",
        "9981  Mozilla/5.0 (Linux; U; Android 4.1.2; ko-kr; L...    0.109   \n",
        "9982  Mozilla/5.0 (Linux; U; Android 4.1.2; ko-kr; I...    0.055   \n",
        "9983  Mozilla/5.0 (Linux; Android 4.4.2; SM-N9005 Bu...    0.013   \n",
        "9984  Mozilla/5.0 (Windows NT 6.1; Trident/7.0; rv:1...    0.140   \n",
        "9985  Mozilla/5.0 (Linux; U; Android 4.3; ko-kr; SHV...    0.029   \n",
        "9986  Mozilla/5.0 (Linux; U; Android 4.3; ko-kr; SHV...    0.112   \n",
        "9987  Mozilla/5.0 (Linux; Android 4.4.2; SHV-E330S B...    0.225   \n",
        "9988  Mozilla/5.0 (Linux; U; Android 4.0.4; ko-kr; L...    0.178   \n",
        "9989  Mozilla/5.0 (Linux; U; Android 4.0.4; ko-kr; L...    0.031   \n",
        "9990  Mozilla/5.0 (Linux; U; Android 4.0.4; ko-kr; L...    0.064   \n",
        "9991  Mozilla/5.0 (Linux; Android 4.4.2; SHV-E330S B...    0.010   \n",
        "9992  Mozilla/5.0 (iPhone; CPU iPhone OS 6_1 like Ma...    0.009   \n",
        "9993  Mozilla/5.0 (Linux; Android 4.4.2; LG-F340S Bu...    0.076   \n",
        "9994                                                  -    0.000   \n",
        "9995  Mozilla/5.0 (Linux; U; Android 4.1.2; ko-kr; I...    0.011   \n",
        "9996  Mozilla/5.0 (Linux; U; Android 4.1.2; ko-kr; I...    0.006   \n",
        "9997  Mozilla/5.0 (Linux; U; Android 4.3; ko-kr; SHV...    0.045   \n",
        "9998  Mozilla/5.0 (Linux; Android 4.4.2; SM-N9005 Bu...    0.052   \n",
        "9999  Mozilla/5.0 (Linux; U; Android 4.0.4; ko-kr; S...    0.059   \n",
        "\n",
        "                 host  size                                                url  \n",
        "0       119.70.27.162   493  /stat/swipe_main?v=tvshop759418&xid=upYqq7IOWG...  \n",
        "1       119.195.17.74   578  /stat/swipe_main?v=tvshop238487&xid=O4CRHhoFyA...  \n",
        "2        61.79.55.195   618  /api/rewardapply/todayvisitreward?json=1&v=don...  \n",
        "3        211.59.21.43   429  /stat/swipe_main?v=tvshop48925&xid=StJ825u8Rj&...  \n",
        "4        61.79.55.195   661  /chip?title=%ED%99%A9%EA%B8%88%EC%83%81%EC%9E%...  \n",
        "5       61.81.119.250   758  /api/content/actioninfo?json=1&id=229622&v=adm...  \n",
        "6      122.35.171.144   615  /content/229628?title=%EC%B4%9D%EC%95%8C%ED%94...  \n",
        "7       39.114.56.157   614  /api/opn/cloudstat?v=tvshop503179&xid=Wg0sGefq...  \n",
        "8       39.114.56.157   579  /api/entity/actioninfo?v=tvshop687329&xid=Wg0s...  \n",
        "9       39.114.56.157   577  /api/goodsviewlog/add?v=tvshop75734&xid=Wg0sGe...  \n",
        "10    122.252.126.234   638  /chip/layer?title=%ED%99%A9%EA%B8%88%EC%83%81%...  \n",
        "11     182.210.82.211   520  /stat/swipe_main?v=tvshop45818&xid=UdO9Shn4fb&...  \n",
        "12      39.114.56.157   614  /api/opn/cloudstat?v=tvshop495504&xid=Wg0sGefq...  \n",
        "13         39.7.45.92   649  /api/goods/getitemlist?v=tvshop576550&xid=SD7G...  \n",
        "14     211.36.141.103   551  /stat/nextday?v=tvshop173197&xid=gpb8Irvtgf&ne...  \n",
        "15     115.95.181.165  1128                                             /first  \n",
        "16       1.231.93.245   547  /stat/swipe_main?v=tvshop63103&xid=PasiAcMgbt&...  \n",
        "17     223.33.153.112   773  /api/device/pushcode?device_code=b889b4c372662...  \n",
        "18      210.121.110.6  1108                                             /first  \n",
        "19     211.36.141.103   650  /api/goods/getitemlist?v=tvshop692583&xid=gpb8...  \n",
        "20      121.159.85.97   609                                     /tvshop/mobile  \n",
        "21      59.16.200.109   611  /api/goods/getitemlist?v=tvshop843705&xid=I2T8...  \n",
        "22      223.62.190.72   849  /api/goodsviewlog/add?v=tvshop749443&xid=sFnWM...  \n",
        "23    112.162.108.156   696  /api/content/actioninfo?json=1&id=229592&v=don...  \n",
        "24         39.7.45.92   649  /api/goods/getitemlist?v=tvshop293405&xid=SD7G...  \n",
        "25       223.62.203.5   650  /api/goods/getitemlist?v=tvshop817321&xid=qNQj...  \n",
        "26       14.38.191.53   480  /stat/swipe_main?v=tvshop304437&xid=xARgfQa7aN...  \n",
        "27      121.159.85.97   643  /api/goods/getitemlist?skin=tvshopweb%2F_skin_...  \n",
        "28    112.162.108.156   760  /api/cmt/getlist?skin=skin%2F_skin_cmt_list&ac...  \n",
        "29     119.207.234.82   514  /stat/swipe_main?v=tvshop250086&xid=E1QHVehi3k...  \n",
        "...               ...   ...                                                ...  \n",
        "9970   116.121.136.79     0                                                  -  \n",
        "9971   116.121.136.79     0                                                  -  \n",
        "9972   116.121.136.79   748  /select/cate?title=%EC%83%81%ED%92%88%20%EC%B9...  \n",
        "9973   175.118.68.138   592  /api/user/istodaynewvisit?v=tvshop423715&xid=h...  \n",
        "9974  117.123.131.238   621  /stat/entity?v=tvshop286285&xid=WrPYoTP2op&ent...  \n",
        "9975    14.45.208.136   744  /api/content/getlist?skin=skin%2F_skin_content...  \n",
        "9976   211.186.80.151   977  /stat/search/goods/meta?v=tvshop767031&xid=73G...  \n",
        "9977   121.78.146.137   542  /item?title=%EC%98%A4%EB%85%B8%EB%9D%BC%EB%9D%...  \n",
        "9978    223.62.188.50   480  /stat/swipe_main?v=tvshop51084&xid=ZsUr1J4w8x&...  \n",
        "9979     110.70.55.52   842  /api/search/goodssmartsearch?v=tvshop665505&xi...  \n",
        "9980     110.70.55.52   842  /api/search/goodssmartsearch?v=tvshop344711&xi...  \n",
        "9981     117.111.8.79   651  /api/goods/getitemlist?v=tvshop686038&xid=9u87...  \n",
        "9982   175.118.68.138   703  /item?entity_id=1067555&nav=show&tabbar=hide&m...  \n",
        "9983  218.212.233.252   640  /item/search?title=%EC%83%81%ED%92%88%EA%B2%80...  \n",
        "9984  121.174.215.139   505  /api/goods/getitemlist?v=web21648&xid=&skin=we...  \n",
        "9985   211.36.148.110   578  /api/entity/actioninfo?v=tvshop48122&xid=pXrtR...  \n",
        "9986   211.36.148.110   578  /api/goodsviewlog/add?v=tvshop404781&xid=pXrtR...  \n",
        "9987    223.62.188.50   611  /api/goods/getitemlist?v=tvshop692372&xid=ZsUr...  \n",
        "9988   175.223.37.186   694  /api/goods/getitemlist?v=tvshop644194&xid=NigR...  \n",
        "9989   175.223.37.186   566  /api/goods/getvideoinfo?v=tvshop716001&xid=Nig...  \n",
        "9990   175.223.37.186   569  /api/search/getrecokeyword?v=tvshop158309&xid=...  \n",
        "9991    180.228.59.17   481  /stat/swipe_main?v=tvshop939748&xid=1eaPveDXbg...  \n",
        "9992      39.7.55.225   430  /stat/swipe_main?v=tvshop444251&xid=RFxnbCNm9x...  \n",
        "9993    218.49.229.51   695  /api/search/goodssmartsearch?v=tvshop154412&xi...  \n",
        "9994    39.118.132.60     0                                                  -  \n",
        "9995    39.118.132.60   521  /stat/swipe_main?v=tvshop652828&xid=2lHvz9pGlz...  \n",
        "9996    223.62.169.80   507       /stat/todayall?v=tvshop698623&xid=VswobfEyQE  \n",
        "9997    110.70.52.102   969  /api/entity/getlist?v=tvshop84948&xid=X3PrEuvV...  \n",
        "9998  218.212.233.252   794  /api/search/goodssearch?v=tvshop534335&xid=rSu...  \n",
        "9999      39.7.51.173   919  /api/search/goodssmartsearch?v=tvshop473133&xi...  \n",
        "\n",
        "[10000 rows x 6 columns]"
       ]
      }
     ],
     "prompt_number": 132
    },
    {
     "cell_type": "code",
     "collapsed": false,
     "input": [
      "a = df['url']"
     ],
     "language": "python",
     "metadata": {},
     "outputs": [],
     "prompt_number": 92
    },
    {
     "cell_type": "code",
     "collapsed": false,
     "input": [
      "a[1:3]"
     ],
     "language": "python",
     "metadata": {},
     "outputs": [
      {
       "metadata": {},
       "output_type": "pyout",
       "prompt_number": 93,
       "text": [
        "1    /stat/swipe_main?v=tvshop238487&xid=O4CRHhoFyA...\n",
        "2    /api/rewardapply/todayvisitreward?json=1&v=don...\n",
        "Name: url, dtype: object"
       ]
      }
     ],
     "prompt_number": 93
    },
    {
     "cell_type": "code",
     "collapsed": false,
     "input": [
      "b = a[1]"
     ],
     "language": "python",
     "metadata": {},
     "outputs": [],
     "prompt_number": 94
    },
    {
     "cell_type": "code",
     "collapsed": false,
     "input": [
      "b"
     ],
     "language": "python",
     "metadata": {},
     "outputs": [
      {
       "metadata": {},
       "output_type": "pyout",
       "prompt_number": 95,
       "text": [
        "u'/stat/swipe_main?v=tvshop238487&xid=O4CRHhoFyA&from=item_1'"
       ]
      }
     ],
     "prompt_number": 95
    },
    {
     "cell_type": "code",
     "collapsed": false,
     "input": [
      "b = a[2]"
     ],
     "language": "python",
     "metadata": {},
     "outputs": [],
     "prompt_number": 96
    },
    {
     "cell_type": "code",
     "collapsed": false,
     "input": [
      "b"
     ],
     "language": "python",
     "metadata": {},
     "outputs": [
      {
       "metadata": {},
       "output_type": "pyout",
       "prompt_number": 97,
       "text": [
        "u'/api/rewardapply/todayvisitreward?json=1&v=donmoa73384&xid=7jy7Qx22JD'"
       ]
      }
     ],
     "prompt_number": 97
    },
    {
     "cell_type": "code",
     "collapsed": false,
     "input": [
      "b.find"
     ],
     "language": "python",
     "metadata": {},
     "outputs": [
      {
       "metadata": {},
       "output_type": "pyout",
       "prompt_number": 98,
       "text": [
        "<function find>"
       ]
      }
     ],
     "prompt_number": 98
    },
    {
     "cell_type": "code",
     "collapsed": false,
     "input": [
      "b.find('?') # find index"
     ],
     "language": "python",
     "metadata": {},
     "outputs": [
      {
       "metadata": {},
       "output_type": "pyout",
       "prompt_number": 99,
       "text": [
        "33"
       ]
      }
     ],
     "prompt_number": 99
    },
    {
     "cell_type": "code",
     "collapsed": false,
     "input": [
      "type(b)"
     ],
     "language": "python",
     "metadata": {},
     "outputs": [
      {
       "metadata": {},
       "output_type": "pyout",
       "prompt_number": 100,
       "text": [
        "unicode"
       ]
      }
     ],
     "prompt_number": 100
    },
    {
     "cell_type": "code",
     "collapsed": false,
     "input": [
      "b.encode()"
     ],
     "language": "python",
     "metadata": {},
     "outputs": [
      {
       "metadata": {},
       "output_type": "pyout",
       "prompt_number": 101,
       "text": [
        "'/api/rewardapply/todayvisitreward?json=1&v=donmoa73384&xid=7jy7Qx22JD'"
       ]
      }
     ],
     "prompt_number": 101
    },
    {
     "cell_type": "code",
     "collapsed": false,
     "input": [
      "type(b.encode('ascii','ignore'))"
     ],
     "language": "python",
     "metadata": {},
     "outputs": [
      {
       "metadata": {},
       "output_type": "pyout",
       "prompt_number": 102,
       "text": [
        "str"
       ]
      }
     ],
     "prompt_number": 102
    },
    {
     "cell_type": "code",
     "collapsed": false,
     "input": [
      "c = b.encode('ascii','ignore')"
     ],
     "language": "python",
     "metadata": {},
     "outputs": [],
     "prompt_number": 103
    },
    {
     "cell_type": "code",
     "collapsed": false,
     "input": [
      "c"
     ],
     "language": "python",
     "metadata": {},
     "outputs": [
      {
       "metadata": {},
       "output_type": "pyout",
       "prompt_number": 104,
       "text": [
        "'/api/rewardapply/todayvisitreward?json=1&v=donmoa73384&xid=7jy7Qx22JD'"
       ]
      }
     ],
     "prompt_number": 104
    },
    {
     "cell_type": "code",
     "collapsed": false,
     "input": [
      "type(c)"
     ],
     "language": "python",
     "metadata": {},
     "outputs": [
      {
       "metadata": {},
       "output_type": "pyout",
       "prompt_number": 105,
       "text": [
        "str"
       ]
      }
     ],
     "prompt_number": 105
    },
    {
     "cell_type": "code",
     "collapsed": false,
     "input": [
      "c.split"
     ],
     "language": "python",
     "metadata": {},
     "outputs": [
      {
       "metadata": {},
       "output_type": "pyout",
       "prompt_number": 106,
       "text": [
        "<function split>"
       ]
      }
     ],
     "prompt_number": 106
    },
    {
     "cell_type": "code",
     "collapsed": false,
     "input": [
      "c[1:5]"
     ],
     "language": "python",
     "metadata": {},
     "outputs": [
      {
       "metadata": {},
       "output_type": "pyout",
       "prompt_number": 107,
       "text": [
        "'api/'"
       ]
      }
     ],
     "prompt_number": 107
    },
    {
     "cell_type": "code",
     "collapsed": false,
     "input": [
      "c"
     ],
     "language": "python",
     "metadata": {},
     "outputs": [
      {
       "metadata": {},
       "output_type": "pyout",
       "prompt_number": 108,
       "text": [
        "'/api/rewardapply/todayvisitreward?json=1&v=donmoa73384&xid=7jy7Qx22JD'"
       ]
      }
     ],
     "prompt_number": 108
    },
    {
     "cell_type": "code",
     "collapsed": false,
     "input": [
      "c[:c.find('?')] # first to ?"
     ],
     "language": "python",
     "metadata": {},
     "outputs": [
      {
       "metadata": {},
       "output_type": "pyout",
       "prompt_number": 109,
       "text": [
        "'/api/rewardapply/todayvisitreward'"
       ]
      }
     ],
     "prompt_number": 109
    },
    {
     "cell_type": "code",
     "collapsed": false,
     "input": [
      "b"
     ],
     "language": "python",
     "metadata": {},
     "outputs": [
      {
       "metadata": {},
       "output_type": "pyout",
       "prompt_number": 110,
       "text": [
        "u'/api/rewardapply/todayvisitreward?json=1&v=donmoa73384&xid=7jy7Qx22JD'"
       ]
      }
     ],
     "prompt_number": 110
    },
    {
     "cell_type": "code",
     "collapsed": false,
     "input": [
      "a[0:5]"
     ],
     "language": "python",
     "metadata": {},
     "outputs": [
      {
       "metadata": {},
       "output_type": "pyout",
       "prompt_number": 111,
       "text": [
        "0    /stat/swipe_main?v=tvshop759418&xid=upYqq7IOWG...\n",
        "1    /stat/swipe_main?v=tvshop238487&xid=O4CRHhoFyA...\n",
        "2    /api/rewardapply/todayvisitreward?json=1&v=don...\n",
        "3    /stat/swipe_main?v=tvshop48925&xid=StJ825u8Rj&...\n",
        "4    /chip?title=%ED%99%A9%EA%B8%88%EC%83%81%EC%9E%...\n",
        "Name: url, dtype: object"
       ]
      }
     ],
     "prompt_number": 111
    },
    {
     "cell_type": "code",
     "collapsed": false,
     "input": [
      "for i in range(8):\n",
      "    print(a[i])"
     ],
     "language": "python",
     "metadata": {},
     "outputs": [
      {
       "output_type": "stream",
       "stream": "stdout",
       "text": [
        "/stat/swipe_main?v=tvshop759418&xid=upYqq7IOWG&from=item_6\n",
        "/stat/swipe_main?v=tvshop238487&xid=O4CRHhoFyA&from=item_1\n",
        "/api/rewardapply/todayvisitreward?json=1&v=donmoa73384&xid=7jy7Qx22JD\n",
        "/stat/swipe_main?v=tvshop48925&xid=StJ825u8Rj&from=item_1\n",
        "/chip?title=%ED%99%A9%EA%B8%88%EC%83%81%EC%9E%90&tabbar=hide\n",
        "/api/content/actioninfo?json=1&id=229622&v=adme55002&xid=PZVeIKUQaU\n",
        "/content/229628?title=%EC%B4%9D%EC%95%8C%ED%94%BC%ED%95%98%EA%B8%B0.gif&nav=show&btn=hide&tabbar=hide&v=donmoa75680&xid=pA2aihTMPj\n",
        "/api/opn/cloudstat?v=tvshop503179&xid=Wg0sGefqi4&skin=hsmoa%2Fskin%2F_opn&entity_id=1065541&cmtary_num=10\n"
       ]
      }
     ],
     "prompt_number": 112
    },
    {
     "cell_type": "code",
     "collapsed": false,
     "input": [
      "for i in range(5):\n",
      "    print(a[i][0:5])"
     ],
     "language": "python",
     "metadata": {},
     "outputs": [
      {
       "output_type": "stream",
       "stream": "stdout",
       "text": [
        "/stat\n",
        "/stat\n",
        "/api/\n",
        "/stat\n",
        "/chip\n"
       ]
      }
     ],
     "prompt_number": 113
    },
    {
     "cell_type": "code",
     "collapsed": false,
     "input": [
      "for i in range(5):\n",
      "    print(a[i][:a[i].find('?')])"
     ],
     "language": "python",
     "metadata": {},
     "outputs": [
      {
       "output_type": "stream",
       "stream": "stdout",
       "text": [
        "/stat/swipe_main\n",
        "/stat/swipe_main\n",
        "/api/rewardapply/todayvisitreward\n",
        "/stat/swipe_main\n",
        "/chip\n"
       ]
      }
     ],
     "prompt_number": 114
    },
    {
     "cell_type": "code",
     "collapsed": false,
     "input": [
      "b = a[0]"
     ],
     "language": "python",
     "metadata": {},
     "outputs": [],
     "prompt_number": 115
    },
    {
     "cell_type": "code",
     "collapsed": false,
     "input": [
      "b.find('?')"
     ],
     "language": "python",
     "metadata": {},
     "outputs": [
      {
       "metadata": {},
       "output_type": "pyout",
       "prompt_number": 116,
       "text": [
        "16"
       ]
      }
     ],
     "prompt_number": 116
    },
    {
     "cell_type": "code",
     "collapsed": false,
     "input": [
      "print b[:b.find('?')]"
     ],
     "language": "python",
     "metadata": {},
     "outputs": [
      {
       "output_type": "stream",
       "stream": "stdout",
       "text": [
        "/stat/swipe_main\n"
       ]
      }
     ],
     "prompt_number": 117
    },
    {
     "cell_type": "code",
     "collapsed": false,
     "input": [
      "b"
     ],
     "language": "python",
     "metadata": {},
     "outputs": [
      {
       "metadata": {},
       "output_type": "pyout",
       "prompt_number": 118,
       "text": [
        "u'/stat/swipe_main?v=tvshop759418&xid=upYqq7IOWG&from=item_6'"
       ]
      }
     ],
     "prompt_number": 118
    },
    {
     "cell_type": "code",
     "collapsed": false,
     "input": [
      "type(b)"
     ],
     "language": "python",
     "metadata": {},
     "outputs": [
      {
       "metadata": {},
       "output_type": "pyout",
       "prompt_number": 119,
       "text": [
        "unicode"
       ]
      }
     ],
     "prompt_number": 119
    },
    {
     "cell_type": "code",
     "collapsed": false,
     "input": [
      "b.encode('ascii','ignore')"
     ],
     "language": "python",
     "metadata": {},
     "outputs": [
      {
       "metadata": {},
       "output_type": "pyout",
       "prompt_number": 120,
       "text": [
        "'/stat/swipe_main?v=tvshop759418&xid=upYqq7IOWG&from=item_6'"
       ]
      }
     ],
     "prompt_number": 120
    },
    {
     "cell_type": "code",
     "collapsed": false,
     "input": [
      "c = b.encode('ascii','ignore')"
     ],
     "language": "python",
     "metadata": {},
     "outputs": [],
     "prompt_number": 121
    },
    {
     "cell_type": "code",
     "collapsed": false,
     "input": [
      "c"
     ],
     "language": "python",
     "metadata": {},
     "outputs": [
      {
       "metadata": {},
       "output_type": "pyout",
       "prompt_number": 122,
       "text": [
        "'/stat/swipe_main?v=tvshop759418&xid=upYqq7IOWG&from=item_6'"
       ]
      }
     ],
     "prompt_number": 122
    },
    {
     "cell_type": "code",
     "collapsed": false,
     "input": [
      "type(c)"
     ],
     "language": "python",
     "metadata": {},
     "outputs": [
      {
       "metadata": {},
       "output_type": "pyout",
       "prompt_number": 123,
       "text": [
        "str"
       ]
      }
     ],
     "prompt_number": 123
    },
    {
     "cell_type": "code",
     "collapsed": false,
     "input": [
      "c"
     ],
     "language": "python",
     "metadata": {},
     "outputs": [
      {
       "metadata": {},
       "output_type": "pyout",
       "prompt_number": 124,
       "text": [
        "'/stat/swipe_main?v=tvshop759418&xid=upYqq7IOWG&from=item_6'"
       ]
      }
     ],
     "prompt_number": 124
    },
    {
     "cell_type": "code",
     "collapsed": false,
     "input": [
      "'f' in c"
     ],
     "language": "python",
     "metadata": {},
     "outputs": [
      {
       "metadata": {},
       "output_type": "pyout",
       "prompt_number": 125,
       "text": [
        "True"
       ]
      }
     ],
     "prompt_number": 125
    },
    {
     "cell_type": "code",
     "collapsed": false,
     "input": [
      "'?' in c"
     ],
     "language": "python",
     "metadata": {},
     "outputs": [
      {
       "metadata": {},
       "output_type": "pyout",
       "prompt_number": 126,
       "text": [
        "True"
       ]
      }
     ],
     "prompt_number": 126
    },
    {
     "cell_type": "code",
     "collapsed": false,
     "input": [
      "ignoreList = ['/api', '/stat', '/first'] # we sholud ignore these cases"
     ],
     "language": "python",
     "metadata": {},
     "outputs": [],
     "prompt_number": 127
    },
    {
     "cell_type": "code",
     "collapsed": false,
     "input": [
      "ignoreList"
     ],
     "language": "python",
     "metadata": {},
     "outputs": [
      {
       "metadata": {},
       "output_type": "pyout",
       "prompt_number": 128,
       "text": [
        "['/api', '/stat', '/first']"
       ]
      }
     ],
     "prompt_number": 128
    },
    {
     "cell_type": "code",
     "collapsed": false,
     "input": [],
     "language": "python",
     "metadata": {},
     "outputs": [],
     "prompt_number": 128
    },
    {
     "cell_type": "code",
     "collapsed": false,
     "input": [
      "for j in ignoreList:\n",
      "    print j"
     ],
     "language": "python",
     "metadata": {},
     "outputs": [
      {
       "output_type": "stream",
       "stream": "stdout",
       "text": [
        "/api\n",
        "/stat\n",
        "/first\n"
       ]
      }
     ],
     "prompt_number": 129
    },
    {
     "cell_type": "code",
     "collapsed": false,
     "input": [
      "a.count()"
     ],
     "language": "python",
     "metadata": {},
     "outputs": [
      {
       "metadata": {},
       "output_type": "pyout",
       "prompt_number": 130,
       "text": [
        "10000"
       ]
      }
     ],
     "prompt_number": 130
    },
    {
     "cell_type": "code",
     "collapsed": false,
     "input": [
      "ignoreList = ['/api', '/stat', '/first']\n",
      "result = []\n",
      "\n",
      "for i in range(a.count()):\n",
      "    b = a[i].encode('ascii','ignore') # type converges to Filtering\n",
      "    flag = True\n",
      "    for ignore in ignoreList:\n",
      "        if ignore in b:\n",
      "            flag = False\n",
      "            break\n",
      "    \n",
      "    if flag is not True: # ignore cases\n",
      "        continue\n",
      "            \n",
      "    if '?' in b:\n",
      "        menu = b[:b.find('?')]\n",
      "    else:\n",
      "        menu = b\n",
      "    if len(menu) <= 1:\n",
      "        continue\n",
      "    result.append(menu)"
     ],
     "language": "python",
     "metadata": {},
     "outputs": [],
     "prompt_number": 131
    },
    {
     "cell_type": "code",
     "collapsed": false,
     "input": [
      "se = pd.Series(result)"
     ],
     "language": "python",
     "metadata": {},
     "outputs": [],
     "prompt_number": 52
    },
    {
     "cell_type": "code",
     "collapsed": false,
     "input": [
      "statistics = se.value_counts()\n",
      "\n",
      "print statistics\n",
      "# Quiz1 Answer\n",
      "# \uba54\ub274\ubcc4 \ub4f1\uc7a5 \ud69f \uc218 \ucd9c\ub825 & sorting (value_counts())\n",
      "# /api, /stat, /first, \uacf5\ubc31 \ub4f1\uc744 \uc81c\uac70 \ud6c4 processing"
     ],
     "language": "python",
     "metadata": {},
     "outputs": [
      {
       "output_type": "stream",
       "stream": "stdout",
       "text": [
        "/item              291\n",
        "/item/search       114\n",
        "/chip/layer         90\n",
        "/tvshop             44\n",
        "/i                  41\n",
        "/ad/tab2            30\n",
        "/tvshop/install     30\n",
        "/session            29\n",
        "/select/date        24\n",
        "/chip               20\n",
        "/ad/tab1            19\n",
        "/item/alarm         18\n",
        "/reward/list        16\n",
        "/select/cate        14\n",
        "/users/_update      14\n",
        "...\n",
        "/content/182828    1\n",
        "/content/229418    1\n",
        "/content/229593    1\n",
        "/content/229188    1\n",
        "/pu/12053975       1\n",
        "/content/221558    1\n",
        "/content/229588    1\n",
        "/account           1\n",
        "/content/229583    1\n",
        "/content/226448    1\n",
        "/content/229585    1\n",
        "/content/229513    1\n",
        "/content/228901    1\n",
        "/content/229612    1\n",
        "/content/228814    1\n",
        "Length: 151, dtype: int64\n"
       ]
      }
     ],
     "prompt_number": 53
    },
    {
     "cell_type": "code",
     "collapsed": false,
     "input": [
      "source = pd.DataFrame(data_list)"
     ],
     "language": "python",
     "metadata": {},
     "outputs": [],
     "prompt_number": 54
    },
    {
     "cell_type": "code",
     "collapsed": false,
     "input": [
      "agent = source['agent']"
     ],
     "language": "python",
     "metadata": {},
     "outputs": [],
     "prompt_number": 55
    },
    {
     "cell_type": "code",
     "collapsed": false,
     "input": [
      "strtmp = agent[1].encode('ascii','ignore')"
     ],
     "language": "python",
     "metadata": {},
     "outputs": [],
     "prompt_number": 56
    },
    {
     "cell_type": "code",
     "collapsed": false,
     "input": [
      "p = strtmp[strtmp.find('(')+1:strtmp.find(')')]"
     ],
     "language": "python",
     "metadata": {},
     "outputs": [],
     "prompt_number": 57
    },
    {
     "cell_type": "code",
     "collapsed": false,
     "input": [
      "print p"
     ],
     "language": "python",
     "metadata": {},
     "outputs": [
      {
       "output_type": "stream",
       "stream": "stdout",
       "text": [
        "Linux; U; Android 4.0.4; ko-kr; SHW-M250K Build/IMM76D\n"
       ]
      }
     ],
     "prompt_number": 58
    },
    {
     "cell_type": "code",
     "collapsed": false,
     "input": [
      "adf = pd.DataFrame(columns=['1','OS','Device'])"
     ],
     "language": "python",
     "metadata": {},
     "outputs": [],
     "prompt_number": 59
    },
    {
     "cell_type": "code",
     "collapsed": false,
     "input": [
      "print adf['OS']"
     ],
     "language": "python",
     "metadata": {},
     "outputs": [
      {
       "output_type": "stream",
       "stream": "stdout",
       "text": [
        "Series([], name: OS, dtype: object)\n"
       ]
      }
     ],
     "prompt_number": 60
    },
    {
     "cell_type": "raw",
     "metadata": {},
     "source": []
    },
    {
     "cell_type": "code",
     "collapsed": false,
     "input": [
      "q = p.split(';')"
     ],
     "language": "python",
     "metadata": {},
     "outputs": [],
     "prompt_number": 61
    },
    {
     "cell_type": "code",
     "collapsed": false,
     "input": [
      "q"
     ],
     "language": "python",
     "metadata": {},
     "outputs": [
      {
       "metadata": {},
       "output_type": "pyout",
       "prompt_number": 62,
       "text": [
        "['Linux', ' U', ' Android 4.0.4', ' ko-kr', ' SHW-M250K Build/IMM76D']"
       ]
      }
     ],
     "prompt_number": 62
    },
    {
     "cell_type": "code",
     "collapsed": false,
     "input": [
      "agent.count()"
     ],
     "language": "python",
     "metadata": {},
     "outputs": [
      {
       "metadata": {},
       "output_type": "pyout",
       "prompt_number": 63,
       "text": [
        "10000"
       ]
      }
     ],
     "prompt_number": 63
    },
    {
     "cell_type": "code",
     "collapsed": false,
     "input": [
      "clist = []\n",
      "for i in range(agent.count()):\n",
      "    strtmp = agent[i].encode('ascii','ignore')\n",
      "    p = strtmp[strtmp.find('('):strtmp.find(')')]\n",
      "    if len(p) <= 1:\n",
      "        continue\n",
      "    q = p.split(';')\n",
      "    clist.append(len(q))\n",
      "  #  if len(q) is 4:\n",
      "   #     print i # print type 4 id"
     ],
     "language": "python",
     "metadata": {},
     "outputs": [],
     "prompt_number": 64
    },
    {
     "cell_type": "code",
     "collapsed": false,
     "input": [
      "pd.Series(clist).value_counts() # pandas.Seris(clist).value_counts() , type\ubcc4 \ud1b5\uacc4"
     ],
     "language": "python",
     "metadata": {},
     "outputs": [
      {
       "metadata": {},
       "output_type": "pyout",
       "prompt_number": 65,
       "text": [
        "5    5420\n",
        "3    2855\n",
        "2     858\n",
        "4     100\n",
        "1       4\n",
        "dtype: int64"
       ]
      }
     ],
     "prompt_number": 65
    },
    {
     "cell_type": "code",
     "collapsed": false,
     "input": [
      "res1 = [] # Quiz2 Answer\n",
      "res2 = [] # Platform, Processor\n",
      "res3 = [] # Platform, OS, Model\n",
      "res4 = [] # Platform, Processor, HTML-Rendering Engine, Rivision No.\n",
      "res5 = [] # Platform, '?', OS, Language, Model\n",
      "for i in range(agent.count()):\n",
      "    strtmp = agent[i].encode('ascii','ignore')\n",
      "    p = strtmp[strtmp.find('(')+1:strtmp.find(')')]\n",
      "    if len(p) <=1:\n",
      "        continue\n",
      "    q = p.split(';')\n",
      "    if len(q) is 5:\n",
      "        res5.append(q) # type 5, append in res5\n",
      "    elif len(q) is 4:\n",
      "        res4.append(q)\n",
      "    elif len(q) is 3:\n",
      "        res3.append(q)\n",
      "    elif len(q) is 2:\n",
      "        res2.append(q)\n",
      "    else:\n",
      "        res1.append(1)"
     ],
     "language": "python",
     "metadata": {},
     "outputs": [],
     "prompt_number": 66
    },
    {
     "cell_type": "code",
     "collapsed": false,
     "input": [
      "OSset = [] # collect OS set\n",
      "for i in range(len(res5)):\n",
      "    if 'Trident' in res5[i][2]:\n",
      "        continue\n",
      "    OSset.append(res5[i][2]) # collect OS in type 5\n",
      "for i in range(len(res3)):\n",
      "    if 'Trident' in res3[i][1]:\n",
      "        continue\n",
      "    OSset.append(res3[i][1]) # collect OS in type 3\n",
      "    \n",
      "# \uc0ac\uc6a9\uc790 OS \ubd84\ud3ec        \n",
      "pd.DataFrame(OSset).stack().value_counts()"
     ],
     "language": "python",
     "metadata": {},
     "outputs": [
      {
       "metadata": {},
       "output_type": "pyout",
       "prompt_number": 67,
       "text": [
        " Android 4.4.2     2809\n",
        " Android 4.1.2     2299\n",
        " Android 4.3       1494\n",
        " Android 4.0.4      543\n",
        " Android 4.2.2      401\n",
        " Android 4.0.3      178\n",
        " Android 2.3.5      167\n",
        " Android 2.3.6      105\n",
        " Android 2.3.3       74\n",
        " Android 2.3.4       73\n",
        " Android 2.2.2       55\n",
        " Android 4.1.1       23\n",
        " Googlebot/2.1       14\n",
        " Windows NT 6.2       6\n",
        " bingbot/2.0          1\n",
        "dtype: int64"
       ]
      }
     ],
     "prompt_number": 67
    },
    {
     "cell_type": "code",
     "collapsed": false,
     "input": [
      "DivSet = []\n",
      "for i in range(len(res2)): # type2\n",
      "    DivSet.append(res2[i][0])\n",
      "for i in range(len(res3)): # type3\n",
      "    DivSet.append(res3[i][2])\n",
      "for i in range(len(res5)): # type5\n",
      "    DivSet.append(res5[i][4])\n",
      "\n",
      "# \uc0ac\uc6a9 Device \ubd84\ud3ec\n",
      "pd.DataFrame(DivSet).stack().value_counts()"
     ],
     "language": "python",
     "metadata": {},
     "outputs": [
      {
       "metadata": {},
       "output_type": "pyout",
       "prompt_number": 68,
       "text": [
        "iPhone                             620\n",
        " SHV-E250S Build/JSS15J            455\n",
        " SHV-E330S Build/KOT49H            300\n",
        " SM-N900K Build/KOT49H             255\n",
        " SM-N900S Build/KOT49H             229\n",
        " SHV-E250L Build/JSS15J            217\n",
        " SHV-E210S Build/JSS15J            217\n",
        " SHV-E250K Build/JSS15J            190\n",
        " IM-A840S Build/JZO54K             170\n",
        " LG-F240L Build/KOT49I.F240L20f    168\n",
        " SHV-E300S Build/KOT49H            167\n",
        "iPad                               153\n",
        " SM-G900S Build/KOT49H             145\n",
        " SHV-E250S Build/JZO54K            140\n",
        " SHW-M250S Build/IML74K            131\n",
        "...\n",
        " LG-SU870 Build/GRK39F               4\n",
        " SM-T310 Build/JDQ39                 4\n",
        " LG-F160K Build/JZO54K               4\n",
        " SHV-E110S Build/IMM76D              3\n",
        " SM-N900P Build/KOT49H               3\n",
        " LG-F200S Build/KOT49I.F200S30d      3\n",
        " SHW-M380S Build/IMM76D              3\n",
        "Windows NT 6.1                       2\n",
        " LG-F350K Build/KOT49I.F350K10h      2\n",
        " IM-A830L Build/JZO54K               1\n",
        " LG-F240S Build/JZO54K               1\n",
        " LG-F160S Build/JZO54K               1\n",
        " SHW-M340K Build/GINGERBREAD         1\n",
        " LG-F400L Build/KVT49L.F400L10e      1\n",
        " +http://www.bing.com/bingbot.htm    1\n",
        "Length: 166, dtype: int64"
       ]
      }
     ],
     "prompt_number": 68
    },
    {
     "cell_type": "code",
     "collapsed": false,
     "input": [
      "host = df['host']"
     ],
     "language": "python",
     "metadata": {},
     "outputs": [],
     "prompt_number": 69
    },
    {
     "cell_type": "code",
     "collapsed": false,
     "input": [
      "hostunique = host.unique()"
     ],
     "language": "python",
     "metadata": {},
     "outputs": [],
     "prompt_number": 70
    },
    {
     "cell_type": "code",
     "collapsed": false,
     "input": [
      "len(hostunique)\n",
      "# \uc811\uc18d \uc720\uc800\uc758 \uc218"
     ],
     "language": "python",
     "metadata": {},
     "outputs": [
      {
       "metadata": {},
       "output_type": "pyout",
       "prompt_number": 71,
       "text": [
        "471"
       ]
      }
     ],
     "prompt_number": 71
    },
    {
     "cell_type": "code",
     "collapsed": false,
     "input": [
      "type(hostunique)"
     ],
     "language": "python",
     "metadata": {},
     "outputs": [
      {
       "metadata": {},
       "output_type": "pyout",
       "prompt_number": 72,
       "text": [
        "numpy.ndarray"
       ]
      }
     ],
     "prompt_number": 72
    },
    {
     "cell_type": "code",
     "collapsed": false,
     "input": [
      "df.columns"
     ],
     "language": "python",
     "metadata": {},
     "outputs": [
      {
       "metadata": {},
       "output_type": "pyout",
       "prompt_number": 73,
       "text": [
        "Index([u'@timestamp', u'agent', u'duration', u'host', u'size', u'url'], dtype='object')"
       ]
      }
     ],
     "prompt_number": 73
    },
    {
     "cell_type": "code",
     "collapsed": false,
     "input": [
      "type(hostunique)"
     ],
     "language": "python",
     "metadata": {},
     "outputs": [
      {
       "metadata": {},
       "output_type": "pyout",
       "prompt_number": 74,
       "text": [
        "numpy.ndarray"
       ]
      }
     ],
     "prompt_number": 74
    },
    {
     "cell_type": "code",
     "collapsed": false,
     "input": [
      "sorted_df = df.sort_index(by=['host','@timestamp'], ascending=[True, False])"
     ],
     "language": "python",
     "metadata": {},
     "outputs": [],
     "prompt_number": 75
    },
    {
     "cell_type": "code",
     "collapsed": false,
     "input": [
      "# sorted_df['host'].unique()"
     ],
     "language": "python",
     "metadata": {},
     "outputs": [],
     "prompt_number": 76
    },
    {
     "cell_type": "code",
     "collapsed": false,
     "input": [
      "sorted_df['host'].unique()[0] == sorted_df['host'][0]\n",
      "print len(sorted_df['host'].unique()) # timestamp with unique\n",
      "print sorted_df['host'][0] # timestamp \ub300\ub85c \ucc0d\uc5b4\ub0b8\uac83"
     ],
     "language": "python",
     "metadata": {},
     "outputs": [
      {
       "output_type": "stream",
       "stream": "stdout",
       "text": [
        "471\n",
        "119.70.27.162\n"
       ]
      }
     ],
     "prompt_number": 77
    },
    {
     "cell_type": "code",
     "collapsed": false,
     "input": [
      "sorted_df.index = range(0,len(sorted_df)) # rearrange\n",
      "sorted_df"
     ],
     "language": "python",
     "metadata": {},
     "outputs": [
      {
       "html": [
        "<div style=\"max-height:1000px;max-width:1500px;overflow:auto;\">\n",
        "<table border=\"1\" class=\"dataframe\">\n",
        "  <thead>\n",
        "    <tr style=\"text-align: right;\">\n",
        "      <th></th>\n",
        "      <th>@timestamp</th>\n",
        "      <th>agent</th>\n",
        "      <th>duration</th>\n",
        "      <th>host</th>\n",
        "      <th>size</th>\n",
        "      <th>url</th>\n",
        "    </tr>\n",
        "  </thead>\n",
        "  <tbody>\n",
        "    <tr>\n",
        "      <th>0   </th>\n",
        "      <td> 2014-07-06T16:18:13+09:00</td>\n",
        "      <td>                                                 -</td>\n",
        "      <td> 0.000</td>\n",
        "      <td> 1.176.107.234</td>\n",
        "      <td>   0</td>\n",
        "      <td>                                                 -</td>\n",
        "    </tr>\n",
        "    <tr>\n",
        "      <th>1   </th>\n",
        "      <td> 2014-07-06T16:18:13+09:00</td>\n",
        "      <td>                                                 -</td>\n",
        "      <td> 0.000</td>\n",
        "      <td> 1.176.107.234</td>\n",
        "      <td>   0</td>\n",
        "      <td>                                                 -</td>\n",
        "    </tr>\n",
        "    <tr>\n",
        "      <th>2   </th>\n",
        "      <td> 2014-07-06T16:18:13+09:00</td>\n",
        "      <td>                                                 -</td>\n",
        "      <td> 0.000</td>\n",
        "      <td> 1.176.107.234</td>\n",
        "      <td>   0</td>\n",
        "      <td>                                                 -</td>\n",
        "    </tr>\n",
        "    <tr>\n",
        "      <th>3   </th>\n",
        "      <td> 2014-07-06T16:18:12+09:00</td>\n",
        "      <td> Mozilla/5.0 (Linux; U; Android 4.1.2; ko-kr; I...</td>\n",
        "      <td> 0.121</td>\n",
        "      <td> 1.176.107.234</td>\n",
        "      <td> 612</td>\n",
        "      <td>        /ad/tab2?tab=2&amp;title=&amp;nav=hide&amp;tabbar=show</td>\n",
        "    </tr>\n",
        "    <tr>\n",
        "      <th>4   </th>\n",
        "      <td> 2014-07-06T16:17:51+09:00</td>\n",
        "      <td> Mozilla/5.0 (Linux; U; Android 4.1.2; ko-kr; I...</td>\n",
        "      <td> 0.527</td>\n",
        "      <td> 1.176.107.234</td>\n",
        "      <td> 622</td>\n",
        "      <td> /api/content/getlist?skin=skin%2F_skin_content...</td>\n",
        "    </tr>\n",
        "    <tr>\n",
        "      <th>5   </th>\n",
        "      <td> 2014-07-06T16:17:51+09:00</td>\n",
        "      <td> Mozilla/5.0 (Linux; U; Android 4.1.2; ko-kr; I...</td>\n",
        "      <td> 0.052</td>\n",
        "      <td> 1.176.107.234</td>\n",
        "      <td> 646</td>\n",
        "      <td> /api/cmt/getlist?skin=skin%2F_skin_cmt_list&amp;ac...</td>\n",
        "    </tr>\n",
        "    <tr>\n",
        "      <th>6   </th>\n",
        "      <td> 2014-07-06T16:17:50+09:00</td>\n",
        "      <td> Mozilla/5.0 (Linux; U; Android 4.1.2; ko-kr; I...</td>\n",
        "      <td> 0.040</td>\n",
        "      <td> 1.176.107.234</td>\n",
        "      <td> 583</td>\n",
        "      <td> /api/product/getinfo?json=1&amp;id=lwBcnnpVki&amp;v=do...</td>\n",
        "    </tr>\n",
        "    <tr>\n",
        "      <th>7   </th>\n",
        "      <td> 2014-07-06T16:17:50+09:00</td>\n",
        "      <td> Mozilla/5.0 (Linux; U; Android 4.1.2; ko-kr; I...</td>\n",
        "      <td> 0.050</td>\n",
        "      <td> 1.176.107.234</td>\n",
        "      <td> 667</td>\n",
        "      <td> /api/cmt/getlist?skin=skin%2F_skin_cmt_list&amp;ac...</td>\n",
        "    </tr>\n",
        "    <tr>\n",
        "      <th>8   </th>\n",
        "      <td> 2014-07-06T16:17:50+09:00</td>\n",
        "      <td> Mozilla/5.0 (Linux; U; Android 4.1.2; ko-kr; I...</td>\n",
        "      <td> 0.011</td>\n",
        "      <td> 1.176.107.234</td>\n",
        "      <td> 549</td>\n",
        "      <td> /stat/main?service=donmoa&amp;v=donmoa19741&amp;xid=q9...</td>\n",
        "    </tr>\n",
        "    <tr>\n",
        "      <th>9   </th>\n",
        "      <td> 2014-07-06T16:17:50+09:00</td>\n",
        "      <td> Mozilla/5.0 (Linux; U; Android 4.1.2; ko-kr; I...</td>\n",
        "      <td> 0.031</td>\n",
        "      <td> 1.176.107.234</td>\n",
        "      <td> 777</td>\n",
        "      <td> /api/device/pushcode?device_code=df8391e8dc1ee...</td>\n",
        "    </tr>\n",
        "    <tr>\n",
        "      <th>10  </th>\n",
        "      <td> 2014-07-06T16:17:50+09:00</td>\n",
        "      <td> Mozilla/5.0 (Linux; U; Android 4.1.2; ko-kr; I...</td>\n",
        "      <td> 0.037</td>\n",
        "      <td> 1.176.107.234</td>\n",
        "      <td> 658</td>\n",
        "      <td> /api/cmt/getlist?skin=skin%2F_skin_cmt_list&amp;ac...</td>\n",
        "    </tr>\n",
        "    <tr>\n",
        "      <th>11  </th>\n",
        "      <td> 2014-07-06T16:17:50+09:00</td>\n",
        "      <td> Mozilla/5.0 (Linux; U; Android 4.1.2; ko-kr; I...</td>\n",
        "      <td> 0.035</td>\n",
        "      <td> 1.176.107.234</td>\n",
        "      <td> 659</td>\n",
        "      <td> /api/content/getlist?skin=skin%2F_skin_content...</td>\n",
        "    </tr>\n",
        "    <tr>\n",
        "      <th>12  </th>\n",
        "      <td> 2014-07-06T16:17:50+09:00</td>\n",
        "      <td> Mozilla/5.0 (Linux; U; Android 4.1.2; ko-kr; I...</td>\n",
        "      <td> 0.028</td>\n",
        "      <td> 1.176.107.234</td>\n",
        "      <td> 582</td>\n",
        "      <td> /api/content/actioninfo?json=1&amp;id=192373&amp;v=don...</td>\n",
        "    </tr>\n",
        "    <tr>\n",
        "      <th>13  </th>\n",
        "      <td> 2014-07-06T16:17:49+09:00</td>\n",
        "      <td> Mozilla/5.0 (Linux; U; Android 4.1.2; ko-kr; I...</td>\n",
        "      <td> 0.182</td>\n",
        "      <td> 1.176.107.234</td>\n",
        "      <td> 939</td>\n",
        "      <td>                                            /first</td>\n",
        "    </tr>\n",
        "    <tr>\n",
        "      <th>14  </th>\n",
        "      <td> 2014-07-06T16:17:49+09:00</td>\n",
        "      <td> Mozilla/5.0 (Linux; U; Android 4.1.2; ko-kr; I...</td>\n",
        "      <td> 0.052</td>\n",
        "      <td> 1.176.107.234</td>\n",
        "      <td> 548</td>\n",
        "      <td>                          /content/192373?nav=show</td>\n",
        "    </tr>\n",
        "    <tr>\n",
        "      <th>15  </th>\n",
        "      <td> 2014-07-06T16:17:49+09:00</td>\n",
        "      <td>                                                 -</td>\n",
        "      <td> 0.000</td>\n",
        "      <td> 1.176.107.234</td>\n",
        "      <td>   0</td>\n",
        "      <td>                                                 -</td>\n",
        "    </tr>\n",
        "    <tr>\n",
        "      <th>16  </th>\n",
        "      <td> 2014-07-06T16:17:46+09:00</td>\n",
        "      <td> Mozilla/5.0 (Linux; U; Android 4.1.2; ko-kr; I...</td>\n",
        "      <td> 0.063</td>\n",
        "      <td> 1.176.107.234</td>\n",
        "      <td> 594</td>\n",
        "      <td>                          /content/192373?nav=show</td>\n",
        "    </tr>\n",
        "    <tr>\n",
        "      <th>17  </th>\n",
        "      <td> 2014-07-06T16:20:07+09:00</td>\n",
        "      <td> Mozilla/5.0 (Linux; Android 4.4.2; SM-G900L Bu...</td>\n",
        "      <td> 0.011</td>\n",
        "      <td> 1.176.136.206</td>\n",
        "      <td> 485</td>\n",
        "      <td> /stat/swipe_main?v=tvshop105501&amp;xid=VCXMs1HdD8...</td>\n",
        "    </tr>\n",
        "    <tr>\n",
        "      <th>18  </th>\n",
        "      <td> 2014-07-06T16:20:03+09:00</td>\n",
        "      <td> Mozilla/5.0 (Linux; Android 4.4.2; SM-G900L Bu...</td>\n",
        "      <td> 0.010</td>\n",
        "      <td> 1.176.136.206</td>\n",
        "      <td> 480</td>\n",
        "      <td> /stat/swipe_main?v=tvshop189163&amp;xid=VCXMs1HdD8...</td>\n",
        "    </tr>\n",
        "    <tr>\n",
        "      <th>19  </th>\n",
        "      <td> 2014-07-06T16:20:00+09:00</td>\n",
        "      <td> Mozilla/5.0 (Linux; Android 4.4.2; SM-G900L Bu...</td>\n",
        "      <td> 0.009</td>\n",
        "      <td> 1.176.136.206</td>\n",
        "      <td> 480</td>\n",
        "      <td> /stat/swipe_main?v=tvshop550734&amp;xid=VCXMs1HdD8...</td>\n",
        "    </tr>\n",
        "    <tr>\n",
        "      <th>20  </th>\n",
        "      <td> 2014-07-06T16:19:56+09:00</td>\n",
        "      <td> Mozilla/5.0 (Linux; Android 4.4.2; SM-G900L Bu...</td>\n",
        "      <td> 0.011</td>\n",
        "      <td> 1.176.136.206</td>\n",
        "      <td> 480</td>\n",
        "      <td> /stat/swipe_main?v=tvshop521544&amp;xid=VCXMs1HdD8...</td>\n",
        "    </tr>\n",
        "    <tr>\n",
        "      <th>21  </th>\n",
        "      <td> 2014-07-06T16:19:54+09:00</td>\n",
        "      <td> Mozilla/5.0 (Linux; Android 4.4.2; SM-G900L Bu...</td>\n",
        "      <td> 0.075</td>\n",
        "      <td> 1.176.136.206</td>\n",
        "      <td> 610</td>\n",
        "      <td> /api/goods/getitemlist?v=tvshop717117&amp;xid=VCXM...</td>\n",
        "    </tr>\n",
        "    <tr>\n",
        "      <th>22  </th>\n",
        "      <td> 2014-07-06T16:19:53+09:00</td>\n",
        "      <td> Mozilla/5.0 (Linux; Android 4.4.2; SM-G900L Bu...</td>\n",
        "      <td> 0.009</td>\n",
        "      <td> 1.176.136.206</td>\n",
        "      <td> 480</td>\n",
        "      <td> /stat/swipe_main?v=tvshop654664&amp;xid=VCXMs1HdD8...</td>\n",
        "    </tr>\n",
        "    <tr>\n",
        "      <th>23  </th>\n",
        "      <td> 2014-07-06T16:19:50+09:00</td>\n",
        "      <td> Mozilla/5.0 (Linux; Android 4.4.2; SM-G900L Bu...</td>\n",
        "      <td> 0.006</td>\n",
        "      <td> 1.176.136.206</td>\n",
        "      <td> 480</td>\n",
        "      <td> /stat/swipe_main?v=tvshop416602&amp;xid=VCXMs1HdD8...</td>\n",
        "    </tr>\n",
        "    <tr>\n",
        "      <th>24  </th>\n",
        "      <td> 2014-07-06T16:19:46+09:00</td>\n",
        "      <td> Mozilla/5.0 (Linux; Android 4.4.2; SM-G900L Bu...</td>\n",
        "      <td> 0.010</td>\n",
        "      <td> 1.176.136.206</td>\n",
        "      <td> 480</td>\n",
        "      <td> /stat/swipe_main?v=tvshop298325&amp;xid=VCXMs1HdD8...</td>\n",
        "    </tr>\n",
        "    <tr>\n",
        "      <th>25  </th>\n",
        "      <td> 2014-07-06T16:19:44+09:00</td>\n",
        "      <td> Mozilla/5.0 (Linux; Android 4.4.2; SM-G900L Bu...</td>\n",
        "      <td> 0.086</td>\n",
        "      <td> 1.176.136.206</td>\n",
        "      <td> 515</td>\n",
        "      <td> /api/reco/recotodayadgoods?v=tvshop531515&amp;xid=...</td>\n",
        "    </tr>\n",
        "    <tr>\n",
        "      <th>26  </th>\n",
        "      <td> 2014-07-06T16:19:44+09:00</td>\n",
        "      <td> Mozilla/5.0 (Linux; Android 4.4.2; SM-G900L Bu...</td>\n",
        "      <td> 0.175</td>\n",
        "      <td> 1.176.136.206</td>\n",
        "      <td> 508</td>\n",
        "      <td> /api/user/istodaynewvisit?v=tvshop506571&amp;xid=V...</td>\n",
        "    </tr>\n",
        "    <tr>\n",
        "      <th>27  </th>\n",
        "      <td> 2014-07-06T16:19:44+09:00</td>\n",
        "      <td> Mozilla/5.0 (Linux; Android 4.4.2; SM-G900L Bu...</td>\n",
        "      <td> 0.014</td>\n",
        "      <td> 1.176.136.206</td>\n",
        "      <td> 485</td>\n",
        "      <td> /stat/recotodayall?v=tvshop53741&amp;xid=VCXMs1HdD...</td>\n",
        "    </tr>\n",
        "    <tr>\n",
        "      <th>28  </th>\n",
        "      <td> 2014-07-06T16:19:43+09:00</td>\n",
        "      <td> Mozilla/5.0 (Linux; Android 4.4.2; SM-G900L Bu...</td>\n",
        "      <td> 0.088</td>\n",
        "      <td> 1.176.136.206</td>\n",
        "      <td> 610</td>\n",
        "      <td> /api/goods/getitemlist?v=tvshop165874&amp;xid=VCXM...</td>\n",
        "    </tr>\n",
        "    <tr>\n",
        "      <th>29  </th>\n",
        "      <td> 2014-07-06T16:19:43+09:00</td>\n",
        "      <td> Mozilla/5.0 (Linux; Android 4.4.2; SM-G900L Bu...</td>\n",
        "      <td> 0.196</td>\n",
        "      <td> 1.176.136.206</td>\n",
        "      <td> 504</td>\n",
        "      <td> /api/user/istodaynewvisit?v=tvshop76211&amp;xid=VC...</td>\n",
        "    </tr>\n",
        "    <tr>\n",
        "      <th>...</th>\n",
        "      <td>...</td>\n",
        "      <td>...</td>\n",
        "      <td>...</td>\n",
        "      <td>...</td>\n",
        "      <td>...</td>\n",
        "      <td>...</td>\n",
        "    </tr>\n",
        "    <tr>\n",
        "      <th>9970</th>\n",
        "      <td> 2014-07-06T16:19:38+09:00</td>\n",
        "      <td> Mozilla/5.0 (Linux; U; Android 4.1.2; ko-kr; L...</td>\n",
        "      <td> 0.009</td>\n",
        "      <td> 61.85.167.100</td>\n",
        "      <td> 521</td>\n",
        "      <td> /stat/swipe_main?v=tvshop890670&amp;xid=Dcv7oXmrAU...</td>\n",
        "    </tr>\n",
        "    <tr>\n",
        "      <th>9971</th>\n",
        "      <td> 2014-07-06T16:19:34+09:00</td>\n",
        "      <td> Mozilla/5.0 (Linux; U; Android 4.1.2; ko-kr; L...</td>\n",
        "      <td> 0.005</td>\n",
        "      <td> 61.85.167.100</td>\n",
        "      <td> 521</td>\n",
        "      <td> /stat/swipe_main?v=tvshop431670&amp;xid=Dcv7oXmrAU...</td>\n",
        "    </tr>\n",
        "    <tr>\n",
        "      <th>9972</th>\n",
        "      <td> 2014-07-06T16:19:31+09:00</td>\n",
        "      <td> Mozilla/5.0 (Linux; U; Android 4.1.2; ko-kr; L...</td>\n",
        "      <td> 0.012</td>\n",
        "      <td> 61.85.167.100</td>\n",
        "      <td> 521</td>\n",
        "      <td> /stat/swipe_main?v=tvshop180505&amp;xid=Dcv7oXmrAU...</td>\n",
        "    </tr>\n",
        "    <tr>\n",
        "      <th>9973</th>\n",
        "      <td> 2014-07-06T16:19:28+09:00</td>\n",
        "      <td> Mozilla/5.0 (Linux; U; Android 4.1.2; ko-kr; L...</td>\n",
        "      <td> 0.007</td>\n",
        "      <td> 61.85.167.100</td>\n",
        "      <td> 521</td>\n",
        "      <td> /stat/swipe_main?v=tvshop967923&amp;xid=Dcv7oXmrAU...</td>\n",
        "    </tr>\n",
        "    <tr>\n",
        "      <th>9974</th>\n",
        "      <td> 2014-07-06T16:19:25+09:00</td>\n",
        "      <td> Mozilla/5.0 (Linux; U; Android 4.1.2; ko-kr; L...</td>\n",
        "      <td> 0.045</td>\n",
        "      <td> 61.85.167.100</td>\n",
        "      <td> 556</td>\n",
        "      <td> /api/reco/recotodayadgoods?v=tvshop228802&amp;xid=...</td>\n",
        "    </tr>\n",
        "    <tr>\n",
        "      <th>9975</th>\n",
        "      <td> 2014-07-06T16:19:25+09:00</td>\n",
        "      <td> Mozilla/5.0 (Linux; U; Android 4.1.2; ko-kr; L...</td>\n",
        "      <td> 0.009</td>\n",
        "      <td> 61.85.167.100</td>\n",
        "      <td> 527</td>\n",
        "      <td> /stat/recotodayall?v=tvshop928614&amp;xid=Dcv7oXmr...</td>\n",
        "    </tr>\n",
        "    <tr>\n",
        "      <th>9976</th>\n",
        "      <td> 2014-07-06T16:19:24+09:00</td>\n",
        "      <td> Mozilla/5.0 (Linux; U; Android 4.1.2; ko-kr; L...</td>\n",
        "      <td> 0.108</td>\n",
        "      <td> 61.85.167.100</td>\n",
        "      <td> 651</td>\n",
        "      <td> /api/goods/getitemlist?v=tvshop466124&amp;xid=Dcv7...</td>\n",
        "    </tr>\n",
        "    <tr>\n",
        "      <th>9977</th>\n",
        "      <td> 2014-07-06T16:19:24+09:00</td>\n",
        "      <td> Mozilla/5.0 (Linux; U; Android 4.1.2; ko-kr; L...</td>\n",
        "      <td> 0.186</td>\n",
        "      <td> 61.85.167.100</td>\n",
        "      <td> 592</td>\n",
        "      <td> /api/user/istodaynewvisit?v=tvshop585839&amp;xid=D...</td>\n",
        "    </tr>\n",
        "    <tr>\n",
        "      <th>9978</th>\n",
        "      <td> 2014-07-06T16:19:24+09:00</td>\n",
        "      <td> Mozilla/5.0 (Linux; U; Android 4.1.2; ko-kr; L...</td>\n",
        "      <td> 0.512</td>\n",
        "      <td> 61.85.167.100</td>\n",
        "      <td> 572</td>\n",
        "      <td> /api/search/getrecokeyword?v=tvshop984883&amp;xid=...</td>\n",
        "    </tr>\n",
        "    <tr>\n",
        "      <th>9979</th>\n",
        "      <td> 2014-07-06T16:19:24+09:00</td>\n",
        "      <td> Mozilla/5.0 (Linux; U; Android 4.1.2; ko-kr; L...</td>\n",
        "      <td> 0.058</td>\n",
        "      <td> 61.85.167.100</td>\n",
        "      <td> 569</td>\n",
        "      <td> /api/goods/getvideoinfo?v=tvshop240565&amp;xid=Dcv...</td>\n",
        "    </tr>\n",
        "    <tr>\n",
        "      <th>9980</th>\n",
        "      <td> 2014-07-06T16:19:24+09:00</td>\n",
        "      <td> Mozilla/5.0 (Linux; U; Android 4.1.2; ko-kr; L...</td>\n",
        "      <td> 0.200</td>\n",
        "      <td> 61.85.167.100</td>\n",
        "      <td> 549</td>\n",
        "      <td> /api/user/istodaynewvisit?v=tvshop799525&amp;xid=D...</td>\n",
        "    </tr>\n",
        "    <tr>\n",
        "      <th>9981</th>\n",
        "      <td> 2014-07-06T16:19:23+09:00</td>\n",
        "      <td> Mozilla/5.0 (Linux; U; Android 4.1.2; ko-kr; L...</td>\n",
        "      <td> 0.029</td>\n",
        "      <td> 61.85.167.100</td>\n",
        "      <td> 813</td>\n",
        "      <td> /api/device/pushcode?v=tvshop245678&amp;xid=Dcv7oX...</td>\n",
        "    </tr>\n",
        "    <tr>\n",
        "      <th>9982</th>\n",
        "      <td> 2014-07-06T16:19:22+09:00</td>\n",
        "      <td> Mozilla/5.0 (Linux; U; Android 4.1.2; ko-kr; L...</td>\n",
        "      <td> 0.219</td>\n",
        "      <td> 61.85.167.100</td>\n",
        "      <td> 944</td>\n",
        "      <td>                                            /first</td>\n",
        "    </tr>\n",
        "    <tr>\n",
        "      <th>9983</th>\n",
        "      <td> 2014-07-06T16:15:40+09:00</td>\n",
        "      <td> Mozilla/5.0 (Linux; Android 4.4.2; LG-F200S Bu...</td>\n",
        "      <td> 0.006</td>\n",
        "      <td>  61.85.43.251</td>\n",
        "      <td> 489</td>\n",
        "      <td> /stat/swipe_main?v=tvshop507440&amp;xid=tKrfBTEdy8...</td>\n",
        "    </tr>\n",
        "    <tr>\n",
        "      <th>9984</th>\n",
        "      <td> 2014-07-06T16:15:37+09:00</td>\n",
        "      <td> Mozilla/5.0 (Linux; Android 4.4.2; LG-F200S Bu...</td>\n",
        "      <td> 0.009</td>\n",
        "      <td>  61.85.43.251</td>\n",
        "      <td> 488</td>\n",
        "      <td> /stat/swipe_main?v=tvshop50890&amp;xid=tKrfBTEdy8&amp;...</td>\n",
        "    </tr>\n",
        "    <tr>\n",
        "      <th>9985</th>\n",
        "      <td> 2014-07-06T16:15:34+09:00</td>\n",
        "      <td> Mozilla/5.0 (Linux; Android 4.4.2; LG-F200S Bu...</td>\n",
        "      <td> 0.006</td>\n",
        "      <td>  61.85.43.251</td>\n",
        "      <td> 489</td>\n",
        "      <td> /stat/swipe_main?v=tvshop422581&amp;xid=tKrfBTEdy8...</td>\n",
        "    </tr>\n",
        "    <tr>\n",
        "      <th>9986</th>\n",
        "      <td> 2014-07-06T16:17:29+09:00</td>\n",
        "      <td> Mozilla/5.0 (compatible; Googlebot/2.1; +http:...</td>\n",
        "      <td> 0.006</td>\n",
        "      <td> 66.249.74.198</td>\n",
        "      <td> 293</td>\n",
        "      <td> /tvshop/install?menu=ps_tistory_cj_0701_106499...</td>\n",
        "    </tr>\n",
        "    <tr>\n",
        "      <th>9987</th>\n",
        "      <td> 2014-07-06T16:19:07+09:00</td>\n",
        "      <td> Mozilla/5.0 (compatible; Googlebot/2.1; +http:...</td>\n",
        "      <td> 0.126</td>\n",
        "      <td> 66.249.77.227</td>\n",
        "      <td> 326</td>\n",
        "      <td> /i?id=1002996&amp;menu=ps_tistory_gs_0319_1002996&amp;...</td>\n",
        "    </tr>\n",
        "    <tr>\n",
        "      <th>9988</th>\n",
        "      <td> 2014-07-06T16:18:17+09:00</td>\n",
        "      <td> Mozilla/5.0 (compatible; Googlebot/2.1; +http:...</td>\n",
        "      <td> 0.095</td>\n",
        "      <td> 66.249.77.237</td>\n",
        "      <td> 326</td>\n",
        "      <td> /i?id=1002848&amp;menu=ps_tistory_lo_0318_1002848&amp;...</td>\n",
        "    </tr>\n",
        "    <tr>\n",
        "      <th>9989</th>\n",
        "      <td> 2014-07-06T16:14:59+09:00</td>\n",
        "      <td> Mozilla/5.0 (compatible; Googlebot/2.1; +http:...</td>\n",
        "      <td> 0.149</td>\n",
        "      <td> 66.249.77.237</td>\n",
        "      <td> 326</td>\n",
        "      <td> /i?id=1035683&amp;menu=ps_tistory_gs_0518_1035683&amp;...</td>\n",
        "    </tr>\n",
        "    <tr>\n",
        "      <th>9990</th>\n",
        "      <td> 2014-07-06T16:16:38+09:00</td>\n",
        "      <td> Mozilla/5.0 (compatible; Googlebot/2.1; +http:...</td>\n",
        "      <td> 0.116</td>\n",
        "      <td> 66.249.77.247</td>\n",
        "      <td> 326</td>\n",
        "      <td> /i?id=1000183&amp;menu=ps_tistory_lo_0317_1000183&amp;...</td>\n",
        "    </tr>\n",
        "    <tr>\n",
        "      <th>9991</th>\n",
        "      <td> 2014-07-06T16:19:10+09:00</td>\n",
        "      <td> Mozilla/5.0 (compatible; Googlebot/2.1; +http:...</td>\n",
        "      <td> 0.006</td>\n",
        "      <td> 66.249.77.249</td>\n",
        "      <td> 291</td>\n",
        "      <td> /tvshop/install?menu=sc_naver_ns_0302_994738&amp;c...</td>\n",
        "    </tr>\n",
        "    <tr>\n",
        "      <th>9992</th>\n",
        "      <td> 2014-07-06T16:17:28+09:00</td>\n",
        "      <td> Mozilla/5.0 (compatible; Googlebot/2.1; +http:...</td>\n",
        "      <td> 0.107</td>\n",
        "      <td> 66.249.77.249</td>\n",
        "      <td> 417</td>\n",
        "      <td> /i?id=1048692&amp;title=%EC%9E%A5%EC%84%B8%EC%88%9...</td>\n",
        "    </tr>\n",
        "    <tr>\n",
        "      <th>9993</th>\n",
        "      <td> 2014-07-06T16:16:23+09:00</td>\n",
        "      <td> Mozilla/5.0 (compatible; Googlebot/2.1; +http:...</td>\n",
        "      <td> 3.082</td>\n",
        "      <td> 66.249.77.249</td>\n",
        "      <td> 550</td>\n",
        "      <td> /api/reco/getlist?skin=tvshopweb%2F_skin_goods...</td>\n",
        "    </tr>\n",
        "    <tr>\n",
        "      <th>9994</th>\n",
        "      <td> 2014-07-06T16:16:07+09:00</td>\n",
        "      <td> Mozilla/5.0 (compatible; Googlebot/2.1; +http:...</td>\n",
        "      <td> 0.224</td>\n",
        "      <td> 66.249.77.249</td>\n",
        "      <td> 587</td>\n",
        "      <td> /api/reco/getlist?skin=tvshopweb%2F_skin_goods...</td>\n",
        "    </tr>\n",
        "    <tr>\n",
        "      <th>9995</th>\n",
        "      <td> 2014-07-06T16:15:48+09:00</td>\n",
        "      <td> Mozilla/5.0 (compatible; Googlebot/2.1; +http:...</td>\n",
        "      <td> 0.102</td>\n",
        "      <td> 66.249.77.249</td>\n",
        "      <td> 329</td>\n",
        "      <td> /i?menu=sc_tistory_ns_0507_1031823&amp;id=1031823&amp;...</td>\n",
        "    </tr>\n",
        "    <tr>\n",
        "      <th>9996</th>\n",
        "      <td> 2014-07-06T16:14:52+09:00</td>\n",
        "      <td> Mozilla/5.0 (compatible; Googlebot/2.1; +http:...</td>\n",
        "      <td> 0.006</td>\n",
        "      <td> 66.249.77.249</td>\n",
        "      <td> 294</td>\n",
        "      <td> /tvshop/install?menu=sc_tistory_cj_0705_106802...</td>\n",
        "    </tr>\n",
        "    <tr>\n",
        "      <th>9997</th>\n",
        "      <td> 2014-07-06T16:16:07+09:00</td>\n",
        "      <td> Mozilla/5.0 (compatible; Googlebot/2.1; +http:...</td>\n",
        "      <td> 2.567</td>\n",
        "      <td>  66.249.77.39</td>\n",
        "      <td> 644</td>\n",
        "      <td> /api/reco/getlist?skin=tvshopweb%2F_skin_goods...</td>\n",
        "    </tr>\n",
        "    <tr>\n",
        "      <th>9998</th>\n",
        "      <td> 2014-07-06T16:15:55+09:00</td>\n",
        "      <td> Mozilla/5.0 (compatible; Googlebot/2.1; +http:...</td>\n",
        "      <td> 0.011</td>\n",
        "      <td>  66.249.77.39</td>\n",
        "      <td> 294</td>\n",
        "      <td> /tvshop/install?menu=sc_tistory_cj_0705_106859...</td>\n",
        "    </tr>\n",
        "    <tr>\n",
        "      <th>9999</th>\n",
        "      <td> 2014-07-06T16:19:57+09:00</td>\n",
        "      <td> Mozilla/5.0 (compatible; Googlebot/2.1; +http:...</td>\n",
        "      <td> 0.108</td>\n",
        "      <td>  66.249.77.49</td>\n",
        "      <td> 329</td>\n",
        "      <td> /i?menu=sc_tistory_ns_0426_1026431&amp;id=1026431&amp;...</td>\n",
        "    </tr>\n",
        "  </tbody>\n",
        "</table>\n",
        "<p>10000 rows \u00d7 6 columns</p>\n",
        "</div>"
       ],
       "metadata": {},
       "output_type": "pyout",
       "prompt_number": 78,
       "text": [
        "                     @timestamp  \\\n",
        "0     2014-07-06T16:18:13+09:00   \n",
        "1     2014-07-06T16:18:13+09:00   \n",
        "2     2014-07-06T16:18:13+09:00   \n",
        "3     2014-07-06T16:18:12+09:00   \n",
        "4     2014-07-06T16:17:51+09:00   \n",
        "5     2014-07-06T16:17:51+09:00   \n",
        "6     2014-07-06T16:17:50+09:00   \n",
        "7     2014-07-06T16:17:50+09:00   \n",
        "8     2014-07-06T16:17:50+09:00   \n",
        "9     2014-07-06T16:17:50+09:00   \n",
        "10    2014-07-06T16:17:50+09:00   \n",
        "11    2014-07-06T16:17:50+09:00   \n",
        "12    2014-07-06T16:17:50+09:00   \n",
        "13    2014-07-06T16:17:49+09:00   \n",
        "14    2014-07-06T16:17:49+09:00   \n",
        "15    2014-07-06T16:17:49+09:00   \n",
        "16    2014-07-06T16:17:46+09:00   \n",
        "17    2014-07-06T16:20:07+09:00   \n",
        "18    2014-07-06T16:20:03+09:00   \n",
        "19    2014-07-06T16:20:00+09:00   \n",
        "20    2014-07-06T16:19:56+09:00   \n",
        "21    2014-07-06T16:19:54+09:00   \n",
        "22    2014-07-06T16:19:53+09:00   \n",
        "23    2014-07-06T16:19:50+09:00   \n",
        "24    2014-07-06T16:19:46+09:00   \n",
        "25    2014-07-06T16:19:44+09:00   \n",
        "26    2014-07-06T16:19:44+09:00   \n",
        "27    2014-07-06T16:19:44+09:00   \n",
        "28    2014-07-06T16:19:43+09:00   \n",
        "29    2014-07-06T16:19:43+09:00   \n",
        "...                         ...   \n",
        "9970  2014-07-06T16:19:38+09:00   \n",
        "9971  2014-07-06T16:19:34+09:00   \n",
        "9972  2014-07-06T16:19:31+09:00   \n",
        "9973  2014-07-06T16:19:28+09:00   \n",
        "9974  2014-07-06T16:19:25+09:00   \n",
        "9975  2014-07-06T16:19:25+09:00   \n",
        "9976  2014-07-06T16:19:24+09:00   \n",
        "9977  2014-07-06T16:19:24+09:00   \n",
        "9978  2014-07-06T16:19:24+09:00   \n",
        "9979  2014-07-06T16:19:24+09:00   \n",
        "9980  2014-07-06T16:19:24+09:00   \n",
        "9981  2014-07-06T16:19:23+09:00   \n",
        "9982  2014-07-06T16:19:22+09:00   \n",
        "9983  2014-07-06T16:15:40+09:00   \n",
        "9984  2014-07-06T16:15:37+09:00   \n",
        "9985  2014-07-06T16:15:34+09:00   \n",
        "9986  2014-07-06T16:17:29+09:00   \n",
        "9987  2014-07-06T16:19:07+09:00   \n",
        "9988  2014-07-06T16:18:17+09:00   \n",
        "9989  2014-07-06T16:14:59+09:00   \n",
        "9990  2014-07-06T16:16:38+09:00   \n",
        "9991  2014-07-06T16:19:10+09:00   \n",
        "9992  2014-07-06T16:17:28+09:00   \n",
        "9993  2014-07-06T16:16:23+09:00   \n",
        "9994  2014-07-06T16:16:07+09:00   \n",
        "9995  2014-07-06T16:15:48+09:00   \n",
        "9996  2014-07-06T16:14:52+09:00   \n",
        "9997  2014-07-06T16:16:07+09:00   \n",
        "9998  2014-07-06T16:15:55+09:00   \n",
        "9999  2014-07-06T16:19:57+09:00   \n",
        "\n",
        "                                                  agent duration  \\\n",
        "0                                                     -    0.000   \n",
        "1                                                     -    0.000   \n",
        "2                                                     -    0.000   \n",
        "3     Mozilla/5.0 (Linux; U; Android 4.1.2; ko-kr; I...    0.121   \n",
        "4     Mozilla/5.0 (Linux; U; Android 4.1.2; ko-kr; I...    0.527   \n",
        "5     Mozilla/5.0 (Linux; U; Android 4.1.2; ko-kr; I...    0.052   \n",
        "6     Mozilla/5.0 (Linux; U; Android 4.1.2; ko-kr; I...    0.040   \n",
        "7     Mozilla/5.0 (Linux; U; Android 4.1.2; ko-kr; I...    0.050   \n",
        "8     Mozilla/5.0 (Linux; U; Android 4.1.2; ko-kr; I...    0.011   \n",
        "9     Mozilla/5.0 (Linux; U; Android 4.1.2; ko-kr; I...    0.031   \n",
        "10    Mozilla/5.0 (Linux; U; Android 4.1.2; ko-kr; I...    0.037   \n",
        "11    Mozilla/5.0 (Linux; U; Android 4.1.2; ko-kr; I...    0.035   \n",
        "12    Mozilla/5.0 (Linux; U; Android 4.1.2; ko-kr; I...    0.028   \n",
        "13    Mozilla/5.0 (Linux; U; Android 4.1.2; ko-kr; I...    0.182   \n",
        "14    Mozilla/5.0 (Linux; U; Android 4.1.2; ko-kr; I...    0.052   \n",
        "15                                                    -    0.000   \n",
        "16    Mozilla/5.0 (Linux; U; Android 4.1.2; ko-kr; I...    0.063   \n",
        "17    Mozilla/5.0 (Linux; Android 4.4.2; SM-G900L Bu...    0.011   \n",
        "18    Mozilla/5.0 (Linux; Android 4.4.2; SM-G900L Bu...    0.010   \n",
        "19    Mozilla/5.0 (Linux; Android 4.4.2; SM-G900L Bu...    0.009   \n",
        "20    Mozilla/5.0 (Linux; Android 4.4.2; SM-G900L Bu...    0.011   \n",
        "21    Mozilla/5.0 (Linux; Android 4.4.2; SM-G900L Bu...    0.075   \n",
        "22    Mozilla/5.0 (Linux; Android 4.4.2; SM-G900L Bu...    0.009   \n",
        "23    Mozilla/5.0 (Linux; Android 4.4.2; SM-G900L Bu...    0.006   \n",
        "24    Mozilla/5.0 (Linux; Android 4.4.2; SM-G900L Bu...    0.010   \n",
        "25    Mozilla/5.0 (Linux; Android 4.4.2; SM-G900L Bu...    0.086   \n",
        "26    Mozilla/5.0 (Linux; Android 4.4.2; SM-G900L Bu...    0.175   \n",
        "27    Mozilla/5.0 (Linux; Android 4.4.2; SM-G900L Bu...    0.014   \n",
        "28    Mozilla/5.0 (Linux; Android 4.4.2; SM-G900L Bu...    0.088   \n",
        "29    Mozilla/5.0 (Linux; Android 4.4.2; SM-G900L Bu...    0.196   \n",
        "...                                                 ...      ...   \n",
        "9970  Mozilla/5.0 (Linux; U; Android 4.1.2; ko-kr; L...    0.009   \n",
        "9971  Mozilla/5.0 (Linux; U; Android 4.1.2; ko-kr; L...    0.005   \n",
        "9972  Mozilla/5.0 (Linux; U; Android 4.1.2; ko-kr; L...    0.012   \n",
        "9973  Mozilla/5.0 (Linux; U; Android 4.1.2; ko-kr; L...    0.007   \n",
        "9974  Mozilla/5.0 (Linux; U; Android 4.1.2; ko-kr; L...    0.045   \n",
        "9975  Mozilla/5.0 (Linux; U; Android 4.1.2; ko-kr; L...    0.009   \n",
        "9976  Mozilla/5.0 (Linux; U; Android 4.1.2; ko-kr; L...    0.108   \n",
        "9977  Mozilla/5.0 (Linux; U; Android 4.1.2; ko-kr; L...    0.186   \n",
        "9978  Mozilla/5.0 (Linux; U; Android 4.1.2; ko-kr; L...    0.512   \n",
        "9979  Mozilla/5.0 (Linux; U; Android 4.1.2; ko-kr; L...    0.058   \n",
        "9980  Mozilla/5.0 (Linux; U; Android 4.1.2; ko-kr; L...    0.200   \n",
        "9981  Mozilla/5.0 (Linux; U; Android 4.1.2; ko-kr; L...    0.029   \n",
        "9982  Mozilla/5.0 (Linux; U; Android 4.1.2; ko-kr; L...    0.219   \n",
        "9983  Mozilla/5.0 (Linux; Android 4.4.2; LG-F200S Bu...    0.006   \n",
        "9984  Mozilla/5.0 (Linux; Android 4.4.2; LG-F200S Bu...    0.009   \n",
        "9985  Mozilla/5.0 (Linux; Android 4.4.2; LG-F200S Bu...    0.006   \n",
        "9986  Mozilla/5.0 (compatible; Googlebot/2.1; +http:...    0.006   \n",
        "9987  Mozilla/5.0 (compatible; Googlebot/2.1; +http:...    0.126   \n",
        "9988  Mozilla/5.0 (compatible; Googlebot/2.1; +http:...    0.095   \n",
        "9989  Mozilla/5.0 (compatible; Googlebot/2.1; +http:...    0.149   \n",
        "9990  Mozilla/5.0 (compatible; Googlebot/2.1; +http:...    0.116   \n",
        "9991  Mozilla/5.0 (compatible; Googlebot/2.1; +http:...    0.006   \n",
        "9992  Mozilla/5.0 (compatible; Googlebot/2.1; +http:...    0.107   \n",
        "9993  Mozilla/5.0 (compatible; Googlebot/2.1; +http:...    3.082   \n",
        "9994  Mozilla/5.0 (compatible; Googlebot/2.1; +http:...    0.224   \n",
        "9995  Mozilla/5.0 (compatible; Googlebot/2.1; +http:...    0.102   \n",
        "9996  Mozilla/5.0 (compatible; Googlebot/2.1; +http:...    0.006   \n",
        "9997  Mozilla/5.0 (compatible; Googlebot/2.1; +http:...    2.567   \n",
        "9998  Mozilla/5.0 (compatible; Googlebot/2.1; +http:...    0.011   \n",
        "9999  Mozilla/5.0 (compatible; Googlebot/2.1; +http:...    0.108   \n",
        "\n",
        "               host size                                                url  \n",
        "0     1.176.107.234    0                                                  -  \n",
        "1     1.176.107.234    0                                                  -  \n",
        "2     1.176.107.234    0                                                  -  \n",
        "3     1.176.107.234  612         /ad/tab2?tab=2&title=&nav=hide&tabbar=show  \n",
        "4     1.176.107.234  622  /api/content/getlist?skin=skin%2F_skin_content...  \n",
        "5     1.176.107.234  646  /api/cmt/getlist?skin=skin%2F_skin_cmt_list&ac...  \n",
        "6     1.176.107.234  583  /api/product/getinfo?json=1&id=lwBcnnpVki&v=do...  \n",
        "7     1.176.107.234  667  /api/cmt/getlist?skin=skin%2F_skin_cmt_list&ac...  \n",
        "8     1.176.107.234  549  /stat/main?service=donmoa&v=donmoa19741&xid=q9...  \n",
        "9     1.176.107.234  777  /api/device/pushcode?device_code=df8391e8dc1ee...  \n",
        "10    1.176.107.234  658  /api/cmt/getlist?skin=skin%2F_skin_cmt_list&ac...  \n",
        "11    1.176.107.234  659  /api/content/getlist?skin=skin%2F_skin_content...  \n",
        "12    1.176.107.234  582  /api/content/actioninfo?json=1&id=192373&v=don...  \n",
        "13    1.176.107.234  939                                             /first  \n",
        "14    1.176.107.234  548                           /content/192373?nav=show  \n",
        "15    1.176.107.234    0                                                  -  \n",
        "16    1.176.107.234  594                           /content/192373?nav=show  \n",
        "17    1.176.136.206  485  /stat/swipe_main?v=tvshop105501&xid=VCXMs1HdD8...  \n",
        "18    1.176.136.206  480  /stat/swipe_main?v=tvshop189163&xid=VCXMs1HdD8...  \n",
        "19    1.176.136.206  480  /stat/swipe_main?v=tvshop550734&xid=VCXMs1HdD8...  \n",
        "20    1.176.136.206  480  /stat/swipe_main?v=tvshop521544&xid=VCXMs1HdD8...  \n",
        "21    1.176.136.206  610  /api/goods/getitemlist?v=tvshop717117&xid=VCXM...  \n",
        "22    1.176.136.206  480  /stat/swipe_main?v=tvshop654664&xid=VCXMs1HdD8...  \n",
        "23    1.176.136.206  480  /stat/swipe_main?v=tvshop416602&xid=VCXMs1HdD8...  \n",
        "24    1.176.136.206  480  /stat/swipe_main?v=tvshop298325&xid=VCXMs1HdD8...  \n",
        "25    1.176.136.206  515  /api/reco/recotodayadgoods?v=tvshop531515&xid=...  \n",
        "26    1.176.136.206  508  /api/user/istodaynewvisit?v=tvshop506571&xid=V...  \n",
        "27    1.176.136.206  485  /stat/recotodayall?v=tvshop53741&xid=VCXMs1HdD...  \n",
        "28    1.176.136.206  610  /api/goods/getitemlist?v=tvshop165874&xid=VCXM...  \n",
        "29    1.176.136.206  504  /api/user/istodaynewvisit?v=tvshop76211&xid=VC...  \n",
        "...             ...  ...                                                ...  \n",
        "9970  61.85.167.100  521  /stat/swipe_main?v=tvshop890670&xid=Dcv7oXmrAU...  \n",
        "9971  61.85.167.100  521  /stat/swipe_main?v=tvshop431670&xid=Dcv7oXmrAU...  \n",
        "9972  61.85.167.100  521  /stat/swipe_main?v=tvshop180505&xid=Dcv7oXmrAU...  \n",
        "9973  61.85.167.100  521  /stat/swipe_main?v=tvshop967923&xid=Dcv7oXmrAU...  \n",
        "9974  61.85.167.100  556  /api/reco/recotodayadgoods?v=tvshop228802&xid=...  \n",
        "9975  61.85.167.100  527  /stat/recotodayall?v=tvshop928614&xid=Dcv7oXmr...  \n",
        "9976  61.85.167.100  651  /api/goods/getitemlist?v=tvshop466124&xid=Dcv7...  \n",
        "9977  61.85.167.100  592  /api/user/istodaynewvisit?v=tvshop585839&xid=D...  \n",
        "9978  61.85.167.100  572  /api/search/getrecokeyword?v=tvshop984883&xid=...  \n",
        "9979  61.85.167.100  569  /api/goods/getvideoinfo?v=tvshop240565&xid=Dcv...  \n",
        "9980  61.85.167.100  549  /api/user/istodaynewvisit?v=tvshop799525&xid=D...  \n",
        "9981  61.85.167.100  813  /api/device/pushcode?v=tvshop245678&xid=Dcv7oX...  \n",
        "9982  61.85.167.100  944                                             /first  \n",
        "9983   61.85.43.251  489  /stat/swipe_main?v=tvshop507440&xid=tKrfBTEdy8...  \n",
        "9984   61.85.43.251  488  /stat/swipe_main?v=tvshop50890&xid=tKrfBTEdy8&...  \n",
        "9985   61.85.43.251  489  /stat/swipe_main?v=tvshop422581&xid=tKrfBTEdy8...  \n",
        "9986  66.249.74.198  293  /tvshop/install?menu=ps_tistory_cj_0701_106499...  \n",
        "9987  66.249.77.227  326  /i?id=1002996&menu=ps_tistory_gs_0319_1002996&...  \n",
        "9988  66.249.77.237  326  /i?id=1002848&menu=ps_tistory_lo_0318_1002848&...  \n",
        "9989  66.249.77.237  326  /i?id=1035683&menu=ps_tistory_gs_0518_1035683&...  \n",
        "9990  66.249.77.247  326  /i?id=1000183&menu=ps_tistory_lo_0317_1000183&...  \n",
        "9991  66.249.77.249  291  /tvshop/install?menu=sc_naver_ns_0302_994738&c...  \n",
        "9992  66.249.77.249  417  /i?id=1048692&title=%EC%9E%A5%EC%84%B8%EC%88%9...  \n",
        "9993  66.249.77.249  550  /api/reco/getlist?skin=tvshopweb%2F_skin_goods...  \n",
        "9994  66.249.77.249  587  /api/reco/getlist?skin=tvshopweb%2F_skin_goods...  \n",
        "9995  66.249.77.249  329  /i?menu=sc_tistory_ns_0507_1031823&id=1031823&...  \n",
        "9996  66.249.77.249  294  /tvshop/install?menu=sc_tistory_cj_0705_106802...  \n",
        "9997   66.249.77.39  644  /api/reco/getlist?skin=tvshopweb%2F_skin_goods...  \n",
        "9998   66.249.77.39  294  /tvshop/install?menu=sc_tistory_cj_0705_106859...  \n",
        "9999   66.249.77.49  329  /i?menu=sc_tistory_ns_0426_1026431&id=1026431&...  \n",
        "\n",
        "[10000 rows x 6 columns]"
       ]
      }
     ],
     "prompt_number": 78
    },
    {
     "cell_type": "code",
     "collapsed": false,
     "input": [
      "sorted_df['@timestamp'][1]"
     ],
     "language": "python",
     "metadata": {},
     "outputs": [
      {
       "metadata": {},
       "output_type": "pyout",
       "prompt_number": 79,
       "text": [
        "u'2014-07-06T16:18:13+09:00'"
       ]
      }
     ],
     "prompt_number": 79
    },
    {
     "cell_type": "code",
     "collapsed": false,
     "input": [
      "# Quiz3 Answer\n",
      "ip = url = ''\n",
      "class user:\n",
      "    ip = ''\n",
      "    url = ''\n",
      "userInfo = []\n",
      "# find uniqueness   \n",
      "for i in range(len(sorted_df)):\n",
      "    if ip != sorted_df['host'][i]:\n",
      "        ip = sorted_df['host'][i] # save unique ip\n",
      "        temp = user()\n",
      "        temp.ip = sorted_df['host'][i]# save user ip\n",
      "        temp.url= sorted_df['url'][i] # save first url\n",
      "        userInfo.append(temp) # append it into a list\n",
      "\n",
      "# arrange url\n",
      "for i in range(len(userInfo)):\n",
      "    tempURL = userInfo[i].url\n",
      "    userInfo[i].url = tempURL[:tempURL.find('?')]\n",
      "    #print userInfo[i].ip + ':' + userInfo[i].url\n",
      "\n",
      "\n",
      "#print pd.DataFrame(userInfo).stack().value_counts()\n",
      "exitURL = []\n",
      "for i in range(len(userInfo)):\n",
      "    exitURL.append(userInfo[i].url)\n",
      "print pd.DataFrame(exitURL).stack().value_counts()"
     ],
     "language": "python",
     "metadata": {},
     "outputs": [
      {
       "output_type": "stream",
       "stream": "stdout",
       "text": [
        "                                      94\n",
        "/stat/swipe_main                      69\n",
        "/api/goods/getitemlist                69\n",
        "/stat/entity                          30\n",
        "/stat/search/goods/meta               22\n",
        "/api/search/goodssmartsearch          20\n",
        "/api/cmt/getlist                      18\n",
        "/api/entity/actioninfo                15\n",
        "/api/content/getlist                  15\n",
        "/api/goodsviewlog/add                 12\n",
        "/i                                     7\n",
        "/api/search/goodssearch                6\n",
        "/item                                  5\n",
        "/api/search/getrecokeyword             5\n",
        "/tvshop/install                        5\n",
        "/api/content/actioninfo                5\n",
        "/api/rank/getlist                      5\n",
        "/stat/special/goods                    4\n",
        "/stat/mobiledownload                   4\n",
        "/api/rewardapply/lotto                 4\n",
        "/api/device/pushcode                   3\n",
        "/stat/nextday                          3\n",
        "/ad/tab2                               3\n",
        "/firs                                  3\n",
        "/api/goods/savequery                   3\n",
        "/api/user/istodaynewvisit              3\n",
        "/api/reco/recotodayadgoods             2\n",
        "/api/like/add                          2\n",
        "/api/search/queryinfo                  2\n",
        "/users/_update                         2\n",
        "/api/reco/getlist                      2\n",
        "/api/opn/cloud                         2\n",
        "/api/rewardapply/add                   2\n",
        "/tvshop                                2\n",
        "/url                                   2\n",
        "/pu/1205397                            1\n",
        "/tvshop/call                           1\n",
        "/api/goods/getcatenum                  1\n",
        "/content/223433                        1\n",
        "/api/user/sendphonecodeintoday         1\n",
        "/api/favoproudctview/getfavolist       1\n",
        "/tvshop/tab10                          1\n",
        "/api/reward/getlist                    1\n",
        "/item/alarm                            1\n",
        "/chip/layer                            1\n",
        "/life                                  1\n",
        "/api/goods/getvideoinfo                1\n",
        "/stat/recotodayall                     1\n",
        "/tnk_rewar                             1\n",
        "/stat/liveplay                         1\n",
        "/chip                                  1\n",
        "/point/history                         1\n",
        "/api/alarmoption/add                   1\n",
        "/select/name                           1\n",
        "/api/rewardapply/createforentityid     1\n",
        "/tvshop/tab9                           1\n",
        "Length: 56, dtype: int64\n"
       ]
      }
     ],
     "prompt_number": 80
    },
    {
     "cell_type": "code",
     "collapsed": false,
     "input": [],
     "language": "python",
     "metadata": {},
     "outputs": [],
     "prompt_number": 80
    },
    {
     "cell_type": "code",
     "collapsed": false,
     "input": [],
     "language": "python",
     "metadata": {},
     "outputs": []
    }
   ],
   "metadata": {}
  }
 ]
}