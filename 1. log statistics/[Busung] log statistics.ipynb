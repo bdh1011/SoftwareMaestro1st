{
 "metadata": {
  "name": "",
  "signature": "sha256:c7f6c961f9f895ab1560147e2a98780bd38c58b055ae463dc13281dd74f0133c"
 },
 "nbformat": 3,
 "nbformat_minor": 0,
 "worksheets": [
  {
   "cells": [
    {
     "cell_type": "code",
     "collapsed": false,
     "input": [
      "from elasticutils import get_es, S"
     ],
     "language": "python",
     "metadata": {},
     "outputs": [],
     "prompt_number": 93
    },
    {
     "cell_type": "code",
     "collapsed": false,
     "input": [
      "URL = \"http://localhost:9200\""
     ],
     "language": "python",
     "metadata": {},
     "outputs": [],
     "prompt_number": 94
    },
    {
     "cell_type": "code",
     "collapsed": false,
     "input": [
      "INDEX = \"logstash-2014.07.06\""
     ],
     "language": "python",
     "metadata": {},
     "outputs": [],
     "prompt_number": 95
    },
    {
     "cell_type": "code",
     "collapsed": false,
     "input": [
      "_es = S().es(urls=[URL]).indexes(INDEX)"
     ],
     "language": "python",
     "metadata": {},
     "outputs": [],
     "prompt_number": 96
    },
    {
     "cell_type": "code",
     "collapsed": false,
     "input": [
      "_es.count()"
     ],
     "language": "python",
     "metadata": {},
     "outputs": [
      {
       "metadata": {},
       "output_type": "pyout",
       "prompt_number": 97,
       "text": [
        "10000"
       ]
      }
     ],
     "prompt_number": 97
    },
    {
     "cell_type": "code",
     "collapsed": false,
     "input": [
      "data_list = []\n",
      "_es.start = 0\n",
      "_es.stop = 100000\n"
     ],
     "language": "python",
     "metadata": {},
     "outputs": [],
     "prompt_number": 98
    },
    {
     "cell_type": "code",
     "collapsed": false,
     "input": [
      "for item in _es.execute():\n",
      "    data_list.append(item._results_dict)"
     ],
     "language": "python",
     "metadata": {},
     "outputs": [],
     "prompt_number": 99
    },
    {
     "cell_type": "code",
     "collapsed": false,
     "input": [
      "print len(data_list)"
     ],
     "language": "python",
     "metadata": {},
     "outputs": [
      {
       "output_type": "stream",
       "stream": "stdout",
       "text": [
        "10000\n"
       ]
      }
     ],
     "prompt_number": 100
    },
    {
     "cell_type": "code",
     "collapsed": false,
     "input": [
      "import pandas as pd"
     ],
     "language": "python",
     "metadata": {},
     "outputs": [],
     "prompt_number": 101
    },
    {
     "cell_type": "code",
     "collapsed": false,
     "input": [
      "df = pd.DataFrame(data_list)"
     ],
     "language": "python",
     "metadata": {},
     "outputs": [],
     "prompt_number": 102
    },
    {
     "cell_type": "code",
     "collapsed": false,
     "input": [
      "df"
     ],
     "language": "python",
     "metadata": {},
     "outputs": [
      {
       "html": [
        "<div style=\"max-height:1000px;max-width:1500px;overflow:auto;\">\n",
        "<table border=\"1\" class=\"dataframe\">\n",
        "  <thead>\n",
        "    <tr style=\"text-align: right;\">\n",
        "      <th></th>\n",
        "      <th>@timestamp</th>\n",
        "      <th>agent</th>\n",
        "      <th>duration</th>\n",
        "      <th>host</th>\n",
        "      <th>size</th>\n",
        "      <th>url</th>\n",
        "    </tr>\n",
        "  </thead>\n",
        "  <tbody>\n",
        "    <tr>\n",
        "      <th>0   </th>\n",
        "      <td> 2014-07-06T16:14:12+09:00</td>\n",
        "      <td> Mozilla/5.0 (Linux; U; Android 2.3.6; ko-kr; S...</td>\n",
        "      <td> 0.006</td>\n",
        "      <td>   119.70.27.162</td>\n",
        "      <td>  493</td>\n",
        "      <td> /stat/swipe_main?v=tvshop759418&amp;xid=upYqq7IOWG...</td>\n",
        "    </tr>\n",
        "    <tr>\n",
        "      <th>1   </th>\n",
        "      <td> 2014-07-06T16:14:12+09:00</td>\n",
        "      <td> Mozilla/5.0 (Linux; U; Android 4.0.4; ko-kr; S...</td>\n",
        "      <td> 0.005</td>\n",
        "      <td>   119.195.17.74</td>\n",
        "      <td>  578</td>\n",
        "      <td> /stat/swipe_main?v=tvshop238487&amp;xid=O4CRHhoFyA...</td>\n",
        "    </tr>\n",
        "    <tr>\n",
        "      <th>2   </th>\n",
        "      <td> 2014-07-06T16:14:12+09:00</td>\n",
        "      <td> Mozilla/5.0 (Linux; U; Android 4.3; ko-kr; SHV...</td>\n",
        "      <td> 0.111</td>\n",
        "      <td>    61.79.55.195</td>\n",
        "      <td>  618</td>\n",
        "      <td> /api/rewardapply/todayvisitreward?json=1&amp;v=don...</td>\n",
        "    </tr>\n",
        "    <tr>\n",
        "      <th>3   </th>\n",
        "      <td> 2014-07-06T16:14:12+09:00</td>\n",
        "      <td> Mozilla/5.0 (iPad; CPU OS 7_1_1 like Mac OS X)...</td>\n",
        "      <td> 0.009</td>\n",
        "      <td>    211.59.21.43</td>\n",
        "      <td>  429</td>\n",
        "      <td> /stat/swipe_main?v=tvshop48925&amp;xid=StJ825u8Rj&amp;...</td>\n",
        "    </tr>\n",
        "    <tr>\n",
        "      <th>4   </th>\n",
        "      <td> 2014-07-06T16:14:12+09:00</td>\n",
        "      <td> Mozilla/5.0 (Linux; U; Android 4.3; ko-kr; SHV...</td>\n",
        "      <td> 0.118</td>\n",
        "      <td>    61.79.55.195</td>\n",
        "      <td>  661</td>\n",
        "      <td> /chip?title=%ED%99%A9%EA%B8%88%EC%83%81%EC%9E%...</td>\n",
        "    </tr>\n",
        "    <tr>\n",
        "      <th>5   </th>\n",
        "      <td> 2014-07-06T16:14:12+09:00</td>\n",
        "      <td> Mozilla/5.0 (Linux; U; Android 4.0.4; ko-kr; S...</td>\n",
        "      <td> 0.025</td>\n",
        "      <td>   61.81.119.250</td>\n",
        "      <td>  758</td>\n",
        "      <td> /api/content/actioninfo?json=1&amp;id=229622&amp;v=adm...</td>\n",
        "    </tr>\n",
        "    <tr>\n",
        "      <th>6   </th>\n",
        "      <td> 2014-07-06T16:14:13+09:00</td>\n",
        "      <td> Mozilla/5.0 (Linux; U; Android 4.3; ko-kr; SHV...</td>\n",
        "      <td> 0.057</td>\n",
        "      <td>  122.35.171.144</td>\n",
        "      <td>  615</td>\n",
        "      <td> /content/229628?title=%EC%B4%9D%EC%95%8C%ED%94...</td>\n",
        "    </tr>\n",
        "    <tr>\n",
        "      <th>7   </th>\n",
        "      <td> 2014-07-06T16:14:13+09:00</td>\n",
        "      <td> Mozilla/5.0 (Linux; U; Android 4.3; ko-kr; SHV...</td>\n",
        "      <td> 0.023</td>\n",
        "      <td>   39.114.56.157</td>\n",
        "      <td>  614</td>\n",
        "      <td> /api/opn/cloudstat?v=tvshop503179&amp;xid=Wg0sGefq...</td>\n",
        "    </tr>\n",
        "    <tr>\n",
        "      <th>8   </th>\n",
        "      <td> 2014-07-06T16:14:13+09:00</td>\n",
        "      <td> Mozilla/5.0 (Linux; U; Android 4.3; ko-kr; SHV...</td>\n",
        "      <td> 0.021</td>\n",
        "      <td>   39.114.56.157</td>\n",
        "      <td>  579</td>\n",
        "      <td> /api/entity/actioninfo?v=tvshop687329&amp;xid=Wg0s...</td>\n",
        "    </tr>\n",
        "    <tr>\n",
        "      <th>9   </th>\n",
        "      <td> 2014-07-06T16:14:13+09:00</td>\n",
        "      <td> Mozilla/5.0 (Linux; U; Android 4.3; ko-kr; SHV...</td>\n",
        "      <td> 0.027</td>\n",
        "      <td>   39.114.56.157</td>\n",
        "      <td>  577</td>\n",
        "      <td> /api/goodsviewlog/add?v=tvshop75734&amp;xid=Wg0sGe...</td>\n",
        "    </tr>\n",
        "    <tr>\n",
        "      <th>10  </th>\n",
        "      <td> 2014-07-06T16:14:14+09:00</td>\n",
        "      <td> Mozilla/5.0 (Linux; U; Android 4.0.3; ko-kr; S...</td>\n",
        "      <td> 0.010</td>\n",
        "      <td> 122.252.126.234</td>\n",
        "      <td>  638</td>\n",
        "      <td> /chip/layer?title=%ED%99%A9%EA%B8%88%EC%83%81%...</td>\n",
        "    </tr>\n",
        "    <tr>\n",
        "      <th>11  </th>\n",
        "      <td> 2014-07-06T16:14:14+09:00</td>\n",
        "      <td> Mozilla/5.0 (Linux; U; Android 4.1.2; ko-kr; I...</td>\n",
        "      <td> 0.010</td>\n",
        "      <td>  182.210.82.211</td>\n",
        "      <td>  520</td>\n",
        "      <td> /stat/swipe_main?v=tvshop45818&amp;xid=UdO9Shn4fb&amp;...</td>\n",
        "    </tr>\n",
        "    <tr>\n",
        "      <th>12  </th>\n",
        "      <td> 2014-07-06T16:14:14+09:00</td>\n",
        "      <td> Mozilla/5.0 (Linux; U; Android 4.3; ko-kr; SHV...</td>\n",
        "      <td> 0.028</td>\n",
        "      <td>   39.114.56.157</td>\n",
        "      <td>  614</td>\n",
        "      <td> /api/opn/cloudstat?v=tvshop495504&amp;xid=Wg0sGefq...</td>\n",
        "    </tr>\n",
        "    <tr>\n",
        "      <th>13  </th>\n",
        "      <td> 2014-07-06T16:14:14+09:00</td>\n",
        "      <td> Mozilla/5.0 (Linux; U; Android 4.3; ko-kr; SM-...</td>\n",
        "      <td> 0.151</td>\n",
        "      <td>      39.7.45.92</td>\n",
        "      <td>  649</td>\n",
        "      <td> /api/goods/getitemlist?v=tvshop576550&amp;xid=SD7G...</td>\n",
        "    </tr>\n",
        "    <tr>\n",
        "      <th>14  </th>\n",
        "      <td> 2014-07-06T16:14:14+09:00</td>\n",
        "      <td> Mozilla/5.0 (Linux; U; Android 4.3; ko-kr; SHV...</td>\n",
        "      <td> 0.006</td>\n",
        "      <td>  211.36.141.103</td>\n",
        "      <td>  551</td>\n",
        "      <td> /stat/nextday?v=tvshop173197&amp;xid=gpb8Irvtgf&amp;ne...</td>\n",
        "    </tr>\n",
        "    <tr>\n",
        "      <th>15  </th>\n",
        "      <td> 2014-07-06T16:14:14+09:00</td>\n",
        "      <td> Mozilla/5.0 (Linux; U; Android 4.3; ko-kr; SHV...</td>\n",
        "      <td> 0.226</td>\n",
        "      <td>  115.95.181.165</td>\n",
        "      <td> 1128</td>\n",
        "      <td>                                            /first</td>\n",
        "    </tr>\n",
        "    <tr>\n",
        "      <th>16  </th>\n",
        "      <td> 2014-07-06T16:14:14+09:00</td>\n",
        "      <td> Mozilla/5.0 (Linux; U; Android 4.1.2; ko-kr; L...</td>\n",
        "      <td> 0.006</td>\n",
        "      <td>    1.231.93.245</td>\n",
        "      <td>  547</td>\n",
        "      <td> /stat/swipe_main?v=tvshop63103&amp;xid=PasiAcMgbt&amp;...</td>\n",
        "    </tr>\n",
        "    <tr>\n",
        "      <th>17  </th>\n",
        "      <td> 2014-07-06T16:14:14+09:00</td>\n",
        "      <td> Mozilla/5.0 (Linux; U; Android 4.2.2; ko-kr; S...</td>\n",
        "      <td> 0.020</td>\n",
        "      <td>  223.33.153.112</td>\n",
        "      <td>  773</td>\n",
        "      <td> /api/device/pushcode?device_code=b889b4c372662...</td>\n",
        "    </tr>\n",
        "    <tr>\n",
        "      <th>18  </th>\n",
        "      <td> 2014-07-06T16:14:15+09:00</td>\n",
        "      <td> Mozilla/5.0 (Linux; Android 4.4.2; LG-F320K Bu...</td>\n",
        "      <td> 0.191</td>\n",
        "      <td>   210.121.110.6</td>\n",
        "      <td> 1108</td>\n",
        "      <td>                                            /first</td>\n",
        "    </tr>\n",
        "    <tr>\n",
        "      <th>19  </th>\n",
        "      <td> 2014-07-06T16:14:15+09:00</td>\n",
        "      <td> Mozilla/5.0 (Linux; U; Android 4.3; ko-kr; SHV...</td>\n",
        "      <td> 0.178</td>\n",
        "      <td>  211.36.141.103</td>\n",
        "      <td>  650</td>\n",
        "      <td> /api/goods/getitemlist?v=tvshop692583&amp;xid=gpb8...</td>\n",
        "    </tr>\n",
        "    <tr>\n",
        "      <th>20  </th>\n",
        "      <td> 2014-07-06T16:14:15+09:00</td>\n",
        "      <td> Mozilla/5.0 (Linux; U; Android 4.2.2; ko-kr; S...</td>\n",
        "      <td> 0.085</td>\n",
        "      <td>   121.159.85.97</td>\n",
        "      <td>  609</td>\n",
        "      <td>                                    /tvshop/mobile</td>\n",
        "    </tr>\n",
        "    <tr>\n",
        "      <th>21  </th>\n",
        "      <td> 2014-07-06T16:14:15+09:00</td>\n",
        "      <td> Mozilla/5.0 (Linux; Android 4.4.2; SHV-E300K B...</td>\n",
        "      <td> 0.061</td>\n",
        "      <td>   59.16.200.109</td>\n",
        "      <td>  611</td>\n",
        "      <td> /api/goods/getitemlist?v=tvshop843705&amp;xid=I2T8...</td>\n",
        "    </tr>\n",
        "    <tr>\n",
        "      <th>22  </th>\n",
        "      <td> 2014-07-06T16:14:15+09:00</td>\n",
        "      <td> Mozilla/5.0 (Linux; U; Android 4.1.2; ko-kr; S...</td>\n",
        "      <td> 0.025</td>\n",
        "      <td>   223.62.190.72</td>\n",
        "      <td>  849</td>\n",
        "      <td> /api/goodsviewlog/add?v=tvshop749443&amp;xid=sFnWM...</td>\n",
        "    </tr>\n",
        "    <tr>\n",
        "      <th>23  </th>\n",
        "      <td> 2014-07-06T16:14:15+09:00</td>\n",
        "      <td> Mozilla/5.0 (Linux; Android 4.4.2; IM-A890K Bu...</td>\n",
        "      <td> 0.022</td>\n",
        "      <td> 112.162.108.156</td>\n",
        "      <td>  696</td>\n",
        "      <td> /api/content/actioninfo?json=1&amp;id=229592&amp;v=don...</td>\n",
        "    </tr>\n",
        "    <tr>\n",
        "      <th>24  </th>\n",
        "      <td> 2014-07-06T16:14:15+09:00</td>\n",
        "      <td> Mozilla/5.0 (Linux; U; Android 4.3; ko-kr; SM-...</td>\n",
        "      <td> 0.088</td>\n",
        "      <td>      39.7.45.92</td>\n",
        "      <td>  649</td>\n",
        "      <td> /api/goods/getitemlist?v=tvshop293405&amp;xid=SD7G...</td>\n",
        "    </tr>\n",
        "    <tr>\n",
        "      <th>25  </th>\n",
        "      <td> 2014-07-06T16:14:15+09:00</td>\n",
        "      <td> Mozilla/5.0 (Linux; U; Android 4.3; ko-kr; SHV...</td>\n",
        "      <td> 0.163</td>\n",
        "      <td>    223.62.203.5</td>\n",
        "      <td>  650</td>\n",
        "      <td> /api/goods/getitemlist?v=tvshop817321&amp;xid=qNQj...</td>\n",
        "    </tr>\n",
        "    <tr>\n",
        "      <th>26  </th>\n",
        "      <td> 2014-07-06T16:14:16+09:00</td>\n",
        "      <td> Mozilla/5.0 (Linux; Android 4.4.2; SM-N900K Bu...</td>\n",
        "      <td> 0.006</td>\n",
        "      <td>    14.38.191.53</td>\n",
        "      <td>  480</td>\n",
        "      <td> /stat/swipe_main?v=tvshop304437&amp;xid=xARgfQa7aN...</td>\n",
        "    </tr>\n",
        "    <tr>\n",
        "      <th>27  </th>\n",
        "      <td> 2014-07-06T16:14:16+09:00</td>\n",
        "      <td> Mozilla/5.0 (Linux; U; Android 4.2.2; ko-kr; S...</td>\n",
        "      <td> 0.140</td>\n",
        "      <td>   121.159.85.97</td>\n",
        "      <td>  643</td>\n",
        "      <td> /api/goods/getitemlist?skin=tvshopweb%2F_skin_...</td>\n",
        "    </tr>\n",
        "    <tr>\n",
        "      <th>28  </th>\n",
        "      <td> 2014-07-06T16:14:16+09:00</td>\n",
        "      <td> Mozilla/5.0 (Linux; Android 4.4.2; IM-A890K Bu...</td>\n",
        "      <td> 0.087</td>\n",
        "      <td> 112.162.108.156</td>\n",
        "      <td>  760</td>\n",
        "      <td> /api/cmt/getlist?skin=skin%2F_skin_cmt_list&amp;ac...</td>\n",
        "    </tr>\n",
        "    <tr>\n",
        "      <th>29  </th>\n",
        "      <td> 2014-07-06T16:14:16+09:00</td>\n",
        "      <td> Mozilla/5.0 (Linux; Android 4.4.2; SHV-E300S B...</td>\n",
        "      <td> 0.011</td>\n",
        "      <td>  119.207.234.82</td>\n",
        "      <td>  514</td>\n",
        "      <td> /stat/swipe_main?v=tvshop250086&amp;xid=E1QHVehi3k...</td>\n",
        "    </tr>\n",
        "    <tr>\n",
        "      <th>...</th>\n",
        "      <td>...</td>\n",
        "      <td>...</td>\n",
        "      <td>...</td>\n",
        "      <td>...</td>\n",
        "      <td>...</td>\n",
        "      <td>...</td>\n",
        "    </tr>\n",
        "    <tr>\n",
        "      <th>9970</th>\n",
        "      <td> 2014-07-06T16:20:02+09:00</td>\n",
        "      <td>                                                 -</td>\n",
        "      <td> 0.000</td>\n",
        "      <td>  116.121.136.79</td>\n",
        "      <td>    0</td>\n",
        "      <td>                                                 -</td>\n",
        "    </tr>\n",
        "    <tr>\n",
        "      <th>9971</th>\n",
        "      <td> 2014-07-06T16:20:02+09:00</td>\n",
        "      <td>                                                 -</td>\n",
        "      <td> 0.000</td>\n",
        "      <td>  116.121.136.79</td>\n",
        "      <td>    0</td>\n",
        "      <td>                                                 -</td>\n",
        "    </tr>\n",
        "    <tr>\n",
        "      <th>9972</th>\n",
        "      <td> 2014-07-06T16:20:02+09:00</td>\n",
        "      <td> Mozilla/5.0 (Linux; U; Android 4.1.2; ko-kr; I...</td>\n",
        "      <td> 0.008</td>\n",
        "      <td>  116.121.136.79</td>\n",
        "      <td>  748</td>\n",
        "      <td> /select/cate?title=%EC%83%81%ED%92%88%20%EC%B9...</td>\n",
        "    </tr>\n",
        "    <tr>\n",
        "      <th>9973</th>\n",
        "      <td> 2014-07-06T16:20:02+09:00</td>\n",
        "      <td> Mozilla/5.0 (Linux; U; Android 4.1.2; ko-kr; I...</td>\n",
        "      <td> 0.180</td>\n",
        "      <td>  175.118.68.138</td>\n",
        "      <td>  592</td>\n",
        "      <td> /api/user/istodaynewvisit?v=tvshop423715&amp;xid=h...</td>\n",
        "    </tr>\n",
        "    <tr>\n",
        "      <th>9974</th>\n",
        "      <td> 2014-07-06T16:20:02+09:00</td>\n",
        "      <td> Mozilla/5.0 (Linux; U; Android 4.1.1; ko-kr; N...</td>\n",
        "      <td> 0.013</td>\n",
        "      <td> 117.123.131.238</td>\n",
        "      <td>  621</td>\n",
        "      <td> /stat/entity?v=tvshop286285&amp;xid=WrPYoTP2op&amp;ent...</td>\n",
        "    </tr>\n",
        "    <tr>\n",
        "      <th>9975</th>\n",
        "      <td> 2014-07-06T16:20:03+09:00</td>\n",
        "      <td> Mozilla/5.0 (Linux; U; Android 2.3.4; ko-kr; S...</td>\n",
        "      <td> 0.031</td>\n",
        "      <td>   14.45.208.136</td>\n",
        "      <td>  744</td>\n",
        "      <td> /api/content/getlist?skin=skin%2F_skin_content...</td>\n",
        "    </tr>\n",
        "    <tr>\n",
        "      <th>9976</th>\n",
        "      <td> 2014-07-06T16:20:03+09:00</td>\n",
        "      <td> Mozilla/5.0 (Linux; U; Android 4.2.2; ko-kr; S...</td>\n",
        "      <td> 0.011</td>\n",
        "      <td>  211.186.80.151</td>\n",
        "      <td>  977</td>\n",
        "      <td> /stat/search/goods/meta?v=tvshop767031&amp;xid=73G...</td>\n",
        "    </tr>\n",
        "    <tr>\n",
        "      <th>9977</th>\n",
        "      <td> 2014-07-06T16:20:03+09:00</td>\n",
        "      <td> python-requests/1.2.0 CPython/2.7.3 Linux/3.2....</td>\n",
        "      <td> 0.087</td>\n",
        "      <td>  121.78.146.137</td>\n",
        "      <td>  542</td>\n",
        "      <td> /item?title=%EC%98%A4%EB%85%B8%EB%9D%BC%EB%9D%...</td>\n",
        "    </tr>\n",
        "    <tr>\n",
        "      <th>9978</th>\n",
        "      <td> 2014-07-06T16:20:03+09:00</td>\n",
        "      <td> Mozilla/5.0 (Linux; Android 4.4.2; SHV-E330S B...</td>\n",
        "      <td> 0.009</td>\n",
        "      <td>   223.62.188.50</td>\n",
        "      <td>  480</td>\n",
        "      <td> /stat/swipe_main?v=tvshop51084&amp;xid=ZsUr1J4w8x&amp;...</td>\n",
        "    </tr>\n",
        "    <tr>\n",
        "      <th>9979</th>\n",
        "      <td> 2014-07-06T16:20:04+09:00</td>\n",
        "      <td> Mozilla/5.0 (Linux; Android 4.4.2; SM-N900K Bu...</td>\n",
        "      <td> 0.063</td>\n",
        "      <td>    110.70.55.52</td>\n",
        "      <td>  842</td>\n",
        "      <td> /api/search/goodssmartsearch?v=tvshop665505&amp;xi...</td>\n",
        "    </tr>\n",
        "    <tr>\n",
        "      <th>9980</th>\n",
        "      <td> 2014-07-06T16:20:04+09:00</td>\n",
        "      <td> Mozilla/5.0 (Linux; Android 4.4.2; SM-N900K Bu...</td>\n",
        "      <td> 0.074</td>\n",
        "      <td>    110.70.55.52</td>\n",
        "      <td>  842</td>\n",
        "      <td> /api/search/goodssmartsearch?v=tvshop344711&amp;xi...</td>\n",
        "    </tr>\n",
        "    <tr>\n",
        "      <th>9981</th>\n",
        "      <td> 2014-07-06T16:20:04+09:00</td>\n",
        "      <td> Mozilla/5.0 (Linux; U; Android 4.1.2; ko-kr; L...</td>\n",
        "      <td> 0.109</td>\n",
        "      <td>    117.111.8.79</td>\n",
        "      <td>  651</td>\n",
        "      <td> /api/goods/getitemlist?v=tvshop686038&amp;xid=9u87...</td>\n",
        "    </tr>\n",
        "    <tr>\n",
        "      <th>9982</th>\n",
        "      <td> 2014-07-06T16:20:05+09:00</td>\n",
        "      <td> Mozilla/5.0 (Linux; U; Android 4.1.2; ko-kr; I...</td>\n",
        "      <td> 0.055</td>\n",
        "      <td>  175.118.68.138</td>\n",
        "      <td>  703</td>\n",
        "      <td> /item?entity_id=1067555&amp;nav=show&amp;tabbar=hide&amp;m...</td>\n",
        "    </tr>\n",
        "    <tr>\n",
        "      <th>9983</th>\n",
        "      <td> 2014-07-06T16:20:05+09:00</td>\n",
        "      <td> Mozilla/5.0 (Linux; Android 4.4.2; SM-N9005 Bu...</td>\n",
        "      <td> 0.013</td>\n",
        "      <td> 218.212.233.252</td>\n",
        "      <td>  640</td>\n",
        "      <td> /item/search?title=%EC%83%81%ED%92%88%EA%B2%80...</td>\n",
        "    </tr>\n",
        "    <tr>\n",
        "      <th>9984</th>\n",
        "      <td> 2014-07-06T16:20:05+09:00</td>\n",
        "      <td> Mozilla/5.0 (Windows NT 6.1; Trident/7.0; rv:1...</td>\n",
        "      <td> 0.140</td>\n",
        "      <td> 121.174.215.139</td>\n",
        "      <td>  505</td>\n",
        "      <td> /api/goods/getitemlist?v=web21648&amp;xid=&amp;skin=we...</td>\n",
        "    </tr>\n",
        "    <tr>\n",
        "      <th>9985</th>\n",
        "      <td> 2014-07-06T16:20:05+09:00</td>\n",
        "      <td> Mozilla/5.0 (Linux; U; Android 4.3; ko-kr; SHV...</td>\n",
        "      <td> 0.029</td>\n",
        "      <td>  211.36.148.110</td>\n",
        "      <td>  578</td>\n",
        "      <td> /api/entity/actioninfo?v=tvshop48122&amp;xid=pXrtR...</td>\n",
        "    </tr>\n",
        "    <tr>\n",
        "      <th>9986</th>\n",
        "      <td> 2014-07-06T16:20:05+09:00</td>\n",
        "      <td> Mozilla/5.0 (Linux; U; Android 4.3; ko-kr; SHV...</td>\n",
        "      <td> 0.112</td>\n",
        "      <td>  211.36.148.110</td>\n",
        "      <td>  578</td>\n",
        "      <td> /api/goodsviewlog/add?v=tvshop404781&amp;xid=pXrtR...</td>\n",
        "    </tr>\n",
        "    <tr>\n",
        "      <th>9987</th>\n",
        "      <td> 2014-07-06T16:20:06+09:00</td>\n",
        "      <td> Mozilla/5.0 (Linux; Android 4.4.2; SHV-E330S B...</td>\n",
        "      <td> 0.225</td>\n",
        "      <td>   223.62.188.50</td>\n",
        "      <td>  611</td>\n",
        "      <td> /api/goods/getitemlist?v=tvshop692372&amp;xid=ZsUr...</td>\n",
        "    </tr>\n",
        "    <tr>\n",
        "      <th>9988</th>\n",
        "      <td> 2014-07-06T16:20:06+09:00</td>\n",
        "      <td> Mozilla/5.0 (Linux; U; Android 4.0.4; ko-kr; L...</td>\n",
        "      <td> 0.178</td>\n",
        "      <td>  175.223.37.186</td>\n",
        "      <td>  694</td>\n",
        "      <td> /api/goods/getitemlist?v=tvshop644194&amp;xid=NigR...</td>\n",
        "    </tr>\n",
        "    <tr>\n",
        "      <th>9989</th>\n",
        "      <td> 2014-07-06T16:20:06+09:00</td>\n",
        "      <td> Mozilla/5.0 (Linux; U; Android 4.0.4; ko-kr; L...</td>\n",
        "      <td> 0.031</td>\n",
        "      <td>  175.223.37.186</td>\n",
        "      <td>  566</td>\n",
        "      <td> /api/goods/getvideoinfo?v=tvshop716001&amp;xid=Nig...</td>\n",
        "    </tr>\n",
        "    <tr>\n",
        "      <th>9990</th>\n",
        "      <td> 2014-07-06T16:20:06+09:00</td>\n",
        "      <td> Mozilla/5.0 (Linux; U; Android 4.0.4; ko-kr; L...</td>\n",
        "      <td> 0.064</td>\n",
        "      <td>  175.223.37.186</td>\n",
        "      <td>  569</td>\n",
        "      <td> /api/search/getrecokeyword?v=tvshop158309&amp;xid=...</td>\n",
        "    </tr>\n",
        "    <tr>\n",
        "      <th>9991</th>\n",
        "      <td> 2014-07-06T16:20:06+09:00</td>\n",
        "      <td> Mozilla/5.0 (Linux; Android 4.4.2; SHV-E330S B...</td>\n",
        "      <td> 0.010</td>\n",
        "      <td>   180.228.59.17</td>\n",
        "      <td>  481</td>\n",
        "      <td> /stat/swipe_main?v=tvshop939748&amp;xid=1eaPveDXbg...</td>\n",
        "    </tr>\n",
        "    <tr>\n",
        "      <th>9992</th>\n",
        "      <td> 2014-07-06T16:20:07+09:00</td>\n",
        "      <td> Mozilla/5.0 (iPhone; CPU iPhone OS 6_1 like Ma...</td>\n",
        "      <td> 0.009</td>\n",
        "      <td>     39.7.55.225</td>\n",
        "      <td>  430</td>\n",
        "      <td> /stat/swipe_main?v=tvshop444251&amp;xid=RFxnbCNm9x...</td>\n",
        "    </tr>\n",
        "    <tr>\n",
        "      <th>9993</th>\n",
        "      <td> 2014-07-06T16:20:07+09:00</td>\n",
        "      <td> Mozilla/5.0 (Linux; Android 4.4.2; LG-F340S Bu...</td>\n",
        "      <td> 0.076</td>\n",
        "      <td>   218.49.229.51</td>\n",
        "      <td>  695</td>\n",
        "      <td> /api/search/goodssmartsearch?v=tvshop154412&amp;xi...</td>\n",
        "    </tr>\n",
        "    <tr>\n",
        "      <th>9994</th>\n",
        "      <td> 2014-07-06T16:20:07+09:00</td>\n",
        "      <td>                                                 -</td>\n",
        "      <td> 0.000</td>\n",
        "      <td>   39.118.132.60</td>\n",
        "      <td>    0</td>\n",
        "      <td>                                                 -</td>\n",
        "    </tr>\n",
        "    <tr>\n",
        "      <th>9995</th>\n",
        "      <td> 2014-07-06T16:20:07+09:00</td>\n",
        "      <td> Mozilla/5.0 (Linux; U; Android 4.1.2; ko-kr; I...</td>\n",
        "      <td> 0.011</td>\n",
        "      <td>   39.118.132.60</td>\n",
        "      <td>  521</td>\n",
        "      <td> /stat/swipe_main?v=tvshop652828&amp;xid=2lHvz9pGlz...</td>\n",
        "    </tr>\n",
        "    <tr>\n",
        "      <th>9996</th>\n",
        "      <td> 2014-07-06T16:20:07+09:00</td>\n",
        "      <td> Mozilla/5.0 (Linux; U; Android 4.1.2; ko-kr; I...</td>\n",
        "      <td> 0.006</td>\n",
        "      <td>   223.62.169.80</td>\n",
        "      <td>  507</td>\n",
        "      <td>      /stat/todayall?v=tvshop698623&amp;xid=VswobfEyQE</td>\n",
        "    </tr>\n",
        "    <tr>\n",
        "      <th>9997</th>\n",
        "      <td> 2014-07-06T16:20:08+09:00</td>\n",
        "      <td> Mozilla/5.0 (Linux; U; Android 4.3; ko-kr; SHV...</td>\n",
        "      <td> 0.045</td>\n",
        "      <td>   110.70.52.102</td>\n",
        "      <td>  969</td>\n",
        "      <td> /api/entity/getlist?v=tvshop84948&amp;xid=X3PrEuvV...</td>\n",
        "    </tr>\n",
        "    <tr>\n",
        "      <th>9998</th>\n",
        "      <td> 2014-07-06T16:20:08+09:00</td>\n",
        "      <td> Mozilla/5.0 (Linux; Android 4.4.2; SM-N9005 Bu...</td>\n",
        "      <td> 0.052</td>\n",
        "      <td> 218.212.233.252</td>\n",
        "      <td>  794</td>\n",
        "      <td> /api/search/goodssearch?v=tvshop534335&amp;xid=rSu...</td>\n",
        "    </tr>\n",
        "    <tr>\n",
        "      <th>9999</th>\n",
        "      <td> 2014-07-06T16:20:08+09:00</td>\n",
        "      <td> Mozilla/5.0 (Linux; U; Android 4.0.4; ko-kr; S...</td>\n",
        "      <td> 0.059</td>\n",
        "      <td>     39.7.51.173</td>\n",
        "      <td>  919</td>\n",
        "      <td> /api/search/goodssmartsearch?v=tvshop473133&amp;xi...</td>\n",
        "    </tr>\n",
        "  </tbody>\n",
        "</table>\n",
        "<p>10000 rows \u00d7 6 columns</p>\n",
        "</div>"
       ],
       "metadata": {},
       "output_type": "pyout",
       "prompt_number": 20,
       "text": [
        "                     @timestamp  \\\n",
        "0     2014-07-06T16:14:12+09:00   \n",
        "1     2014-07-06T16:14:12+09:00   \n",
        "2     2014-07-06T16:14:12+09:00   \n",
        "3     2014-07-06T16:14:12+09:00   \n",
        "4     2014-07-06T16:14:12+09:00   \n",
        "5     2014-07-06T16:14:12+09:00   \n",
        "6     2014-07-06T16:14:13+09:00   \n",
        "7     2014-07-06T16:14:13+09:00   \n",
        "8     2014-07-06T16:14:13+09:00   \n",
        "9     2014-07-06T16:14:13+09:00   \n",
        "10    2014-07-06T16:14:14+09:00   \n",
        "11    2014-07-06T16:14:14+09:00   \n",
        "12    2014-07-06T16:14:14+09:00   \n",
        "13    2014-07-06T16:14:14+09:00   \n",
        "14    2014-07-06T16:14:14+09:00   \n",
        "15    2014-07-06T16:14:14+09:00   \n",
        "16    2014-07-06T16:14:14+09:00   \n",
        "17    2014-07-06T16:14:14+09:00   \n",
        "18    2014-07-06T16:14:15+09:00   \n",
        "19    2014-07-06T16:14:15+09:00   \n",
        "20    2014-07-06T16:14:15+09:00   \n",
        "21    2014-07-06T16:14:15+09:00   \n",
        "22    2014-07-06T16:14:15+09:00   \n",
        "23    2014-07-06T16:14:15+09:00   \n",
        "24    2014-07-06T16:14:15+09:00   \n",
        "25    2014-07-06T16:14:15+09:00   \n",
        "26    2014-07-06T16:14:16+09:00   \n",
        "27    2014-07-06T16:14:16+09:00   \n",
        "28    2014-07-06T16:14:16+09:00   \n",
        "29    2014-07-06T16:14:16+09:00   \n",
        "...                         ...   \n",
        "9970  2014-07-06T16:20:02+09:00   \n",
        "9971  2014-07-06T16:20:02+09:00   \n",
        "9972  2014-07-06T16:20:02+09:00   \n",
        "9973  2014-07-06T16:20:02+09:00   \n",
        "9974  2014-07-06T16:20:02+09:00   \n",
        "9975  2014-07-06T16:20:03+09:00   \n",
        "9976  2014-07-06T16:20:03+09:00   \n",
        "9977  2014-07-06T16:20:03+09:00   \n",
        "9978  2014-07-06T16:20:03+09:00   \n",
        "9979  2014-07-06T16:20:04+09:00   \n",
        "9980  2014-07-06T16:20:04+09:00   \n",
        "9981  2014-07-06T16:20:04+09:00   \n",
        "9982  2014-07-06T16:20:05+09:00   \n",
        "9983  2014-07-06T16:20:05+09:00   \n",
        "9984  2014-07-06T16:20:05+09:00   \n",
        "9985  2014-07-06T16:20:05+09:00   \n",
        "9986  2014-07-06T16:20:05+09:00   \n",
        "9987  2014-07-06T16:20:06+09:00   \n",
        "9988  2014-07-06T16:20:06+09:00   \n",
        "9989  2014-07-06T16:20:06+09:00   \n",
        "9990  2014-07-06T16:20:06+09:00   \n",
        "9991  2014-07-06T16:20:06+09:00   \n",
        "9992  2014-07-06T16:20:07+09:00   \n",
        "9993  2014-07-06T16:20:07+09:00   \n",
        "9994  2014-07-06T16:20:07+09:00   \n",
        "9995  2014-07-06T16:20:07+09:00   \n",
        "9996  2014-07-06T16:20:07+09:00   \n",
        "9997  2014-07-06T16:20:08+09:00   \n",
        "9998  2014-07-06T16:20:08+09:00   \n",
        "9999  2014-07-06T16:20:08+09:00   \n",
        "\n",
        "                                                  agent duration  \\\n",
        "0     Mozilla/5.0 (Linux; U; Android 2.3.6; ko-kr; S...    0.006   \n",
        "1     Mozilla/5.0 (Linux; U; Android 4.0.4; ko-kr; S...    0.005   \n",
        "2     Mozilla/5.0 (Linux; U; Android 4.3; ko-kr; SHV...    0.111   \n",
        "3     Mozilla/5.0 (iPad; CPU OS 7_1_1 like Mac OS X)...    0.009   \n",
        "4     Mozilla/5.0 (Linux; U; Android 4.3; ko-kr; SHV...    0.118   \n",
        "5     Mozilla/5.0 (Linux; U; Android 4.0.4; ko-kr; S...    0.025   \n",
        "6     Mozilla/5.0 (Linux; U; Android 4.3; ko-kr; SHV...    0.057   \n",
        "7     Mozilla/5.0 (Linux; U; Android 4.3; ko-kr; SHV...    0.023   \n",
        "8     Mozilla/5.0 (Linux; U; Android 4.3; ko-kr; SHV...    0.021   \n",
        "9     Mozilla/5.0 (Linux; U; Android 4.3; ko-kr; SHV...    0.027   \n",
        "10    Mozilla/5.0 (Linux; U; Android 4.0.3; ko-kr; S...    0.010   \n",
        "11    Mozilla/5.0 (Linux; U; Android 4.1.2; ko-kr; I...    0.010   \n",
        "12    Mozilla/5.0 (Linux; U; Android 4.3; ko-kr; SHV...    0.028   \n",
        "13    Mozilla/5.0 (Linux; U; Android 4.3; ko-kr; SM-...    0.151   \n",
        "14    Mozilla/5.0 (Linux; U; Android 4.3; ko-kr; SHV...    0.006   \n",
        "15    Mozilla/5.0 (Linux; U; Android 4.3; ko-kr; SHV...    0.226   \n",
        "16    Mozilla/5.0 (Linux; U; Android 4.1.2; ko-kr; L...    0.006   \n",
        "17    Mozilla/5.0 (Linux; U; Android 4.2.2; ko-kr; S...    0.020   \n",
        "18    Mozilla/5.0 (Linux; Android 4.4.2; LG-F320K Bu...    0.191   \n",
        "19    Mozilla/5.0 (Linux; U; Android 4.3; ko-kr; SHV...    0.178   \n",
        "20    Mozilla/5.0 (Linux; U; Android 4.2.2; ko-kr; S...    0.085   \n",
        "21    Mozilla/5.0 (Linux; Android 4.4.2; SHV-E300K B...    0.061   \n",
        "22    Mozilla/5.0 (Linux; U; Android 4.1.2; ko-kr; S...    0.025   \n",
        "23    Mozilla/5.0 (Linux; Android 4.4.2; IM-A890K Bu...    0.022   \n",
        "24    Mozilla/5.0 (Linux; U; Android 4.3; ko-kr; SM-...    0.088   \n",
        "25    Mozilla/5.0 (Linux; U; Android 4.3; ko-kr; SHV...    0.163   \n",
        "26    Mozilla/5.0 (Linux; Android 4.4.2; SM-N900K Bu...    0.006   \n",
        "27    Mozilla/5.0 (Linux; U; Android 4.2.2; ko-kr; S...    0.140   \n",
        "28    Mozilla/5.0 (Linux; Android 4.4.2; IM-A890K Bu...    0.087   \n",
        "29    Mozilla/5.0 (Linux; Android 4.4.2; SHV-E300S B...    0.011   \n",
        "...                                                 ...      ...   \n",
        "9970                                                  -    0.000   \n",
        "9971                                                  -    0.000   \n",
        "9972  Mozilla/5.0 (Linux; U; Android 4.1.2; ko-kr; I...    0.008   \n",
        "9973  Mozilla/5.0 (Linux; U; Android 4.1.2; ko-kr; I...    0.180   \n",
        "9974  Mozilla/5.0 (Linux; U; Android 4.1.1; ko-kr; N...    0.013   \n",
        "9975  Mozilla/5.0 (Linux; U; Android 2.3.4; ko-kr; S...    0.031   \n",
        "9976  Mozilla/5.0 (Linux; U; Android 4.2.2; ko-kr; S...    0.011   \n",
        "9977  python-requests/1.2.0 CPython/2.7.3 Linux/3.2....    0.087   \n",
        "9978  Mozilla/5.0 (Linux; Android 4.4.2; SHV-E330S B...    0.009   \n",
        "9979  Mozilla/5.0 (Linux; Android 4.4.2; SM-N900K Bu...    0.063   \n",
        "9980  Mozilla/5.0 (Linux; Android 4.4.2; SM-N900K Bu...    0.074   \n",
        "9981  Mozilla/5.0 (Linux; U; Android 4.1.2; ko-kr; L...    0.109   \n",
        "9982  Mozilla/5.0 (Linux; U; Android 4.1.2; ko-kr; I...    0.055   \n",
        "9983  Mozilla/5.0 (Linux; Android 4.4.2; SM-N9005 Bu...    0.013   \n",
        "9984  Mozilla/5.0 (Windows NT 6.1; Trident/7.0; rv:1...    0.140   \n",
        "9985  Mozilla/5.0 (Linux; U; Android 4.3; ko-kr; SHV...    0.029   \n",
        "9986  Mozilla/5.0 (Linux; U; Android 4.3; ko-kr; SHV...    0.112   \n",
        "9987  Mozilla/5.0 (Linux; Android 4.4.2; SHV-E330S B...    0.225   \n",
        "9988  Mozilla/5.0 (Linux; U; Android 4.0.4; ko-kr; L...    0.178   \n",
        "9989  Mozilla/5.0 (Linux; U; Android 4.0.4; ko-kr; L...    0.031   \n",
        "9990  Mozilla/5.0 (Linux; U; Android 4.0.4; ko-kr; L...    0.064   \n",
        "9991  Mozilla/5.0 (Linux; Android 4.4.2; SHV-E330S B...    0.010   \n",
        "9992  Mozilla/5.0 (iPhone; CPU iPhone OS 6_1 like Ma...    0.009   \n",
        "9993  Mozilla/5.0 (Linux; Android 4.4.2; LG-F340S Bu...    0.076   \n",
        "9994                                                  -    0.000   \n",
        "9995  Mozilla/5.0 (Linux; U; Android 4.1.2; ko-kr; I...    0.011   \n",
        "9996  Mozilla/5.0 (Linux; U; Android 4.1.2; ko-kr; I...    0.006   \n",
        "9997  Mozilla/5.0 (Linux; U; Android 4.3; ko-kr; SHV...    0.045   \n",
        "9998  Mozilla/5.0 (Linux; Android 4.4.2; SM-N9005 Bu...    0.052   \n",
        "9999  Mozilla/5.0 (Linux; U; Android 4.0.4; ko-kr; S...    0.059   \n",
        "\n",
        "                 host  size                                                url  \n",
        "0       119.70.27.162   493  /stat/swipe_main?v=tvshop759418&xid=upYqq7IOWG...  \n",
        "1       119.195.17.74   578  /stat/swipe_main?v=tvshop238487&xid=O4CRHhoFyA...  \n",
        "2        61.79.55.195   618  /api/rewardapply/todayvisitreward?json=1&v=don...  \n",
        "3        211.59.21.43   429  /stat/swipe_main?v=tvshop48925&xid=StJ825u8Rj&...  \n",
        "4        61.79.55.195   661  /chip?title=%ED%99%A9%EA%B8%88%EC%83%81%EC%9E%...  \n",
        "5       61.81.119.250   758  /api/content/actioninfo?json=1&id=229622&v=adm...  \n",
        "6      122.35.171.144   615  /content/229628?title=%EC%B4%9D%EC%95%8C%ED%94...  \n",
        "7       39.114.56.157   614  /api/opn/cloudstat?v=tvshop503179&xid=Wg0sGefq...  \n",
        "8       39.114.56.157   579  /api/entity/actioninfo?v=tvshop687329&xid=Wg0s...  \n",
        "9       39.114.56.157   577  /api/goodsviewlog/add?v=tvshop75734&xid=Wg0sGe...  \n",
        "10    122.252.126.234   638  /chip/layer?title=%ED%99%A9%EA%B8%88%EC%83%81%...  \n",
        "11     182.210.82.211   520  /stat/swipe_main?v=tvshop45818&xid=UdO9Shn4fb&...  \n",
        "12      39.114.56.157   614  /api/opn/cloudstat?v=tvshop495504&xid=Wg0sGefq...  \n",
        "13         39.7.45.92   649  /api/goods/getitemlist?v=tvshop576550&xid=SD7G...  \n",
        "14     211.36.141.103   551  /stat/nextday?v=tvshop173197&xid=gpb8Irvtgf&ne...  \n",
        "15     115.95.181.165  1128                                             /first  \n",
        "16       1.231.93.245   547  /stat/swipe_main?v=tvshop63103&xid=PasiAcMgbt&...  \n",
        "17     223.33.153.112   773  /api/device/pushcode?device_code=b889b4c372662...  \n",
        "18      210.121.110.6  1108                                             /first  \n",
        "19     211.36.141.103   650  /api/goods/getitemlist?v=tvshop692583&xid=gpb8...  \n",
        "20      121.159.85.97   609                                     /tvshop/mobile  \n",
        "21      59.16.200.109   611  /api/goods/getitemlist?v=tvshop843705&xid=I2T8...  \n",
        "22      223.62.190.72   849  /api/goodsviewlog/add?v=tvshop749443&xid=sFnWM...  \n",
        "23    112.162.108.156   696  /api/content/actioninfo?json=1&id=229592&v=don...  \n",
        "24         39.7.45.92   649  /api/goods/getitemlist?v=tvshop293405&xid=SD7G...  \n",
        "25       223.62.203.5   650  /api/goods/getitemlist?v=tvshop817321&xid=qNQj...  \n",
        "26       14.38.191.53   480  /stat/swipe_main?v=tvshop304437&xid=xARgfQa7aN...  \n",
        "27      121.159.85.97   643  /api/goods/getitemlist?skin=tvshopweb%2F_skin_...  \n",
        "28    112.162.108.156   760  /api/cmt/getlist?skin=skin%2F_skin_cmt_list&ac...  \n",
        "29     119.207.234.82   514  /stat/swipe_main?v=tvshop250086&xid=E1QHVehi3k...  \n",
        "...               ...   ...                                                ...  \n",
        "9970   116.121.136.79     0                                                  -  \n",
        "9971   116.121.136.79     0                                                  -  \n",
        "9972   116.121.136.79   748  /select/cate?title=%EC%83%81%ED%92%88%20%EC%B9...  \n",
        "9973   175.118.68.138   592  /api/user/istodaynewvisit?v=tvshop423715&xid=h...  \n",
        "9974  117.123.131.238   621  /stat/entity?v=tvshop286285&xid=WrPYoTP2op&ent...  \n",
        "9975    14.45.208.136   744  /api/content/getlist?skin=skin%2F_skin_content...  \n",
        "9976   211.186.80.151   977  /stat/search/goods/meta?v=tvshop767031&xid=73G...  \n",
        "9977   121.78.146.137   542  /item?title=%EC%98%A4%EB%85%B8%EB%9D%BC%EB%9D%...  \n",
        "9978    223.62.188.50   480  /stat/swipe_main?v=tvshop51084&xid=ZsUr1J4w8x&...  \n",
        "9979     110.70.55.52   842  /api/search/goodssmartsearch?v=tvshop665505&xi...  \n",
        "9980     110.70.55.52   842  /api/search/goodssmartsearch?v=tvshop344711&xi...  \n",
        "9981     117.111.8.79   651  /api/goods/getitemlist?v=tvshop686038&xid=9u87...  \n",
        "9982   175.118.68.138   703  /item?entity_id=1067555&nav=show&tabbar=hide&m...  \n",
        "9983  218.212.233.252   640  /item/search?title=%EC%83%81%ED%92%88%EA%B2%80...  \n",
        "9984  121.174.215.139   505  /api/goods/getitemlist?v=web21648&xid=&skin=we...  \n",
        "9985   211.36.148.110   578  /api/entity/actioninfo?v=tvshop48122&xid=pXrtR...  \n",
        "9986   211.36.148.110   578  /api/goodsviewlog/add?v=tvshop404781&xid=pXrtR...  \n",
        "9987    223.62.188.50   611  /api/goods/getitemlist?v=tvshop692372&xid=ZsUr...  \n",
        "9988   175.223.37.186   694  /api/goods/getitemlist?v=tvshop644194&xid=NigR...  \n",
        "9989   175.223.37.186   566  /api/goods/getvideoinfo?v=tvshop716001&xid=Nig...  \n",
        "9990   175.223.37.186   569  /api/search/getrecokeyword?v=tvshop158309&xid=...  \n",
        "9991    180.228.59.17   481  /stat/swipe_main?v=tvshop939748&xid=1eaPveDXbg...  \n",
        "9992      39.7.55.225   430  /stat/swipe_main?v=tvshop444251&xid=RFxnbCNm9x...  \n",
        "9993    218.49.229.51   695  /api/search/goodssmartsearch?v=tvshop154412&xi...  \n",
        "9994    39.118.132.60     0                                                  -  \n",
        "9995    39.118.132.60   521  /stat/swipe_main?v=tvshop652828&xid=2lHvz9pGlz...  \n",
        "9996    223.62.169.80   507       /stat/todayall?v=tvshop698623&xid=VswobfEyQE  \n",
        "9997    110.70.52.102   969  /api/entity/getlist?v=tvshop84948&xid=X3PrEuvV...  \n",
        "9998  218.212.233.252   794  /api/search/goodssearch?v=tvshop534335&xid=rSu...  \n",
        "9999      39.7.51.173   919  /api/search/goodssmartsearch?v=tvshop473133&xi...  \n",
        "\n",
        "[10000 rows x 6 columns]"
       ]
      }
     ],
     "prompt_number": 20
    },
    {
     "cell_type": "code",
     "collapsed": false,
     "input": [
      "df.size.count()"
     ],
     "language": "python",
     "metadata": {},
     "outputs": [
      {
       "metadata": {},
       "output_type": "pyout",
       "prompt_number": 104,
       "text": [
        "10000"
       ]
      }
     ],
     "prompt_number": 104
    },
    {
     "cell_type": "code",
     "collapsed": false,
     "input": [
      "a = df['url']"
     ],
     "language": "python",
     "metadata": {},
     "outputs": [],
     "prompt_number": 11
    },
    {
     "cell_type": "code",
     "collapsed": false,
     "input": [
      "a"
     ],
     "language": "python",
     "metadata": {},
     "outputs": [
      {
       "metadata": {},
       "output_type": "pyout",
       "prompt_number": 21,
       "text": [
        "0     /stat/swipe_main?v=tvshop759418&xid=upYqq7IOWG...\n",
        "1     /stat/swipe_main?v=tvshop238487&xid=O4CRHhoFyA...\n",
        "2     /api/rewardapply/todayvisitreward?json=1&v=don...\n",
        "3     /stat/swipe_main?v=tvshop48925&xid=StJ825u8Rj&...\n",
        "4     /chip?title=%ED%99%A9%EA%B8%88%EC%83%81%EC%9E%...\n",
        "5     /api/content/actioninfo?json=1&id=229622&v=adm...\n",
        "6     /content/229628?title=%EC%B4%9D%EC%95%8C%ED%94...\n",
        "7     /api/opn/cloudstat?v=tvshop503179&xid=Wg0sGefq...\n",
        "8     /api/entity/actioninfo?v=tvshop687329&xid=Wg0s...\n",
        "9     /api/goodsviewlog/add?v=tvshop75734&xid=Wg0sGe...\n",
        "10    /chip/layer?title=%ED%99%A9%EA%B8%88%EC%83%81%...\n",
        "11    /stat/swipe_main?v=tvshop45818&xid=UdO9Shn4fb&...\n",
        "12    /api/opn/cloudstat?v=tvshop495504&xid=Wg0sGefq...\n",
        "13    /api/goods/getitemlist?v=tvshop576550&xid=SD7G...\n",
        "14    /stat/nextday?v=tvshop173197&xid=gpb8Irvtgf&ne...\n",
        "...\n",
        "9985    /api/entity/actioninfo?v=tvshop48122&xid=pXrtR...\n",
        "9986    /api/goodsviewlog/add?v=tvshop404781&xid=pXrtR...\n",
        "9987    /api/goods/getitemlist?v=tvshop692372&xid=ZsUr...\n",
        "9988    /api/goods/getitemlist?v=tvshop644194&xid=NigR...\n",
        "9989    /api/goods/getvideoinfo?v=tvshop716001&xid=Nig...\n",
        "9990    /api/search/getrecokeyword?v=tvshop158309&xid=...\n",
        "9991    /stat/swipe_main?v=tvshop939748&xid=1eaPveDXbg...\n",
        "9992    /stat/swipe_main?v=tvshop444251&xid=RFxnbCNm9x...\n",
        "9993    /api/search/goodssmartsearch?v=tvshop154412&xi...\n",
        "9994                                                    -\n",
        "9995    /stat/swipe_main?v=tvshop652828&xid=2lHvz9pGlz...\n",
        "9996         /stat/todayall?v=tvshop698623&xid=VswobfEyQE\n",
        "9997    /api/entity/getlist?v=tvshop84948&xid=X3PrEuvV...\n",
        "9998    /api/search/goodssearch?v=tvshop534335&xid=rSu...\n",
        "9999    /api/search/goodssmartsearch?v=tvshop473133&xi...\n",
        "Name: url, Length: 10000, dtype: object"
       ]
      }
     ],
     "prompt_number": 21
    },
    {
     "cell_type": "code",
     "collapsed": false,
     "input": [
      "a[1:3]"
     ],
     "language": "python",
     "metadata": {},
     "outputs": [
      {
       "metadata": {},
       "output_type": "pyout",
       "prompt_number": 22,
       "text": [
        "1    /stat/swipe_main?v=tvshop238487&xid=O4CRHhoFyA...\n",
        "2    /api/rewardapply/todayvisitreward?json=1&v=don...\n",
        "Name: url, dtype: object"
       ]
      }
     ],
     "prompt_number": 22
    },
    {
     "cell_type": "code",
     "collapsed": false,
     "input": [
      "b = a[1]"
     ],
     "language": "python",
     "metadata": {},
     "outputs": [],
     "prompt_number": 23
    },
    {
     "cell_type": "code",
     "collapsed": false,
     "input": [
      "b"
     ],
     "language": "python",
     "metadata": {},
     "outputs": [
      {
       "metadata": {},
       "output_type": "pyout",
       "prompt_number": 24,
       "text": [
        "u'/stat/swipe_main?v=tvshop238487&xid=O4CRHhoFyA&from=item_1'"
       ]
      }
     ],
     "prompt_number": 24
    },
    {
     "cell_type": "code",
     "collapsed": false,
     "input": [
      "b = a[2]"
     ],
     "language": "python",
     "metadata": {},
     "outputs": [],
     "prompt_number": 25
    },
    {
     "cell_type": "code",
     "collapsed": false,
     "input": [
      "b"
     ],
     "language": "python",
     "metadata": {},
     "outputs": [
      {
       "metadata": {},
       "output_type": "pyout",
       "prompt_number": 26,
       "text": [
        "u'/api/rewardapply/todayvisitreward?json=1&v=donmoa73384&xid=7jy7Qx22JD'"
       ]
      }
     ],
     "prompt_number": 26
    },
    {
     "cell_type": "code",
     "collapsed": false,
     "input": [
      "b.find"
     ],
     "language": "python",
     "metadata": {},
     "outputs": [
      {
       "metadata": {},
       "output_type": "pyout",
       "prompt_number": 27,
       "text": [
        "<function find>"
       ]
      }
     ],
     "prompt_number": 27
    },
    {
     "cell_type": "code",
     "collapsed": false,
     "input": [
      "b.find('?')"
     ],
     "language": "python",
     "metadata": {},
     "outputs": [
      {
       "metadata": {},
       "output_type": "pyout",
       "prompt_number": 28,
       "text": [
        "33"
       ]
      }
     ],
     "prompt_number": 28
    },
    {
     "cell_type": "code",
     "collapsed": false,
     "input": [
      "b.substring"
     ],
     "language": "python",
     "metadata": {},
     "outputs": [
      {
       "ename": "AttributeError",
       "evalue": "'unicode' object has no attribute 'substring'",
       "output_type": "pyerr",
       "traceback": [
        "\u001b[0;31m---------------------------------------------------------------------------\u001b[0m\n\u001b[0;31mAttributeError\u001b[0m                            Traceback (most recent call last)",
        "\u001b[0;32m<ipython-input-29-23f278ffd68d>\u001b[0m in \u001b[0;36m<module>\u001b[0;34m()\u001b[0m\n\u001b[0;32m----> 1\u001b[0;31m \u001b[0mb\u001b[0m\u001b[0;34m.\u001b[0m\u001b[0msubstring\u001b[0m\u001b[0;34m\u001b[0m\u001b[0m\n\u001b[0m",
        "\u001b[0;31mAttributeError\u001b[0m: 'unicode' object has no attribute 'substring'"
       ]
      }
     ],
     "prompt_number": 29
    },
    {
     "cell_type": "code",
     "collapsed": false,
     "input": [
      "type(b)"
     ],
     "language": "python",
     "metadata": {},
     "outputs": [
      {
       "metadata": {},
       "output_type": "pyout",
       "prompt_number": 30,
       "text": [
        "unicode"
       ]
      }
     ],
     "prompt_number": 30
    },
    {
     "cell_type": "code",
     "collapsed": false,
     "input": [
      "b.encode()"
     ],
     "language": "python",
     "metadata": {},
     "outputs": [
      {
       "metadata": {},
       "output_type": "pyout",
       "prompt_number": 31,
       "text": [
        "'/api/rewardapply/todayvisitreward?json=1&v=donmoa73384&xid=7jy7Qx22JD'"
       ]
      }
     ],
     "prompt_number": 31
    },
    {
     "cell_type": "code",
     "collapsed": false,
     "input": [
      "b.encode('ascii','ignore')"
     ],
     "language": "python",
     "metadata": {},
     "outputs": [
      {
       "metadata": {},
       "output_type": "pyout",
       "prompt_number": 32,
       "text": [
        "'/api/rewardapply/todayvisitreward?json=1&v=donmoa73384&xid=7jy7Qx22JD'"
       ]
      }
     ],
     "prompt_number": 32
    },
    {
     "cell_type": "code",
     "collapsed": false,
     "input": [
      "c = b.encode('ascii','ignore')"
     ],
     "language": "python",
     "metadata": {},
     "outputs": [],
     "prompt_number": 33
    },
    {
     "cell_type": "code",
     "collapsed": false,
     "input": [
      "c"
     ],
     "language": "python",
     "metadata": {},
     "outputs": [
      {
       "metadata": {},
       "output_type": "pyout",
       "prompt_number": 34,
       "text": [
        "'/api/rewardapply/todayvisitreward?json=1&v=donmoa73384&xid=7jy7Qx22JD'"
       ]
      }
     ],
     "prompt_number": 34
    },
    {
     "cell_type": "code",
     "collapsed": false,
     "input": [
      "type(c)"
     ],
     "language": "python",
     "metadata": {},
     "outputs": [
      {
       "metadata": {},
       "output_type": "pyout",
       "prompt_number": 35,
       "text": [
        "str"
       ]
      }
     ],
     "prompt_number": 35
    },
    {
     "cell_type": "code",
     "collapsed": false,
     "input": [
      "c.substr"
     ],
     "language": "python",
     "metadata": {},
     "outputs": [
      {
       "ename": "AttributeError",
       "evalue": "'str' object has no attribute 'substr'",
       "output_type": "pyerr",
       "traceback": [
        "\u001b[0;31m---------------------------------------------------------------------------\u001b[0m\n\u001b[0;31mAttributeError\u001b[0m                            Traceback (most recent call last)",
        "\u001b[0;32m<ipython-input-36-42912913da4e>\u001b[0m in \u001b[0;36m<module>\u001b[0;34m()\u001b[0m\n\u001b[0;32m----> 1\u001b[0;31m \u001b[0mc\u001b[0m\u001b[0;34m.\u001b[0m\u001b[0msubstr\u001b[0m\u001b[0;34m\u001b[0m\u001b[0m\n\u001b[0m",
        "\u001b[0;31mAttributeError\u001b[0m: 'str' object has no attribute 'substr'"
       ]
      }
     ],
     "prompt_number": 36
    },
    {
     "cell_type": "code",
     "collapsed": false,
     "input": [
      "c.split"
     ],
     "language": "python",
     "metadata": {},
     "outputs": [
      {
       "metadata": {},
       "output_type": "pyout",
       "prompt_number": 37,
       "text": [
        "<function split>"
       ]
      }
     ],
     "prompt_number": 37
    },
    {
     "cell_type": "code",
     "collapsed": false,
     "input": [
      "c[1:5]"
     ],
     "language": "python",
     "metadata": {},
     "outputs": [
      {
       "metadata": {},
       "output_type": "pyout",
       "prompt_number": 38,
       "text": [
        "'api/'"
       ]
      }
     ],
     "prompt_number": 38
    },
    {
     "cell_type": "code",
     "collapsed": false,
     "input": [
      "c"
     ],
     "language": "python",
     "metadata": {},
     "outputs": [
      {
       "metadata": {},
       "output_type": "pyout",
       "prompt_number": 39,
       "text": [
        "'/api/rewardapply/todayvisitreward?json=1&v=donmoa73384&xid=7jy7Qx22JD'"
       ]
      }
     ],
     "prompt_number": 39
    },
    {
     "cell_type": "code",
     "collapsed": false,
     "input": [
      "c[:c.find('?')]"
     ],
     "language": "python",
     "metadata": {},
     "outputs": [
      {
       "metadata": {},
       "output_type": "pyout",
       "prompt_number": 40,
       "text": [
        "'/api/rewardapply/todayvisitreward'"
       ]
      }
     ],
     "prompt_number": 40
    },
    {
     "cell_type": "code",
     "collapsed": false,
     "input": [
      "b"
     ],
     "language": "python",
     "metadata": {},
     "outputs": [
      {
       "metadata": {},
       "output_type": "pyout",
       "prompt_number": 41,
       "text": [
        "u'/api/rewardapply/todayvisitreward?json=1&v=donmoa73384&xid=7jy7Qx22JD'"
       ]
      }
     ],
     "prompt_number": 41
    },
    {
     "cell_type": "code",
     "collapsed": false,
     "input": [
      "a[0:5]"
     ],
     "language": "python",
     "metadata": {},
     "outputs": [
      {
       "metadata": {},
       "output_type": "pyout",
       "prompt_number": 42,
       "text": [
        "0    /stat/swipe_main?v=tvshop759418&xid=upYqq7IOWG...\n",
        "1    /stat/swipe_main?v=tvshop238487&xid=O4CRHhoFyA...\n",
        "2    /api/rewardapply/todayvisitreward?json=1&v=don...\n",
        "3    /stat/swipe_main?v=tvshop48925&xid=StJ825u8Rj&...\n",
        "4    /chip?title=%ED%99%A9%EA%B8%88%EC%83%81%EC%9E%...\n",
        "Name: url, dtype: object"
       ]
      }
     ],
     "prompt_number": 42
    },
    {
     "cell_type": "code",
     "collapsed": false,
     "input": [
      "for i=0 to 5:\n",
      "    print(a[i])"
     ],
     "language": "python",
     "metadata": {},
     "outputs": [
      {
       "ename": "SyntaxError",
       "evalue": "invalid syntax (<ipython-input-43-01214ca8670b>, line 1)",
       "output_type": "pyerr",
       "traceback": [
        "\u001b[0;36m  File \u001b[0;32m\"<ipython-input-43-01214ca8670b>\"\u001b[0;36m, line \u001b[0;32m1\u001b[0m\n\u001b[0;31m    for i=0 to 5:\u001b[0m\n\u001b[0m         ^\u001b[0m\n\u001b[0;31mSyntaxError\u001b[0m\u001b[0;31m:\u001b[0m invalid syntax\n"
       ]
      }
     ],
     "prompt_number": 43
    },
    {
     "cell_type": "code",
     "collapsed": false,
     "input": [
      "for i in range(5):\n",
      "    print(a[i])"
     ],
     "language": "python",
     "metadata": {},
     "outputs": [
      {
       "output_type": "stream",
       "stream": "stdout",
       "text": [
        "/stat/swipe_main?v=tvshop759418&xid=upYqq7IOWG&from=item_6\n",
        "/stat/swipe_main?v=tvshop238487&xid=O4CRHhoFyA&from=item_1\n",
        "/api/rewardapply/todayvisitreward?json=1&v=donmoa73384&xid=7jy7Qx22JD\n",
        "/stat/swipe_main?v=tvshop48925&xid=StJ825u8Rj&from=item_1\n",
        "/chip?title=%ED%99%A9%EA%B8%88%EC%83%81%EC%9E%90&tabbar=hide\n"
       ]
      }
     ],
     "prompt_number": 44
    },
    {
     "cell_type": "code",
     "collapsed": false,
     "input": [
      "for i in range(5):\n",
      "    print(a[i][0:5])"
     ],
     "language": "python",
     "metadata": {},
     "outputs": [
      {
       "output_type": "stream",
       "stream": "stdout",
       "text": [
        "/stat\n",
        "/stat\n",
        "/api/\n",
        "/stat\n",
        "/chip\n"
       ]
      }
     ],
     "prompt_number": 45
    },
    {
     "cell_type": "code",
     "collapsed": false,
     "input": [
      "for i in range(5):\n",
      "    print(a[i][:a[i].find('?')])"
     ],
     "language": "python",
     "metadata": {},
     "outputs": [
      {
       "output_type": "stream",
       "stream": "stdout",
       "text": [
        "/stat/swipe_main\n",
        "/stat/swipe_main\n",
        "/api/rewardapply/todayvisitreward\n",
        "/stat/swipe_main\n",
        "/chip\n"
       ]
      }
     ],
     "prompt_number": 46
    },
    {
     "cell_type": "code",
     "collapsed": false,
     "input": [
      "b = a[0]"
     ],
     "language": "python",
     "metadata": {},
     "outputs": [],
     "prompt_number": 47
    },
    {
     "cell_type": "code",
     "collapsed": false,
     "input": [
      "b.in('?')"
     ],
     "language": "python",
     "metadata": {},
     "outputs": [
      {
       "ename": "SyntaxError",
       "evalue": "invalid syntax (<ipython-input-48-2a6d3d2486a7>, line 1)",
       "output_type": "pyerr",
       "traceback": [
        "\u001b[0;36m  File \u001b[0;32m\"<ipython-input-48-2a6d3d2486a7>\"\u001b[0;36m, line \u001b[0;32m1\u001b[0m\n\u001b[0;31m    b.in('?')\u001b[0m\n\u001b[0m       ^\u001b[0m\n\u001b[0;31mSyntaxError\u001b[0m\u001b[0;31m:\u001b[0m invalid syntax\n"
       ]
      }
     ],
     "prompt_number": 48
    },
    {
     "cell_type": "code",
     "collapsed": false,
     "input": [
      "b in '?'"
     ],
     "language": "python",
     "metadata": {},
     "outputs": [
      {
       "metadata": {},
       "output_type": "pyout",
       "prompt_number": 49,
       "text": [
        "False"
       ]
      }
     ],
     "prompt_number": 49
    },
    {
     "cell_type": "code",
     "collapsed": false,
     "input": [
      "b"
     ],
     "language": "python",
     "metadata": {},
     "outputs": [
      {
       "metadata": {},
       "output_type": "pyout",
       "prompt_number": 50,
       "text": [
        "u'/stat/swipe_main?v=tvshop759418&xid=upYqq7IOWG&from=item_6'"
       ]
      }
     ],
     "prompt_number": 50
    },
    {
     "cell_type": "code",
     "collapsed": false,
     "input": [
      "b in '/'"
     ],
     "language": "python",
     "metadata": {},
     "outputs": [
      {
       "metadata": {},
       "output_type": "pyout",
       "prompt_number": 51,
       "text": [
        "False"
       ]
      }
     ],
     "prompt_number": 51
    },
    {
     "cell_type": "code",
     "collapsed": false,
     "input": [
      "if '?' in b"
     ],
     "language": "python",
     "metadata": {},
     "outputs": [
      {
       "ename": "SyntaxError",
       "evalue": "invalid syntax (<ipython-input-52-d8bf4c74a32b>, line 1)",
       "output_type": "pyerr",
       "traceback": [
        "\u001b[0;36m  File \u001b[0;32m\"<ipython-input-52-d8bf4c74a32b>\"\u001b[0;36m, line \u001b[0;32m1\u001b[0m\n\u001b[0;31m    if '?' in b\u001b[0m\n\u001b[0m               ^\u001b[0m\n\u001b[0;31mSyntaxError\u001b[0m\u001b[0;31m:\u001b[0m invalid syntax\n"
       ]
      }
     ],
     "prompt_number": 52
    },
    {
     "cell_type": "code",
     "collapsed": false,
     "input": [
      "? in b"
     ],
     "language": "python",
     "metadata": {},
     "outputs": [
      {
       "output_type": "stream",
       "stream": "stdout",
       "text": [
        "Object `in` not found.\n"
       ]
      }
     ],
     "prompt_number": 53
    },
    {
     "cell_type": "code",
     "collapsed": false,
     "input": [
      "b"
     ],
     "language": "python",
     "metadata": {},
     "outputs": [
      {
       "metadata": {},
       "output_type": "pyout",
       "prompt_number": 54,
       "text": [
        "u'/stat/swipe_main?v=tvshop759418&xid=upYqq7IOWG&from=item_6'"
       ]
      }
     ],
     "prompt_number": 54
    },
    {
     "cell_type": "code",
     "collapsed": false,
     "input": [
      "type(b)"
     ],
     "language": "python",
     "metadata": {},
     "outputs": [
      {
       "metadata": {},
       "output_type": "pyout",
       "prompt_number": 55,
       "text": [
        "unicode"
       ]
      }
     ],
     "prompt_number": 55
    },
    {
     "cell_type": "code",
     "collapsed": false,
     "input": [
      "b.encode('unicode','ignore')"
     ],
     "language": "python",
     "metadata": {},
     "outputs": [
      {
       "ename": "LookupError",
       "evalue": "unknown encoding: unicode",
       "output_type": "pyerr",
       "traceback": [
        "\u001b[0;31m---------------------------------------------------------------------------\u001b[0m\n\u001b[0;31mLookupError\u001b[0m                               Traceback (most recent call last)",
        "\u001b[0;32m<ipython-input-56-dabd74345551>\u001b[0m in \u001b[0;36m<module>\u001b[0;34m()\u001b[0m\n\u001b[0;32m----> 1\u001b[0;31m \u001b[0mb\u001b[0m\u001b[0;34m.\u001b[0m\u001b[0mencode\u001b[0m\u001b[0;34m(\u001b[0m\u001b[0;34m'unicode'\u001b[0m\u001b[0;34m,\u001b[0m\u001b[0;34m'ignore'\u001b[0m\u001b[0;34m)\u001b[0m\u001b[0;34m\u001b[0m\u001b[0m\n\u001b[0m",
        "\u001b[0;31mLookupError\u001b[0m: unknown encoding: unicode"
       ]
      }
     ],
     "prompt_number": 56
    },
    {
     "cell_type": "code",
     "collapsed": false,
     "input": [
      "b.encode('ascii','ignore')"
     ],
     "language": "python",
     "metadata": {},
     "outputs": [
      {
       "metadata": {},
       "output_type": "pyout",
       "prompt_number": 57,
       "text": [
        "'/stat/swipe_main?v=tvshop759418&xid=upYqq7IOWG&from=item_6'"
       ]
      }
     ],
     "prompt_number": 57
    },
    {
     "cell_type": "code",
     "collapsed": false,
     "input": [
      "c = b.encode('ascii','ignore')"
     ],
     "language": "python",
     "metadata": {},
     "outputs": [],
     "prompt_number": 58
    },
    {
     "cell_type": "code",
     "collapsed": false,
     "input": [
      "c"
     ],
     "language": "python",
     "metadata": {},
     "outputs": [
      {
       "metadata": {},
       "output_type": "pyout",
       "prompt_number": 59,
       "text": [
        "'/stat/swipe_main?v=tvshop759418&xid=upYqq7IOWG&from=item_6'"
       ]
      }
     ],
     "prompt_number": 59
    },
    {
     "cell_type": "code",
     "collapsed": false,
     "input": [
      "type(c)"
     ],
     "language": "python",
     "metadata": {},
     "outputs": [
      {
       "metadata": {},
       "output_type": "pyout",
       "prompt_number": 60,
       "text": [
        "str"
       ]
      }
     ],
     "prompt_number": 60
    },
    {
     "cell_type": "code",
     "collapsed": false,
     "input": [
      "c"
     ],
     "language": "python",
     "metadata": {},
     "outputs": [
      {
       "metadata": {},
       "output_type": "pyout",
       "prompt_number": 61,
       "text": [
        "'/stat/swipe_main?v=tvshop759418&xid=upYqq7IOWG&from=item_6'"
       ]
      }
     ],
     "prompt_number": 61
    },
    {
     "cell_type": "code",
     "collapsed": false,
     "input": [
      "f in c"
     ],
     "language": "python",
     "metadata": {},
     "outputs": [
      {
       "ename": "NameError",
       "evalue": "name 'f' is not defined",
       "output_type": "pyerr",
       "traceback": [
        "\u001b[0;31m---------------------------------------------------------------------------\u001b[0m\n\u001b[0;31mNameError\u001b[0m                                 Traceback (most recent call last)",
        "\u001b[0;32m<ipython-input-62-113e2c82387a>\u001b[0m in \u001b[0;36m<module>\u001b[0;34m()\u001b[0m\n\u001b[0;32m----> 1\u001b[0;31m \u001b[0mf\u001b[0m \u001b[0;32min\u001b[0m \u001b[0mc\u001b[0m\u001b[0;34m\u001b[0m\u001b[0m\n\u001b[0m",
        "\u001b[0;31mNameError\u001b[0m: name 'f' is not defined"
       ]
      }
     ],
     "prompt_number": 62
    },
    {
     "cell_type": "code",
     "collapsed": false,
     "input": [
      "'f' in c"
     ],
     "language": "python",
     "metadata": {},
     "outputs": [
      {
       "metadata": {},
       "output_type": "pyout",
       "prompt_number": 63,
       "text": [
        "True"
       ]
      }
     ],
     "prompt_number": 63
    },
    {
     "cell_type": "code",
     "collapsed": false,
     "input": [
      "'?' in c"
     ],
     "language": "python",
     "metadata": {},
     "outputs": [
      {
       "metadata": {},
       "output_type": "pyout",
       "prompt_number": 64,
       "text": [
        "True"
       ]
      }
     ],
     "prompt_number": 64
    },
    {
     "cell_type": "code",
     "collapsed": false,
     "input": [
      "if 'f' in c"
     ],
     "language": "python",
     "metadata": {},
     "outputs": [
      {
       "ename": "SyntaxError",
       "evalue": "invalid syntax (<ipython-input-65-f89696bccd3a>, line 1)",
       "output_type": "pyerr",
       "traceback": [
        "\u001b[0;36m  File \u001b[0;32m\"<ipython-input-65-f89696bccd3a>\"\u001b[0;36m, line \u001b[0;32m1\u001b[0m\n\u001b[0;31m    if 'f' in c\u001b[0m\n\u001b[0m               ^\u001b[0m\n\u001b[0;31mSyntaxError\u001b[0m\u001b[0;31m:\u001b[0m invalid syntax\n"
       ]
      }
     ],
     "prompt_number": 65
    },
    {
     "cell_type": "code",
     "collapsed": false,
     "input": [
      "if 'f' in c:\n",
      "    print 'Hello'"
     ],
     "language": "python",
     "metadata": {},
     "outputs": [
      {
       "output_type": "stream",
       "stream": "stdout",
       "text": [
        "Hello\n"
       ]
      }
     ],
     "prompt_number": 66
    },
    {
     "cell_type": "code",
     "collapsed": false,
     "input": [
      "if 'f' in c:\n",
      "    print 'Hello'\n",
      "else:\n",
      "    print 'bye'"
     ],
     "language": "python",
     "metadata": {},
     "outputs": [
      {
       "output_type": "stream",
       "stream": "stdout",
       "text": [
        "Hello\n"
       ]
      }
     ],
     "prompt_number": 67
    },
    {
     "cell_type": "code",
     "collapsed": false,
     "input": [
      "ignoreList = ['/api', '/stat', '/first']"
     ],
     "language": "python",
     "metadata": {},
     "outputs": [],
     "prompt_number": 68
    },
    {
     "cell_type": "code",
     "collapsed": false,
     "input": [
      "ignoreList"
     ],
     "language": "python",
     "metadata": {},
     "outputs": [
      {
       "metadata": {},
       "output_type": "pyout",
       "prompt_number": 69,
       "text": [
        "['/api', '/stat', '/first']"
       ]
      }
     ],
     "prompt_number": 69
    },
    {
     "cell_type": "code",
     "collapsed": false,
     "input": [
      "ignoreList"
     ],
     "language": "python",
     "metadata": {},
     "outputs": [
      {
       "metadata": {},
       "output_type": "pyout",
       "prompt_number": 70,
       "text": [
        "['/api', '/stat', '/first']"
       ]
      }
     ],
     "prompt_number": 70
    },
    {
     "cell_type": "code",
     "collapsed": false,
     "input": [
      "for j in ignoreList:\n",
      "    print j"
     ],
     "language": "python",
     "metadata": {},
     "outputs": [
      {
       "output_type": "stream",
       "stream": "stdout",
       "text": [
        "/api\n",
        "/stat\n",
        "/first\n"
       ]
      }
     ],
     "prompt_number": 71
    },
    {
     "cell_type": "code",
     "collapsed": false,
     "input": [
      "a[0:10]"
     ],
     "language": "python",
     "metadata": {},
     "outputs": [
      {
       "metadata": {},
       "output_type": "pyout",
       "prompt_number": 72,
       "text": [
        "0    /stat/swipe_main?v=tvshop759418&xid=upYqq7IOWG...\n",
        "1    /stat/swipe_main?v=tvshop238487&xid=O4CRHhoFyA...\n",
        "2    /api/rewardapply/todayvisitreward?json=1&v=don...\n",
        "3    /stat/swipe_main?v=tvshop48925&xid=StJ825u8Rj&...\n",
        "4    /chip?title=%ED%99%A9%EA%B8%88%EC%83%81%EC%9E%...\n",
        "5    /api/content/actioninfo?json=1&id=229622&v=adm...\n",
        "6    /content/229628?title=%EC%B4%9D%EC%95%8C%ED%94...\n",
        "7    /api/opn/cloudstat?v=tvshop503179&xid=Wg0sGefq...\n",
        "8    /api/entity/actioninfo?v=tvshop687329&xid=Wg0s...\n",
        "9    /api/goodsviewlog/add?v=tvshop75734&xid=Wg0sGe...\n",
        "Name: url, dtype: object"
       ]
      }
     ],
     "prompt_number": 72
    },
    {
     "cell_type": "code",
     "collapsed": false,
     "input": [
      "ignoreList = ['/api', '/stat', '/first']\n",
      "result = []\n",
      "\n",
      "for i in range(10000):\n",
      "    b = a[i].encode('ascii','ignore')\n",
      "    \n",
      "    flag = True\n",
      "    for ignore in ignoreList:\n",
      "        if ignore in b:\n",
      "            flag = False\n",
      "            break\n",
      "    \n",
      "    if flag is not True:\n",
      "        continue\n",
      "            \n",
      "#    print i\n",
      "    if '?' in b:\n",
      "        menu = b[:b.find('?')]\n",
      "    else:\n",
      "        menu = b\n",
      "    if len(menu) <= 1:\n",
      "        continue\n",
      "    result.append(menu)\n",
      "        "
     ],
     "language": "python",
     "metadata": {},
     "outputs": [],
     "prompt_number": 74
    },
    {
     "cell_type": "code",
     "collapsed": false,
     "input": [
      "se = pd.Series(result)"
     ],
     "language": "python",
     "metadata": {},
     "outputs": [],
     "prompt_number": 75
    },
    {
     "cell_type": "code",
     "collapsed": false,
     "input": [
      "se.value_counts()\n",
      "\n",
      "# \uba54\ub274\ubcc4 \ub4f1\uc7a5 \ud69f \uc218 \ucd9c\ub825\n",
      "# /api, /stat, /first, \uacf5\ubc31 \ub4f1\uc744 \uc81c\uac70 \ud6c4 processing"
     ],
     "language": "python",
     "metadata": {},
     "outputs": [
      {
       "metadata": {},
       "output_type": "pyout",
       "prompt_number": 76,
       "text": [
        "/item              291\n",
        "/item/search       114\n",
        "/chip/layer         90\n",
        "/tvshop             44\n",
        "/i                  41\n",
        "/ad/tab2            30\n",
        "/tvshop/install     30\n",
        "/session            29\n",
        "/select/date        24\n",
        "/chip               20\n",
        "/ad/tab1            19\n",
        "/item/alarm         18\n",
        "/reward/list        16\n",
        "/select/cate        14\n",
        "/users/_update      14\n",
        "...\n",
        "/content/182828    1\n",
        "/content/229418    1\n",
        "/content/229593    1\n",
        "/content/229188    1\n",
        "/pu/12053975       1\n",
        "/content/221558    1\n",
        "/content/229588    1\n",
        "/account           1\n",
        "/content/229583    1\n",
        "/content/226448    1\n",
        "/content/229585    1\n",
        "/content/229513    1\n",
        "/content/228901    1\n",
        "/content/229612    1\n",
        "/content/228814    1\n",
        "Length: 151, dtype: int64"
       ]
      }
     ],
     "prompt_number": 76
    },
    {
     "cell_type": "code",
     "collapsed": false,
     "input": [
      "source = pd.DataFrame(data_list)"
     ],
     "language": "python",
     "metadata": {},
     "outputs": [],
     "prompt_number": 77
    },
    {
     "cell_type": "code",
     "collapsed": false,
     "input": [
      "agent = source['agent']"
     ],
     "language": "python",
     "metadata": {},
     "outputs": [],
     "prompt_number": 78
    },
    {
     "cell_type": "code",
     "collapsed": false,
     "input": [
      "strtmp = agent[1].encode('ascii','ignore')"
     ],
     "language": "python",
     "metadata": {},
     "outputs": [],
     "prompt_number": 79
    },
    {
     "cell_type": "code",
     "collapsed": false,
     "input": [
      "p = strtmp[strtmp.find('('):strtmp.find(')')]"
     ],
     "language": "python",
     "metadata": {},
     "outputs": [],
     "prompt_number": 80
    },
    {
     "cell_type": "code",
     "collapsed": false,
     "input": [
      "adf = pd.DataFrame(columns=['1','OS','Device'])"
     ],
     "language": "python",
     "metadata": {},
     "outputs": [],
     "prompt_number": 81
    },
    {
     "cell_type": "code",
     "collapsed": false,
     "input": [
      "q = p.split(';')"
     ],
     "language": "python",
     "metadata": {},
     "outputs": [],
     "prompt_number": 82
    },
    {
     "cell_type": "code",
     "collapsed": false,
     "input": [
      "len(q)"
     ],
     "language": "python",
     "metadata": {},
     "outputs": [
      {
       "metadata": {},
       "output_type": "pyout",
       "prompt_number": 83,
       "text": [
        "5"
       ]
      }
     ],
     "prompt_number": 83
    },
    {
     "cell_type": "code",
     "collapsed": false,
     "input": [
      "\n",
      "type(agent)"
     ],
     "language": "python",
     "metadata": {},
     "outputs": [
      {
       "metadata": {},
       "output_type": "pyout",
       "prompt_number": 84,
       "text": [
        "pandas.core.series.Series"
       ]
      }
     ],
     "prompt_number": 84
    },
    {
     "cell_type": "code",
     "collapsed": false,
     "input": [
      "clist = []\n",
      "for i in range(10000):\n",
      "    strtmp = agent[i].encode('ascii','ignore')\n",
      "    p = strtmp[strtmp.find('('):strtmp.find(')')]\n",
      "    if len(p) <= 1:\n",
      "        continue\n",
      "    q = p.split(';')\n",
      "    clist.append(len(q))\n",
      "    if len(q) is 4:\n",
      "        print i"
     ],
     "language": "python",
     "metadata": {},
     "outputs": [
      {
       "output_type": "stream",
       "stream": "stdout",
       "text": [
        "478\n",
        "519\n",
        "520\n",
        "521\n",
        "522\n",
        "549\n",
        "775\n",
        "906\n",
        "1101\n",
        "1261\n",
        "1661\n",
        "1671\n",
        "1696\n",
        "1797\n",
        "1800\n",
        "1801\n",
        "1828\n",
        "1850\n",
        "1902\n",
        "1930\n",
        "1971\n",
        "1975\n",
        "1978\n",
        "1980\n",
        "2339\n",
        "2532\n",
        "2772\n",
        "2911\n",
        "3006\n",
        "3025\n",
        "3248\n",
        "3599\n",
        "3927\n",
        "3985\n",
        "4008\n",
        "4340\n",
        "4437\n",
        "4492\n",
        "4514\n",
        "4525\n",
        "4737\n",
        "4739\n",
        "4763\n",
        "4847\n",
        "4854\n",
        "4857\n",
        "4895\n",
        "4983\n",
        "5006\n",
        "5551\n",
        "5553\n",
        "5554\n",
        "5612\n",
        "5718\n",
        "5760\n",
        "5762\n",
        "5763\n",
        "5766\n",
        "5874\n",
        "5906\n",
        "5908\n",
        "5909\n",
        "5910\n",
        "5922\n",
        "5926\n",
        "5931\n",
        "5940\n",
        "5958\n",
        "6064\n",
        "6387\n",
        "6454"
       ]
      },
      {
       "output_type": "stream",
       "stream": "stdout",
       "text": [
        "\n",
        "6684\n",
        "6685\n",
        "6805\n",
        "7020\n",
        "7359\n",
        "7393\n",
        "7538\n",
        "7568\n",
        "7725\n",
        "7727\n",
        "7728\n",
        "7782\n",
        "7789\n",
        "7938\n",
        "7986\n",
        "7992\n",
        "7993\n",
        "8473\n",
        "8515\n",
        "8761\n",
        "8876\n",
        "8893\n",
        "9566\n",
        "9604\n",
        "9767\n",
        "9769\n",
        "9862\n",
        "9867\n",
        "9896\n"
       ]
      }
     ],
     "prompt_number": 85
    },
    {
     "cell_type": "code",
     "collapsed": false,
     "input": [
      "agent[303]"
     ],
     "language": "python",
     "metadata": {},
     "outputs": [
      {
       "metadata": {},
       "output_type": "pyout",
       "prompt_number": 86,
       "text": [
        "u'Mozilla/5.0 (Linux; U; Android 4.3; ko-kr; SHV-E210L Build/JSS15J) AppleWebKit/534.30 (KHTML, like Gecko) Version/4.0 Mobile Safari/534.30'"
       ]
      }
     ],
     "prompt_number": 86
    },
    {
     "cell_type": "code",
     "collapsed": false,
     "input": [
      "pd.Series(clist).value_counts()"
     ],
     "language": "python",
     "metadata": {},
     "outputs": [
      {
       "metadata": {},
       "output_type": "pyout",
       "prompt_number": 87,
       "text": [
        "5    5420\n",
        "3    2855\n",
        "2     858\n",
        "4     100\n",
        "1       4\n",
        "dtype: int64"
       ]
      }
     ],
     "prompt_number": 87
    },
    {
     "cell_type": "code",
     "collapsed": false,
     "input": [
      "res1 = []\n",
      "res2 = []\n",
      "res3 = []\n",
      "res4 = []\n",
      "res5 = []\n",
      "for i in range(10000):\n",
      "    strtmp = agent[i].encode('ascii','ignore')\n",
      "    p = strtmp[strtmp.find('('):strtmp.find(')')]\n",
      "    if len(p) <=1:\n",
      "        continue\n",
      "    q = p.split(';')\n",
      "    if len(q) is 5:\n",
      "        res5.append(q)\n",
      "    elif len(q) is 4:\n",
      "        res4.append(q)\n",
      "    elif len(q) is 3:\n",
      "        res3.append(q)\n",
      "    elif len(q) is 2:\n",
      "        res2.append(q)\n",
      "    else:\n",
      "        res1.append(1)"
     ],
     "language": "python",
     "metadata": {},
     "outputs": [],
     "prompt_number": 52
    },
    {
     "cell_type": "code",
     "collapsed": false,
     "input": [
      "pd.DataFrame(res5)[2].value_counts()\n",
      "\n",
      "# \uc0ac\uc6a9 OS \ubd84\ud3ec"
     ],
     "language": "python",
     "metadata": {},
     "outputs": [
      {
       "metadata": {},
       "output_type": "pyout",
       "prompt_number": 53,
       "text": [
        " Android 4.1.2     2299\n",
        " Android 4.3       1494\n",
        " Android 4.0.4      543\n",
        " Android 4.2.2      401\n",
        " Android 4.0.3      178\n",
        " Android 2.3.5      167\n",
        " Android 2.3.6      105\n",
        " Android 2.3.3       74\n",
        " Android 2.3.4       73\n",
        " Android 2.2.2       55\n",
        " Android 4.1.1       23\n",
        " Windows NT 6.2       6\n",
        " Trident/7.0          2\n",
        "dtype: int64"
       ]
      }
     ],
     "prompt_number": 53
    },
    {
     "cell_type": "code",
     "collapsed": false,
     "input": [
      "pd.DataFrame(res5)[4].value_counts()\n",
      "\n",
      "# \uc0ac\uc6a9 Device \ubd84\ud3ec"
     ],
     "language": "python",
     "metadata": {},
     "outputs": [
      {
       "metadata": {},
       "output_type": "pyout",
       "prompt_number": 54,
       "text": [
        " SHV-E250S Build/JSS15J    455\n",
        " SHV-E210S Build/JSS15J    217\n",
        " SHV-E250L Build/JSS15J    217\n",
        " SHV-E250K Build/JSS15J    190\n",
        " IM-A840S Build/JZO54K     170\n",
        " SHV-E250S Build/JZO54K    140\n",
        " SHW-M250S Build/IML74K    131\n",
        " IM-A870S Build/JZO54K     129\n",
        " LG-F200K Build/JZO54K     127\n",
        " IM-A870K Build/JZO54K     126\n",
        " IM-A860K Build/JZO54K     115\n",
        " SHV-E210L Build/JSS15J    106\n",
        " LG-F240L Build/JZO54K     104\n",
        " LG-LU6200 Build/GRJ90     101\n",
        " LG-F200L Build/JZO54K      99\n",
        "...\n",
        " IM-A840SP Build/JZO54K         5\n",
        " SHW-M340S Build/GINGERBREAD    5\n",
        " SM-P600 Build/JSS15J           4\n",
        " LG-F160K Build/JZO54K          4\n",
        " SM-T310 Build/JDQ39            4\n",
        " SHW-M250L Build/GINGERBREAD    4\n",
        " LG-SU870 Build/GRK39F          4\n",
        " KM-S300 Build/GINGERBREAD      4\n",
        " SHV-E110S Build/IMM76D         3\n",
        " SHW-M380S Build/IMM76D         3\n",
        " rv:11.0                        2\n",
        " IM-A830L Build/JZO54K          1\n",
        " LG-F160S Build/JZO54K          1\n",
        " SHW-M340K Build/GINGERBREAD    1\n",
        " LG-F240S Build/JZO54K          1\n",
        "Length: 116, dtype: int64"
       ]
      }
     ],
     "prompt_number": 54
    },
    {
     "cell_type": "code",
     "collapsed": false,
     "input": [
      "pd.DataFrame(res3)[1].value_counts()\n",
      "\n",
      "# \uc0ac\uc6a9 OS \ubd84\ud3ec"
     ],
     "language": "python",
     "metadata": {},
     "outputs": [
      {
       "metadata": {},
       "output_type": "pyout",
       "prompt_number": 58,
       "text": [
        " Android 4.4.2    2809\n",
        " Trident/7.0        31\n",
        " Googlebot/2.1      14\n",
        " bingbot/2.0         1\n",
        "dtype: int64"
       ]
      }
     ],
     "prompt_number": 58
    },
    {
     "cell_type": "code",
     "collapsed": false,
     "input": [
      "pd.DataFrame(res3)[2].value_counts()\n",
      "\n",
      "# \uc0ac\uc6a9 Device"
     ],
     "language": "python",
     "metadata": {},
     "outputs": [
      {
       "metadata": {},
       "output_type": "pyout",
       "prompt_number": 59,
       "text": [
        " SHV-E330S Build/KOT49H              300\n",
        " SM-N900K Build/KOT49H               255\n",
        " SM-N900S Build/KOT49H               229\n",
        " LG-F240L Build/KOT49I.F240L20f      168\n",
        " SHV-E300S Build/KOT49H              167\n",
        " SM-G900S Build/KOT49H               145\n",
        " SHV-E330K Build/KOT49H              120\n",
        " SM-N900L Build/KOT49H               108\n",
        " LG-F320S Build/KOT49I.F320S21u      100\n",
        " LG-F200K Build/KOT49I.F200K30d       92\n",
        " SHV-E330L Build/KOT49H               86\n",
        " LG-F240S Build/KOT49I.F240S20e       75\n",
        " IM-A890K Build/KVT49L                75\n",
        " LG-F320K Build/KOT49I.F320K21p       70\n",
        " LG-F320L Build/KOT49I.F320L21p       66\n",
        " LG-F240K Build/KOT49I.F240K20g       64\n",
        " SM-G900L Build/KOT49H                61\n",
        " LG-F220K Build/KOT49I.F220K20c       60\n",
        " LG-F240K Build/KOT49I.F240K20e       58\n",
        " LG-F400K Build/KVT49L.F400K10g       53\n",
        " SM-G900K Build/KOT49H                41\n",
        " IM-A890S Build/KVT49L                40\n",
        " LG-F400L Build/KVT49L.F400L10g       38\n",
        " SHV-E300K Build/KOT49H               38\n",
        " LG-F350L Build/KOT49I.F350L10k       34\n",
        " rv:11.0                              31\n",
        " LG-F310L Build/KOT49I.F310L20b       30\n",
        " LG-F340S Build/KOT49I.F340S20c       29\n",
        " IM-A900L Build/KOT49H                28\n",
        " LG-F350L Build/KOT49I.F350L10o       27\n",
        " LG-F200L Build/KOT49I.F200L30f       21\n",
        " IM-A900K Build/KOT49H                21\n",
        " LG-F180K Build/KOT49I.F180K30b       19\n",
        " LG-F350S Build/KOT49I.F350S10k       17\n",
        " SM-N9005 Build/KOT49H                15\n",
        " LG-F340L Build/KOT49I.F340L20b       15\n",
        " +http://www.google.com/bot.html      14\n",
        " IM-A910L Build/KVT49L                11\n",
        " IM-A880S Build/KVT49L                10\n",
        " IM-A910S Build/KVT49L                 8\n",
        " LG-F180L Build/KOT49I.F180L30c        6\n",
        " LG-F200S Build/KOT49I.F200S30d        3\n",
        " SM-N900P Build/KOT49H                 3\n",
        " LG-F350K Build/KOT49I.F350K10h        2\n",
        " +http://www.bing.com/bingbot.htm      1\n",
        " LG-F400L Build/KVT49L.F400L10e        1\n",
        "dtype: int64"
       ]
      }
     ],
     "prompt_number": 59
    },
    {
     "cell_type": "code",
     "collapsed": false,
     "input": [
      "pd.DataFrame(res4)[2].value_counts()"
     ],
     "language": "python",
     "metadata": {},
     "outputs": [
      {
       "metadata": {},
       "output_type": "pyout",
       "prompt_number": 63,
       "text": [
        " Trident/7.0      98\n",
        " Android 4.4.2     2\n",
        "dtype: int64"
       ]
      }
     ],
     "prompt_number": 63
    },
    {
     "cell_type": "code",
     "collapsed": false,
     "input": [
      "host = df['host']"
     ],
     "language": "python",
     "metadata": {},
     "outputs": [],
     "prompt_number": 65
    },
    {
     "cell_type": "code",
     "collapsed": false,
     "input": [
      "hostunique = host.unique()"
     ],
     "language": "python",
     "metadata": {},
     "outputs": [],
     "prompt_number": 69
    },
    {
     "cell_type": "code",
     "collapsed": false,
     "input": [
      "len(hostunique)\n",
      "\n",
      "# \uc811\uc18d \uc720\uc800\uc758 \uc218"
     ],
     "language": "python",
     "metadata": {},
     "outputs": [
      {
       "metadata": {},
       "output_type": "pyout",
       "prompt_number": 71,
       "text": [
        "471"
       ]
      }
     ],
     "prompt_number": 71
    },
    {
     "cell_type": "code",
     "collapsed": false,
     "input": [
      "type(hostunique)"
     ],
     "language": "python",
     "metadata": {},
     "outputs": [
      {
       "metadata": {},
       "output_type": "pyout",
       "prompt_number": 72,
       "text": [
        "numpy.ndarray"
       ]
      }
     ],
     "prompt_number": 72
    },
    {
     "cell_type": "code",
     "collapsed": false,
     "input": [
      "df.columns"
     ],
     "language": "python",
     "metadata": {},
     "outputs": [
      {
       "metadata": {},
       "output_type": "pyout",
       "prompt_number": 78,
       "text": [
        "Index([u'@timestamp', u'agent', u'duration', u'host', u'size', u'url'], dtype='object')"
       ]
      }
     ],
     "prompt_number": 78
    },
    {
     "cell_type": "code",
     "collapsed": false,
     "input": [
      "type(hostunique)"
     ],
     "language": "python",
     "metadata": {},
     "outputs": [
      {
       "metadata": {},
       "output_type": "pyout",
       "prompt_number": 82,
       "text": [
        "numpy.ndarray"
       ]
      }
     ],
     "prompt_number": 82
    },
    {
     "cell_type": "code",
     "collapsed": false,
     "input": [
      "sorted_df = df.sort_index(by=['host','@timestamp'], ascending=[True, False])"
     ],
     "language": "python",
     "metadata": {},
     "outputs": [],
     "prompt_number": 94
    },
    {
     "cell_type": "code",
     "collapsed": false,
     "input": [
      "sorted_df['host'].unique()"
     ],
     "language": "python",
     "metadata": {},
     "outputs": [
      {
       "metadata": {},
       "output_type": "pyout",
       "prompt_number": 104,
       "text": [
        "array([u'1.176.107.234', u'1.176.136.206', u'1.177.71.241',\n",
        "       u'1.229.22.229', u'1.230.167.3', u'1.231.93.245', u'1.242.197.20',\n",
        "       u'1.242.43.249', u'1.245.176.251', u'1.246.59.30', u'1.250.236.112',\n",
        "       u'1.251.115.161', u'1.251.246.47', u'1.252.214.246',\n",
        "       u'110.10.198.7', u'110.10.52.86', u'110.12.109.35',\n",
        "       u'110.13.219.53', u'110.15.179.69', u'110.70.44.133',\n",
        "       u'110.70.45.114', u'110.70.46.136', u'110.70.46.193',\n",
        "       u'110.70.46.212', u'110.70.46.221', u'110.70.47.183',\n",
        "       u'110.70.47.227', u'110.70.47.250', u'110.70.49.153',\n",
        "       u'110.70.50.136', u'110.70.50.196', u'110.70.50.234',\n",
        "       u'110.70.51.190', u'110.70.51.249', u'110.70.51.253',\n",
        "       u'110.70.52.102', u'110.70.52.53', u'110.70.53.222',\n",
        "       u'110.70.53.226', u'110.70.53.236', u'110.70.54.109',\n",
        "       u'110.70.55.222', u'110.70.55.52', u'110.70.59.220',\n",
        "       u'110.8.162.58', u'110.9.162.100', u'111.87.58.207',\n",
        "       u'112.109.53.229', u'112.140.230.130', u'112.140.247.99',\n",
        "       u'112.144.136.127', u'112.152.133.3', u'112.152.163.173',\n",
        "       u'112.152.201.151', u'112.153.152.135', u'112.153.84.139',\n",
        "       u'112.155.130.50', u'112.155.135.157', u'112.156.237.81',\n",
        "       u'112.162.108.156', u'112.162.131.219', u'112.164.206.47',\n",
        "       u'112.167.233.202', u'112.168.98.131', u'112.186.254.134',\n",
        "       u'112.214.45.54', u'112.221.215.138', u'112.72.169.83',\n",
        "       u'114.108.48.20', u'114.201.51.165', u'114.203.104.17',\n",
        "       u'114.204.250.179', u'114.206.57.249', u'115.136.247.40',\n",
        "       u'115.137.110.34', u'115.137.236.167', u'115.137.35.125',\n",
        "       u'115.20.187.142', u'115.23.186.129', u'115.23.199.190',\n",
        "       u'115.41.24.220', u'115.95.181.165', u'116.120.188.246',\n",
        "       u'116.121.136.79', u'116.121.216.200', u'116.122.142.2',\n",
        "       u'116.127.125.10', u'116.127.150.10', u'116.36.68.51',\n",
        "       u'116.37.114.8', u'116.37.122.241', u'116.39.217.171',\n",
        "       u'116.40.14.24', u'117.111.1.99', u'117.111.10.228',\n",
        "       u'117.111.10.62', u'117.111.11.248', u'117.111.12.159',\n",
        "       u'117.111.12.210', u'117.111.12.222', u'117.111.12.246',\n",
        "       u'117.111.13.183', u'117.111.14.174', u'117.111.14.185',\n",
        "       u'117.111.15.92', u'117.111.16.17', u'117.111.17.103',\n",
        "       u'117.111.17.57', u'117.111.17.91', u'117.111.18.39',\n",
        "       u'117.111.2.161', u'117.111.4.152', u'117.111.5.75',\n",
        "       u'117.111.7.146', u'117.111.8.79', u'117.123.131.238',\n",
        "       u'117.20.252.18', u'117.52.82.250', u'118.176.246.27',\n",
        "       u'118.216.237.127', u'118.37.179.72', u'118.43.145.124',\n",
        "       u'118.43.155.2', u'118.43.37.33', u'118.43.66.142', u'119.18.88.73',\n",
        "       u'119.194.132.234', u'119.195.17.74', u'119.196.238.237',\n",
        "       u'119.199.42.108', u'119.207.234.82', u'119.70.225.72',\n",
        "       u'119.70.27.162', u'119.70.44.7', u'121.100.97.146',\n",
        "       u'121.125.242.20', u'121.132.111.82', u'121.135.91.87',\n",
        "       u'121.147.188.93', u'121.149.35.116', u'121.152.34.20',\n",
        "       u'121.152.62.209', u'121.159.85.97', u'121.164.147.194',\n",
        "       u'121.170.21.135', u'121.174.215.139', u'121.182.80.58',\n",
        "       u'121.186.110.142', u'121.187.182.60', u'121.188.160.163',\n",
        "       u'121.78.146.137', u'122.252.126.234', u'122.35.158.2',\n",
        "       u'122.35.171.144', u'122.36.188.36', u'123.228.75.213',\n",
        "       u'124.46.230.44', u'124.50.171.143', u'124.51.176.159',\n",
        "       u'124.51.225.138', u'124.51.59.177', u'124.53.199.173',\n",
        "       u'124.54.125.119', u'124.54.215.131', u'124.54.79.139',\n",
        "       u'125.128.173.110', u'125.128.251.39', u'125.142.250.191',\n",
        "       u'125.149.115.21', u'125.177.31.144', u'125.178.195.141',\n",
        "       u'125.179.169.175', u'125.180.97.77', u'125.182.168.147',\n",
        "       u'125.182.224.162', u'125.186.180.139', u'125.208.76.146',\n",
        "       u'125.209.211.202', u'125.209.211.209', u'127.0.0.1',\n",
        "       u'14.33.53.177', u'14.36.34.189', u'14.38.191.53', u'14.43.162.139',\n",
        "       u'14.44.110.151', u'14.45.208.136', u'14.52.54.153',\n",
        "       u'14.54.235.50', u'14.63.30.101', u'172.249.94.4',\n",
        "       u'175.114.204.125', u'175.114.252.138', u'175.114.46.88',\n",
        "       u'175.115.253.164', u'175.118.68.138', u'175.119.135.66',\n",
        "       u'175.192.190.81', u'175.192.195.224', u'175.194.118.69',\n",
        "       u'175.196.142.192', u'175.198.4.8', u'175.199.73.87',\n",
        "       u'175.200.7.114', u'175.201.64.37', u'175.202.187.183',\n",
        "       u'175.205.163.181', u'175.205.248.81', u'175.211.99.111',\n",
        "       u'175.214.99.243', u'175.215.57.230', u'175.223.11.180',\n",
        "       u'175.223.11.240', u'175.223.12.49', u'175.223.13.162',\n",
        "       u'175.223.15.168', u'175.223.15.170', u'175.223.19.244',\n",
        "       u'175.223.20.182', u'175.223.20.238', u'175.223.21.76',\n",
        "       u'175.223.28.73', u'175.223.32.42', u'175.223.32.7',\n",
        "       u'175.223.32.83', u'175.223.37.186', u'175.223.37.46',\n",
        "       u'175.223.9.68', u'175.253.81.155', u'175.255.232.247',\n",
        "       u'180.228.59.17', u'180.230.132.106', u'180.230.223.208',\n",
        "       u'180.230.24.15', u'180.64.178.41', u'180.65.5.197',\n",
        "       u'180.66.250.10', u'180.66.97.87', u'182.210.136.187',\n",
        "       u'182.210.82.211', u'182.211.19.76', u'182.214.189.117',\n",
        "       u'182.216.168.55', u'182.220.106.103', u'182.220.51.30',\n",
        "       u'182.221.205.12', u'182.221.218.114', u'182.222.224.12',\n",
        "       u'182.224.180.56', u'182.224.30.161', u'182.225.17.126',\n",
        "       u'182.229.78.158', u'182.230.180.46', u'182.230.192.167',\n",
        "       u'183.101.168.171', u'183.102.117.201', u'183.104.162.138',\n",
        "       u'183.104.17.154', u'183.104.223.235', u'183.104.38.67',\n",
        "       u'183.105.165.78', u'183.105.40.150', u'183.109.92.22',\n",
        "       u'183.78.195.90', u'183.78.208.40', u'183.97.208.24',\n",
        "       u'203.226.192.34', u'203.226.200.133', u'203.226.201.91',\n",
        "       u'203.226.206.100', u'203.226.206.4', u'203.226.207.112',\n",
        "       u'203.226.208.4', u'203.226.208.66', u'203.226.208.78',\n",
        "       u'203.226.212.12', u'203.226.212.45', u'203.226.213.95',\n",
        "       u'203.243.151.30', u'207.46.13.96', u'210.106.4.37',\n",
        "       u'210.113.77.41', u'210.121.110.6', u'211.109.209.37',\n",
        "       u'211.173.138.39', u'211.179.117.94', u'211.179.37.232',\n",
        "       u'211.186.80.151', u'211.197.193.222', u'211.200.119.106',\n",
        "       u'211.207.194.65', u'211.207.195.72', u'211.209.67.60',\n",
        "       u'211.210.246.179', u'211.210.252.191', u'211.211.151.159',\n",
        "       u'211.211.92.236', u'211.215.2.218', u'211.215.212.152',\n",
        "       u'211.221.8.242', u'211.221.89.229', u'211.224.233.101',\n",
        "       u'211.232.217.222', u'211.234.201.192', u'211.234.201.209',\n",
        "       u'211.234.43.233', u'211.234.43.245', u'211.237.176.48',\n",
        "       u'211.36.141.103', u'211.36.141.114', u'211.36.142.163',\n",
        "       u'211.36.143.85', u'211.36.143.9', u'211.36.144.181',\n",
        "       u'211.36.144.95', u'211.36.145.239', u'211.36.146.160',\n",
        "       u'211.36.146.180', u'211.36.146.190', u'211.36.146.8',\n",
        "       u'211.36.148.110', u'211.36.148.84', u'211.36.149.130',\n",
        "       u'211.36.149.35', u'211.36.150.204', u'211.36.152.74',\n",
        "       u'211.36.153.173', u'211.36.158.233', u'211.59.21.43',\n",
        "       u'211.63.231.37', u'218.149.124.154', u'218.153.33.183',\n",
        "       u'218.156.103.180', u'218.157.227.133', u'218.212.233.252',\n",
        "       u'218.232.129.183', u'218.232.139.30', u'218.237.178.128',\n",
        "       u'218.37.211.163', u'218.48.75.219', u'218.49.229.51',\n",
        "       u'218.53.154.117', u'218.55.172.116', u'219.250.132.80',\n",
        "       u'219.250.42.61', u'219.254.63.164', u'219.254.95.94',\n",
        "       u'220.122.174.202', u'220.125.67.251', u'220.75.221.218',\n",
        "       u'220.87.14.138', u'221.144.82.193', u'221.164.122.112',\n",
        "       u'222.105.234.111', u'222.109.82.119', u'222.114.71.233',\n",
        "       u'222.116.112.154', u'222.233.86.222', u'222.99.175.14',\n",
        "       u'223.131.6.129', u'223.32.41.184', u'223.33.153.112',\n",
        "       u'223.33.153.16', u'223.33.153.79', u'223.33.160.79',\n",
        "       u'223.33.184.102', u'223.33.184.22', u'223.33.184.35',\n",
        "       u'223.33.184.96', u'223.33.186.101', u'223.33.186.106',\n",
        "       u'223.33.186.122', u'223.62.162.71', u'223.62.162.87',\n",
        "       u'223.62.163.3', u'223.62.163.81', u'223.62.163.95',\n",
        "       u'223.62.169.35', u'223.62.169.63', u'223.62.169.80',\n",
        "       u'223.62.172.111', u'223.62.172.38', u'223.62.172.54',\n",
        "       u'223.62.172.66', u'223.62.172.68', u'223.62.172.81',\n",
        "       u'223.62.173.177', u'223.62.178.123', u'223.62.179.116',\n",
        "       u'223.62.179.14', u'223.62.179.29', u'223.62.179.31',\n",
        "       u'223.62.179.5', u'223.62.179.54', u'223.62.179.80',\n",
        "       u'223.62.188.32', u'223.62.188.40', u'223.62.188.50',\n",
        "       u'223.62.188.75', u'223.62.188.84', u'223.62.190.115',\n",
        "       u'223.62.190.18', u'223.62.190.72', u'223.62.190.76',\n",
        "       u'223.62.202.22', u'223.62.202.43', u'223.62.202.57',\n",
        "       u'223.62.202.95', u'223.62.203.13', u'223.62.203.5',\n",
        "       u'223.62.203.88', u'223.62.204.24', u'223.62.204.87',\n",
        "       u'223.62.212.95', u'223.62.213.10', u'223.62.213.124',\n",
        "       u'27.100.222.178', u'27.117.51.252', u'27.117.68.13',\n",
        "       u'27.124.239.210', u'39.112.242.157', u'39.114.237.76',\n",
        "       u'39.114.56.157', u'39.118.132.60', u'39.7.45.92', u'39.7.48.28',\n",
        "       u'39.7.51.173', u'39.7.52.67', u'39.7.55.196', u'39.7.55.225',\n",
        "       u'39.7.55.246', u'39.7.57.238', u'39.7.57.36', u'39.7.57.60',\n",
        "       u'39.7.58.212', u'39.7.59.227', u'39.7.59.32', u'39.7.59.68',\n",
        "       u'42.82.155.216', u'42.82.254.164', u'58.121.169.101',\n",
        "       u'58.125.235.104', u'58.142.197.166', u'58.143.53.81',\n",
        "       u'58.225.105.148', u'58.228.255.12', u'59.10.99.249',\n",
        "       u'59.12.134.41', u'59.15.52.65', u'59.16.161.112', u'59.16.200.109',\n",
        "       u'59.22.248.107', u'59.28.183.192', u'59.4.171.135', u'59.5.235.68',\n",
        "       u'59.7.176.132', u'61.105.40.228', u'61.109.28.38',\n",
        "       u'61.111.15.166', u'61.252.246.229', u'61.79.55.195',\n",
        "       u'61.81.119.250', u'61.84.57.90', u'61.85.167.100', u'61.85.43.251',\n",
        "       u'66.249.74.198', u'66.249.77.227', u'66.249.77.237',\n",
        "       u'66.249.77.247', u'66.249.77.249', u'66.249.77.39', u'66.249.77.49'], dtype=object)"
       ]
      }
     ],
     "prompt_number": 104
    },
    {
     "cell_type": "code",
     "collapsed": false,
     "input": [
      "sorted_df['host'].unique()[0] is sorted_df['host'][0]"
     ],
     "language": "python",
     "metadata": {},
     "outputs": [
      {
       "metadata": {},
       "output_type": "pyout",
       "prompt_number": 109,
       "text": [
        "False"
       ]
      }
     ],
     "prompt_number": 109
    },
    {
     "cell_type": "code",
     "collapsed": false,
     "input": [
      "sorted_df"
     ],
     "language": "python",
     "metadata": {},
     "outputs": [
      {
       "html": [
        "<div style=\"max-height:1000px;max-width:1500px;overflow:auto;\">\n",
        "<table border=\"1\" class=\"dataframe\">\n",
        "  <thead>\n",
        "    <tr style=\"text-align: right;\">\n",
        "      <th></th>\n",
        "      <th>@timestamp</th>\n",
        "      <th>agent</th>\n",
        "      <th>duration</th>\n",
        "      <th>host</th>\n",
        "      <th>size</th>\n",
        "      <th>url</th>\n",
        "    </tr>\n",
        "  </thead>\n",
        "  <tbody>\n",
        "    <tr>\n",
        "      <th>5396</th>\n",
        "      <td> 2014-07-06T16:18:13+09:00</td>\n",
        "      <td>                                                 -</td>\n",
        "      <td> 0.000</td>\n",
        "      <td> 1.176.107.234</td>\n",
        "      <td>   0</td>\n",
        "      <td>                                                 -</td>\n",
        "    </tr>\n",
        "    <tr>\n",
        "      <th>5397</th>\n",
        "      <td> 2014-07-06T16:18:13+09:00</td>\n",
        "      <td>                                                 -</td>\n",
        "      <td> 0.000</td>\n",
        "      <td> 1.176.107.234</td>\n",
        "      <td>   0</td>\n",
        "      <td>                                                 -</td>\n",
        "    </tr>\n",
        "    <tr>\n",
        "      <th>7380</th>\n",
        "      <td> 2014-07-06T16:18:13+09:00</td>\n",
        "      <td>                                                 -</td>\n",
        "      <td> 0.000</td>\n",
        "      <td> 1.176.107.234</td>\n",
        "      <td>   0</td>\n",
        "      <td>                                                 -</td>\n",
        "    </tr>\n",
        "    <tr>\n",
        "      <th>1350</th>\n",
        "      <td> 2014-07-06T16:18:12+09:00</td>\n",
        "      <td> Mozilla/5.0 (Linux; U; Android 4.1.2; ko-kr; I...</td>\n",
        "      <td> 0.121</td>\n",
        "      <td> 1.176.107.234</td>\n",
        "      <td> 612</td>\n",
        "      <td>        /ad/tab2?tab=2&amp;title=&amp;nav=hide&amp;tabbar=show</td>\n",
        "    </tr>\n",
        "    <tr>\n",
        "      <th>5259</th>\n",
        "      <td> 2014-07-06T16:17:51+09:00</td>\n",
        "      <td> Mozilla/5.0 (Linux; U; Android 4.1.2; ko-kr; I...</td>\n",
        "      <td> 0.052</td>\n",
        "      <td> 1.176.107.234</td>\n",
        "      <td> 646</td>\n",
        "      <td> /api/cmt/getlist?skin=skin%2F_skin_cmt_list&amp;ac...</td>\n",
        "    </tr>\n",
        "    <tr>\n",
        "      <th>5265</th>\n",
        "      <td> 2014-07-06T16:17:51+09:00</td>\n",
        "      <td> Mozilla/5.0 (Linux; U; Android 4.1.2; ko-kr; I...</td>\n",
        "      <td> 0.527</td>\n",
        "      <td> 1.176.107.234</td>\n",
        "      <td> 622</td>\n",
        "      <td> /api/content/getlist?skin=skin%2F_skin_content...</td>\n",
        "    </tr>\n",
        "    <tr>\n",
        "      <th>1228</th>\n",
        "      <td> 2014-07-06T16:17:50+09:00</td>\n",
        "      <td> Mozilla/5.0 (Linux; U; Android 4.1.2; ko-kr; I...</td>\n",
        "      <td> 0.040</td>\n",
        "      <td> 1.176.107.234</td>\n",
        "      <td> 583</td>\n",
        "      <td> /api/product/getinfo?json=1&amp;id=lwBcnnpVki&amp;v=do...</td>\n",
        "    </tr>\n",
        "    <tr>\n",
        "      <th>1229</th>\n",
        "      <td> 2014-07-06T16:17:50+09:00</td>\n",
        "      <td> Mozilla/5.0 (Linux; U; Android 4.1.2; ko-kr; I...</td>\n",
        "      <td> 0.011</td>\n",
        "      <td> 1.176.107.234</td>\n",
        "      <td> 549</td>\n",
        "      <td> /stat/main?service=donmoa&amp;v=donmoa19741&amp;xid=q9...</td>\n",
        "    </tr>\n",
        "    <tr>\n",
        "      <th>3246</th>\n",
        "      <td> 2014-07-06T16:17:50+09:00</td>\n",
        "      <td> Mozilla/5.0 (Linux; U; Android 4.1.2; ko-kr; I...</td>\n",
        "      <td> 0.050</td>\n",
        "      <td> 1.176.107.234</td>\n",
        "      <td> 667</td>\n",
        "      <td> /api/cmt/getlist?skin=skin%2F_skin_cmt_list&amp;ac...</td>\n",
        "    </tr>\n",
        "    <tr>\n",
        "      <th>7247</th>\n",
        "      <td> 2014-07-06T16:17:50+09:00</td>\n",
        "      <td> Mozilla/5.0 (Linux; U; Android 4.1.2; ko-kr; I...</td>\n",
        "      <td> 0.037</td>\n",
        "      <td> 1.176.107.234</td>\n",
        "      <td> 658</td>\n",
        "      <td> /api/cmt/getlist?skin=skin%2F_skin_cmt_list&amp;ac...</td>\n",
        "    </tr>\n",
        "    <tr>\n",
        "      <th>7248</th>\n",
        "      <td> 2014-07-06T16:17:50+09:00</td>\n",
        "      <td> Mozilla/5.0 (Linux; U; Android 4.1.2; ko-kr; I...</td>\n",
        "      <td> 0.035</td>\n",
        "      <td> 1.176.107.234</td>\n",
        "      <td> 659</td>\n",
        "      <td> /api/content/getlist?skin=skin%2F_skin_content...</td>\n",
        "    </tr>\n",
        "    <tr>\n",
        "      <th>7249</th>\n",
        "      <td> 2014-07-06T16:17:50+09:00</td>\n",
        "      <td> Mozilla/5.0 (Linux; U; Android 4.1.2; ko-kr; I...</td>\n",
        "      <td> 0.031</td>\n",
        "      <td> 1.176.107.234</td>\n",
        "      <td> 777</td>\n",
        "      <td> /api/device/pushcode?device_code=df8391e8dc1ee...</td>\n",
        "    </tr>\n",
        "    <tr>\n",
        "      <th>9233</th>\n",
        "      <td> 2014-07-06T16:17:50+09:00</td>\n",
        "      <td> Mozilla/5.0 (Linux; U; Android 4.1.2; ko-kr; I...</td>\n",
        "      <td> 0.028</td>\n",
        "      <td> 1.176.107.234</td>\n",
        "      <td> 582</td>\n",
        "      <td> /api/content/actioninfo?json=1&amp;id=192373&amp;v=don...</td>\n",
        "    </tr>\n",
        "    <tr>\n",
        "      <th>1222</th>\n",
        "      <td> 2014-07-06T16:17:49+09:00</td>\n",
        "      <td> Mozilla/5.0 (Linux; U; Android 4.1.2; ko-kr; I...</td>\n",
        "      <td> 0.182</td>\n",
        "      <td> 1.176.107.234</td>\n",
        "      <td> 939</td>\n",
        "      <td>                                            /first</td>\n",
        "    </tr>\n",
        "    <tr>\n",
        "      <th>5245</th>\n",
        "      <td> 2014-07-06T16:17:49+09:00</td>\n",
        "      <td>                                                 -</td>\n",
        "      <td> 0.000</td>\n",
        "      <td> 1.176.107.234</td>\n",
        "      <td>   0</td>\n",
        "      <td>                                                 -</td>\n",
        "    </tr>\n",
        "    <tr>\n",
        "      <th>5247</th>\n",
        "      <td> 2014-07-06T16:17:49+09:00</td>\n",
        "      <td> Mozilla/5.0 (Linux; U; Android 4.1.2; ko-kr; I...</td>\n",
        "      <td> 0.052</td>\n",
        "      <td> 1.176.107.234</td>\n",
        "      <td> 548</td>\n",
        "      <td>                          /content/192373?nav=show</td>\n",
        "    </tr>\n",
        "    <tr>\n",
        "      <th>7230</th>\n",
        "      <td> 2014-07-06T16:17:46+09:00</td>\n",
        "      <td> Mozilla/5.0 (Linux; U; Android 4.1.2; ko-kr; I...</td>\n",
        "      <td> 0.063</td>\n",
        "      <td> 1.176.107.234</td>\n",
        "      <td> 594</td>\n",
        "      <td>                          /content/192373?nav=show</td>\n",
        "    </tr>\n",
        "    <tr>\n",
        "      <th>6025</th>\n",
        "      <td> 2014-07-06T16:20:07+09:00</td>\n",
        "      <td> Mozilla/5.0 (Linux; Android 4.4.2; SM-G900L Bu...</td>\n",
        "      <td> 0.011</td>\n",
        "      <td> 1.176.136.206</td>\n",
        "      <td> 485</td>\n",
        "      <td> /stat/swipe_main?v=tvshop105501&amp;xid=VCXMs1HdD8...</td>\n",
        "    </tr>\n",
        "    <tr>\n",
        "      <th>3952</th>\n",
        "      <td> 2014-07-06T16:20:03+09:00</td>\n",
        "      <td> Mozilla/5.0 (Linux; Android 4.4.2; SM-G900L Bu...</td>\n",
        "      <td> 0.010</td>\n",
        "      <td> 1.176.136.206</td>\n",
        "      <td> 480</td>\n",
        "      <td> /stat/swipe_main?v=tvshop189163&amp;xid=VCXMs1HdD8...</td>\n",
        "    </tr>\n",
        "    <tr>\n",
        "      <th>7967</th>\n",
        "      <td> 2014-07-06T16:20:00+09:00</td>\n",
        "      <td> Mozilla/5.0 (Linux; Android 4.4.2; SM-G900L Bu...</td>\n",
        "      <td> 0.009</td>\n",
        "      <td> 1.176.136.206</td>\n",
        "      <td> 480</td>\n",
        "      <td> /stat/swipe_main?v=tvshop550734&amp;xid=VCXMs1HdD8...</td>\n",
        "    </tr>\n",
        "    <tr>\n",
        "      <th>7953</th>\n",
        "      <td> 2014-07-06T16:19:56+09:00</td>\n",
        "      <td> Mozilla/5.0 (Linux; Android 4.4.2; SM-G900L Bu...</td>\n",
        "      <td> 0.011</td>\n",
        "      <td> 1.176.136.206</td>\n",
        "      <td> 480</td>\n",
        "      <td> /stat/swipe_main?v=tvshop521544&amp;xid=VCXMs1HdD8...</td>\n",
        "    </tr>\n",
        "    <tr>\n",
        "      <th>7942</th>\n",
        "      <td> 2014-07-06T16:19:54+09:00</td>\n",
        "      <td> Mozilla/5.0 (Linux; Android 4.4.2; SM-G900L Bu...</td>\n",
        "      <td> 0.075</td>\n",
        "      <td> 1.176.136.206</td>\n",
        "      <td> 610</td>\n",
        "      <td> /api/goods/getitemlist?v=tvshop717117&amp;xid=VCXM...</td>\n",
        "    </tr>\n",
        "    <tr>\n",
        "      <th>5946</th>\n",
        "      <td> 2014-07-06T16:19:53+09:00</td>\n",
        "      <td> Mozilla/5.0 (Linux; Android 4.4.2; SM-G900L Bu...</td>\n",
        "      <td> 0.009</td>\n",
        "      <td> 1.176.136.206</td>\n",
        "      <td> 480</td>\n",
        "      <td> /stat/swipe_main?v=tvshop654664&amp;xid=VCXMs1HdD8...</td>\n",
        "    </tr>\n",
        "    <tr>\n",
        "      <th>9899</th>\n",
        "      <td> 2014-07-06T16:19:50+09:00</td>\n",
        "      <td> Mozilla/5.0 (Linux; Android 4.4.2; SM-G900L Bu...</td>\n",
        "      <td> 0.006</td>\n",
        "      <td> 1.176.136.206</td>\n",
        "      <td> 480</td>\n",
        "      <td> /stat/swipe_main?v=tvshop416602&amp;xid=VCXMs1HdD8...</td>\n",
        "    </tr>\n",
        "    <tr>\n",
        "      <th>9882</th>\n",
        "      <td> 2014-07-06T16:19:46+09:00</td>\n",
        "      <td> Mozilla/5.0 (Linux; Android 4.4.2; SM-G900L Bu...</td>\n",
        "      <td> 0.010</td>\n",
        "      <td> 1.176.136.206</td>\n",
        "      <td> 480</td>\n",
        "      <td> /stat/swipe_main?v=tvshop298325&amp;xid=VCXMs1HdD8...</td>\n",
        "    </tr>\n",
        "    <tr>\n",
        "      <th>1844</th>\n",
        "      <td> 2014-07-06T16:19:44+09:00</td>\n",
        "      <td> Mozilla/5.0 (Linux; Android 4.4.2; SM-G900L Bu...</td>\n",
        "      <td> 0.175</td>\n",
        "      <td> 1.176.136.206</td>\n",
        "      <td> 508</td>\n",
        "      <td> /api/user/istodaynewvisit?v=tvshop506571&amp;xid=V...</td>\n",
        "    </tr>\n",
        "    <tr>\n",
        "      <th>1845</th>\n",
        "      <td> 2014-07-06T16:19:44+09:00</td>\n",
        "      <td> Mozilla/5.0 (Linux; Android 4.4.2; SM-G900L Bu...</td>\n",
        "      <td> 0.014</td>\n",
        "      <td> 1.176.136.206</td>\n",
        "      <td> 485</td>\n",
        "      <td> /stat/recotodayall?v=tvshop53741&amp;xid=VCXMs1HdD...</td>\n",
        "    </tr>\n",
        "    <tr>\n",
        "      <th>7883</th>\n",
        "      <td> 2014-07-06T16:19:44+09:00</td>\n",
        "      <td> Mozilla/5.0 (Linux; Android 4.4.2; SM-G900L Bu...</td>\n",
        "      <td> 0.086</td>\n",
        "      <td> 1.176.136.206</td>\n",
        "      <td> 515</td>\n",
        "      <td> /api/reco/recotodayadgoods?v=tvshop531515&amp;xid=...</td>\n",
        "    </tr>\n",
        "    <tr>\n",
        "      <th>1839</th>\n",
        "      <td> 2014-07-06T16:19:43+09:00</td>\n",
        "      <td> Mozilla/5.0 (Linux; Android 4.4.2; SM-G900L Bu...</td>\n",
        "      <td> 0.040</td>\n",
        "      <td> 1.176.136.206</td>\n",
        "      <td> 485</td>\n",
        "      <td> /api/search/getrecokeyword?v=tvshop794834&amp;xid=...</td>\n",
        "    </tr>\n",
        "    <tr>\n",
        "      <th>1840</th>\n",
        "      <td> 2014-07-06T16:19:43+09:00</td>\n",
        "      <td> Mozilla/5.0 (Linux; Android 4.4.2; SM-G900L Bu...</td>\n",
        "      <td> 0.037</td>\n",
        "      <td> 1.176.136.206</td>\n",
        "      <td> 482</td>\n",
        "      <td> /api/goods/getvideoinfo?v=tvshop735433&amp;xid=VCX...</td>\n",
        "    </tr>\n",
        "    <tr>\n",
        "      <th>...</th>\n",
        "      <td>...</td>\n",
        "      <td>...</td>\n",
        "      <td>...</td>\n",
        "      <td>...</td>\n",
        "      <td>...</td>\n",
        "      <td>...</td>\n",
        "    </tr>\n",
        "    <tr>\n",
        "      <th>5848</th>\n",
        "      <td> 2014-07-06T16:19:38+09:00</td>\n",
        "      <td> Mozilla/5.0 (Linux; U; Android 4.1.2; ko-kr; L...</td>\n",
        "      <td> 0.009</td>\n",
        "      <td> 61.85.167.100</td>\n",
        "      <td> 521</td>\n",
        "      <td> /stat/swipe_main?v=tvshop890670&amp;xid=Dcv7oXmrAU...</td>\n",
        "    </tr>\n",
        "    <tr>\n",
        "      <th>9811</th>\n",
        "      <td> 2014-07-06T16:19:34+09:00</td>\n",
        "      <td> Mozilla/5.0 (Linux; U; Android 4.1.2; ko-kr; L...</td>\n",
        "      <td> 0.005</td>\n",
        "      <td> 61.85.167.100</td>\n",
        "      <td> 521</td>\n",
        "      <td> /stat/swipe_main?v=tvshop431670&amp;xid=Dcv7oXmrAU...</td>\n",
        "    </tr>\n",
        "    <tr>\n",
        "      <th>9792</th>\n",
        "      <td> 2014-07-06T16:19:31+09:00</td>\n",
        "      <td> Mozilla/5.0 (Linux; U; Android 4.1.2; ko-kr; L...</td>\n",
        "      <td> 0.012</td>\n",
        "      <td> 61.85.167.100</td>\n",
        "      <td> 521</td>\n",
        "      <td> /stat/swipe_main?v=tvshop180505&amp;xid=Dcv7oXmrAU...</td>\n",
        "    </tr>\n",
        "    <tr>\n",
        "      <th>3775</th>\n",
        "      <td> 2014-07-06T16:19:28+09:00</td>\n",
        "      <td> Mozilla/5.0 (Linux; U; Android 4.1.2; ko-kr; L...</td>\n",
        "      <td> 0.007</td>\n",
        "      <td> 61.85.167.100</td>\n",
        "      <td> 521</td>\n",
        "      <td> /stat/swipe_main?v=tvshop967923&amp;xid=Dcv7oXmrAU...</td>\n",
        "    </tr>\n",
        "    <tr>\n",
        "      <th>3750</th>\n",
        "      <td> 2014-07-06T16:19:25+09:00</td>\n",
        "      <td> Mozilla/5.0 (Linux; U; Android 4.1.2; ko-kr; L...</td>\n",
        "      <td> 0.009</td>\n",
        "      <td> 61.85.167.100</td>\n",
        "      <td> 527</td>\n",
        "      <td> /stat/recotodayall?v=tvshop928614&amp;xid=Dcv7oXmr...</td>\n",
        "    </tr>\n",
        "    <tr>\n",
        "      <th>3753</th>\n",
        "      <td> 2014-07-06T16:19:25+09:00</td>\n",
        "      <td> Mozilla/5.0 (Linux; U; Android 4.1.2; ko-kr; L...</td>\n",
        "      <td> 0.045</td>\n",
        "      <td> 61.85.167.100</td>\n",
        "      <td> 556</td>\n",
        "      <td> /api/reco/recotodayadgoods?v=tvshop228802&amp;xid=...</td>\n",
        "    </tr>\n",
        "    <tr>\n",
        "      <th>3740</th>\n",
        "      <td> 2014-07-06T16:19:24+09:00</td>\n",
        "      <td> Mozilla/5.0 (Linux; U; Android 4.1.2; ko-kr; L...</td>\n",
        "      <td> 0.108</td>\n",
        "      <td> 61.85.167.100</td>\n",
        "      <td> 651</td>\n",
        "      <td> /api/goods/getitemlist?v=tvshop466124&amp;xid=Dcv7...</td>\n",
        "    </tr>\n",
        "    <tr>\n",
        "      <th>3741</th>\n",
        "      <td> 2014-07-06T16:19:24+09:00</td>\n",
        "      <td> Mozilla/5.0 (Linux; U; Android 4.1.2; ko-kr; L...</td>\n",
        "      <td> 0.186</td>\n",
        "      <td> 61.85.167.100</td>\n",
        "      <td> 592</td>\n",
        "      <td> /api/user/istodaynewvisit?v=tvshop585839&amp;xid=D...</td>\n",
        "    </tr>\n",
        "    <tr>\n",
        "      <th>3742</th>\n",
        "      <td> 2014-07-06T16:19:24+09:00</td>\n",
        "      <td> Mozilla/5.0 (Linux; U; Android 4.1.2; ko-kr; L...</td>\n",
        "      <td> 0.512</td>\n",
        "      <td> 61.85.167.100</td>\n",
        "      <td> 572</td>\n",
        "      <td> /api/search/getrecokeyword?v=tvshop984883&amp;xid=...</td>\n",
        "    </tr>\n",
        "    <tr>\n",
        "      <th>7773</th>\n",
        "      <td> 2014-07-06T16:19:24+09:00</td>\n",
        "      <td> Mozilla/5.0 (Linux; U; Android 4.1.2; ko-kr; L...</td>\n",
        "      <td> 0.200</td>\n",
        "      <td> 61.85.167.100</td>\n",
        "      <td> 549</td>\n",
        "      <td> /api/user/istodaynewvisit?v=tvshop799525&amp;xid=D...</td>\n",
        "    </tr>\n",
        "    <tr>\n",
        "      <th>9765</th>\n",
        "      <td> 2014-07-06T16:19:24+09:00</td>\n",
        "      <td> Mozilla/5.0 (Linux; U; Android 4.1.2; ko-kr; L...</td>\n",
        "      <td> 0.058</td>\n",
        "      <td> 61.85.167.100</td>\n",
        "      <td> 569</td>\n",
        "      <td> /api/goods/getvideoinfo?v=tvshop240565&amp;xid=Dcv...</td>\n",
        "    </tr>\n",
        "    <tr>\n",
        "      <th>5778</th>\n",
        "      <td> 2014-07-06T16:19:23+09:00</td>\n",
        "      <td> Mozilla/5.0 (Linux; U; Android 4.1.2; ko-kr; L...</td>\n",
        "      <td> 0.029</td>\n",
        "      <td> 61.85.167.100</td>\n",
        "      <td> 813</td>\n",
        "      <td> /api/device/pushcode?v=tvshop245678&amp;xid=Dcv7oX...</td>\n",
        "    </tr>\n",
        "    <tr>\n",
        "      <th>5768</th>\n",
        "      <td> 2014-07-06T16:19:22+09:00</td>\n",
        "      <td> Mozilla/5.0 (Linux; U; Android 4.1.2; ko-kr; L...</td>\n",
        "      <td> 0.219</td>\n",
        "      <td> 61.85.167.100</td>\n",
        "      <td> 944</td>\n",
        "      <td>                                            /first</td>\n",
        "    </tr>\n",
        "    <tr>\n",
        "      <th>4510</th>\n",
        "      <td> 2014-07-06T16:15:40+09:00</td>\n",
        "      <td> Mozilla/5.0 (Linux; Android 4.4.2; LG-F200S Bu...</td>\n",
        "      <td> 0.006</td>\n",
        "      <td>  61.85.43.251</td>\n",
        "      <td> 489</td>\n",
        "      <td> /stat/swipe_main?v=tvshop507440&amp;xid=tKrfBTEdy8...</td>\n",
        "    </tr>\n",
        "    <tr>\n",
        "      <th>450 </th>\n",
        "      <td> 2014-07-06T16:15:37+09:00</td>\n",
        "      <td> Mozilla/5.0 (Linux; Android 4.4.2; LG-F200S Bu...</td>\n",
        "      <td> 0.009</td>\n",
        "      <td>  61.85.43.251</td>\n",
        "      <td> 488</td>\n",
        "      <td> /stat/swipe_main?v=tvshop50890&amp;xid=tKrfBTEdy8&amp;...</td>\n",
        "    </tr>\n",
        "    <tr>\n",
        "      <th>8466</th>\n",
        "      <td> 2014-07-06T16:15:34+09:00</td>\n",
        "      <td> Mozilla/5.0 (Linux; Android 4.4.2; LG-F200S Bu...</td>\n",
        "      <td> 0.006</td>\n",
        "      <td>  61.85.43.251</td>\n",
        "      <td> 489</td>\n",
        "      <td> /stat/swipe_main?v=tvshop422581&amp;xid=tKrfBTEdy8...</td>\n",
        "    </tr>\n",
        "    <tr>\n",
        "      <th>3145</th>\n",
        "      <td> 2014-07-06T16:17:29+09:00</td>\n",
        "      <td> Mozilla/5.0 (compatible; Googlebot/2.1; +http:...</td>\n",
        "      <td> 0.006</td>\n",
        "      <td> 66.249.74.198</td>\n",
        "      <td> 293</td>\n",
        "      <td> /tvshop/install?menu=ps_tistory_cj_0701_106499...</td>\n",
        "    </tr>\n",
        "    <tr>\n",
        "      <th>1656</th>\n",
        "      <td> 2014-07-06T16:19:07+09:00</td>\n",
        "      <td> Mozilla/5.0 (compatible; Googlebot/2.1; +http:...</td>\n",
        "      <td> 0.126</td>\n",
        "      <td> 66.249.77.227</td>\n",
        "      <td> 326</td>\n",
        "      <td> /i?id=1002996&amp;menu=ps_tistory_gs_0319_1002996&amp;...</td>\n",
        "    </tr>\n",
        "    <tr>\n",
        "      <th>5424</th>\n",
        "      <td> 2014-07-06T16:18:17+09:00</td>\n",
        "      <td> Mozilla/5.0 (compatible; Googlebot/2.1; +http:...</td>\n",
        "      <td> 0.095</td>\n",
        "      <td> 66.249.77.237</td>\n",
        "      <td> 326</td>\n",
        "      <td> /i?id=1002848&amp;menu=ps_tistory_lo_0318_1002848&amp;...</td>\n",
        "    </tr>\n",
        "    <tr>\n",
        "      <th>2252</th>\n",
        "      <td> 2014-07-06T16:14:59+09:00</td>\n",
        "      <td> Mozilla/5.0 (compatible; Googlebot/2.1; +http:...</td>\n",
        "      <td> 0.149</td>\n",
        "      <td> 66.249.77.237</td>\n",
        "      <td> 326</td>\n",
        "      <td> /i?id=1035683&amp;menu=ps_tistory_gs_0518_1035683&amp;...</td>\n",
        "    </tr>\n",
        "    <tr>\n",
        "      <th>834 </th>\n",
        "      <td> 2014-07-06T16:16:38+09:00</td>\n",
        "      <td> Mozilla/5.0 (compatible; Googlebot/2.1; +http:...</td>\n",
        "      <td> 0.116</td>\n",
        "      <td> 66.249.77.247</td>\n",
        "      <td> 326</td>\n",
        "      <td> /i?id=1000183&amp;menu=ps_tistory_lo_0317_1000183&amp;...</td>\n",
        "    </tr>\n",
        "    <tr>\n",
        "      <th>1677</th>\n",
        "      <td> 2014-07-06T16:19:10+09:00</td>\n",
        "      <td> Mozilla/5.0 (compatible; Googlebot/2.1; +http:...</td>\n",
        "      <td> 0.006</td>\n",
        "      <td> 66.249.77.249</td>\n",
        "      <td> 291</td>\n",
        "      <td> /tvshop/install?menu=sc_naver_ns_0302_994738&amp;c...</td>\n",
        "    </tr>\n",
        "    <tr>\n",
        "      <th>7125</th>\n",
        "      <td> 2014-07-06T16:17:28+09:00</td>\n",
        "      <td> Mozilla/5.0 (compatible; Googlebot/2.1; +http:...</td>\n",
        "      <td> 0.107</td>\n",
        "      <td> 66.249.77.249</td>\n",
        "      <td> 417</td>\n",
        "      <td> /i?id=1048692&amp;title=%EC%9E%A5%EC%84%B8%EC%88%9...</td>\n",
        "    </tr>\n",
        "    <tr>\n",
        "      <th>4768</th>\n",
        "      <td> 2014-07-06T16:16:23+09:00</td>\n",
        "      <td> Mozilla/5.0 (compatible; Googlebot/2.1; +http:...</td>\n",
        "      <td> 3.082</td>\n",
        "      <td> 66.249.77.249</td>\n",
        "      <td> 550</td>\n",
        "      <td> /api/reco/getlist?skin=tvshopweb%2F_skin_goods...</td>\n",
        "    </tr>\n",
        "    <tr>\n",
        "      <th>625 </th>\n",
        "      <td> 2014-07-06T16:16:07+09:00</td>\n",
        "      <td> Mozilla/5.0 (compatible; Googlebot/2.1; +http:...</td>\n",
        "      <td> 0.224</td>\n",
        "      <td> 66.249.77.249</td>\n",
        "      <td> 587</td>\n",
        "      <td> /api/reco/getlist?skin=tvshopweb%2F_skin_goods...</td>\n",
        "    </tr>\n",
        "    <tr>\n",
        "      <th>4563</th>\n",
        "      <td> 2014-07-06T16:15:48+09:00</td>\n",
        "      <td> Mozilla/5.0 (compatible; Googlebot/2.1; +http:...</td>\n",
        "      <td> 0.102</td>\n",
        "      <td> 66.249.77.249</td>\n",
        "      <td> 329</td>\n",
        "      <td> /i?menu=sc_tistory_ns_0507_1031823&amp;id=1031823&amp;...</td>\n",
        "    </tr>\n",
        "    <tr>\n",
        "      <th>4224</th>\n",
        "      <td> 2014-07-06T16:14:52+09:00</td>\n",
        "      <td> Mozilla/5.0 (compatible; Googlebot/2.1; +http:...</td>\n",
        "      <td> 0.006</td>\n",
        "      <td> 66.249.77.249</td>\n",
        "      <td> 294</td>\n",
        "      <td> /tvshop/install?menu=sc_tistory_cj_0705_106802...</td>\n",
        "    </tr>\n",
        "    <tr>\n",
        "      <th>4671</th>\n",
        "      <td> 2014-07-06T16:16:07+09:00</td>\n",
        "      <td> Mozilla/5.0 (compatible; Googlebot/2.1; +http:...</td>\n",
        "      <td> 2.567</td>\n",
        "      <td>  66.249.77.39</td>\n",
        "      <td> 644</td>\n",
        "      <td> /api/reco/getlist?skin=tvshopweb%2F_skin_goods...</td>\n",
        "    </tr>\n",
        "    <tr>\n",
        "      <th>6607</th>\n",
        "      <td> 2014-07-06T16:15:55+09:00</td>\n",
        "      <td> Mozilla/5.0 (compatible; Googlebot/2.1; +http:...</td>\n",
        "      <td> 0.011</td>\n",
        "      <td>  66.249.77.39</td>\n",
        "      <td> 294</td>\n",
        "      <td> /tvshop/install?menu=sc_tistory_cj_0705_106859...</td>\n",
        "    </tr>\n",
        "    <tr>\n",
        "      <th>7955</th>\n",
        "      <td> 2014-07-06T16:19:57+09:00</td>\n",
        "      <td> Mozilla/5.0 (compatible; Googlebot/2.1; +http:...</td>\n",
        "      <td> 0.108</td>\n",
        "      <td>  66.249.77.49</td>\n",
        "      <td> 329</td>\n",
        "      <td> /i?menu=sc_tistory_ns_0426_1026431&amp;id=1026431&amp;...</td>\n",
        "    </tr>\n",
        "  </tbody>\n",
        "</table>\n",
        "<p>10000 rows \u00d7 6 columns</p>\n",
        "</div>"
       ],
       "metadata": {},
       "output_type": "pyout",
       "prompt_number": 113,
       "text": [
        "                     @timestamp  \\\n",
        "5396  2014-07-06T16:18:13+09:00   \n",
        "5397  2014-07-06T16:18:13+09:00   \n",
        "7380  2014-07-06T16:18:13+09:00   \n",
        "1350  2014-07-06T16:18:12+09:00   \n",
        "5259  2014-07-06T16:17:51+09:00   \n",
        "5265  2014-07-06T16:17:51+09:00   \n",
        "1228  2014-07-06T16:17:50+09:00   \n",
        "1229  2014-07-06T16:17:50+09:00   \n",
        "3246  2014-07-06T16:17:50+09:00   \n",
        "7247  2014-07-06T16:17:50+09:00   \n",
        "7248  2014-07-06T16:17:50+09:00   \n",
        "7249  2014-07-06T16:17:50+09:00   \n",
        "9233  2014-07-06T16:17:50+09:00   \n",
        "1222  2014-07-06T16:17:49+09:00   \n",
        "5245  2014-07-06T16:17:49+09:00   \n",
        "5247  2014-07-06T16:17:49+09:00   \n",
        "7230  2014-07-06T16:17:46+09:00   \n",
        "6025  2014-07-06T16:20:07+09:00   \n",
        "3952  2014-07-06T16:20:03+09:00   \n",
        "7967  2014-07-06T16:20:00+09:00   \n",
        "7953  2014-07-06T16:19:56+09:00   \n",
        "7942  2014-07-06T16:19:54+09:00   \n",
        "5946  2014-07-06T16:19:53+09:00   \n",
        "9899  2014-07-06T16:19:50+09:00   \n",
        "9882  2014-07-06T16:19:46+09:00   \n",
        "1844  2014-07-06T16:19:44+09:00   \n",
        "1845  2014-07-06T16:19:44+09:00   \n",
        "7883  2014-07-06T16:19:44+09:00   \n",
        "1839  2014-07-06T16:19:43+09:00   \n",
        "1840  2014-07-06T16:19:43+09:00   \n",
        "...                         ...   \n",
        "5848  2014-07-06T16:19:38+09:00   \n",
        "9811  2014-07-06T16:19:34+09:00   \n",
        "9792  2014-07-06T16:19:31+09:00   \n",
        "3775  2014-07-06T16:19:28+09:00   \n",
        "3750  2014-07-06T16:19:25+09:00   \n",
        "3753  2014-07-06T16:19:25+09:00   \n",
        "3740  2014-07-06T16:19:24+09:00   \n",
        "3741  2014-07-06T16:19:24+09:00   \n",
        "3742  2014-07-06T16:19:24+09:00   \n",
        "7773  2014-07-06T16:19:24+09:00   \n",
        "9765  2014-07-06T16:19:24+09:00   \n",
        "5778  2014-07-06T16:19:23+09:00   \n",
        "5768  2014-07-06T16:19:22+09:00   \n",
        "4510  2014-07-06T16:15:40+09:00   \n",
        "450   2014-07-06T16:15:37+09:00   \n",
        "8466  2014-07-06T16:15:34+09:00   \n",
        "3145  2014-07-06T16:17:29+09:00   \n",
        "1656  2014-07-06T16:19:07+09:00   \n",
        "5424  2014-07-06T16:18:17+09:00   \n",
        "2252  2014-07-06T16:14:59+09:00   \n",
        "834   2014-07-06T16:16:38+09:00   \n",
        "1677  2014-07-06T16:19:10+09:00   \n",
        "7125  2014-07-06T16:17:28+09:00   \n",
        "4768  2014-07-06T16:16:23+09:00   \n",
        "625   2014-07-06T16:16:07+09:00   \n",
        "4563  2014-07-06T16:15:48+09:00   \n",
        "4224  2014-07-06T16:14:52+09:00   \n",
        "4671  2014-07-06T16:16:07+09:00   \n",
        "6607  2014-07-06T16:15:55+09:00   \n",
        "7955  2014-07-06T16:19:57+09:00   \n",
        "\n",
        "                                                  agent duration  \\\n",
        "5396                                                  -    0.000   \n",
        "5397                                                  -    0.000   \n",
        "7380                                                  -    0.000   \n",
        "1350  Mozilla/5.0 (Linux; U; Android 4.1.2; ko-kr; I...    0.121   \n",
        "5259  Mozilla/5.0 (Linux; U; Android 4.1.2; ko-kr; I...    0.052   \n",
        "5265  Mozilla/5.0 (Linux; U; Android 4.1.2; ko-kr; I...    0.527   \n",
        "1228  Mozilla/5.0 (Linux; U; Android 4.1.2; ko-kr; I...    0.040   \n",
        "1229  Mozilla/5.0 (Linux; U; Android 4.1.2; ko-kr; I...    0.011   \n",
        "3246  Mozilla/5.0 (Linux; U; Android 4.1.2; ko-kr; I...    0.050   \n",
        "7247  Mozilla/5.0 (Linux; U; Android 4.1.2; ko-kr; I...    0.037   \n",
        "7248  Mozilla/5.0 (Linux; U; Android 4.1.2; ko-kr; I...    0.035   \n",
        "7249  Mozilla/5.0 (Linux; U; Android 4.1.2; ko-kr; I...    0.031   \n",
        "9233  Mozilla/5.0 (Linux; U; Android 4.1.2; ko-kr; I...    0.028   \n",
        "1222  Mozilla/5.0 (Linux; U; Android 4.1.2; ko-kr; I...    0.182   \n",
        "5245                                                  -    0.000   \n",
        "5247  Mozilla/5.0 (Linux; U; Android 4.1.2; ko-kr; I...    0.052   \n",
        "7230  Mozilla/5.0 (Linux; U; Android 4.1.2; ko-kr; I...    0.063   \n",
        "6025  Mozilla/5.0 (Linux; Android 4.4.2; SM-G900L Bu...    0.011   \n",
        "3952  Mozilla/5.0 (Linux; Android 4.4.2; SM-G900L Bu...    0.010   \n",
        "7967  Mozilla/5.0 (Linux; Android 4.4.2; SM-G900L Bu...    0.009   \n",
        "7953  Mozilla/5.0 (Linux; Android 4.4.2; SM-G900L Bu...    0.011   \n",
        "7942  Mozilla/5.0 (Linux; Android 4.4.2; SM-G900L Bu...    0.075   \n",
        "5946  Mozilla/5.0 (Linux; Android 4.4.2; SM-G900L Bu...    0.009   \n",
        "9899  Mozilla/5.0 (Linux; Android 4.4.2; SM-G900L Bu...    0.006   \n",
        "9882  Mozilla/5.0 (Linux; Android 4.4.2; SM-G900L Bu...    0.010   \n",
        "1844  Mozilla/5.0 (Linux; Android 4.4.2; SM-G900L Bu...    0.175   \n",
        "1845  Mozilla/5.0 (Linux; Android 4.4.2; SM-G900L Bu...    0.014   \n",
        "7883  Mozilla/5.0 (Linux; Android 4.4.2; SM-G900L Bu...    0.086   \n",
        "1839  Mozilla/5.0 (Linux; Android 4.4.2; SM-G900L Bu...    0.040   \n",
        "1840  Mozilla/5.0 (Linux; Android 4.4.2; SM-G900L Bu...    0.037   \n",
        "...                                                 ...      ...   \n",
        "5848  Mozilla/5.0 (Linux; U; Android 4.1.2; ko-kr; L...    0.009   \n",
        "9811  Mozilla/5.0 (Linux; U; Android 4.1.2; ko-kr; L...    0.005   \n",
        "9792  Mozilla/5.0 (Linux; U; Android 4.1.2; ko-kr; L...    0.012   \n",
        "3775  Mozilla/5.0 (Linux; U; Android 4.1.2; ko-kr; L...    0.007   \n",
        "3750  Mozilla/5.0 (Linux; U; Android 4.1.2; ko-kr; L...    0.009   \n",
        "3753  Mozilla/5.0 (Linux; U; Android 4.1.2; ko-kr; L...    0.045   \n",
        "3740  Mozilla/5.0 (Linux; U; Android 4.1.2; ko-kr; L...    0.108   \n",
        "3741  Mozilla/5.0 (Linux; U; Android 4.1.2; ko-kr; L...    0.186   \n",
        "3742  Mozilla/5.0 (Linux; U; Android 4.1.2; ko-kr; L...    0.512   \n",
        "7773  Mozilla/5.0 (Linux; U; Android 4.1.2; ko-kr; L...    0.200   \n",
        "9765  Mozilla/5.0 (Linux; U; Android 4.1.2; ko-kr; L...    0.058   \n",
        "5778  Mozilla/5.0 (Linux; U; Android 4.1.2; ko-kr; L...    0.029   \n",
        "5768  Mozilla/5.0 (Linux; U; Android 4.1.2; ko-kr; L...    0.219   \n",
        "4510  Mozilla/5.0 (Linux; Android 4.4.2; LG-F200S Bu...    0.006   \n",
        "450   Mozilla/5.0 (Linux; Android 4.4.2; LG-F200S Bu...    0.009   \n",
        "8466  Mozilla/5.0 (Linux; Android 4.4.2; LG-F200S Bu...    0.006   \n",
        "3145  Mozilla/5.0 (compatible; Googlebot/2.1; +http:...    0.006   \n",
        "1656  Mozilla/5.0 (compatible; Googlebot/2.1; +http:...    0.126   \n",
        "5424  Mozilla/5.0 (compatible; Googlebot/2.1; +http:...    0.095   \n",
        "2252  Mozilla/5.0 (compatible; Googlebot/2.1; +http:...    0.149   \n",
        "834   Mozilla/5.0 (compatible; Googlebot/2.1; +http:...    0.116   \n",
        "1677  Mozilla/5.0 (compatible; Googlebot/2.1; +http:...    0.006   \n",
        "7125  Mozilla/5.0 (compatible; Googlebot/2.1; +http:...    0.107   \n",
        "4768  Mozilla/5.0 (compatible; Googlebot/2.1; +http:...    3.082   \n",
        "625   Mozilla/5.0 (compatible; Googlebot/2.1; +http:...    0.224   \n",
        "4563  Mozilla/5.0 (compatible; Googlebot/2.1; +http:...    0.102   \n",
        "4224  Mozilla/5.0 (compatible; Googlebot/2.1; +http:...    0.006   \n",
        "4671  Mozilla/5.0 (compatible; Googlebot/2.1; +http:...    2.567   \n",
        "6607  Mozilla/5.0 (compatible; Googlebot/2.1; +http:...    0.011   \n",
        "7955  Mozilla/5.0 (compatible; Googlebot/2.1; +http:...    0.108   \n",
        "\n",
        "               host size                                                url  \n",
        "5396  1.176.107.234    0                                                  -  \n",
        "5397  1.176.107.234    0                                                  -  \n",
        "7380  1.176.107.234    0                                                  -  \n",
        "1350  1.176.107.234  612         /ad/tab2?tab=2&title=&nav=hide&tabbar=show  \n",
        "5259  1.176.107.234  646  /api/cmt/getlist?skin=skin%2F_skin_cmt_list&ac...  \n",
        "5265  1.176.107.234  622  /api/content/getlist?skin=skin%2F_skin_content...  \n",
        "1228  1.176.107.234  583  /api/product/getinfo?json=1&id=lwBcnnpVki&v=do...  \n",
        "1229  1.176.107.234  549  /stat/main?service=donmoa&v=donmoa19741&xid=q9...  \n",
        "3246  1.176.107.234  667  /api/cmt/getlist?skin=skin%2F_skin_cmt_list&ac...  \n",
        "7247  1.176.107.234  658  /api/cmt/getlist?skin=skin%2F_skin_cmt_list&ac...  \n",
        "7248  1.176.107.234  659  /api/content/getlist?skin=skin%2F_skin_content...  \n",
        "7249  1.176.107.234  777  /api/device/pushcode?device_code=df8391e8dc1ee...  \n",
        "9233  1.176.107.234  582  /api/content/actioninfo?json=1&id=192373&v=don...  \n",
        "1222  1.176.107.234  939                                             /first  \n",
        "5245  1.176.107.234    0                                                  -  \n",
        "5247  1.176.107.234  548                           /content/192373?nav=show  \n",
        "7230  1.176.107.234  594                           /content/192373?nav=show  \n",
        "6025  1.176.136.206  485  /stat/swipe_main?v=tvshop105501&xid=VCXMs1HdD8...  \n",
        "3952  1.176.136.206  480  /stat/swipe_main?v=tvshop189163&xid=VCXMs1HdD8...  \n",
        "7967  1.176.136.206  480  /stat/swipe_main?v=tvshop550734&xid=VCXMs1HdD8...  \n",
        "7953  1.176.136.206  480  /stat/swipe_main?v=tvshop521544&xid=VCXMs1HdD8...  \n",
        "7942  1.176.136.206  610  /api/goods/getitemlist?v=tvshop717117&xid=VCXM...  \n",
        "5946  1.176.136.206  480  /stat/swipe_main?v=tvshop654664&xid=VCXMs1HdD8...  \n",
        "9899  1.176.136.206  480  /stat/swipe_main?v=tvshop416602&xid=VCXMs1HdD8...  \n",
        "9882  1.176.136.206  480  /stat/swipe_main?v=tvshop298325&xid=VCXMs1HdD8...  \n",
        "1844  1.176.136.206  508  /api/user/istodaynewvisit?v=tvshop506571&xid=V...  \n",
        "1845  1.176.136.206  485  /stat/recotodayall?v=tvshop53741&xid=VCXMs1HdD...  \n",
        "7883  1.176.136.206  515  /api/reco/recotodayadgoods?v=tvshop531515&xid=...  \n",
        "1839  1.176.136.206  485  /api/search/getrecokeyword?v=tvshop794834&xid=...  \n",
        "1840  1.176.136.206  482  /api/goods/getvideoinfo?v=tvshop735433&xid=VCX...  \n",
        "...             ...  ...                                                ...  \n",
        "5848  61.85.167.100  521  /stat/swipe_main?v=tvshop890670&xid=Dcv7oXmrAU...  \n",
        "9811  61.85.167.100  521  /stat/swipe_main?v=tvshop431670&xid=Dcv7oXmrAU...  \n",
        "9792  61.85.167.100  521  /stat/swipe_main?v=tvshop180505&xid=Dcv7oXmrAU...  \n",
        "3775  61.85.167.100  521  /stat/swipe_main?v=tvshop967923&xid=Dcv7oXmrAU...  \n",
        "3750  61.85.167.100  527  /stat/recotodayall?v=tvshop928614&xid=Dcv7oXmr...  \n",
        "3753  61.85.167.100  556  /api/reco/recotodayadgoods?v=tvshop228802&xid=...  \n",
        "3740  61.85.167.100  651  /api/goods/getitemlist?v=tvshop466124&xid=Dcv7...  \n",
        "3741  61.85.167.100  592  /api/user/istodaynewvisit?v=tvshop585839&xid=D...  \n",
        "3742  61.85.167.100  572  /api/search/getrecokeyword?v=tvshop984883&xid=...  \n",
        "7773  61.85.167.100  549  /api/user/istodaynewvisit?v=tvshop799525&xid=D...  \n",
        "9765  61.85.167.100  569  /api/goods/getvideoinfo?v=tvshop240565&xid=Dcv...  \n",
        "5778  61.85.167.100  813  /api/device/pushcode?v=tvshop245678&xid=Dcv7oX...  \n",
        "5768  61.85.167.100  944                                             /first  \n",
        "4510   61.85.43.251  489  /stat/swipe_main?v=tvshop507440&xid=tKrfBTEdy8...  \n",
        "450    61.85.43.251  488  /stat/swipe_main?v=tvshop50890&xid=tKrfBTEdy8&...  \n",
        "8466   61.85.43.251  489  /stat/swipe_main?v=tvshop422581&xid=tKrfBTEdy8...  \n",
        "3145  66.249.74.198  293  /tvshop/install?menu=ps_tistory_cj_0701_106499...  \n",
        "1656  66.249.77.227  326  /i?id=1002996&menu=ps_tistory_gs_0319_1002996&...  \n",
        "5424  66.249.77.237  326  /i?id=1002848&menu=ps_tistory_lo_0318_1002848&...  \n",
        "2252  66.249.77.237  326  /i?id=1035683&menu=ps_tistory_gs_0518_1035683&...  \n",
        "834   66.249.77.247  326  /i?id=1000183&menu=ps_tistory_lo_0317_1000183&...  \n",
        "1677  66.249.77.249  291  /tvshop/install?menu=sc_naver_ns_0302_994738&c...  \n",
        "7125  66.249.77.249  417  /i?id=1048692&title=%EC%9E%A5%EC%84%B8%EC%88%9...  \n",
        "4768  66.249.77.249  550  /api/reco/getlist?skin=tvshopweb%2F_skin_goods...  \n",
        "625   66.249.77.249  587  /api/reco/getlist?skin=tvshopweb%2F_skin_goods...  \n",
        "4563  66.249.77.249  329  /i?menu=sc_tistory_ns_0507_1031823&id=1031823&...  \n",
        "4224  66.249.77.249  294  /tvshop/install?menu=sc_tistory_cj_0705_106802...  \n",
        "4671   66.249.77.39  644  /api/reco/getlist?skin=tvshopweb%2F_skin_goods...  \n",
        "6607   66.249.77.39  294  /tvshop/install?menu=sc_tistory_cj_0705_106859...  \n",
        "7955   66.249.77.49  329  /i?menu=sc_tistory_ns_0426_1026431&id=1026431&...  \n",
        "\n",
        "[10000 rows x 6 columns]"
       ]
      }
     ],
     "prompt_number": 113
    },
    {
     "cell_type": "code",
     "collapsed": false,
     "input": [
      "host_df = sorted_df.set_index('host')"
     ],
     "language": "python",
     "metadata": {},
     "outputs": [],
     "prompt_number": 117
    },
    {
     "cell_type": "code",
     "collapsed": false,
     "input": [
      "type(sorted_df['host'][0])"
     ],
     "language": "python",
     "metadata": {},
     "outputs": [
      {
       "metadata": {},
       "output_type": "pyout",
       "prompt_number": 137,
       "text": [
        "unicode"
       ]
      }
     ],
     "prompt_number": 137
    },
    {
     "cell_type": "code",
     "collapsed": false,
     "input": [
      "prior_url = u\"119.207.234.82\"\n",
      "print prior_url"
     ],
     "language": "python",
     "metadata": {},
     "outputs": [
      {
       "output_type": "stream",
       "stream": "stdout",
       "text": [
        "119.207.234.82\n"
       ]
      }
     ],
     "prompt_number": 134
    },
    {
     "cell_type": "code",
     "collapsed": false,
     "input": [
      "type(prior_url)"
     ],
     "language": "python",
     "metadata": {},
     "outputs": [
      {
       "metadata": {},
       "output_type": "pyout",
       "prompt_number": 136,
       "text": [
        "unicode"
       ]
      }
     ],
     "prompt_number": 136
    },
    {
     "cell_type": "code",
     "collapsed": false,
     "input": [
      "print prior_url"
     ],
     "language": "python",
     "metadata": {},
     "outputs": [
      {
       "output_type": "stream",
       "stream": "stdout",
       "text": [
        "119.207.234.82\n"
       ]
      }
     ],
     "prompt_number": 138
    },
    {
     "cell_type": "code",
     "collapsed": false,
     "input": [
      "sorted_df['host'][0]"
     ],
     "language": "python",
     "metadata": {},
     "outputs": [
      {
       "metadata": {},
       "output_type": "pyout",
       "prompt_number": 139,
       "text": [
        "u'119.207.234.82'"
       ]
      }
     ],
     "prompt_number": 139
    },
    {
     "cell_type": "code",
     "collapsed": false,
     "input": [
      "prior_url == sorted_df['host'][0]"
     ],
     "language": "python",
     "metadata": {},
     "outputs": [
      {
       "metadata": {},
       "output_type": "pyout",
       "prompt_number": 145,
       "text": [
        "True"
       ]
      }
     ],
     "prompt_number": 145
    },
    {
     "cell_type": "code",
     "collapsed": false,
     "input": [
      "canAdd = False\n",
      "prior_url = u\"\"\n",
      "left_url = []\n",
      "left_host = []\n",
      "\n",
      "for i in range(10000):\n",
      "    if prior_url != sorted_df['url'][i]:\n",
      "        canAdd = True\n",
      "        \n",
      "    if canAdd == True:\n",
      "        if sorted_df['size'][i] > 0:\n",
      "            canAdd = False\n",
      "            prior_url = sorted_df['url'][i]\n",
      "            left_host.append(sorted_df['host'][i])\n",
      "            left_url.append(sorted_df['url'][i])\n",
      "    "
     ],
     "language": "python",
     "metadata": {},
     "outputs": [],
     "prompt_number": 148
    },
    {
     "cell_type": "code",
     "collapsed": false,
     "input": [
      "len(left_host)"
     ],
     "language": "python",
     "metadata": {},
     "outputs": [
      {
       "metadata": {},
       "output_type": "pyout",
       "prompt_number": 153,
       "text": [
        "9860"
       ]
      }
     ],
     "prompt_number": 153
    },
    {
     "cell_type": "code",
     "collapsed": false,
     "input": [
      "print df['host']"
     ],
     "language": "python",
     "metadata": {},
     "outputs": [
      {
       "output_type": "stream",
       "stream": "stdout",
       "text": [
        "0     119.207.234.82\n",
        "1       61.79.55.195\n",
        "2      119.195.17.74\n",
        "3      180.64.178.41\n",
        "4     119.207.234.82\n",
        "5         39.7.59.68\n",
        "6      110.70.46.136\n",
        "7       1.242.197.20\n",
        "8     122.35.171.144\n",
        "9     121.132.111.82\n",
        "10    119.207.234.82\n",
        "11     39.114.56.157\n",
        "12     39.114.56.157\n",
        "13    122.35.171.144\n",
        "14      1.242.197.20\n",
        "...\n",
        "9985    220.75.221.218\n",
        "9986     211.36.148.84\n",
        "9987    223.62.213.124\n",
        "9988     218.49.229.51\n",
        "9989     218.49.229.51\n",
        "9990     39.118.132.60\n",
        "9991     39.118.132.60\n",
        "9992     112.214.45.54\n",
        "9993     112.214.45.54\n",
        "9994     112.214.45.54\n",
        "9995     223.62.169.80\n",
        "9996      14.63.30.101\n",
        "9997     110.70.52.102\n",
        "9998     223.62.169.80\n",
        "9999     223.62.169.80\n",
        "Name: host, Length: 10000, dtype: object\n"
       ]
      }
     ],
     "prompt_number": 29
    },
    {
     "cell_type": "code",
     "collapsed": false,
     "input": [
      "print df['url']"
     ],
     "language": "python",
     "metadata": {},
     "outputs": [
      {
       "output_type": "stream",
       "stream": "stdout",
       "text": [
        "0                                                /first\n",
        "1                           /api/rewardapply/ischipgive\n",
        "2     /stat/swipe_main?v=tvshop238487&xid=O4CRHhoFyA...\n",
        "3     /api/cmt/getlist?skin=skin%2F_skin_cmt_list&ac...\n",
        "4     /api/goods/getvideoinfo?v=tvshop12823&xid=E1QH...\n",
        "5     /stat/swipe_main?v=tvshop736494&xid=wltUnDgPpb...\n",
        "6     /tvshop/tab6?tab=2&title=%EC%83%81%ED%92%88%EA...\n",
        "7     /api/goods/getitemlist?v=tvshop501723&xid=aSHz...\n",
        "8     /content/229628?title=%EC%B4%9D%EC%95%8C%ED%94...\n",
        "9     /stat/swipe_main?v=tvshop338704&xid=CO6KxIWqZM...\n",
        "10    /api/user/istodaynewvisit?v=tvshop83937&xid=E1...\n",
        "11    /api/entity/actioninfo?v=tvshop687329&xid=Wg0s...\n",
        "12    /api/goodsviewlog/add?v=tvshop75734&xid=Wg0sGe...\n",
        "13    /api/content/getlist?skin=skin%2F_skin_content...\n",
        "14    /stat/swipe_main?v=tvshop957758&xid=aSHzYMo1Yu...\n",
        "...\n",
        "9985    /api/goodsviewlog/add?v=tvshop338316&xid=qaQtX...\n",
        "9986    /stat/swipe_main?v=tvshop425083&xid=IbiKVWtIx1...\n",
        "9987    /stat/swipe_main?v=tvshop109777&xid=GUc3Xn1daF...\n",
        "9988    /api/search/goodssmartsearch?v=tvshop956786&xi...\n",
        "9989    /api/search/goodssmartsearch?v=tvshop623603&xi...\n",
        "9990                                                    -\n",
        "9991                                                    -\n",
        "9992    /api/search/goodssmartsearch?v=tvshop541221&xi...\n",
        "9993    /api/search/goodssmartsearch?v=tvshop218080&xi...\n",
        "9994    /api/search/goodssmartsearch?v=tvshop937469&xi...\n",
        "9995         /stat/todayall?v=tvshop698623&xid=VswobfEyQE\n",
        "9996    /stat/swipe_main?v=tvshop805032&xid=XcMuJkJnjq...\n",
        "9997    /api/entity/getlist?v=tvshop84948&xid=X3PrEuvV...\n",
        "9998                                                    -\n",
        "9999                                                    -\n",
        "Name: url, Length: 10000, dtype: object\n"
       ]
      }
     ],
     "prompt_number": 30
    },
    {
     "cell_type": "code",
     "collapsed": false,
     "input": [
      "print df['agent']"
     ],
     "language": "python",
     "metadata": {},
     "outputs": [
      {
       "output_type": "stream",
       "stream": "stdout",
       "text": [
        "0     Mozilla/5.0 (Linux; Android 4.4.2; SHV-E300S B...\n",
        "1     Mozilla/5.0 (Linux; U; Android 4.3; ko-kr; SHV...\n",
        "2     Mozilla/5.0 (Linux; U; Android 4.0.4; ko-kr; S...\n",
        "3     Mozilla/5.0 (Linux; U; Android 4.1.2; ko-kr; L...\n",
        "4     Mozilla/5.0 (Linux; Android 4.4.2; SHV-E300S B...\n",
        "5     Mozilla/5.0 (Linux; Android 4.4.2; SM-N900K Bu...\n",
        "6     Mozilla/5.0 (Linux; U; Android 4.1.2; ko-kr; I...\n",
        "7     Mozilla/5.0 (Linux; Android 4.4.2; SM-G900S Bu...\n",
        "8     Mozilla/5.0 (Linux; U; Android 4.3; ko-kr; SHV...\n",
        "9     Mozilla/5.0 (Linux; Android 4.4.2; LG-F400K Bu...\n",
        "10    Mozilla/5.0 (Linux; Android 4.4.2; SHV-E300S B...\n",
        "11    Mozilla/5.0 (Linux; U; Android 4.3; ko-kr; SHV...\n",
        "12    Mozilla/5.0 (Linux; U; Android 4.3; ko-kr; SHV...\n",
        "13    Mozilla/5.0 (Linux; U; Android 4.3; ko-kr; SHV...\n",
        "14    Mozilla/5.0 (Linux; Android 4.4.2; SM-G900S Bu...\n",
        "...\n",
        "9985    Mozilla/5.0 (Linux; U; Android 4.2.2; ko-kr; C...\n",
        "9986    Mozilla/5.0 (Linux; U; Android 2.3.5; ko-kr; L...\n",
        "9987    Mozilla/5.0 (Linux; Android 4.4.2; SM-G900S Bu...\n",
        "9988    Mozilla/5.0 (Linux; Android 4.4.2; LG-F340S Bu...\n",
        "9989    Mozilla/5.0 (Linux; Android 4.4.2; LG-F340S Bu...\n",
        "9990                                                    -\n",
        "9991                                                    -\n",
        "9992    Mozilla/5.0 (Linux; U; Android 4.3; ko-kr; SHV...\n",
        "9993    Mozilla/5.0 (Linux; U; Android 4.3; ko-kr; SHV...\n",
        "9994    Mozilla/5.0 (Linux; U; Android 4.3; ko-kr; SHV...\n",
        "9995    Mozilla/5.0 (Linux; U; Android 4.1.2; ko-kr; I...\n",
        "9996    Mozilla/5.0 (Linux; Android 4.4.2; LG-F240K Bu...\n",
        "9997    Mozilla/5.0 (Linux; U; Android 4.3; ko-kr; SHV...\n",
        "9998                                                    -\n",
        "9999                                                    -\n",
        "Name: agent, Length: 10000, dtype: object\n"
       ]
      }
     ],
     "prompt_number": 31
    },
    {
     "cell_type": "code",
     "collapsed": false,
     "input": [
      "print df['duration']"
     ],
     "language": "python",
     "metadata": {},
     "outputs": [
      {
       "output_type": "stream",
       "stream": "stdout",
       "text": [
        "0     0.185\n",
        "1     0.024\n",
        "2     0.005\n",
        "3     0.047\n",
        "4     0.030\n",
        "5     0.009\n",
        "6     0.009\n",
        "7     0.073\n",
        "8     0.057\n",
        "9     0.010\n",
        "10    0.190\n",
        "11    0.021\n",
        "12    0.027\n",
        "13    0.026\n",
        "14    0.006\n",
        "...\n",
        "9985    0.221\n",
        "9986    0.006\n",
        "9987    0.006\n",
        "9988    0.048\n",
        "9989    0.069\n",
        "9990    0.000\n",
        "9991    0.000\n",
        "9992    0.055\n",
        "9993    0.063\n",
        "9994    0.068\n",
        "9995    0.006\n",
        "9996    0.014\n",
        "9997    0.045\n",
        "9998    0.000\n",
        "9999    0.000\n",
        "Name: duration, Length: 10000, dtype: object\n"
       ]
      }
     ],
     "prompt_number": 32
    },
    {
     "cell_type": "code",
     "collapsed": false,
     "input": [
      "df['duration'].astype(float).mean()"
     ],
     "language": "python",
     "metadata": {},
     "outputs": [
      {
       "metadata": {},
       "output_type": "pyout",
       "prompt_number": 33,
       "text": [
        "0.11739869999999915"
       ]
      }
     ],
     "prompt_number": 33
    },
    {
     "cell_type": "code",
     "collapsed": false,
     "input": [
      "df['size'].astype(float).mean()"
     ],
     "language": "python",
     "metadata": {},
     "outputs": [
      {
       "metadata": {},
       "output_type": "pyout",
       "prompt_number": 34,
       "text": [
        "604.04809999999998"
       ]
      }
     ],
     "prompt_number": 34
    },
    {
     "cell_type": "code",
     "collapsed": false,
     "input": [
      "grouped = df.groupby('host')"
     ],
     "language": "python",
     "metadata": {},
     "outputs": [],
     "prompt_number": 35
    },
    {
     "cell_type": "code",
     "collapsed": false,
     "input": [
      "grouped.count().sort('size')[::-1]"
     ],
     "language": "python",
     "metadata": {},
     "outputs": [
      {
       "html": [
        "<div style=\"max-height:1000px;max-width:1500px;overflow:auto;\">\n",
        "<table border=\"1\" class=\"dataframe\">\n",
        "  <thead>\n",
        "    <tr style=\"text-align: right;\">\n",
        "      <th></th>\n",
        "      <th>@timestamp</th>\n",
        "      <th>agent</th>\n",
        "      <th>duration</th>\n",
        "      <th>size</th>\n",
        "      <th>url</th>\n",
        "    </tr>\n",
        "    <tr>\n",
        "      <th>host</th>\n",
        "      <th></th>\n",
        "      <th></th>\n",
        "      <th></th>\n",
        "      <th></th>\n",
        "      <th></th>\n",
        "    </tr>\n",
        "  </thead>\n",
        "  <tbody>\n",
        "    <tr>\n",
        "      <th>203.226.206.4</th>\n",
        "      <td> 124</td>\n",
        "      <td> 124</td>\n",
        "      <td> 124</td>\n",
        "      <td> 124</td>\n",
        "      <td> 124</td>\n",
        "    </tr>\n",
        "    <tr>\n",
        "      <th>211.63.231.37</th>\n",
        "      <td> 104</td>\n",
        "      <td> 104</td>\n",
        "      <td> 104</td>\n",
        "      <td> 104</td>\n",
        "      <td> 104</td>\n",
        "    </tr>\n",
        "    <tr>\n",
        "      <th>110.70.53.226</th>\n",
        "      <td>  96</td>\n",
        "      <td>  96</td>\n",
        "      <td>  96</td>\n",
        "      <td>  96</td>\n",
        "      <td>  96</td>\n",
        "    </tr>\n",
        "    <tr>\n",
        "      <th>218.149.124.154</th>\n",
        "      <td>  87</td>\n",
        "      <td>  87</td>\n",
        "      <td>  87</td>\n",
        "      <td>  87</td>\n",
        "      <td>  87</td>\n",
        "    </tr>\n",
        "    <tr>\n",
        "      <th>175.223.20.238</th>\n",
        "      <td>  85</td>\n",
        "      <td>  85</td>\n",
        "      <td>  85</td>\n",
        "      <td>  85</td>\n",
        "      <td>  85</td>\n",
        "    </tr>\n",
        "    <tr>\n",
        "      <th>223.62.172.111</th>\n",
        "      <td>  81</td>\n",
        "      <td>  81</td>\n",
        "      <td>  81</td>\n",
        "      <td>  81</td>\n",
        "      <td>  81</td>\n",
        "    </tr>\n",
        "    <tr>\n",
        "      <th>223.62.213.124</th>\n",
        "      <td>  79</td>\n",
        "      <td>  79</td>\n",
        "      <td>  79</td>\n",
        "      <td>  79</td>\n",
        "      <td>  79</td>\n",
        "    </tr>\n",
        "    <tr>\n",
        "      <th>116.121.216.200</th>\n",
        "      <td>  77</td>\n",
        "      <td>  77</td>\n",
        "      <td>  77</td>\n",
        "      <td>  77</td>\n",
        "      <td>  77</td>\n",
        "    </tr>\n",
        "    <tr>\n",
        "      <th>223.62.172.81</th>\n",
        "      <td>  75</td>\n",
        "      <td>  75</td>\n",
        "      <td>  75</td>\n",
        "      <td>  75</td>\n",
        "      <td>  75</td>\n",
        "    </tr>\n",
        "    <tr>\n",
        "      <th>27.117.51.252</th>\n",
        "      <td>  74</td>\n",
        "      <td>  74</td>\n",
        "      <td>  74</td>\n",
        "      <td>  74</td>\n",
        "      <td>  74</td>\n",
        "    </tr>\n",
        "    <tr>\n",
        "      <th>182.211.19.76</th>\n",
        "      <td>  72</td>\n",
        "      <td>  72</td>\n",
        "      <td>  72</td>\n",
        "      <td>  72</td>\n",
        "      <td>  72</td>\n",
        "    </tr>\n",
        "    <tr>\n",
        "      <th>122.35.171.144</th>\n",
        "      <td>  71</td>\n",
        "      <td>  71</td>\n",
        "      <td>  71</td>\n",
        "      <td>  71</td>\n",
        "      <td>  71</td>\n",
        "    </tr>\n",
        "    <tr>\n",
        "      <th>114.201.51.165</th>\n",
        "      <td>  70</td>\n",
        "      <td>  70</td>\n",
        "      <td>  70</td>\n",
        "      <td>  70</td>\n",
        "      <td>  70</td>\n",
        "    </tr>\n",
        "    <tr>\n",
        "      <th>39.114.56.157</th>\n",
        "      <td>  70</td>\n",
        "      <td>  70</td>\n",
        "      <td>  70</td>\n",
        "      <td>  70</td>\n",
        "      <td>  70</td>\n",
        "    </tr>\n",
        "    <tr>\n",
        "      <th>211.36.148.84</th>\n",
        "      <td>  70</td>\n",
        "      <td>  70</td>\n",
        "      <td>  70</td>\n",
        "      <td>  70</td>\n",
        "      <td>  70</td>\n",
        "    </tr>\n",
        "    <tr>\n",
        "      <th>182.222.224.12</th>\n",
        "      <td>  70</td>\n",
        "      <td>  70</td>\n",
        "      <td>  70</td>\n",
        "      <td>  70</td>\n",
        "      <td>  70</td>\n",
        "    </tr>\n",
        "    <tr>\n",
        "      <th>175.202.187.183</th>\n",
        "      <td>  68</td>\n",
        "      <td>  68</td>\n",
        "      <td>  68</td>\n",
        "      <td>  68</td>\n",
        "      <td>  68</td>\n",
        "    </tr>\n",
        "    <tr>\n",
        "      <th>110.70.55.52</th>\n",
        "      <td>  64</td>\n",
        "      <td>  64</td>\n",
        "      <td>  64</td>\n",
        "      <td>  64</td>\n",
        "      <td>  64</td>\n",
        "    </tr>\n",
        "    <tr>\n",
        "      <th>59.12.134.41</th>\n",
        "      <td>  63</td>\n",
        "      <td>  63</td>\n",
        "      <td>  63</td>\n",
        "      <td>  63</td>\n",
        "      <td>  63</td>\n",
        "    </tr>\n",
        "    <tr>\n",
        "      <th>211.211.92.236</th>\n",
        "      <td>  62</td>\n",
        "      <td>  62</td>\n",
        "      <td>  62</td>\n",
        "      <td>  62</td>\n",
        "      <td>  62</td>\n",
        "    </tr>\n",
        "    <tr>\n",
        "      <th>14.63.30.101</th>\n",
        "      <td>  61</td>\n",
        "      <td>  61</td>\n",
        "      <td>  61</td>\n",
        "      <td>  61</td>\n",
        "      <td>  61</td>\n",
        "    </tr>\n",
        "    <tr>\n",
        "      <th>203.226.200.133</th>\n",
        "      <td>  61</td>\n",
        "      <td>  61</td>\n",
        "      <td>  61</td>\n",
        "      <td>  61</td>\n",
        "      <td>  61</td>\n",
        "    </tr>\n",
        "    <tr>\n",
        "      <th>223.62.203.88</th>\n",
        "      <td>  61</td>\n",
        "      <td>  61</td>\n",
        "      <td>  61</td>\n",
        "      <td>  61</td>\n",
        "      <td>  61</td>\n",
        "    </tr>\n",
        "    <tr>\n",
        "      <th>219.250.42.61</th>\n",
        "      <td>  60</td>\n",
        "      <td>  60</td>\n",
        "      <td>  60</td>\n",
        "      <td>  60</td>\n",
        "      <td>  60</td>\n",
        "    </tr>\n",
        "    <tr>\n",
        "      <th>117.111.8.79</th>\n",
        "      <td>  59</td>\n",
        "      <td>  59</td>\n",
        "      <td>  59</td>\n",
        "      <td>  59</td>\n",
        "      <td>  59</td>\n",
        "    </tr>\n",
        "    <tr>\n",
        "      <th>116.121.136.79</th>\n",
        "      <td>  58</td>\n",
        "      <td>  58</td>\n",
        "      <td>  58</td>\n",
        "      <td>  58</td>\n",
        "      <td>  58</td>\n",
        "    </tr>\n",
        "    <tr>\n",
        "      <th>42.82.254.164</th>\n",
        "      <td>  58</td>\n",
        "      <td>  58</td>\n",
        "      <td>  58</td>\n",
        "      <td>  58</td>\n",
        "      <td>  58</td>\n",
        "    </tr>\n",
        "    <tr>\n",
        "      <th>211.36.146.190</th>\n",
        "      <td>  57</td>\n",
        "      <td>  57</td>\n",
        "      <td>  57</td>\n",
        "      <td>  57</td>\n",
        "      <td>  57</td>\n",
        "    </tr>\n",
        "    <tr>\n",
        "      <th>112.109.53.229</th>\n",
        "      <td>  57</td>\n",
        "      <td>  57</td>\n",
        "      <td>  57</td>\n",
        "      <td>  57</td>\n",
        "      <td>  57</td>\n",
        "    </tr>\n",
        "    <tr>\n",
        "      <th>59.4.171.135</th>\n",
        "      <td>  56</td>\n",
        "      <td>  56</td>\n",
        "      <td>  56</td>\n",
        "      <td>  56</td>\n",
        "      <td>  56</td>\n",
        "    </tr>\n",
        "    <tr>\n",
        "      <th>...</th>\n",
        "      <td>...</td>\n",
        "      <td>...</td>\n",
        "      <td>...</td>\n",
        "      <td>...</td>\n",
        "      <td>...</td>\n",
        "    </tr>\n",
        "    <tr>\n",
        "      <th>207.46.13.96</th>\n",
        "      <td>   1</td>\n",
        "      <td>   1</td>\n",
        "      <td>   1</td>\n",
        "      <td>   1</td>\n",
        "      <td>   1</td>\n",
        "    </tr>\n",
        "    <tr>\n",
        "      <th>110.70.51.253</th>\n",
        "      <td>   1</td>\n",
        "      <td>   1</td>\n",
        "      <td>   1</td>\n",
        "      <td>   1</td>\n",
        "      <td>   1</td>\n",
        "    </tr>\n",
        "    <tr>\n",
        "      <th>117.111.14.185</th>\n",
        "      <td>   1</td>\n",
        "      <td>   1</td>\n",
        "      <td>   1</td>\n",
        "      <td>   1</td>\n",
        "      <td>   1</td>\n",
        "    </tr>\n",
        "    <tr>\n",
        "      <th>223.33.184.22</th>\n",
        "      <td>   1</td>\n",
        "      <td>   1</td>\n",
        "      <td>   1</td>\n",
        "      <td>   1</td>\n",
        "      <td>   1</td>\n",
        "    </tr>\n",
        "    <tr>\n",
        "      <th>223.62.162.87</th>\n",
        "      <td>   1</td>\n",
        "      <td>   1</td>\n",
        "      <td>   1</td>\n",
        "      <td>   1</td>\n",
        "      <td>   1</td>\n",
        "    </tr>\n",
        "    <tr>\n",
        "      <th>117.111.7.146</th>\n",
        "      <td>   1</td>\n",
        "      <td>   1</td>\n",
        "      <td>   1</td>\n",
        "      <td>   1</td>\n",
        "      <td>   1</td>\n",
        "    </tr>\n",
        "    <tr>\n",
        "      <th>223.33.160.79</th>\n",
        "      <td>   1</td>\n",
        "      <td>   1</td>\n",
        "      <td>   1</td>\n",
        "      <td>   1</td>\n",
        "      <td>   1</td>\n",
        "    </tr>\n",
        "    <tr>\n",
        "      <th>117.111.11.248</th>\n",
        "      <td>   1</td>\n",
        "      <td>   1</td>\n",
        "      <td>   1</td>\n",
        "      <td>   1</td>\n",
        "      <td>   1</td>\n",
        "    </tr>\n",
        "    <tr>\n",
        "      <th>223.62.169.63</th>\n",
        "      <td>   1</td>\n",
        "      <td>   1</td>\n",
        "      <td>   1</td>\n",
        "      <td>   1</td>\n",
        "      <td>   1</td>\n",
        "    </tr>\n",
        "    <tr>\n",
        "      <th>116.40.14.24</th>\n",
        "      <td>   1</td>\n",
        "      <td>   1</td>\n",
        "      <td>   1</td>\n",
        "      <td>   1</td>\n",
        "      <td>   1</td>\n",
        "    </tr>\n",
        "    <tr>\n",
        "      <th>223.62.173.177</th>\n",
        "      <td>   1</td>\n",
        "      <td>   1</td>\n",
        "      <td>   1</td>\n",
        "      <td>   1</td>\n",
        "      <td>   1</td>\n",
        "    </tr>\n",
        "    <tr>\n",
        "      <th>182.220.51.30</th>\n",
        "      <td>   1</td>\n",
        "      <td>   1</td>\n",
        "      <td>   1</td>\n",
        "      <td>   1</td>\n",
        "      <td>   1</td>\n",
        "    </tr>\n",
        "    <tr>\n",
        "      <th>223.62.179.116</th>\n",
        "      <td>   1</td>\n",
        "      <td>   1</td>\n",
        "      <td>   1</td>\n",
        "      <td>   1</td>\n",
        "      <td>   1</td>\n",
        "    </tr>\n",
        "    <tr>\n",
        "      <th>223.62.179.29</th>\n",
        "      <td>   1</td>\n",
        "      <td>   1</td>\n",
        "      <td>   1</td>\n",
        "      <td>   1</td>\n",
        "      <td>   1</td>\n",
        "    </tr>\n",
        "    <tr>\n",
        "      <th>121.149.35.116</th>\n",
        "      <td>   1</td>\n",
        "      <td>   1</td>\n",
        "      <td>   1</td>\n",
        "      <td>   1</td>\n",
        "      <td>   1</td>\n",
        "    </tr>\n",
        "    <tr>\n",
        "      <th>121.174.215.139</th>\n",
        "      <td>   1</td>\n",
        "      <td>   1</td>\n",
        "      <td>   1</td>\n",
        "      <td>   1</td>\n",
        "      <td>   1</td>\n",
        "    </tr>\n",
        "    <tr>\n",
        "      <th>218.53.154.117</th>\n",
        "      <td>   1</td>\n",
        "      <td>   1</td>\n",
        "      <td>   1</td>\n",
        "      <td>   1</td>\n",
        "      <td>   1</td>\n",
        "    </tr>\n",
        "    <tr>\n",
        "      <th>121.187.182.60</th>\n",
        "      <td>   1</td>\n",
        "      <td>   1</td>\n",
        "      <td>   1</td>\n",
        "      <td>   1</td>\n",
        "      <td>   1</td>\n",
        "    </tr>\n",
        "    <tr>\n",
        "      <th>223.62.202.95</th>\n",
        "      <td>   1</td>\n",
        "      <td>   1</td>\n",
        "      <td>   1</td>\n",
        "      <td>   1</td>\n",
        "      <td>   1</td>\n",
        "    </tr>\n",
        "    <tr>\n",
        "      <th>124.46.230.44</th>\n",
        "      <td>   1</td>\n",
        "      <td>   1</td>\n",
        "      <td>   1</td>\n",
        "      <td>   1</td>\n",
        "      <td>   1</td>\n",
        "    </tr>\n",
        "    <tr>\n",
        "      <th>124.50.171.143</th>\n",
        "      <td>   1</td>\n",
        "      <td>   1</td>\n",
        "      <td>   1</td>\n",
        "      <td>   1</td>\n",
        "      <td>   1</td>\n",
        "    </tr>\n",
        "    <tr>\n",
        "      <th>211.36.149.130</th>\n",
        "      <td>   1</td>\n",
        "      <td>   1</td>\n",
        "      <td>   1</td>\n",
        "      <td>   1</td>\n",
        "      <td>   1</td>\n",
        "    </tr>\n",
        "    <tr>\n",
        "      <th>125.186.180.139</th>\n",
        "      <td>   1</td>\n",
        "      <td>   1</td>\n",
        "      <td>   1</td>\n",
        "      <td>   1</td>\n",
        "      <td>   1</td>\n",
        "    </tr>\n",
        "    <tr>\n",
        "      <th>112.152.201.151</th>\n",
        "      <td>   1</td>\n",
        "      <td>   1</td>\n",
        "      <td>   1</td>\n",
        "      <td>   1</td>\n",
        "      <td>   1</td>\n",
        "    </tr>\n",
        "    <tr>\n",
        "      <th>117.111.15.92</th>\n",
        "      <td>   1</td>\n",
        "      <td>   1</td>\n",
        "      <td>   1</td>\n",
        "      <td>   1</td>\n",
        "      <td>   1</td>\n",
        "    </tr>\n",
        "    <tr>\n",
        "      <th>39.7.55.246</th>\n",
        "      <td>   1</td>\n",
        "      <td>   1</td>\n",
        "      <td>   1</td>\n",
        "      <td>   1</td>\n",
        "      <td>   1</td>\n",
        "    </tr>\n",
        "    <tr>\n",
        "      <th>175.114.204.125</th>\n",
        "      <td>   1</td>\n",
        "      <td>   1</td>\n",
        "      <td>   1</td>\n",
        "      <td>   1</td>\n",
        "      <td>   1</td>\n",
        "    </tr>\n",
        "    <tr>\n",
        "      <th>110.70.53.222</th>\n",
        "      <td>   1</td>\n",
        "      <td>   1</td>\n",
        "      <td>   1</td>\n",
        "      <td>   1</td>\n",
        "      <td>   1</td>\n",
        "    </tr>\n",
        "    <tr>\n",
        "      <th>58.143.53.81</th>\n",
        "      <td>   1</td>\n",
        "      <td>   1</td>\n",
        "      <td>   1</td>\n",
        "      <td>   1</td>\n",
        "      <td>   1</td>\n",
        "    </tr>\n",
        "    <tr>\n",
        "      <th>66.249.77.49</th>\n",
        "      <td>   1</td>\n",
        "      <td>   1</td>\n",
        "      <td>   1</td>\n",
        "      <td>   1</td>\n",
        "      <td>   1</td>\n",
        "    </tr>\n",
        "  </tbody>\n",
        "</table>\n",
        "<p>471 rows \u00d7 5 columns</p>\n",
        "</div>"
       ],
       "metadata": {},
       "output_type": "pyout",
       "prompt_number": 36,
       "text": [
        "                 @timestamp  agent  duration  size  url\n",
        "host                                                   \n",
        "203.226.206.4           124    124       124   124  124\n",
        "211.63.231.37           104    104       104   104  104\n",
        "110.70.53.226            96     96        96    96   96\n",
        "218.149.124.154          87     87        87    87   87\n",
        "175.223.20.238           85     85        85    85   85\n",
        "223.62.172.111           81     81        81    81   81\n",
        "223.62.213.124           79     79        79    79   79\n",
        "116.121.216.200          77     77        77    77   77\n",
        "223.62.172.81            75     75        75    75   75\n",
        "27.117.51.252            74     74        74    74   74\n",
        "182.211.19.76            72     72        72    72   72\n",
        "122.35.171.144           71     71        71    71   71\n",
        "114.201.51.165           70     70        70    70   70\n",
        "39.114.56.157            70     70        70    70   70\n",
        "211.36.148.84            70     70        70    70   70\n",
        "182.222.224.12           70     70        70    70   70\n",
        "175.202.187.183          68     68        68    68   68\n",
        "110.70.55.52             64     64        64    64   64\n",
        "59.12.134.41             63     63        63    63   63\n",
        "211.211.92.236           62     62        62    62   62\n",
        "14.63.30.101             61     61        61    61   61\n",
        "203.226.200.133          61     61        61    61   61\n",
        "223.62.203.88            61     61        61    61   61\n",
        "219.250.42.61            60     60        60    60   60\n",
        "117.111.8.79             59     59        59    59   59\n",
        "116.121.136.79           58     58        58    58   58\n",
        "42.82.254.164            58     58        58    58   58\n",
        "211.36.146.190           57     57        57    57   57\n",
        "112.109.53.229           57     57        57    57   57\n",
        "59.4.171.135             56     56        56    56   56\n",
        "...                     ...    ...       ...   ...  ...\n",
        "207.46.13.96              1      1         1     1    1\n",
        "110.70.51.253             1      1         1     1    1\n",
        "117.111.14.185            1      1         1     1    1\n",
        "223.33.184.22             1      1         1     1    1\n",
        "223.62.162.87             1      1         1     1    1\n",
        "117.111.7.146             1      1         1     1    1\n",
        "223.33.160.79             1      1         1     1    1\n",
        "117.111.11.248            1      1         1     1    1\n",
        "223.62.169.63             1      1         1     1    1\n",
        "116.40.14.24              1      1         1     1    1\n",
        "223.62.173.177            1      1         1     1    1\n",
        "182.220.51.30             1      1         1     1    1\n",
        "223.62.179.116            1      1         1     1    1\n",
        "223.62.179.29             1      1         1     1    1\n",
        "121.149.35.116            1      1         1     1    1\n",
        "121.174.215.139           1      1         1     1    1\n",
        "218.53.154.117            1      1         1     1    1\n",
        "121.187.182.60            1      1         1     1    1\n",
        "223.62.202.95             1      1         1     1    1\n",
        "124.46.230.44             1      1         1     1    1\n",
        "124.50.171.143            1      1         1     1    1\n",
        "211.36.149.130            1      1         1     1    1\n",
        "125.186.180.139           1      1         1     1    1\n",
        "112.152.201.151           1      1         1     1    1\n",
        "117.111.15.92             1      1         1     1    1\n",
        "39.7.55.246               1      1         1     1    1\n",
        "175.114.204.125           1      1         1     1    1\n",
        "110.70.53.222             1      1         1     1    1\n",
        "58.143.53.81              1      1         1     1    1\n",
        "66.249.77.49              1      1         1     1    1\n",
        "\n",
        "[471 rows x 5 columns]"
       ]
      }
     ],
     "prompt_number": 36
    },
    {
     "cell_type": "code",
     "collapsed": false,
     "input": [
      "import matplotlib as plt"
     ],
     "language": "python",
     "metadata": {},
     "outputs": [
      {
       "ename": "ImportError",
       "evalue": "No module named matplotlib",
       "output_type": "pyerr",
       "traceback": [
        "\u001b[0;31m---------------------------------------------------------------------------\u001b[0m\n\u001b[0;31mImportError\u001b[0m                               Traceback (most recent call last)",
        "\u001b[0;32m<ipython-input-37-e78e67530b16>\u001b[0m in \u001b[0;36m<module>\u001b[0;34m()\u001b[0m\n\u001b[0;32m----> 1\u001b[0;31m \u001b[0;32mimport\u001b[0m \u001b[0mmatplotlib\u001b[0m \u001b[0;32mas\u001b[0m \u001b[0mplt\u001b[0m\u001b[0;34m\u001b[0m\u001b[0m\n\u001b[0m",
        "\u001b[0;31mImportError\u001b[0m: No module named matplotlib"
       ]
      }
     ],
     "prompt_number": 37
    },
    {
     "cell_type": "code",
     "collapsed": false,
     "input": [
      "import dateutil"
     ],
     "language": "python",
     "metadata": {},
     "outputs": []
    },
    {
     "cell_type": "code",
     "collapsed": false,
     "input": [
      "df['duration'] = df['duration'].astype(float)"
     ],
     "language": "python",
     "metadata": {},
     "outputs": []
    },
    {
     "cell_type": "code",
     "collapsed": false,
     "input": [
      "df['@timestamp'] = df['@timestamp'].apply(dateutil.parser.parse)"
     ],
     "language": "python",
     "metadata": {},
     "outputs": []
    },
    {
     "cell_type": "code",
     "collapsed": false,
     "input": [
      "df[['@timestamp','duration']].plot()"
     ],
     "language": "python",
     "metadata": {},
     "outputs": []
    },
    {
     "cell_type": "code",
     "collapsed": false,
     "input": [
      "plt.figure()"
     ],
     "language": "python",
     "metadata": {},
     "outputs": []
    },
    {
     "cell_type": "code",
     "collapsed": false,
     "input": [
      "df[['@timestamp','duration']].plot(kind='line',color='c')"
     ],
     "language": "python",
     "metadata": {},
     "outputs": []
    },
    {
     "cell_type": "code",
     "collapsed": false,
     "input": [
      "plt.savefig(\"fig1.png\",dpi=100)"
     ],
     "language": "python",
     "metadata": {},
     "outputs": []
    },
    {
     "cell_type": "code",
     "collapsed": false,
     "input": [
      "from IPython.core.display import Image "
     ],
     "language": "python",
     "metadata": {},
     "outputs": []
    },
    {
     "cell_type": "code",
     "collapsed": false,
     "input": [
      "Image(filename='fig1.png') "
     ],
     "language": "python",
     "metadata": {},
     "outputs": []
    },
    {
     "cell_type": "code",
     "collapsed": false,
     "input": [
      "plt.figure()\n",
      "df['size'] = df['size'].astype(float)\n",
      "df[['@timestamp','size']].plot(kind='line',color='c')\n",
      "plt.savefig(\"fig2.png\",dpi=100)\n",
      "Image(filename='fig2.png') "
     ],
     "language": "python",
     "metadata": {},
     "outputs": []
    },
    {
     "cell_type": "code",
     "collapsed": false,
     "input": [],
     "language": "python",
     "metadata": {},
     "outputs": []
    }
   ],
   "metadata": {}
  }
 ]
}