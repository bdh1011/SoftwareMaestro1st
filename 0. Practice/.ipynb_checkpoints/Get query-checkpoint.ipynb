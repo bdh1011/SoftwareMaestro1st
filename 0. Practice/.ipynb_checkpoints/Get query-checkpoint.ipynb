{
 "metadata": {
  "name": "",
  "signature": "sha256:2e83a5e88a568f10f305cdea6e29d560ff29133b8f930a8d3167f778535a1c62"
 },
 "nbformat": 3,
 "nbformat_minor": 0,
 "worksheets": [
  {
   "cells": [
    {
     "cell_type": "code",
     "collapsed": false,
     "input": [
      "from sqlalchemy import Column, Integer, String,BigInteger\n",
      "import sqlalchemy\n",
      "from sqlalchemy.ext.declarative import declarative_base\n",
      "db_host=\"\uae30\uc5c5\uc815\ubcf4\uc785\ub2c8\ub2e4\"\n",
      "db = sqlalchemy.create_engine(\"postgresql://\uae30\uc5c5\uc815\ubcf4\uc785\ub2c8\ub2e4@\"+db_host+\"/soma\")\n",
      "db.echo = False\n",
      "from sqlalchemy import *\n",
      "Base = declarative_base()\n",
      "class User(Base):\n",
      "    __tablename__ = 'users'\n",
      "    user_id = Column(String, primary_key=True)\n",
      "    prov = Column(String)\n",
      "    gender = Column(String)\n",
      "    job = Column(String)\n",
      "    birth = Column(Integer)\n",
      "#\ud14c\uc774\ube14 \uc0dd\uc131\n",
      "#Base.metadata.create_all(db)\n",
      " \n",
      "Session = sqlalchemy.orm.sessionmaker(bind=db)\n",
      "session = Session()\n",
      " \n",
      "#\ub370\uc774\ud130 \ucd94\uac00\n",
      "info = {'user_id':user_id,'gender':gender,'prov':prov,'job':job,'birth':birth}\n",
      "session.add(User(**info))\n",
      "session.commit()\n",
      " \n",
      "#raw query\n",
      "conn = session.connection()\n",
      "findlist=conn.execute(\"select * from \\\"user\\\" limit 10\")\n",
      "for each in findlist:\n",
      "    print each\n",
      "print findlist\n",
      "conn.close()\n",
      "session.close()\n",
      " "
     ],
     "language": "python",
     "metadata": {},
     "outputs": []
    }
   ],
   "metadata": {}
  }
 ]
}