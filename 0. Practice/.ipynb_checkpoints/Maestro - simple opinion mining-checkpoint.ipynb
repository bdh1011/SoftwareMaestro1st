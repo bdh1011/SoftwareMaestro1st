{
 "metadata": {
  "name": "",
  "signature": "sha256:df353cfbbbe1a3df4149bd4919841ac6f594320e625f10d2ebd26d68d219cdad"
 },
 "nbformat": 3,
 "nbformat_minor": 0,
 "worksheets": [
  {
   "cells": [
    {
     "cell_type": "heading",
     "level": 1,
     "metadata": {},
     "source": [
      "\n",
      "0. \uc0ac\uc804\uc5d0 \uc124\uce58\ud560 \uac83\ub4e4 "
     ]
    },
    {
     "cell_type": "raw",
     "metadata": {},
     "source": [
      "pip install \u2014upgrade scrapy\n",
      "easy_install zope.interface\n",
      "pip install gensim\n",
      "pip install pattern\n",
      "pip install joblib\n",
      "\n"
     ]
    },
    {
     "cell_type": "code",
     "collapsed": false,
     "input": [],
     "language": "python",
     "metadata": {},
     "outputs": []
    },
    {
     "cell_type": "heading",
     "level": 1,
     "metadata": {},
     "source": [
      "1. \uc6f9\uc5d0\uc11c \ud559\uc2b5\ud560 \ub370\uc774\ud130 \uc218\uc9d1 "
     ]
    },
    {
     "cell_type": "code",
     "collapsed": false,
     "input": [
      "import scrapy.selector as selector\n",
      "import requests\n"
     ],
     "language": "python",
     "metadata": {},
     "outputs": [],
     "prompt_number": 22
    },
    {
     "cell_type": "code",
     "collapsed": false,
     "input": [],
     "language": "python",
     "metadata": {},
     "outputs": [],
     "prompt_number": 22
    },
    {
     "cell_type": "code",
     "collapsed": false,
     "input": [
      "pos_url ='http://movie.naver.com/movie/bi/mi/pointWriteFormList.nhn?code=66026&type=after&onlyActualPointYn=N&order=highest'\n"
     ],
     "language": "python",
     "metadata": {},
     "outputs": [],
     "prompt_number": 23
    },
    {
     "cell_type": "code",
     "collapsed": false,
     "input": [
      "neg_url = 'http://movie.naver.com/movie/bi/mi/pointWriteFormList.nhn?code=66026&type=after&onlyActualPointYn=N&order=lowest'"
     ],
     "language": "python",
     "metadata": {},
     "outputs": [],
     "prompt_number": 24
    },
    {
     "cell_type": "code",
     "collapsed": false,
     "input": [
      "pos_data = requests.get(pos_url).text"
     ],
     "language": "python",
     "metadata": {},
     "outputs": [],
     "prompt_number": 25
    },
    {
     "cell_type": "code",
     "collapsed": false,
     "input": [
      "neg_data = requests.get(neg_url).text"
     ],
     "language": "python",
     "metadata": {},
     "outputs": [],
     "prompt_number": 26
    },
    {
     "cell_type": "code",
     "collapsed": false,
     "input": [
      "pos_select = selector(text=pos_data)"
     ],
     "language": "python",
     "metadata": {},
     "outputs": [
      {
       "ename": "TypeError",
       "evalue": "'module' object is not callable",
       "output_type": "pyerr",
       "traceback": [
        "\u001b[0;31m---------------------------------------------------------------------------\u001b[0m\n\u001b[0;31mTypeError\u001b[0m                                 Traceback (most recent call last)",
        "\u001b[0;32m<ipython-input-27-515c6ee489f5>\u001b[0m in \u001b[0;36m<module>\u001b[0;34m()\u001b[0m\n\u001b[0;32m----> 1\u001b[0;31m \u001b[0mpos_select\u001b[0m \u001b[0;34m=\u001b[0m \u001b[0mselector\u001b[0m\u001b[0;34m(\u001b[0m\u001b[0mtext\u001b[0m\u001b[0;34m=\u001b[0m\u001b[0mpos_data\u001b[0m\u001b[0;34m)\u001b[0m\u001b[0;34m\u001b[0m\u001b[0m\n\u001b[0m",
        "\u001b[0;31mTypeError\u001b[0m: 'module' object is not callable"
       ]
      }
     ],
     "prompt_number": 27
    },
    {
     "cell_type": "code",
     "collapsed": false,
     "input": [
      "print pos_select.select(\".//div[@class='score_reple']/p/text()\").extract()"
     ],
     "language": "python",
     "metadata": {},
     "outputs": [
      {
       "output_type": "stream",
       "stream": "stdout",
       "text": [
        "[u'\\uc61b\\ub0a0 \\ud5a5\\uc218\\ub3c4 \\ub290\\ub084\\uc218 \\uc788\\uace0 \\ub354 \\uc138\\ub828\\ub418\\uc838\\uc11c \\uc7ac\\ubc0c\\uac8c \\ubd24\\uc228!! \\ud3c9\\uc810 \\ub108\\ubb34 \\ub0ae\\uc544\\uc11c \\uc2ed\\uc810 \\ube60\\uc0f7  ', u'\\uc561\\uc158\\uacfc \\uac10\\ub3d9 \\ubaa8\\ub450 \\ucd5c\\uace0\\uc600\\ub2e4!  ', u'7\\uc810\\ub300 \\uc601\\ud654\\ub294 \\uc544\\ub2c8\\ub2e4. \\uc800\\ud3c9\\uac00\\uc624\\ub958 \\uc218\\uc815\\uc6a9 10\\uc810  ', u'\\ud070 \\uc790\\uadf9\\uc740 \\uc5c6\\uc5b4\\uc11c \\uc7ac\\ubbf8\\uac00 \\uc5c6\\ub2e4\\uace0 \\ub290\\ub07c\\uc2e4\\ubd84\\ub4e4\\uc774 \\ub9ce\\uaca0\\uc9c0\\ub9cc \\uc800\\ub294 \\uc624\\ud788\\ub824 \\uc5ec\\uae30\\uae4c\\uc9c0\\uac00 \\uc801\\ub2f9\\ud558\\ub2e4\\uace0 \\uc0dd\\uac01\\ub429\\ub2c8\\ub2e4. \\ub108\\ubb34 \\uc790\\uadf9\\uc801\\uc778 \\uc601\\ud654\\ub4e4\\uc740 \\ubcf4\\ub2e4\\uac00 \\ub208\\uc0b4\\uc744 \\ucc0c\\ud478\\ub9ac\\uac8c \\ub418\\uc9c0\\uc694. \\uc0c8\\ub85c\\uc6b4 \\uc0b6\\uc744 \\uc0b4\\uac8c\\ub418 \\uc5b4\\ub824\\uc6c0\\uc774 \\ub9ce\\uc740\\ub370\\ub3c4 \\uc774\\uaca8\\ub0b4\\ub294 \\uc7a5\\uba74\\ub4e4\\uc774 \\ucc38 \\uc778\\uc0c1\\uae4a\\uc5c8\\uc5b4\\uc694.  ', u'\\uc561\\uc158\\ub3c4\\ud654\\ub824\\ud558\\uace0 \\ub0b4\\uc6a9\\ub3c4\\uaf64\\uc88b\\uc740\\uac70\\uac19\\uc74c  ']\n"
       ]
      }
     ],
     "prompt_number": 28
    },
    {
     "cell_type": "code",
     "collapsed": false,
     "input": [
      "def get_reviews(order,page):\n",
      "    url = 'http://movie.naver.com/movie/bi/mi/pointWriteFormList.nhn?code=66026&type=after&onlyActualPointYn=N&order='+order+'&page='+str(page)\n",
      "    data = requests.get(url).text\n",
      "    select_data = selector.HtmlXPathSelector(text=data)\n",
      "    return select_data.select(\".//div[@class='score_reple']/p/text()\").extract()"
     ],
     "language": "python",
     "metadata": {},
     "outputs": [],
     "prompt_number": 29
    },
    {
     "cell_type": "code",
     "collapsed": false,
     "input": [
      "print get_reviews('highest',1)[1]"
     ],
     "language": "python",
     "metadata": {},
     "outputs": [
      {
       "output_type": "stream",
       "stream": "stdout",
       "text": [
        "\uc561\uc158\uacfc \uac10\ub3d9 \ubaa8\ub450 \ucd5c\uace0\uc600\ub2e4!  \n"
       ]
      }
     ],
     "prompt_number": 30
    },
    {
     "cell_type": "code",
     "collapsed": false,
     "input": [
      "print get_reviews('highest',2)[0]"
     ],
     "language": "python",
     "metadata": {},
     "outputs": [
      {
       "output_type": "stream",
       "stream": "stdout",
       "text": [
        "\uadf8 \uc5b4\ub5a4 \ud504\ub85c\uadf8\ub7a8\ub3c4 \uc778\uac04\uc758 \uc9c0\uc131\uc744 \ub6f0\uc5b4\ub118\uc744 \uc218 \uc5c6\ub2e4  \n"
       ]
      }
     ],
     "prompt_number": 31
    },
    {
     "cell_type": "code",
     "collapsed": false,
     "input": [
      "print get_reviews('lowest',1)[0]"
     ],
     "language": "python",
     "metadata": {},
     "outputs": [
      {
       "output_type": "stream",
       "stream": "stdout",
       "text": [
        "\uadf8\ub798\uc11c \uacb0\ub860\uc774 \ubb54\ub370? \ubbf8\uad6d\uc774 \uc9f1\uc774\ub77c\uace0?  \n"
       ]
      }
     ],
     "prompt_number": 32
    },
    {
     "cell_type": "code",
     "collapsed": false,
     "input": [
      "pos_reviews = []\n",
      "for page in range(1,2):\n",
      "    if page%10==0:\n",
      "        print page\n",
      "    reviews = get_reviews('highest',page)\n",
      "    pos_reviews.extend(reviews)\n"
     ],
     "language": "python",
     "metadata": {},
     "outputs": [],
     "prompt_number": 33
    },
    {
     "cell_type": "code",
     "collapsed": false,
     "input": [
      "neg_reviews = []\n",
      "for page in range(1,2):\n",
      "    if page%10==0:\n",
      "        print page\n",
      "    reviews = get_reviews('lowest',page)\n",
      "    neg_reviews.extend(reviews)\n"
     ],
     "language": "python",
     "metadata": {},
     "outputs": [],
     "prompt_number": 34
    },
    {
     "cell_type": "raw",
     "metadata": {},
     "source": [
      "\ub124\uc774\ubc84 \uc11c\ubc84\uc5d0 \ubd80\ub2f4\uc744 \uc8fc\uae30 \ub54c\ubb38\uc5d0 \ubbf8\ub9ac 100\ud398\uc774\uc9c0\uae4c\uc9c0 \uc218\uc9d1\ud55c \uac83\uc744 \uc544\ub798 \ucf54\ub4dc\ub85c \ub2e4\uc6b4 \ubc1b\uc544\uc11c \uc0ac\uc6a9\ud55c\ub2e4."
     ]
    },
    {
     "cell_type": "code",
     "collapsed": false,
     "input": [
      "pos_data_url = 'http://\uae30\uc5c5\uc815\ubcf4\uc785\ub2c8\ub2e4/data/pos_reviews.txt'\n",
      "neg_data_url = 'http://\uae30\uc5c5\uc815\ubcf4\uc785\ub2c8\ub2e4/data/neg_reviews.txt'\n",
      "r = requests.get(pos_data_url)\n",
      "r.encoding='utf-8'\n",
      "pos_reviews =  r.text.split(\"\\n\")\n",
      "r = requests.get(neg_data_url)\n",
      "r.encoding='utf-8'\n",
      "neg_reviews =  r.text.split(\"\\n\")"
     ],
     "language": "python",
     "metadata": {},
     "outputs": [],
     "prompt_number": 35
    },
    {
     "cell_type": "code",
     "collapsed": false,
     "input": [
      "print len(pos_reviews)"
     ],
     "language": "python",
     "metadata": {},
     "outputs": [
      {
       "output_type": "stream",
       "stream": "stdout",
       "text": [
        "496\n"
       ]
      }
     ],
     "prompt_number": 38
    },
    {
     "cell_type": "code",
     "collapsed": false,
     "input": [
      "fout = file(\"pos_reviews.txt\",\"w\")\n",
      "print >>fout, \"\\n\".join(pos_reviews).encode('utf-8')\n",
      "fout.close()\n",
      "fout = file(\"neg_reviews.txt\",\"w\")\n",
      "print >>fout, \"\\n\".join(neg_reviews).encode('utf-8')\n",
      "fout.close()"
     ],
     "language": "python",
     "metadata": {},
     "outputs": [],
     "prompt_number": 39
    },
    {
     "cell_type": "heading",
     "level": 1,
     "metadata": {},
     "source": [
      "2. \uc218\uc9d1\ud55c \ub370\uc774\ud130\ub97c \ud559\uc2b5\uc6a9 \ud3ec\ub9f7\uc73c\ub85c \ubcc0\ud658"
     ]
    },
    {
     "cell_type": "code",
     "collapsed": false,
     "input": [
      "pos_review = open(\"pos_reviews.txt\").read().split(\"\\n\")"
     ],
     "language": "python",
     "metadata": {},
     "outputs": [],
     "prompt_number": 40
    },
    {
     "cell_type": "code",
     "collapsed": false,
     "input": [
      "neg_review = open(\"neg_reviews.txt\").read().split(\"\\n\")"
     ],
     "language": "python",
     "metadata": {},
     "outputs": [],
     "prompt_number": 41
    },
    {
     "cell_type": "code",
     "collapsed": false,
     "input": [
      "from gensim import corpora"
     ],
     "language": "python",
     "metadata": {},
     "outputs": [],
     "prompt_number": 43
    },
    {
     "cell_type": "code",
     "collapsed": false,
     "input": [],
     "language": "python",
     "metadata": {},
     "outputs": [],
     "prompt_number": 31
    },
    {
     "cell_type": "code",
     "collapsed": false,
     "input": [],
     "language": "python",
     "metadata": {},
     "outputs": [],
     "prompt_number": 31
    },
    {
     "cell_type": "code",
     "collapsed": false,
     "input": [],
     "language": "python",
     "metadata": {},
     "outputs": [],
     "prompt_number": 31
    },
    {
     "cell_type": "code",
     "collapsed": false,
     "input": [
      "#pos_texts = [[word for word in document.split()] for document in pos_review]\n",
      "pos_texts = [[word for word in list(document.decode(\"utf-8\"))] for document in pos_review]\n",
      "#pos_texts = [[word for word in list(document.decode(\"utf-8\"))]+[word for word in map(lambda i : i[0]+\" \"+i[1],zip(list(document.decode(\"utf-8\"))[:-1],list(document.decode(\"utf-8\"))[1:]))] for document in pos_review]"
     ],
     "language": "python",
     "metadata": {},
     "outputs": [],
     "prompt_number": 44
    },
    {
     "cell_type": "code",
     "collapsed": false,
     "input": [
      "#neg_texts = [[word for word in document.split()] for document in neg_review]\n",
      "neg_texts = [[word for word in list(document.decode(\"utf-8\"))] for document in neg_review]\n",
      "\n",
      "#neg_texts = [[word for word in list(document.decode(\"utf-8\"))]+[word for word in map(lambda i : i[0]+\" \"+i[1],zip(list(document.decode(\"utf-8\"))[:-1],list(document.decode(\"utf-8\"))[1:]))] for document in neg_review]\n"
     ],
     "language": "python",
     "metadata": {},
     "outputs": [],
     "prompt_number": 45
    },
    {
     "cell_type": "code",
     "collapsed": false,
     "input": [
      "all_texts = pos_texts + neg_texts"
     ],
     "language": "python",
     "metadata": {},
     "outputs": [],
     "prompt_number": 46
    },
    {
     "cell_type": "code",
     "collapsed": false,
     "input": [
      "print all_texts[0]"
     ],
     "language": "python",
     "metadata": {},
     "outputs": [
      {
       "output_type": "stream",
       "stream": "stdout",
       "text": [
        "[u'\\ucd5c', u'\\uace0', u'\\uc600', u'\\ub2e4', u'.', u'.', u'.', u'\\ud6c4', u'\\uc18d', u'\\uc791', u' ', u'\\ub098', u'\\uc640', u'\\ub77c', u'.', u' ', u' ']\n"
       ]
      }
     ],
     "prompt_number": 83
    },
    {
     "cell_type": "code",
     "collapsed": false,
     "input": [
      "print \";\".join(neg_texts[0])"
     ],
     "language": "python",
     "metadata": {},
     "outputs": [
      {
       "output_type": "stream",
       "stream": "stdout",
       "text": [
        "\uc0dd;\uac01;\ubcf4;\ub2e4; ;\uc561;\uc158;\uc2e0;\uc774; ;\uc5c6;\ub2e4;.;\uc601;\ud654; ;\ubcfc; ;\uc0ac;\ub78c;\ub4e4;\uc740; ;\uc561;\uc158;\uc2e0;\uc5d0; ;\ud06c;\uac8c; ;\uae30;\ub300;\ud558;\uace0; ;\ubcf4;\uba74; ;\ud3c9;\ud0c0;\ub294; ;\uce60;\uaebc;\ub77c;\uace0; ;\ubd05;\ub2c8;\ub2e4;.; ; \n"
       ]
      }
     ],
     "prompt_number": 86
    },
    {
     "cell_type": "code",
     "collapsed": false,
     "input": [
      "dictioanry = corpora.Dictionary(all_texts)"
     ],
     "language": "python",
     "metadata": {},
     "outputs": [],
     "prompt_number": 87
    },
    {
     "cell_type": "code",
     "collapsed": false,
     "input": [
      "print dictioanry.doc2bow(pos_texts[10])"
     ],
     "language": "python",
     "metadata": {},
     "outputs": [
      {
       "output_type": "stream",
       "stream": "stdout",
       "text": [
        "[(0, 24), (2, 1), (3, 1), (4, 1), (10, 1), (12, 1), (18, 1), (22, 3), (23, 1), (27, 1), (32, 1), (47, 1), (53, 1), (54, 1), (58, 1), (59, 1), (60, 3), (65, 3), (69, 1), (73, 1), (79, 1), (81, 2), (88, 1), (92, 1), (106, 2), (110, 1), (114, 1), (126, 1), (129, 3), (155, 3), (162, 1), (167, 1), (170, 1), (176, 1), (181, 1), (192, 1), (197, 1), (198, 1), (199, 1), (200, 1), (201, 1), (202, 1), (203, 1), (204, 1), (205, 1), (206, 1), (207, 1), (208, 1), (209, 1), (210, 1), (211, 1)]\n"
       ]
      }
     ],
     "prompt_number": 58
    },
    {
     "cell_type": "code",
     "collapsed": false,
     "input": [
      "pos_vects = [dictioanry.doc2bow(text) for text in pos_texts]"
     ],
     "language": "python",
     "metadata": {},
     "outputs": [],
     "prompt_number": 59
    },
    {
     "cell_type": "code",
     "collapsed": false,
     "input": [
      "print pos_vects[10]"
     ],
     "language": "python",
     "metadata": {},
     "outputs": [
      {
       "output_type": "stream",
       "stream": "stdout",
       "text": [
        "[(0, 24), (2, 1), (3, 1), (4, 1), (10, 1), (12, 1), (18, 1), (22, 3), (23, 1), (27, 1), (32, 1), (47, 1), (53, 1), (54, 1), (58, 1), (59, 1), (60, 3), (65, 3), (69, 1), (73, 1), (79, 1), (81, 2), (88, 1), (92, 1), (106, 2), (110, 1), (114, 1), (126, 1), (129, 3), (155, 3), (162, 1), (167, 1), (170, 1), (176, 1), (181, 1), (192, 1), (197, 1), (198, 1), (199, 1), (200, 1), (201, 1), (202, 1), (203, 1), (204, 1), (205, 1), (206, 1), (207, 1), (208, 1), (209, 1), (210, 1), (211, 1)]\n"
       ]
      }
     ],
     "prompt_number": 60
    },
    {
     "cell_type": "code",
     "collapsed": false,
     "input": [
      "neg_vects = [dictioanry.doc2bow(text) for text in neg_texts]"
     ],
     "language": "python",
     "metadata": {},
     "outputs": [],
     "prompt_number": 61
    },
    {
     "cell_type": "code",
     "collapsed": false,
     "input": [
      "print neg_vects[10]"
     ],
     "language": "python",
     "metadata": {},
     "outputs": [
      {
       "output_type": "stream",
       "stream": "stdout",
       "text": [
        "[(0, 3), (3, 1), (18, 1), (45, 1), (60, 1), (66, 1), (81, 1), (117, 1), (228, 1), (483, 1), (547, 1), (697, 1)]\n"
       ]
      }
     ],
     "prompt_number": 62
    },
    {
     "cell_type": "heading",
     "level": 1,
     "metadata": {},
     "source": [
      " 3. \ud559\uc2b5 \ubc0f \uc131\ub2a5 \ud3c9\uac00"
     ]
    },
    {
     "cell_type": "code",
     "collapsed": false,
     "input": [
      "from sklearn import cross_validation\n",
      "from sklearn.svm import LinearSVC\n",
      "import numpy as np"
     ],
     "language": "python",
     "metadata": {},
     "outputs": [],
     "prompt_number": 63
    },
    {
     "cell_type": "code",
     "collapsed": false,
     "input": [
      "X = pos_vects + neg_vects"
     ],
     "language": "python",
     "metadata": {},
     "outputs": [],
     "prompt_number": 64
    },
    {
     "cell_type": "code",
     "collapsed": false,
     "input": [
      "y = [1]*len(pos_vects)+[2]*len(neg_vects)"
     ],
     "language": "python",
     "metadata": {},
     "outputs": [],
     "prompt_number": 65
    },
    {
     "cell_type": "code",
     "collapsed": false,
     "input": [
      "print len(X)"
     ],
     "language": "python",
     "metadata": {},
     "outputs": [
      {
       "output_type": "stream",
       "stream": "stdout",
       "text": [
        "780\n"
       ]
      }
     ],
     "prompt_number": 66
    },
    {
     "cell_type": "code",
     "collapsed": false,
     "input": [
      "print len(y)"
     ],
     "language": "python",
     "metadata": {},
     "outputs": [
      {
       "output_type": "stream",
       "stream": "stdout",
       "text": [
        "780\n"
       ]
      }
     ],
     "prompt_number": 67
    },
    {
     "cell_type": "code",
     "collapsed": false,
     "input": [
      "corpora.svmlightcorpus.SvmLightCorpus.save_corpus('polarity.svmlight',X,labels=y)"
     ],
     "language": "python",
     "metadata": {},
     "outputs": [
      {
       "metadata": {},
       "output_type": "pyout",
       "prompt_number": 72,
       "text": [
        "[0,\n",
        " 53,\n",
        " 436,\n",
        " 804,\n",
        " 1010,\n",
        " 1065,\n",
        " 1267,\n",
        " 1346,\n",
        " 1469,\n",
        " 1710,\n",
        " 1982,\n",
        " 2263,\n",
        " 2321,\n",
        " 2424,\n",
        " 2558,\n",
        " 2682,\n",
        " 2793,\n",
        " 2974,\n",
        " 3108,\n",
        " 3276,\n",
        " 3346,\n",
        " 3438,\n",
        " 3703,\n",
        " 3827,\n",
        " 3919,\n",
        " 4076,\n",
        " 4179,\n",
        " 4267,\n",
        " 4644,\n",
        " 4716,\n",
        " 5072,\n",
        " 5424,\n",
        " 5541,\n",
        " 5968,\n",
        " 6292,\n",
        " 6353,\n",
        " 6752,\n",
        " 6953,\n",
        " 6986,\n",
        " 7023,\n",
        " 7216,\n",
        " 7332,\n",
        " 7425,\n",
        " 7584,\n",
        " 7684,\n",
        " 7790,\n",
        " 7968,\n",
        " 8045,\n",
        " 8428,\n",
        " 8501,\n",
        " 8594,\n",
        " 8719,\n",
        " 9051,\n",
        " 9426,\n",
        " 9641,\n",
        " 9788,\n",
        " 9975,\n",
        " 10188,\n",
        " 10578,\n",
        " 10692,\n",
        " 10768,\n",
        " 10829,\n",
        " 10923,\n",
        " 11096,\n",
        " 11171,\n",
        " 11438,\n",
        " 11613,\n",
        " 11755,\n",
        " 11970,\n",
        " 12078,\n",
        " 12195,\n",
        " 12388,\n",
        " 12621,\n",
        " 13065,\n",
        " 13224,\n",
        " 13398,\n",
        " 13458,\n",
        " 13612,\n",
        " 13716,\n",
        " 13809,\n",
        " 13916,\n",
        " 14253,\n",
        " 14572,\n",
        " 14694,\n",
        " 14811,\n",
        " 15005,\n",
        " 15458,\n",
        " 15612,\n",
        " 15759,\n",
        " 15893,\n",
        " 16000,\n",
        " 16409,\n",
        " 16653,\n",
        " 16761,\n",
        " 16893,\n",
        " 17308,\n",
        " 17480,\n",
        " 17798,\n",
        " 17993,\n",
        " 18074,\n",
        " 18137,\n",
        " 18420,\n",
        " 18556,\n",
        " 18861,\n",
        " 19167,\n",
        " 19315,\n",
        " 19591,\n",
        " 19677,\n",
        " 19891,\n",
        " 19961,\n",
        " 20228,\n",
        " 20299,\n",
        " 20405,\n",
        " 20653,\n",
        " 20714,\n",
        " 20906,\n",
        " 20992,\n",
        " 21139,\n",
        " 21231,\n",
        " 21551,\n",
        " 21857,\n",
        " 21943,\n",
        " 22010,\n",
        " 22441,\n",
        " 22612,\n",
        " 22752,\n",
        " 22849,\n",
        " 23021,\n",
        " 23085,\n",
        " 23201,\n",
        " 23270,\n",
        " 23326,\n",
        " 23399,\n",
        " 23471,\n",
        " 23529,\n",
        " 23689,\n",
        " 23739,\n",
        " 23849,\n",
        " 24015,\n",
        " 24229,\n",
        " 24292,\n",
        " 24346,\n",
        " 24719,\n",
        " 24778,\n",
        " 24907,\n",
        " 25180,\n",
        " 25471,\n",
        " 25604,\n",
        " 25793,\n",
        " 25907,\n",
        " 25964,\n",
        " 26100,\n",
        " 26487,\n",
        " 26571,\n",
        " 26933,\n",
        " 27053,\n",
        " 27462,\n",
        " 27710,\n",
        " 27808,\n",
        " 27919,\n",
        " 27995,\n",
        " 28177,\n",
        " 28415,\n",
        " 28581,\n",
        " 28824,\n",
        " 29165,\n",
        " 29533,\n",
        " 29703,\n",
        " 29800,\n",
        " 30118,\n",
        " 30254,\n",
        " 30288,\n",
        " 30472,\n",
        " 30833,\n",
        " 31035,\n",
        " 31099,\n",
        " 31317,\n",
        " 31498,\n",
        " 31742,\n",
        " 31886,\n",
        " 32167,\n",
        " 32313,\n",
        " 32431,\n",
        " 32701,\n",
        " 32782,\n",
        " 32919,\n",
        " 33129,\n",
        " 33267,\n",
        " 33583,\n",
        " 33705,\n",
        " 33832,\n",
        " 34182,\n",
        " 34281,\n",
        " 34487,\n",
        " 34945,\n",
        " 35295,\n",
        " 35445,\n",
        " 35500,\n",
        " 35732,\n",
        " 36130,\n",
        " 36188,\n",
        " 36536,\n",
        " 36636,\n",
        " 36725,\n",
        " 36827,\n",
        " 37007,\n",
        " 37305,\n",
        " 37328,\n",
        " 37392,\n",
        " 37669,\n",
        " 37816,\n",
        " 37898,\n",
        " 38052,\n",
        " 38255,\n",
        " 38403,\n",
        " 38539,\n",
        " 38696,\n",
        " 39075,\n",
        " 39316,\n",
        " 39494,\n",
        " 39906,\n",
        " 40142,\n",
        " 40498,\n",
        " 40811,\n",
        " 40960,\n",
        " 41218,\n",
        " 41407,\n",
        " 41790,\n",
        " 41928,\n",
        " 42145,\n",
        " 42288,\n",
        " 42449,\n",
        " 42690,\n",
        " 42754,\n",
        " 43170,\n",
        " 43241,\n",
        " 43698,\n",
        " 43888,\n",
        " 43980,\n",
        " 44163,\n",
        " 44282,\n",
        " 44389,\n",
        " 44597,\n",
        " 44756,\n",
        " 45047,\n",
        " 45143,\n",
        " 45495,\n",
        " 45599,\n",
        " 45702,\n",
        " 45801,\n",
        " 45906,\n",
        " 46046,\n",
        " 46431,\n",
        " 46660,\n",
        " 46725,\n",
        " 46814,\n",
        " 46910,\n",
        " 47035,\n",
        " 47399,\n",
        " 47467,\n",
        " 47553,\n",
        " 47936,\n",
        " 48355,\n",
        " 48471,\n",
        " 48615,\n",
        " 48801,\n",
        " 48862,\n",
        " 49274,\n",
        " 49455,\n",
        " 49706,\n",
        " 50027,\n",
        " 50161,\n",
        " 50308,\n",
        " 50529,\n",
        " 50804,\n",
        " 51180,\n",
        " 51296,\n",
        " 51381,\n",
        " 51531,\n",
        " 51827,\n",
        " 52134,\n",
        " 52305,\n",
        " 52412,\n",
        " 52594,\n",
        " 52690,\n",
        " 52788,\n",
        " 53023,\n",
        " 53417,\n",
        " 53473,\n",
        " 53596,\n",
        " 53701,\n",
        " 53759,\n",
        " 53816,\n",
        " 53960,\n",
        " 54207,\n",
        " 54335,\n",
        " 54404,\n",
        " 54617,\n",
        " 54749,\n",
        " 54881,\n",
        " 54993,\n",
        " 55384,\n",
        " 55762,\n",
        " 55813,\n",
        " 56064,\n",
        " 56350,\n",
        " 56454,\n",
        " 56532,\n",
        " 56893,\n",
        " 57228,\n",
        " 57472,\n",
        " 57608,\n",
        " 58003,\n",
        " 58290,\n",
        " 58597,\n",
        " 58872,\n",
        " 59050,\n",
        " 59273,\n",
        " 59342,\n",
        " 59576,\n",
        " 59670,\n",
        " 59794,\n",
        " 59874,\n",
        " 59967,\n",
        " 60078,\n",
        " 60173,\n",
        " 60339,\n",
        " 60517,\n",
        " 60893,\n",
        " 61039,\n",
        " 61422,\n",
        " 61830,\n",
        " 61978,\n",
        " 62137,\n",
        " 62433,\n",
        " 62619,\n",
        " 62683,\n",
        " 62880,\n",
        " 62910,\n",
        " 63344,\n",
        " 63608,\n",
        " 63881,\n",
        " 63948,\n",
        " 64017,\n",
        " 64086,\n",
        " 64394,\n",
        " 64678,\n",
        " 65071,\n",
        " 65155,\n",
        " 65279,\n",
        " 65406,\n",
        " 65555,\n",
        " 65638,\n",
        " 65915,\n",
        " 66132,\n",
        " 66563,\n",
        " 66776,\n",
        " 66907,\n",
        " 66988,\n",
        " 67393,\n",
        " 67466,\n",
        " 67546,\n",
        " 67681,\n",
        " 67801,\n",
        " 68147,\n",
        " 68266,\n",
        " 68409,\n",
        " 68494,\n",
        " 68568,\n",
        " 68691,\n",
        " 68766,\n",
        " 69103,\n",
        " 69396,\n",
        " 69474,\n",
        " 69807,\n",
        " 70087,\n",
        " 70385,\n",
        " 70768,\n",
        " 71111,\n",
        " 71257,\n",
        " 71376,\n",
        " 71455,\n",
        " 71900,\n",
        " 72213,\n",
        " 72290,\n",
        " 72572,\n",
        " 72716,\n",
        " 72782,\n",
        " 73045,\n",
        " 73199,\n",
        " 73300,\n",
        " 73396,\n",
        " 73731,\n",
        " 73901,\n",
        " 73957,\n",
        " 74057,\n",
        " 74328,\n",
        " 74657,\n",
        " 74775,\n",
        " 74956,\n",
        " 75366,\n",
        " 75870,\n",
        " 76010,\n",
        " 76071,\n",
        " 76420,\n",
        " 76516,\n",
        " 76703,\n",
        " 76853,\n",
        " 77015,\n",
        " 77156,\n",
        " 77361,\n",
        " 77409,\n",
        " 77515,\n",
        " 77694,\n",
        " 77895,\n",
        " 77970,\n",
        " 78228,\n",
        " 78324,\n",
        " 78717,\n",
        " 79136,\n",
        " 79296,\n",
        " 79380,\n",
        " 79768,\n",
        " 79826,\n",
        " 80010,\n",
        " 80335,\n",
        " 80626,\n",
        " 80802,\n",
        " 80842,\n",
        " 81241,\n",
        " 81361,\n",
        " 81487,\n",
        " 81549,\n",
        " 81691,\n",
        " 81896,\n",
        " 82015,\n",
        " 82088,\n",
        " 82169,\n",
        " 82242,\n",
        " 82331,\n",
        " 82728,\n",
        " 82929,\n",
        " 83026,\n",
        " 83092,\n",
        " 83175,\n",
        " 83601,\n",
        " 83963,\n",
        " 84043,\n",
        " 84494,\n",
        " 84614,\n",
        " 84655,\n",
        " 84799,\n",
        " 84928,\n",
        " 85000,\n",
        " 85171,\n",
        " 85274,\n",
        " 85399,\n",
        " 85463,\n",
        " 85545,\n",
        " 85723,\n",
        " 85868,\n",
        " 85952,\n",
        " 86004,\n",
        " 86093,\n",
        " 86318,\n",
        " 86417,\n",
        " 86515,\n",
        " 86595,\n",
        " 86776,\n",
        " 86985,\n",
        " 87098,\n",
        " 87334,\n",
        " 87560,\n",
        " 87795,\n",
        " 87931,\n",
        " 88060,\n",
        " 88521,\n",
        " 88720,\n",
        " 88944,\n",
        " 89026,\n",
        " 89113,\n",
        " 89242,\n",
        " 89315,\n",
        " 89363,\n",
        " 89465,\n",
        " 89573,\n",
        " 89692,\n",
        " 89764,\n",
        " 90180,\n",
        " 90371,\n",
        " 90738,\n",
        " 90782,\n",
        " 90871,\n",
        " 90933,\n",
        " 91005,\n",
        " 91080,\n",
        " 91083,\n",
        " 91086,\n",
        " 91263,\n",
        " 91336,\n",
        " 91384,\n",
        " 91577,\n",
        " 91647,\n",
        " 91897,\n",
        " 92113,\n",
        " 92516,\n",
        " 92560,\n",
        " 92796,\n",
        " 92861,\n",
        " 93080,\n",
        " 93151,\n",
        " 93295,\n",
        " 93347,\n",
        " 93423,\n",
        " 93578,\n",
        " 93900,\n",
        " 93975,\n",
        " 94042,\n",
        " 94129,\n",
        " 94316,\n",
        " 94446,\n",
        " 94759,\n",
        " 94797,\n",
        " 94951,\n",
        " 95218,\n",
        " 95555,\n",
        " 95707,\n",
        " 95915,\n",
        " 96323,\n",
        " 96732,\n",
        " 96874,\n",
        " 97060,\n",
        " 97312,\n",
        " 97414,\n",
        " 97485,\n",
        " 97602,\n",
        " 97795,\n",
        " 97966,\n",
        " 98083,\n",
        " 98162,\n",
        " 98257,\n",
        " 98339,\n",
        " 98455,\n",
        " 98498,\n",
        " 98930,\n",
        " 99082,\n",
        " 99474,\n",
        " 99625,\n",
        " 99738,\n",
        " 100024,\n",
        " 100093,\n",
        " 100167,\n",
        " 100583,\n",
        " 100647,\n",
        " 100980,\n",
        " 101078,\n",
        " 101210,\n",
        " 101471,\n",
        " 101578,\n",
        " 101617,\n",
        " 101761,\n",
        " 101834,\n",
        " 101906,\n",
        " 102064,\n",
        " 102218,\n",
        " 102298,\n",
        " 102430,\n",
        " 102472,\n",
        " 102660,\n",
        " 102719,\n",
        " 102797,\n",
        " 102957,\n",
        " 103120,\n",
        " 103273,\n",
        " 103379,\n",
        " 103526,\n",
        " 103684,\n",
        " 103865,\n",
        " 103910,\n",
        " 103938,\n",
        " 104344,\n",
        " 104453,\n",
        " 104558,\n",
        " 104654,\n",
        " 104737,\n",
        " 104860,\n",
        " 104931,\n",
        " 104993,\n",
        " 105106,\n",
        " 105179,\n",
        " 105241,\n",
        " 105385,\n",
        " 105440,\n",
        " 105557,\n",
        " 105616,\n",
        " 105784,\n",
        " 105861,\n",
        " 106068,\n",
        " 106180,\n",
        " 106350,\n",
        " 106511,\n",
        " 106588,\n",
        " 106638,\n",
        " 106881,\n",
        " 107093,\n",
        " 107207,\n",
        " 107499,\n",
        " 107907,\n",
        " 107972,\n",
        " 108150,\n",
        " 108320,\n",
        " 108458,\n",
        " 108839,\n",
        " 108970,\n",
        " 109060,\n",
        " 109378,\n",
        " 109683,\n",
        " 109958,\n",
        " 110117,\n",
        " 110369,\n",
        " 110421,\n",
        " 110508,\n",
        " 110578,\n",
        " 110624,\n",
        " 110678,\n",
        " 110870,\n",
        " 110936,\n",
        " 111162,\n",
        " 111243,\n",
        " 111615,\n",
        " 111907,\n",
        " 111979,\n",
        " 112398,\n",
        " 112504,\n",
        " 112731,\n",
        " 112912,\n",
        " 113021,\n",
        " 113392,\n",
        " 113677,\n",
        " 113828,\n",
        " 113922,\n",
        " 114264,\n",
        " 114342,\n",
        " 114714,\n",
        " 114805,\n",
        " 114876,\n",
        " 115267,\n",
        " 115333,\n",
        " 115457,\n",
        " 115559,\n",
        " 115621,\n",
        " 115736,\n",
        " 115948,\n",
        " 116054,\n",
        " 116239,\n",
        " 116439,\n",
        " 116510,\n",
        " 116602,\n",
        " 116683,\n",
        " 117122,\n",
        " 117213,\n",
        " 117274,\n",
        " 117340,\n",
        " 117425,\n",
        " 117489,\n",
        " 117879,\n",
        " 118064,\n",
        " 118111,\n",
        " 118216,\n",
        " 118403,\n",
        " 118474,\n",
        " 118711,\n",
        " 118924,\n",
        " 119024,\n",
        " 119087,\n",
        " 119220,\n",
        " 119453,\n",
        " 119528,\n",
        " 119627,\n",
        " 119685,\n",
        " 119746,\n",
        " 119924,\n",
        " 120404,\n",
        " 120546,\n",
        " 120658,\n",
        " 120804,\n",
        " 121195,\n",
        " 121271,\n",
        " 121413,\n",
        " 121553,\n",
        " 121707,\n",
        " 121902,\n",
        " 121977,\n",
        " 122150,\n",
        " 122367,\n",
        " 122718,\n",
        " 122769,\n",
        " 122838,\n",
        " 123000,\n",
        " 123215,\n",
        " 123284,\n",
        " 123358,\n",
        " 123520,\n",
        " 123580,\n",
        " 123799,\n",
        " 123934,\n",
        " 124280,\n",
        " 124443,\n",
        " 124497,\n",
        " 124828,\n",
        " 125035,\n",
        " 125133,\n",
        " 125372,\n",
        " 125527,\n",
        " 125586,\n",
        " 125892,\n",
        " 125982,\n",
        " 126397,\n",
        " 126481,\n",
        " 126906,\n",
        " 127004,\n",
        " 127158,\n",
        " 127251,\n",
        " 127401,\n",
        " 127718,\n",
        " 127966,\n",
        " 128064,\n",
        " 128125,\n",
        " 128430,\n",
        " 128706,\n",
        " 128810,\n",
        " 128908,\n",
        " 128974,\n",
        " 129185,\n",
        " 129287,\n",
        " 129494,\n",
        " 129673,\n",
        " 129799,\n",
        " 129872,\n",
        " 129928,\n",
        " 130133,\n",
        " 130358,\n",
        " 130553,\n",
        " 130835,\n",
        " 131023,\n",
        " 131077,\n",
        " 131230,\n",
        " 131278,\n",
        " 131587,\n",
        " 131811,\n",
        " 131844,\n",
        " 132062,\n",
        " 132222,\n",
        " 132436,\n",
        " 132517,\n",
        " 132804,\n",
        " 132940,\n",
        " 132967,\n",
        " 133281,\n",
        " 133370,\n",
        " 133660,\n",
        " 133863,\n",
        " 134075,\n",
        " 134459,\n",
        " 134783,\n",
        " 134945,\n",
        " 135144,\n",
        " 135519,\n",
        " 135879,\n",
        " 135953,\n",
        " 136251,\n",
        " 136320,\n",
        " 136446,\n",
        " 136672,\n",
        " 136704,\n",
        " 137031,\n",
        " 137326,\n",
        " 137394,\n",
        " 137397,\n",
        " 137400]"
       ]
      }
     ],
     "prompt_number": 72
    },
    {
     "cell_type": "code",
     "collapsed": false,
     "input": [
      "from sklearn.datasets import load_svmlight_file\n",
      "import joblib"
     ],
     "language": "python",
     "metadata": {},
     "outputs": [],
     "prompt_number": 73
    },
    {
     "cell_type": "code",
     "collapsed": false,
     "input": [
      "X, y = load_svmlight_file(\"polarity.svmlight\")"
     ],
     "language": "python",
     "metadata": {},
     "outputs": [],
     "prompt_number": 74
    },
    {
     "cell_type": "code",
     "collapsed": false,
     "input": [
      "X_train, X_test, y_train, y_test = cross_validation.train_test_split(X, y, test_size=0.2, random_state=0)"
     ],
     "language": "python",
     "metadata": {},
     "outputs": [],
     "prompt_number": 75
    },
    {
     "cell_type": "code",
     "collapsed": false,
     "input": [
      "clf = LinearSVC(loss='l2', C=0.1).fit(X_train, y_train)\n",
      "print clf.score(X_test, y_test)\n",
      "joblib.dump(clf,'polarity.svm.model',compress=3)"
     ],
     "language": "python",
     "metadata": {},
     "outputs": [
      {
       "output_type": "stream",
       "stream": "stdout",
       "text": [
        "0.762820512821\n"
       ]
      },
      {
       "metadata": {},
       "output_type": "pyout",
       "prompt_number": 76,
       "text": [
        "['polarity.svm.model']"
       ]
      }
     ],
     "prompt_number": 76
    },
    {
     "cell_type": "code",
     "collapsed": false,
     "input": [
      "from sklearn.grid_search import GridSearchCV\n",
      "from pprint import pprint"
     ],
     "language": "python",
     "metadata": {},
     "outputs": [],
     "prompt_number": 77
    },
    {
     "cell_type": "code",
     "collapsed": false,
     "input": [
      "svc_params = {\n",
      "    'C': np.logspace(-3, -1, 10),\n",
      "}\n",
      "pprint(svc_params)\n",
      "gs_svc = GridSearchCV(LinearSVC(loss='l2'), svc_params, cv=4, n_jobs=1)\n",
      "gs_svc.fit(X_train, y_train)\n",
      "print gs_svc.best_params_, gs_svc.best_score_\n",
      "#{'C': 0.011233240329780276} 0.704918032787\n",
      "#{'C': 0.018738174228603841} 0.697351828499"
     ],
     "language": "python",
     "metadata": {},
     "outputs": [
      {
       "output_type": "stream",
       "stream": "stdout",
       "text": [
        "{'C': array([ 0.001     ,  0.0016681 ,  0.00278256,  0.00464159,  0.00774264,\n",
        "        0.0129155 ,  0.02154435,  0.03593814,  0.05994843,  0.1       ])}\n",
        "{'C': 0.01291549665014884}"
       ]
      },
      {
       "output_type": "stream",
       "stream": "stdout",
       "text": [
        " 0.75641025641\n"
       ]
      }
     ],
     "prompt_number": 78
    },
    {
     "cell_type": "heading",
     "level": 1,
     "metadata": {},
     "source": [
      " 4. \ubd84\ub958\uae30 \uc801\uc6a9 - \ud2b8\uc704\ud130 \uac10\uc131 \ubd84\ub958 "
     ]
    },
    {
     "cell_type": "code",
     "collapsed": false,
     "input": [
      "pos_sen = '\uc815\ub9d0 \uc7ac\ubbf8\uc788\uace0 \uc2a4\ub9b4\uc788\uace0 \uc9d1\uc911\ub418\uace0 \uad1c\ucc2e\uc740 \uc601\ud654\uc774\ub2e4'\n",
      "neg_sen = '\uc815\ub9d0 \uc9dc\uc99d\ub098\uace0 \uc9c0\ub8e8\ud558\uace0 \uc7ac\ubbf8\uc5c6\ub294 \uc601\ud654\uc774\ub2e4'\n",
      "def classify(sen):\n",
      "    sen_text = list(sen.decode('utf-8'))\n",
      "    sen_vects = dictioanry.doc2bow(sen_text)\n",
      "    data_list = np.zeros(len(dictioanry.dfs))\n",
      "    for each in sen_vects:\n",
      "        data_list[each[0]] = 1\n",
      "    return clf.decision_function(data_list)\n",
      "print classify(pos_sen)\n",
      "print classify(neg_sen)"
     ],
     "language": "python",
     "metadata": {},
     "outputs": [
      {
       "output_type": "stream",
       "stream": "stdout",
       "text": [
        "[-1.03302226]\n",
        "[ 0.13399181]\n"
       ]
      }
     ],
     "prompt_number": 79
    },
    {
     "cell_type": "code",
     "collapsed": false,
     "input": [
      "total_pos_num = 0\n",
      "correct_pos_num = 0\n",
      "for review in pos_review:\n",
      "    total_pos_num += 1\n",
      "    topic = classify(review)\n",
      "    if topic < 0:\n",
      "        correct_pos_num+=1\n",
      "    if total_pos_num%50 ==0:\n",
      "        print topic,review\n",
      "print correct_pos_num/float(total_pos_num),correct_pos_num,total_pos_num"
     ],
     "language": "python",
     "metadata": {},
     "outputs": [
      {
       "output_type": "stream",
       "stream": "stdout",
       "text": [
        "[ 0.08401319] \uc774 \uc601\ud654 \uc561\uc158\ub9cc \uc0dd\uac01\ud558\uace0 \ubcf4\uba74 \ud070 \ub0ad\ud328..\u314b  \n",
        "[ 0.02712145] \uc0dd\uac01\uc774 \uc544\uae5d\uc9c0 \uc54a\ub358 \uc601\ud654.  \n",
        "[-0.44729751] \u314b\u314b\uad73\uc778\ub4ef \uc2a4\ucf00\uc77c \ubcf4\uc18c  \n",
        "[-0.79532712] \uc5ed\uc2dc \ub85c\ubcf4\uce85..\uc9c0\uc874\uc774\ub2e4.  \n",
        "[-1.41048944] \ud604\ub300\uc801\uc73c\ub85c  \uc815\ub9d0 \ub9ac\uba54\uc774\ud06c \uc798\ud588\ub2e4\uace0 \uc0dd\uac01\ud55c\ub2e4  \n",
        "[-1.31158234] \uba38\uc57c \uc774\uac70 \ud3c9\uc810\uc65c\ucf00\ub0ae\uc74c \uc9c4\uc9dc \uc7bc\uc788\uac8c \ubd24\ub294\ub370....  \n",
        "[-0.30193265] \uc644\uc804\uc878\uc7bc\uc778\ub370 \ub204\uac00 \uc7bc\uc5c6\ub2e4 \ucea3\ub294\ub370 \uc57d\uac04\uc758 \uac10\ub3d9 \uc561\uc158 \uc88b\uc544\uc694  \n",
        "[ 1.02490505] \ub85c\ubcf4\uce85\uc774 \ub418\uc5b4 \ub208\ub72c\uc21c\uac04 \uacf5\ud3ec\uc640 \uc808\ub9dd\uc758 \ub208\uc73c\ub85c \uc790\uc2e0\uc744 \ubcf4\ub294 \uc7a5\uba74\uc774 \uc824\uae30\uc5b5\uc5d0 \ub0a8\ub294\ub2e4 . \ub85c\ubcf4\uce85\uc774 \ub41c \uc0ac\ub78c\uc758 \uace0\ub1cc\uc640 \uc624\ub77d\uac70\ub9ac\ub97c \uc798\ub9cc\ub4e4\uac70\uac19\uc544 \ub9e4\uc6b0\ub9cc\uc871\ud558\uba70 \ubcf4\uace0\uc634.\uc561\uc158\uc774 \uc57d\ud558\ub2e4\uace0 \ud558\ub294\ub370 \uc790\uc2e0\uc774 \uc5b4\ub290\ub0a0 \uae30\uacc4\ubab8\uc774 \ub418\ubd10\ub77c \ub9c8\ub0e5 \uae30\uc058\uace0 \ub3c4\uc2dc\ub97c \uad6c\ud560\uac70\uac19\uc740\uac00 \uc798\ub9cc\ub4e0\uc601\ud654\ub2e4  \n",
        "[-0.01399232]"
       ]
      },
      {
       "output_type": "stream",
       "stream": "stdout",
       "text": [
        " \uc7bc\uc368\uc12f\uc11c\uc11c\uc11c\uc11c\u3153\uc11c\uc11c\uc11c\uc131  \n",
        "0.929577464789 462 497\n"
       ]
      }
     ],
     "prompt_number": 80
    },
    {
     "cell_type": "code",
     "collapsed": false,
     "input": [
      "total_neg_num = 0\n",
      "correct_neg_num = 0\n",
      "\n",
      "for review in neg_review:\n",
      "    topic = classify(review)\n",
      "    total_neg_num +=1\n",
      "    if topic > 0:\n",
      "        correct_neg_num+=1\n",
      "    if total_neg_num%50 ==0:\n",
      "        print topic,review\n",
      "print correct_neg_num/float(total_neg_num),correct_neg_num,total_neg_num"
     ],
     "language": "python",
     "metadata": {},
     "outputs": [
      {
       "output_type": "stream",
       "stream": "stdout",
       "text": [
        "[ 0.45797828] \uae30\uc790 \ud3c9\ub860\uac00\ub4e4 \ud3c9\uc810 \ub108\ubb34\ud37c\uc8fc\ub294\uac70 \uc544\ub2c8\ub0d0? \uae30\ub300\ud558\uace0 \ubd24\ub354\ub9cc \uc2e4\ub9dd\uc774\ub124  \n",
        "[ 0.45597252] \ub05d\uc73c\ub85c \uac08\uc218\ub85d \ub0b4\uc6a9\uc774 \uc0b0\uc73c\ub85c \uac00\ub294\ub4ef..\uc544\ub2c8 \ub9c8\uc9c0\ub9c9\uc5d0 \ubbf8\uad6d\uc740 \uc9f1\uc774\ub2e4! \uc774\ub7f0\uc2dd\uc758 \ub9d0\uc740\ubc14\ub78c\uc9c1\ud558\uc9c0\uc54a\uc740\ub4ef;;  \n",
        "[ 0.38609375] \ubbf8\uad6d \ub9cc\uc138. \ub85c\ubd07 \ub9cc\uc138. \uac00\uc871 \ub9cc\uc138. \ub044\uc755.  \n",
        "[ 0.23196618] \uadf8\ub0e5  . . \uac4d. . . \ubcf4\uc138\uc5ec. . \uadf8\ub0e5 \ub85c\ubd07\ud2b8 \ub098\uc640\uc5ec  \n",
        "[-0.33412652] \ub09c \uc815\ub9d0 \ubaa8\ub974\uaca0\ub2e4 ....  \n",
        "0.893992932862 253 283\n"
       ]
      }
     ],
     "prompt_number": 81
    },
    {
     "cell_type": "code",
     "collapsed": false,
     "input": [
      "\n",
      "\n",
      "from TwitterSearch import *\n",
      "\n",
      "tso = TwitterSearchOrder() # create a TwitterSearchOrder object\n",
      "tso.setKeywords([\"\ud2b8\ub79c\uc2a4\ud3ec\uba38\"]) # let's define all words we would like to have a look for\n",
      "tso.setLanguage('ko') # we want to see German tweets only\n",
      "tso.setCount(20) # please dear Mr Twitter, only give us 7 results per page\n",
      "tso.setIncludeEntities(False) # and don't give us all those entity information\n",
      "\n",
      "# it's about time to create a TwitterSearch object with our secret tokens\n",
      "ts = TwitterSearch(\n",
      "    consumer_key = '\uae30\uc5c5\uc815\ubcf4\uc785\ub2c8\ub2e4',\n",
      "    consumer_secret = '\uae30\uc5c5\uc815\ubcf4\uc785\ub2c8\ub2e4',\n",
      "    access_token = '\uae30\uc5c5\uc815\ubcf4\uc785\ub2c8\ub2e4-\uae30\uc5c5\uc815\ubcf4\uc785\ub2c8\ub2e4',\n",
      "    access_token_secret = '\uae30\uc5c5\uc815\ubcf4\uc785\ub2c8\ub2e4'\n",
      " )\n",
      "\n",
      "for idx,tweet in enumerate(ts.searchTweetsIterable(tso)): # this is where the fun actually starts :)\n",
      "    if idx>20:\n",
      "        break\n",
      "    print( '@%s tweeted: %s' % ( tweet['user']['screen_name'], tweet['text'] ) )\n",
      "    if classify(tweet['text'].encode('utf-8')) < 0:\n",
      "        print \"\\t\\t\\tPOSITIVE\"\n",
      "    else:\n",
      "        print \"\\t\\t\\tNEGATIVE\"\n"
     ],
     "language": "python",
     "metadata": {},
     "outputs": [
      {
       "ename": "ImportError",
       "evalue": "No module named TwitterSearch",
       "output_type": "pyerr",
       "traceback": [
        "\u001b[0;31m---------------------------------------------------------------------------\u001b[0m\n\u001b[0;31mImportError\u001b[0m                               Traceback (most recent call last)",
        "\u001b[0;32m<ipython-input-82-19bee29541d3>\u001b[0m in \u001b[0;36m<module>\u001b[0;34m()\u001b[0m\n\u001b[1;32m      1\u001b[0m \u001b[0;34m\u001b[0m\u001b[0m\n\u001b[1;32m      2\u001b[0m \u001b[0;34m\u001b[0m\u001b[0m\n\u001b[0;32m----> 3\u001b[0;31m \u001b[0;32mfrom\u001b[0m \u001b[0mTwitterSearch\u001b[0m \u001b[0;32mimport\u001b[0m \u001b[0;34m*\u001b[0m\u001b[0;34m\u001b[0m\u001b[0m\n\u001b[0m\u001b[1;32m      4\u001b[0m \u001b[0;34m\u001b[0m\u001b[0m\n\u001b[1;32m      5\u001b[0m \u001b[0mtso\u001b[0m \u001b[0;34m=\u001b[0m \u001b[0mTwitterSearchOrder\u001b[0m\u001b[0;34m(\u001b[0m\u001b[0;34m)\u001b[0m \u001b[0;31m# create a TwitterSearchOrder object\u001b[0m\u001b[0;34m\u001b[0m\u001b[0m\n",
        "\u001b[0;31mImportError\u001b[0m: No module named TwitterSearch"
       ]
      }
     ],
     "prompt_number": 82
    },
    {
     "cell_type": "code",
     "collapsed": false,
     "input": [],
     "language": "python",
     "metadata": {},
     "outputs": []
    }
   ],
   "metadata": {}
  }
 ]
}