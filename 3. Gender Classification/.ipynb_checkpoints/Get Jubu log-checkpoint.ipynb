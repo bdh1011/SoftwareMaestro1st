{
 "metadata": {
  "name": "",
  "signature": "sha256:5e61c0547c7d54f95bf535905fc1c34a9ef2ebfb7ff5455d8987b12292ef1a71"
 },
 "nbformat": 3,
 "nbformat_minor": 0,
 "worksheets": [
  {
   "cells": [
    {
     "cell_type": "code",
     "collapsed": false,
     "input": [
      "from elasticutils import get_es, S\n",
      "URL = \"\uae30\uc5c5\uc815\ubcf4\uc785\ub2c8\ub2e4\"\n",
      "INDEX = \"logstash-2014.07\"\n",
      "_es = S().es(urls=[URL],timeout=60*60).indexes(INDEX)\n",
      "print _es.count()  \n",
      "data_list = []\n",
      "jubu_ct = 0\n",
      "for user in users[users['job'] == '\uc8fc\ubd80']['user_id'].values:\n",
      "    _each_es = _es.query(xid__query_string={'default_field': 'xid', \\\n",
      "                                                             'query': user})\n",
      "    ct = _each_es.count()\n",
      "    if ct > 0:\n",
      "        jubu_ct+=1\n",
      "        print jubu_ct,ct\n",
      "print jubu_ct"
     ],
     "language": "python",
     "metadata": {},
     "outputs": []
    }
   ],
   "metadata": {}
  }
 ]
}