{
 "metadata": {
  "name": "",
  "signature": "sha256:b74b4019ad8479b6a0b3c62dde10518997e6811fd1c12c570b1ba734bc82821c"
 },
 "nbformat": 3,
 "nbformat_minor": 0,
 "worksheets": [
  {
   "cells": [
    {
     "cell_type": "code",
     "collapsed": false,
     "input": [
      "#-*- coding: euc-kr -*-\n",
      "import csv\n",
      "import pandas as pd\n",
      "from pandas import Series, DataFrame\n",
      "\n",
      "# query_log.csv\n",
      "data_table = pd.read_csv('query_log.csv',names=['no','item','user_id','date'])\n",
      "user_info = pd.read_csv('user.csv')\n",
      "user_div = pd.read_csv('user_device.csv', names=['user_id','device','div_ver'])\n",
      "\n",
      "#data_table \n",
      "# 0    no      item       xid         date,\n",
      "# 0    15      example    YMuItqldTG  20140113204510\n",
      "\n",
      "\"\"\"\n",
      "\n",
      "\"\"\"\n",
      "#users\n",
      "#         user_id       prov      gender     job      birth,\n",
      "# 0       1jCaDppFeJ    area      femaile    job      0\n",
      "\n",
      "# data_table, user_info\n",
      "\n",
      "# find specific user list\n",
      "#user_info[user_info['user_id']== u'mZwVU5bUZw']\n",
      "\n",
      "print \"data loaded!\""
     ],
     "language": "python",
     "metadata": {},
     "outputs": [
      {
       "output_type": "stream",
       "stream": "stdout",
       "text": [
        "data loaded!\n"
       ]
      }
     ],
     "prompt_number": 14
    },
    {
     "cell_type": "code",
     "collapsed": false,
     "input": [
      "# extract user data\n",
      "user_info = user_info.merge(user_div)\n",
      "male_user = user_info[user_info['gender']=='male']\n",
      "female_user = user_info[user_info['gender']=='female']\n",
      "\n",
      "# merge user_id with item\n",
      "male_item_data = male_user.merge(data_table)\n",
      "female_item_data = female_user.merge(data_table)\n",
      "\n",
      "# group by user_id and extract feature in item\n",
      "def get_feature_list(df):\n",
      "    feature_list = []\n",
      "    user_id = \"\"\n",
      "    desc = \"\"\n",
      "    for each in range(len(df)):\n",
      "        if user_id == df['user_id'][each]:\n",
      "            # add it\n",
      "            desc += (str(df['item'][each]) + \" \")\n",
      "        else:\n",
      "            # append and save\n",
      "            if each != 0:\n",
      "                desc += (str(df['device'][each-1] + \" \"))\n",
      "                desc += (str(df['div_ver'][each-1]))\n",
      "            user_id = df['user_id'][each]\n",
      "            feature_list.append(desc)\n",
      "            desc = \"\"\n",
      "    feature_list = filter(None, feature_list)\n",
      "    return feature_list"
     ],
     "language": "python",
     "metadata": {},
     "outputs": [],
     "prompt_number": 15
    },
    {
     "cell_type": "code",
     "collapsed": false,
     "input": [
      "from sklearn.feature_extraction.text import CountVectorizer\n",
      "\n",
      "vectorizer = CountVectorizer(min_df=1)\n",
      "\n",
      "male_feature_list = []\n",
      "female_feature_list = []\n",
      "all_feature_list = []\n",
      "\n",
      "male_feature_list = get_feature_list(male_item_data) # 1446\n",
      "female_feature_list = get_feature_list(female_item_data) # 5662\n",
      "all_feature_list = male_feature_list + female_feature_list # 7108\n"
     ],
     "language": "python",
     "metadata": {},
     "outputs": [],
     "prompt_number": 16
    },
    {
     "cell_type": "code",
     "collapsed": true,
     "input": [
      "from sklearn_pandas import DataFrameMapper,cross_val_score\n",
      "import sklearn.preprocessing\n",
      "\n",
      "x_train = vectorizer.fit_transform(all_feature_list)\n",
      "y_train = len(male_feature_list)*[1]+len(female_feature_list)*[2]"
     ],
     "language": "python",
     "metadata": {},
     "outputs": [],
     "prompt_number": 17
    },
    {
     "cell_type": "code",
     "collapsed": false,
     "input": [
      "from sklearn.svm import LinearSVC\n",
      "\n",
      "# linear Support Vector Machine\n",
      "clf = LinearSVC(loss='l2', C=0.151).fit(x_train,y_train)\n",
      "clf.score(x_train,y_train)"
     ],
     "language": "python",
     "metadata": {},
     "outputs": [
      {
       "metadata": {},
       "output_type": "pyout",
       "prompt_number": 18,
       "text": [
        "0.91262963489131976"
       ]
      }
     ],
     "prompt_number": 18
    },
    {
     "cell_type": "code",
     "collapsed": false,
     "input": [
      "# find suitable parameter and cross validation\n",
      "from sklearn import cross_validation\n",
      "from sklearn.grid_search import GridSearchCV\n",
      "import numpy as np\n",
      "\n",
      "svc_params = {\n",
      " 'C': np.logspace(-3,1,100),\n",
      "}\n",
      "\n",
      "gs_svc = GridSearchCV(LinearSVC(loss='l2'), svc_params, cv=4, n_jobs=4)\n",
      "gs_svc.fit(x_train, y_train)\n",
      "\n",
      "scores = cross_validation.cross_val_score(clf, x_train, y_train, cv=5)\n",
      "\n",
      "# 1:1\ub85c \ud558\ub294 \uc774\uc720\uac00 cross validation\uc758 \uacf5\uc815\ud568\uc744 \uc704\ud574\uc11c\ub2e4.. randomic\ud558\uac8c \ub4e4\uc5b4\uac00\uba74 \ud655\ub960\ubd84\ud3ec\uc0c1 \uc0c1\uad00\uc740 \uc5c6\ub2e4."
     ],
     "language": "python",
     "metadata": {},
     "outputs": [],
     "prompt_number": 19
    },
    {
     "cell_type": "code",
     "collapsed": false,
     "input": [
      "print gs_svc.best_params_, gs_svc.best_score_\n",
      "print scores.mean()\n",
      "\n",
      "# non device 0.824, 0.811\n",
      "# with dev 0.811, 0.797"
     ],
     "language": "python",
     "metadata": {},
     "outputs": [
      {
       "output_type": "stream",
       "stream": "stdout",
       "text": [
        "{'C': 0.0077426368268112694} 0.811194771985\n",
        "0.797839897923\n"
       ]
      }
     ],
     "prompt_number": 20
    },
    {
     "cell_type": "code",
     "collapsed": false,
     "input": [],
     "language": "python",
     "metadata": {},
     "outputs": []
    }
   ],
   "metadata": {}
  }
 ]
}