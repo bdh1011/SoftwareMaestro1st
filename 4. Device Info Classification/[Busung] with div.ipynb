{
 "metadata": {
  "name": "",
  "signature": "sha256:467fee27686a15d1dd9fce16c68c6826333d6f5a845d262e9740b5c128ed59ea"
 },
 "nbformat": 3,
 "nbformat_minor": 0,
 "worksheets": [
  {
   "cells": [
    {
     "cell_type": "code",
     "collapsed": false,
     "input": [
      "import pandas as pd"
     ],
     "language": "python",
     "metadata": {},
     "outputs": [],
     "prompt_number": 1
    },
    {
     "cell_type": "code",
     "collapsed": false,
     "input": [
      "# Profile\uc774 \uc788\ub294 User DB\ub97c \uac00\uc9c0\uace0 \uc624\ub294 \ucf54\ub4dc\n",
      "import pgdb\n",
      "import pandas as pd\n",
      "from pandas.io import sql\n",
      "db = pgdb.connect(database=\"soma\",host=\"\uae30\uc5c5\uc815\ubcf4\uc785\ub2c8\ub2e4\",user=\"\uae30\uc5c5\uc815\ubcf4\uc785\ub2c8\ub2e4\",password=\"\uae30\uc5c5\uc815\ubcf4\uc785\ub2c8\ub2e4\")\n",
      "users = sql.read_frame(\"select * from users\",db)"
     ],
     "language": "python",
     "metadata": {},
     "outputs": [
      {
       "output_type": "stream",
       "stream": "stderr",
       "text": [
        "/usr/local/lib/python2.7/site-packages/pandas/io/sql.py:1189: FutureWarning: read_frame is deprecated, use read_sql\n",
        "  warnings.warn(\"read_frame is deprecated, use read_sql\", FutureWarning)\n"
       ]
      }
     ],
     "prompt_number": 42
    },
    {
     "cell_type": "code",
     "collapsed": false,
     "input": [
      "query = pd.read_csv(\"query_log.csv\")"
     ],
     "language": "python",
     "metadata": {},
     "outputs": [],
     "prompt_number": 43
    },
    {
     "cell_type": "code",
     "collapsed": false,
     "input": [
      "query.columns = ['num', 'query', 'user_id', 'timestamp']"
     ],
     "language": "python",
     "metadata": {},
     "outputs": [],
     "prompt_number": 48
    },
    {
     "cell_type": "code",
     "collapsed": false,
     "input": [
      "query = query.sort('user_id', ascending=True)"
     ],
     "language": "python",
     "metadata": {},
     "outputs": [],
     "prompt_number": 49
    },
    {
     "cell_type": "code",
     "collapsed": false,
     "input": [
      "query.index = range(0, len(query))"
     ],
     "language": "python",
     "metadata": {},
     "outputs": [],
     "prompt_number": 50
    },
    {
     "cell_type": "code",
     "collapsed": false,
     "input": [
      "len(query)"
     ],
     "language": "python",
     "metadata": {},
     "outputs": [
      {
       "metadata": {},
       "output_type": "pyout",
       "prompt_number": 11,
       "text": [
        "3026513"
       ]
      }
     ],
     "prompt_number": 11
    },
    {
     "cell_type": "code",
     "collapsed": false,
     "input": [
      "len(users)"
     ],
     "language": "python",
     "metadata": {},
     "outputs": [
      {
       "metadata": {},
       "output_type": "pyout",
       "prompt_number": 12,
       "text": [
        "23011"
       ]
      }
     ],
     "prompt_number": 12
    },
    {
     "cell_type": "code",
     "collapsed": false,
     "input": [
      "query = query.sort('user_id')\n",
      "query.index = range(0, len(query))"
     ],
     "language": "python",
     "metadata": {},
     "outputs": [],
     "prompt_number": 51
    },
    {
     "cell_type": "code",
     "collapsed": false,
     "input": [
      "users = users.sort('user_id')\n",
      "users.index = range(0, len(users))"
     ],
     "language": "python",
     "metadata": {},
     "outputs": [],
     "prompt_number": 52
    },
    {
     "cell_type": "code",
     "collapsed": false,
     "input": [
      "print 'Hello'"
     ],
     "language": "python",
     "metadata": {},
     "outputs": []
    },
    {
     "cell_type": "code",
     "collapsed": false,
     "input": [
      "iub = len(users)\n",
      "jub = len(query)\n",
      "\n",
      "# iub = 1000\n",
      "# jub = 2000000  # \ubaa8\ub4e0 Query\ub97c \ub300\uc0c1\uc73c\ub85c \ud588\uc744 \ub54c, \ucffc\ub9ac \uc885\ub958\uac00 \ub9ce\uc544\uc838 vectorize \ub418\uc9c0 \uc54a\ub294 \ubb38\uc81c\uac00 \ubc1c\uc0dd\n",
      "jlb = 0\n",
      "train_gender_list = []\n",
      "train_query_list = []\n",
      "\n",
      "maxCount = 0\n",
      "\n",
      "for i in range(0, iub):\n",
      "    if i%1000 == 0:\n",
      "        print \"Processing\", i, \"th user\"\n",
      "    id_in_users = users['user_id'][i]\n",
      "    flag = False\n",
      "    doc = \"\"\n",
      "    count = 0\n",
      "    \n",
      "    for j in range(jlb, jub):\n",
      "        id_in_query = query['user_id'][j]\n",
      "        if id_in_users < id_in_query:\n",
      "            break\n",
      "        elif id_in_users == id_in_query and type(query['query'][j]) == str:\n",
      "            doc += query['query'][j]\n",
      "            doc += \" \"\n",
      "            flag = True\n",
      "            count += 1\n",
      "        if count > 10:  # query\uac00 \uae38\uc5b4\uc9c0\uba74 vectorize\uac00 \uc548\ub418\uae30 \ub54c\ubb38\n",
      "            break\n",
      "            \n",
      "    jlb = j\n",
      "    if count > maxCount:\n",
      "        maxCount = count\n",
      "        maxUserid = id_in_users\n",
      "    if flag == True:\n",
      "        train_query_list.append(doc)\n",
      "        train_gender_list.append(users['gender'][i])\n",
      "\n",
      "print 'maxCount', maxCount\n",
      "print 'maxUserid', maxUserid"
     ],
     "language": "python",
     "metadata": {},
     "outputs": [
      {
       "output_type": "stream",
       "stream": "stdout",
       "text": [
        "Processing 0 th user\n",
        "Processing"
       ]
      },
      {
       "output_type": "stream",
       "stream": "stdout",
       "text": [
        " 1000 th user\n",
        "Processing"
       ]
      },
      {
       "output_type": "stream",
       "stream": "stdout",
       "text": [
        " 2000 th user\n",
        "Processing"
       ]
      },
      {
       "output_type": "stream",
       "stream": "stdout",
       "text": [
        " 3000 th user\n",
        "Processing"
       ]
      },
      {
       "output_type": "stream",
       "stream": "stdout",
       "text": [
        " 4000 th user\n",
        "Processing"
       ]
      },
      {
       "output_type": "stream",
       "stream": "stdout",
       "text": [
        " 5000 th user\n",
        "Processing"
       ]
      },
      {
       "output_type": "stream",
       "stream": "stdout",
       "text": [
        " 6000 th user\n",
        "Processing"
       ]
      },
      {
       "output_type": "stream",
       "stream": "stdout",
       "text": [
        " 7000 th user\n",
        "Processing"
       ]
      },
      {
       "output_type": "stream",
       "stream": "stdout",
       "text": [
        " 8000 th user\n",
        "Processing"
       ]
      },
      {
       "output_type": "stream",
       "stream": "stdout",
       "text": [
        " 9000 th user\n",
        "Processing"
       ]
      },
      {
       "output_type": "stream",
       "stream": "stdout",
       "text": [
        " 10000 th user\n",
        "Processing"
       ]
      },
      {
       "output_type": "stream",
       "stream": "stdout",
       "text": [
        " 11000 th user\n",
        "Processing"
       ]
      },
      {
       "output_type": "stream",
       "stream": "stdout",
       "text": [
        " 12000 th user\n",
        "Processing"
       ]
      },
      {
       "output_type": "stream",
       "stream": "stdout",
       "text": [
        " 13000 th user\n",
        "Processing"
       ]
      },
      {
       "output_type": "stream",
       "stream": "stdout",
       "text": [
        " 14000 th user\n",
        "Processing"
       ]
      },
      {
       "output_type": "stream",
       "stream": "stdout",
       "text": [
        " 15000 th user\n",
        "Processing"
       ]
      },
      {
       "output_type": "stream",
       "stream": "stdout",
       "text": [
        " 16000 th user\n",
        "Processing"
       ]
      },
      {
       "output_type": "stream",
       "stream": "stdout",
       "text": [
        " 17000 th user\n",
        "Processing"
       ]
      },
      {
       "output_type": "stream",
       "stream": "stdout",
       "text": [
        " 18000 th user\n",
        "Processing"
       ]
      },
      {
       "output_type": "stream",
       "stream": "stdout",
       "text": [
        " 19000 th user\n",
        "Processing"
       ]
      },
      {
       "output_type": "stream",
       "stream": "stdout",
       "text": [
        " 20000 th user\n",
        "Processing"
       ]
      },
      {
       "output_type": "stream",
       "stream": "stdout",
       "text": [
        " 21000 th user\n",
        "Processing"
       ]
      },
      {
       "output_type": "stream",
       "stream": "stdout",
       "text": [
        " 22000 th user\n",
        "Processing"
       ]
      },
      {
       "output_type": "stream",
       "stream": "stdout",
       "text": [
        " 23000 th user\n",
        "maxCount"
       ]
      },
      {
       "output_type": "stream",
       "stream": "stdout",
       "text": [
        " 11\n",
        "maxUserid 00tsWVjeND\n"
       ]
      }
     ],
     "prompt_number": 53
    },
    {
     "cell_type": "code",
     "collapsed": false,
     "input": [
      "train_query_df = pd.DataFrame(train_query_list)"
     ],
     "language": "python",
     "metadata": {},
     "outputs": [],
     "prompt_number": 59
    },
    {
     "cell_type": "code",
     "collapsed": false,
     "input": [
      "train_gender_df = pd.DataFrame(train_gender_list)"
     ],
     "language": "python",
     "metadata": {},
     "outputs": [],
     "prompt_number": 60
    },
    {
     "cell_type": "code",
     "collapsed": false,
     "input": [
      "train_query_df.to_csv(\"trainquerydf\", encoding='utf-8')\n",
      "train_gender_df.to_csv(\"traingenderdf\", encoding='utf-8')"
     ],
     "language": "python",
     "metadata": {},
     "outputs": [],
     "prompt_number": 342
    },
    {
     "cell_type": "code",
     "collapsed": false,
     "input": [
      "train_query_df = pd.read_csv(\"trainquerydf\")\n",
      "train_gender_df = pd.read_csv(\"traingenderdf\")"
     ],
     "language": "python",
     "metadata": {},
     "outputs": [],
     "prompt_number": 343
    },
    {
     "cell_type": "code",
     "collapsed": false,
     "input": [
      "train_query_list = train_query_df['query'].tolist()\n",
      "train_gender_list = train_gender_df['gender'].tolist()"
     ],
     "language": "python",
     "metadata": {},
     "outputs": [],
     "prompt_number": 347
    },
    {
     "cell_type": "heading",
     "level": 4,
     "metadata": {},
     "source": [
      "\uc6d0\ud558\ub294 Data\ub97c Load\ud574\uc11c \uc2e4\ud589\ud560 \uac83\n",
      "( \uc704\ub294 \ub370\uc774\ud130\ub97c \uc0dd\uc131\ud558\ub294 \ucf54\ub4dc\uc774\uae30 \ub54c\ubb38\uc5d0 \uc2e4\ud589 \uc2dc\uac04\uc774 \ub9e4\uc6b0 \uae38\ub2e4. )"
     ]
    },
    {
     "cell_type": "code",
     "collapsed": false,
     "input": [
      "train_query_df.to_csv(\"train_query_df_140813.log\", encoding='utf-8')"
     ],
     "language": "python",
     "metadata": {},
     "outputs": [
      {
       "ename": "NameError",
       "evalue": "name 'train_query_df' is not defined",
       "output_type": "pyerr",
       "traceback": [
        "\u001b[0;31m---------------------------------------------------------------------------\u001b[0m\n\u001b[0;31mNameError\u001b[0m                                 Traceback (most recent call last)",
        "\u001b[0;32m<ipython-input-15-fb2f461d4c80>\u001b[0m in \u001b[0;36m<module>\u001b[0;34m()\u001b[0m\n\u001b[0;32m----> 1\u001b[0;31m \u001b[0mtrain_query_df\u001b[0m\u001b[0;34m.\u001b[0m\u001b[0mto_csv\u001b[0m\u001b[0;34m(\u001b[0m\u001b[0;34m\"train_query_df_140813.log\"\u001b[0m\u001b[0;34m,\u001b[0m \u001b[0mencoding\u001b[0m\u001b[0;34m=\u001b[0m\u001b[0;34m'utf-8'\u001b[0m\u001b[0;34m)\u001b[0m\u001b[0;34m\u001b[0m\u001b[0m\n\u001b[0m",
        "\u001b[0;31mNameError\u001b[0m: name 'train_query_df' is not defined"
       ]
      }
     ],
     "prompt_number": 15
    },
    {
     "cell_type": "code",
     "collapsed": false,
     "input": [
      "train_gender_df.to_csv(\"train_gender_df_140813_02.log\", encoding='utf-8')"
     ],
     "language": "python",
     "metadata": {},
     "outputs": []
    },
    {
     "cell_type": "code",
     "collapsed": false,
     "input": [
      "train_query_df = pd.read_csv(\"train_query_df_140813.log\")\n",
      "train_gender_df = pd.read_csv(\"train_gender_df_140813.log\")"
     ],
     "language": "python",
     "metadata": {},
     "outputs": [],
     "prompt_number": 20
    },
    {
     "cell_type": "code",
     "collapsed": false,
     "input": [
      "# del train_query_df['Unnamed: 0']\n",
      "train_query_df.columns = ['query']"
     ],
     "language": "python",
     "metadata": {},
     "outputs": [],
     "prompt_number": 64
    },
    {
     "cell_type": "code",
     "collapsed": false,
     "input": [
      "# del train_gender_df['Unnamed: 0']\n",
      "train_gender_df.columns = ['gender']"
     ],
     "language": "python",
     "metadata": {},
     "outputs": [],
     "prompt_number": 65
    },
    {
     "cell_type": "code",
     "collapsed": false,
     "input": [
      "train_query_male = []\n",
      "train_query_female = []\n",
      "\n",
      "for i in range(0, len(train_gender_df)):\n",
      "    if train_gender_df['gender'][i] == 'male':\n",
      "        train_query_male.append(train_query_df['query'][i])\n",
      "    else:\n",
      "        train_query_female.append(train_query_df['query'][i])\n",
      "        \n",
      "train_query_male = pd.DataFrame(train_query_male, columns=['query'])\n",
      "train_query_female = pd.DataFrame(train_query_female, columns=['query'])"
     ],
     "language": "python",
     "metadata": {},
     "outputs": [],
     "prompt_number": 66
    },
    {
     "cell_type": "code",
     "collapsed": false,
     "input": [
      "print '# of male : ', len(train_query_male)\n",
      "print '# of female : ', len(train_query_female)"
     ],
     "language": "python",
     "metadata": {},
     "outputs": [
      {
       "output_type": "stream",
       "stream": "stdout",
       "text": [
        "# of male :  1446\n",
        "# of female :  5662\n"
       ]
      }
     ],
     "prompt_number": 67
    },
    {
     "cell_type": "code",
     "collapsed": false,
     "input": [
      "train_query_all = train_query_male\n",
      "train_query_all = train_query_all.append(train_query_female)"
     ],
     "language": "python",
     "metadata": {},
     "outputs": [],
     "prompt_number": 68
    },
    {
     "cell_type": "code",
     "collapsed": false,
     "input": [
      "train_query_all.index = range(0, len(train_query_male)+len(train_query_female))"
     ],
     "language": "python",
     "metadata": {},
     "outputs": [],
     "prompt_number": 26
    },
    {
     "cell_type": "code",
     "collapsed": false,
     "input": [
      "from sklearn_pandas import DataFrameMapper, cross_val_score"
     ],
     "language": "python",
     "metadata": {},
     "outputs": [
      {
       "output_type": "stream",
       "stream": "stderr",
       "text": [
        "/usr/local/lib/python2.7/site-packages/scipy/spatial/__init__.py:90: RuntimeWarning: numpy.dtype size changed, may indicate binary incompatibility\n",
        "  from .ckdtree import *\n",
        "/usr/local/lib/python2.7/site-packages/scipy/spatial/__init__.py:90: RuntimeWarning: numpy.ufunc size changed, may indicate binary incompatibility\n",
        "  from .ckdtree import *\n",
        "/usr/local/lib/python2.7/site-packages/scipy/spatial/__init__.py:91: RuntimeWarning: numpy.dtype size changed, may indicate binary incompatibility\n",
        "  from .qhull import *\n",
        "/usr/local/lib/python2.7/site-packages/scipy/spatial/__init__.py:91: RuntimeWarning: numpy.ufunc size changed, may indicate binary incompatibility\n",
        "  from .qhull import *\n",
        "/usr/local/lib/python2.7/site-packages/scipy/stats/_continuous_distns.py:24: RuntimeWarning: numpy.dtype size changed, may indicate binary incompatibility\n",
        "  from . import vonmises_cython\n"
       ]
      },
      {
       "output_type": "stream",
       "stream": "stderr",
       "text": [
        "/usr/local/lib/python2.7/site-packages/scipy/stats/_continuous_distns.py:24: RuntimeWarning: numpy.ufunc size changed, may indicate binary incompatibility\n",
        "  from . import vonmises_cython\n",
        "/usr/local/lib/python2.7/site-packages/scipy/stats/stats.py:188: RuntimeWarning: numpy.dtype size changed, may indicate binary incompatibility\n",
        "  from ._rank import rankdata, tiecorrect\n"
       ]
      },
      {
       "output_type": "stream",
       "stream": "stderr",
       "text": [
        "/usr/local/lib/python2.7/site-packages/scipy/stats/stats.py:188: RuntimeWarning: numpy.ufunc size changed, may indicate binary incompatibility\n",
        "  from ._rank import rankdata, tiecorrect\n"
       ]
      }
     ],
     "prompt_number": 28
    },
    {
     "cell_type": "code",
     "collapsed": false,
     "input": [
      "import sklearn.preprocessing"
     ],
     "language": "python",
     "metadata": {},
     "outputs": [],
     "prompt_number": 29
    },
    {
     "cell_type": "code",
     "collapsed": false,
     "input": [
      "mapper = DataFrameMapper([('query', sklearn.preprocessing.LabelBinarizer())])"
     ],
     "language": "python",
     "metadata": {},
     "outputs": [],
     "prompt_number": 32
    },
    {
     "cell_type": "code",
     "collapsed": false,
     "input": [
      "X_train_df = mapper.fit_transform(train_query_all)"
     ],
     "language": "python",
     "metadata": {},
     "outputs": [],
     "prompt_number": 33
    },
    {
     "cell_type": "code",
     "collapsed": false,
     "input": [
      "y_train_df = [0]*len(train_query_male) + [1]*len(train_query_female)"
     ],
     "language": "python",
     "metadata": {},
     "outputs": [],
     "prompt_number": 34
    },
    {
     "cell_type": "code",
     "collapsed": false,
     "input": [
      "from sklearn.svm import LinearSVC\n",
      "clf = LinearSVC(loss='l2', C=0.1).fit(X_train_df,y_train_df)"
     ],
     "language": "python",
     "metadata": {},
     "outputs": [],
     "prompt_number": 35
    },
    {
     "cell_type": "code",
     "collapsed": false,
     "input": [],
     "language": "python",
     "metadata": {},
     "outputs": []
    },
    {
     "cell_type": "heading",
     "level": 2,
     "metadata": {},
     "source": [
      "List type data\ub97c \uc774\uc6a9"
     ]
    },
    {
     "cell_type": "code",
     "collapsed": false,
     "input": [
      "# train_query_list : User * Query \ud615\ud0dc\uc758 List\n",
      "# train_gender_list : \uac01 User \ubcc4 \uc131\ubcc4\uc744 \ub098\ud0c0\ub0b4\ub294 List"
     ],
     "language": "python",
     "metadata": {},
     "outputs": []
    },
    {
     "cell_type": "code",
     "collapsed": false,
     "input": [
      "# \ub0a8\uc790\uc640 \uc5ec\uc790\uc758 Query\ub97c \ub530\ub85c \ubaa8\uc544\uc11c \uc800\uc7a5\n",
      "# \uc774 cell\uc744 \uc2e4\ud589\ud558\uae30 \uc804\uc5d0 query\ub97c \ubaa8\uc73c\ub294 cell\uc774 \uc120\ud589\ub418\uc5b4\uc57c\ub9cc \ud55c\ub2e4.\n",
      "\n",
      "train_query_male_list = []\n",
      "train_query_female_list = []\n",
      "\n",
      "for i in range(0, len(train_gender_list)):\n",
      "    if train_gender_list[i] == 'male':\n",
      "        train_query_male_list.append(train_query_list[i])\n",
      "    else:\n",
      "        train_query_female_list.append(train_query_list[i])"
     ],
     "language": "python",
     "metadata": {},
     "outputs": [],
     "prompt_number": 70
    },
    {
     "cell_type": "code",
     "collapsed": false,
     "input": [
      "train_query_all_list = train_query_female_list + train_query_male_list\n",
      "print len(train_query_all_list)"
     ],
     "language": "python",
     "metadata": {},
     "outputs": [
      {
       "output_type": "stream",
       "stream": "stdout",
       "text": [
        "7108\n"
       ]
      }
     ],
     "prompt_number": 45
    },
    {
     "cell_type": "code",
     "collapsed": false,
     "input": [
      "len(train_query_female_list)"
     ],
     "language": "python",
     "metadata": {},
     "outputs": [
      {
       "metadata": {},
       "output_type": "pyout",
       "prompt_number": 46,
       "text": [
        "5662"
       ]
      }
     ],
     "prompt_number": 46
    },
    {
     "cell_type": "code",
     "collapsed": false,
     "input": [
      "len(train_query_male_list)"
     ],
     "language": "python",
     "metadata": {},
     "outputs": [
      {
       "metadata": {},
       "output_type": "pyout",
       "prompt_number": 47,
       "text": [
        "1446"
       ]
      }
     ],
     "prompt_number": 47
    },
    {
     "cell_type": "code",
     "collapsed": false,
     "input": [
      "train_query_male"
     ],
     "language": "python",
     "metadata": {},
     "outputs": [
      {
       "html": [
        "<div style=\"max-height:1000px;max-width:1500px;overflow:auto;\">\n",
        "<table border=\"1\" class=\"dataframe\">\n",
        "  <thead>\n",
        "    <tr style=\"text-align: right;\">\n",
        "      <th></th>\n",
        "      <th>query</th>\n",
        "    </tr>\n",
        "  </thead>\n",
        "  <tbody>\n",
        "    <tr>\n",
        "      <th>0   </th>\n",
        "      <td>                                      \uace0\uad6c\ub9c8 \uace0\uad6c\ub9c8 \uace0\uad6c\ub9c8 </td>\n",
        "    </tr>\n",
        "    <tr>\n",
        "      <th>1   </th>\n",
        "      <td>                                            \ud150\ud2b8 \ud150\ud2b8 </td>\n",
        "    </tr>\n",
        "    <tr>\n",
        "      <th>2   </th>\n",
        "      <td>                            \uae30\uc800\uadc0 \uae30\uc800\uadc0 \ucfe1\ub9c8\uc2a4\ud130 \ucfe1\ub9c8\uc2a4\ud130 \uc694\ubbf8\ub77d </td>\n",
        "    </tr>\n",
        "    <tr>\n",
        "      <th>3   </th>\n",
        "      <td>                                           \ud578\ub4dc\ud3f0 \uac00\ubc29 </td>\n",
        "    </tr>\n",
        "    <tr>\n",
        "      <th>4   </th>\n",
        "      <td>  \uc720\ubaa8\ucc28 \uc554\ub9c9\ucee4\ud2bc \uc554\ub9c9\ucee4\ud2bc \ucee4\ud2bc \uc554\ub9c9 \ud480\uc138\ud2b8 \uc544\uc774\uc624\ud398 \uc5d0\uc5b4\ucfe0\uc158 \ucee4\ud2bc \uc0f7\uc2dc \ucee4\ud2bc \ucee4\ud2bc...</td>\n",
        "    </tr>\n",
        "    <tr>\n",
        "      <th>5   </th>\n",
        "      <td>  \ucf54\ub370\uc988 \ucf54\ub370\uc988\ucef4\ubc14\uc778 fila \ucf54\ub370\uc988 fila \ub4dc\ub85c\uc988 \ucf54\ub370\uc988 \ucf54\ub370\uc988 codes \ucf54\ub370...</td>\n",
        "    </tr>\n",
        "    <tr>\n",
        "      <th>6   </th>\n",
        "      <td>  \uce90\ub17c 100d \ud0a4\uc988 \uc81c\ub108\ub7f4\uc544\uc774\ub514\uc5b4 \ucd5c\ubc94\uc11d \ucd5c\ubc94\uc11d \ub0a8\uc131\ubc14\uc9c0 \uc81c\ub108\ub7f4\uc544\uc774\ub514\uc5b4 \uac00\ubc29 \ub0a8\uc131...</td>\n",
        "    </tr>\n",
        "    <tr>\n",
        "      <th>7   </th>\n",
        "      <td>                           \ub178\ud2b8\ubd81 \ub178\ud2b8\ubd81 \uc0bc\uc131\ub178\ud2b8\ubd81 \ube14\ub799\ubc15\uc2a4 \ub178\ud2b8\ubd81 </td>\n",
        "    </tr>\n",
        "    <tr>\n",
        "      <th>8   </th>\n",
        "      <td>                                              \uad6c\ub974\ub9c8 </td>\n",
        "    </tr>\n",
        "    <tr>\n",
        "      <th>9   </th>\n",
        "      <td>                                        \ud544\ub9bd\uc2a4\uba74\ub3c4\uae30 \ubc45\ubc45 </td>\n",
        "    </tr>\n",
        "    <tr>\n",
        "      <th>10  </th>\n",
        "      <td>  \ub2e5\ud130\ud544\ub85c \uc624\uc11d\uad00 \ub2e5\ud130\ud544\ub85c \uc624\uc11d\uad00 \uc624\uc11d\uad00\ub2e5\ud130\ud544\ub85c \uac00\ub204\ub2e4\ubca0\uac8c \ubca0\uac8c \ud15c\ud37c \uac00\ub204\ub2e4 \uc624\uc11d\uad00...</td>\n",
        "    </tr>\n",
        "    <tr>\n",
        "      <th>11  </th>\n",
        "      <td>                       \ud604\ub300 \uac24\ub7ed\uc2dc\ub178\ud2b82 \ube45\ub9c8\ub9c8 \ud604\ub300 \ud604\ub300 \ud734\ub300\ud3f0 \ud604\ub300 </td>\n",
        "    </tr>\n",
        "    <tr>\n",
        "      <th>12  </th>\n",
        "      <td>                                            \ucc28\ub7c9\ub0c9\uc7a5\uace0 </td>\n",
        "    </tr>\n",
        "    <tr>\n",
        "      <th>13  </th>\n",
        "      <td>  \ub514\uc9c0\ud138\ud53c\uc544\ub178 \uacf5\uae30\uc21c\ud658\uae30 \uc548\ub9c8\uae30 \ubca0\ub9ac\ub5bc \ucfe0\uc158\ud30c\uc6b4\ub370\uc774\uc158 \uc5b4\ub9b0\uc774\ucc45\uc0c1 hud \ub514\uc9c0\ud138\ud53c\uc544\ub178...</td>\n",
        "    </tr>\n",
        "    <tr>\n",
        "      <th>14  </th>\n",
        "      <td>                                          \uc6d0\ud53c\uc2a4 \ud2f0\uc154\uce20 </td>\n",
        "    </tr>\n",
        "    <tr>\n",
        "      <th>15  </th>\n",
        "      <td>                                            \ubc1c\ub80c\uc2dc\uc544\uac00 </td>\n",
        "    </tr>\n",
        "    <tr>\n",
        "      <th>16  </th>\n",
        "      <td>                                          \ube14\ub799\ubc15\uc2a4 \ub4f1\uc0b0 </td>\n",
        "    </tr>\n",
        "    <tr>\n",
        "      <th>17  </th>\n",
        "      <td>  sep \uc81c\ub2c9 \uc2dc\uc98c7 sep \ub9c8\uc2a4\ud06c \uc81c\ub2c9 \uc140\ub354\ub9c8 \uc140\ub354\ub9c8 sep \ub9c8\uc2a4\ud06c\ud329 \ub77c\uc30d\ub5bc se...</td>\n",
        "    </tr>\n",
        "    <tr>\n",
        "      <th>18  </th>\n",
        "      <td>  \ud734\ub300\ud3f0 \ud734\ub300\ud3f0 \ud578\ub4dc\ud3f0 \ud734\ub300\ud3f0 \ud578\ub4dc\ud3f0 \ud734\ub300\ud3f0 \ud578\ub4dc\ud3f0 \ud734\ub300\ud3f0 \ud734\ub300\ud3f0 \ud734\ub300\ud3f0 \ud578\ub4dc\ud3f0 \uccad...</td>\n",
        "    </tr>\n",
        "    <tr>\n",
        "      <th>19  </th>\n",
        "      <td>          \uc2a4\ub9c8\ud2b8\ud3f0 \ub178\ud2b83 \uace0\uad74\uc120\uae00\ub77c\uc2a4 \ube44\ub204 \ud734\ub300\ud3f0 \uc720\uc790\ube44\ub204 \uc804\uae30\uc624\ube10 \ub178\ud2b82 \uc774\ube14 </td>\n",
        "    </tr>\n",
        "    <tr>\n",
        "      <th>20  </th>\n",
        "      <td>                                \uccad\ub3c4\uc5ec\ud589 \ud578\ub4dc\ud3f0 \uccad\ub3c4 \ubc31\ud329 \ubc31\ud329 </td>\n",
        "    </tr>\n",
        "    <tr>\n",
        "      <th>21  </th>\n",
        "      <td>                            \ud654\uc774\ud2f0\uc2a4 \ub85c\ubca4\ud0c0 \ub85c\ubca4\ud0c0 \ud654\uc774\ud2f0\uc2a4 \ub85c\uc81c\ud0c0 </td>\n",
        "    </tr>\n",
        "    <tr>\n",
        "      <th>22  </th>\n",
        "      <td>                                        \ubc14\ube44\ub9ac\uc2a4\ubbf8\ub77c\uceec\ud504\ub85c </td>\n",
        "    </tr>\n",
        "    <tr>\n",
        "      <th>23  </th>\n",
        "      <td>  \uc5ec\uc131\ud32c\ud2f0 \ube14\ub8e8\ub798\ube57 \ud578\ub4dc\ud3f0 \uae40\uce58\ub0c9\uc7a5\uace0 \uc77c\uccb4\ud615pc \ube14\ub8e8\ub798\ube57 \ub9ac\uc19c\ub9ac\uc870\ud2b8 \uc2dd\ud0c1 \ub0a8\uc131\ud32c\ud2f0 ...</td>\n",
        "    </tr>\n",
        "    <tr>\n",
        "      <th>24  </th>\n",
        "      <td>  \uc554\ubcf4\ud5d8 \uae00\ub77c\uc2a4\ub77d \uc628\uc218\ub9e4\ud2b8 \ub178\ud2b8\ubd81 \ub178\ud2b8\ubd81 \ud734\ub300\ud3f0 \ud328\ub529 \ub178\ud2b8\ubd81 \ub178\ud2b8\ubd81 \ub178\ud2b8\ubd81 \uac00\ubc29 \ub178...</td>\n",
        "    </tr>\n",
        "    <tr>\n",
        "      <th>25  </th>\n",
        "      <td>                      \ubbf8\uad6d\uc5ec\ud589 \uc2a4\ub9c8\ud2b8\ud3f0 \ubbf8\uad6d \uc2a4\ub9c8\ud2b8\ud3f0 \uc2a4\ub9c8\ud2b8\ud3f0 \uc2a4\ub9c8\ud2b8\ud3f0 </td>\n",
        "    </tr>\n",
        "    <tr>\n",
        "      <th>26  </th>\n",
        "      <td>                                \uad6c\ucc0c \uac00\ubc29 \uc218\ud0a4\ubc31 \uc218\ud0a4\ubc31 \uc218\ud0a4\ubc31 </td>\n",
        "    </tr>\n",
        "    <tr>\n",
        "      <th>27  </th>\n",
        "      <td>                                              \ud578\ub4dc\ud3f0 </td>\n",
        "    </tr>\n",
        "    <tr>\n",
        "      <th>28  </th>\n",
        "      <td>  \ucf54\ubca0\uc544 \uc53d\ud06c\ub300\uc120\ubc18 \ubc1c\ud310 \uc804\uae30\uadf8\ub9b4 \ucc28\ub7c9\uad11\ud0dd\uae30 \uc790\uc774\uae00 \ucf54\uc624\ub871 \uadf9\uc138\uc0ac \uc774\ubd88 \ub2e4\uc774\uc5b4\ud2b8 \ubcd1...</td>\n",
        "    </tr>\n",
        "    <tr>\n",
        "      <th>29  </th>\n",
        "      <td>                                          \uc5d0\uc5b4\ucee8 \ud0c0\uc774\ub2c8 </td>\n",
        "    </tr>\n",
        "    <tr>\n",
        "      <th>...</th>\n",
        "      <td>...</td>\n",
        "    </tr>\n",
        "    <tr>\n",
        "      <th>1416</th>\n",
        "      <td>                              \uc544\ub108\uc2a4 \uc12c\uc720\uc720\uc5f0\uc81c \uc544\ub108\uc2a4 \uc12c\uc720\uc720\uc5f0\uc81c </td>\n",
        "    </tr>\n",
        "    <tr>\n",
        "      <th>1417</th>\n",
        "      <td>  \uce6b\uc194\uc0b4\uade0\uae30 \uc548\ub9c8\uae30 \ub178\ud2b8\ubd81 \ub178\ud2b8\ubd81 \ub864\ud0a8 \ub178\ud2b8\ubd81 \uad11\ud30c\uc624\ube10 \ucd95\uad6c\ud654 \ud720\ub77c\uc18d\uc637 \ub178\ud2b8\ubd81 \ub178\ud2b8...</td>\n",
        "    </tr>\n",
        "    <tr>\n",
        "      <th>1418</th>\n",
        "      <td>                                        \uc544\uc774\uc624\ud398 \uc5d0\uc5b4\ucfe0\uc158 </td>\n",
        "    </tr>\n",
        "    <tr>\n",
        "      <th>1419</th>\n",
        "      <td>                                      \ud734\ub300\ud3f0 \ud734\ub300\ud3f0 \ud734\ub300\ud3f0 </td>\n",
        "    </tr>\n",
        "    <tr>\n",
        "      <th>1420</th>\n",
        "      <td>  \uc2a4\ud300\ub2e4\ub9ac\ubbf8 \ube14\ub799\ubc15\uc2a4 \ube14\ub799\ubc15\uc2a4 \ud578\ub4dc\ud3f0 \ube14\ub799\ubc15\uc2a4 \ud3f0 \uc138\ud0c1\uae30 \uc138\ud0c1\uae30 \ud1b5\ub3cc\uc774 \uc138\ud0c1\uae30 \ube14\ub799...</td>\n",
        "    </tr>\n",
        "    <tr>\n",
        "      <th>1421</th>\n",
        "      <td>                                      \uc640\uc774 \ub178\ud2b83 \uc544\ub514\ub2e4\uc2a4 </td>\n",
        "    </tr>\n",
        "    <tr>\n",
        "      <th>1422</th>\n",
        "      <td>                   \uc798\uc2a8\ube4c \ubcd1\ucc9c\uc21c\ub300 \uc21c\ub300\uad6d\ubc25 \uc18c\uacf1\ucc3d \uc548\ucc3d\uc0b4 \ubd80\ub300\ucc0c\uac8c \uc7cc\uc2a8\ube4c </td>\n",
        "    </tr>\n",
        "    <tr>\n",
        "      <th>1423</th>\n",
        "      <td>                \uace8\ud504\ubc31 \uace8\ud504\ubc31 \uace8\ud504\ubc31 \uace8\ud504\ubc31 \ud2f0\ud0c0\ub284 \uace8\ud504\ubc31 \ud2f0\ud0c0\ub284\ud314\ucc0c \uace8\ud504\ubc31 </td>\n",
        "    </tr>\n",
        "    <tr>\n",
        "      <th>1424</th>\n",
        "      <td>                                     \uc2dc\uc6d0\uc2a4\ucfe8 \uc2dc\uc6d0\uc2a4\ucfe8 \uc2dc\uc6d0 </td>\n",
        "    </tr>\n",
        "    <tr>\n",
        "      <th>1425</th>\n",
        "      <td>                                             \ud574\uc678\uc5ec\ud589 </td>\n",
        "    </tr>\n",
        "    <tr>\n",
        "      <th>1426</th>\n",
        "      <td>                                        \uc544\uc774\uc624\ud398 \uc5d0\uc5b4\ucfe0\uc158 </td>\n",
        "    </tr>\n",
        "    <tr>\n",
        "      <th>1427</th>\n",
        "      <td>                            \uc9c4\uae30\ud604 \uc2e4\ube44\ubcf4\ud5d8 \uc0bf\ubf40\ub85c \ub315\uae30\uba38\ub9ac \ubd81\ud574\ub3c4 </td>\n",
        "    </tr>\n",
        "    <tr>\n",
        "      <th>1428</th>\n",
        "      <td>                                               \uc5ec\ud589 </td>\n",
        "    </tr>\n",
        "    <tr>\n",
        "      <th>1429</th>\n",
        "      <td>                             \ud734\ub86c \ud734\ub86c \ud734\ub86c \ud63c\ub2e4 \ud2f0\ube44 \ud734\ub86c \ud734\ub86c </td>\n",
        "    </tr>\n",
        "    <tr>\n",
        "      <th>1430</th>\n",
        "      <td>  \uc740\uac08\uce58 \uc815\uc218\uae30 \uace0\ub4f1\uc5b4 \uace0\ub4f1\uc5b4 \uc815\uc218\uae30 \uace0\ub4f1\uc5b4 \uac00\ubc29 \uc815\uc218\uae30 \ub3c8\uac00\uc2a4 \uace0\ub4f1\uc5b4 \uc815\uc218\uae30 \ub3c4\uae68...</td>\n",
        "    </tr>\n",
        "    <tr>\n",
        "      <th>1431</th>\n",
        "      <td>  \uc544\uc6c3\ub3c4\uc5b4\uc138\ud2b8 \uac00\ub204\ub2e4 \uc11c\uc720\ub7fd \uc5ec\ud589\uc0c1\ud488 \ud328\ud0a4\uc9c0\uc5ec\ud589 \uc5ec\ud589 \uc2dc\ud06c\ub9c1 \ube14\ub799\ubc15\uc2a4 \ube14\ub799\ubc15\uc2a4 \uc5d0\uc5b4...</td>\n",
        "    </tr>\n",
        "    <tr>\n",
        "      <th>1432</th>\n",
        "      <td>                              \uc2a4\ub9c8\ud2b8\ud3f0 \uac94\ub7ed\uc2dcs3 \uac94\ub7ed\uc2dcs \ud578\ub4dc\ud3f0 </td>\n",
        "    </tr>\n",
        "    <tr>\n",
        "      <th>1433</th>\n",
        "      <td>                                      \uc1fc\ud30c \uc1fc\ud30c \uc1fc\ud30c \uc1fc\ud30c </td>\n",
        "    </tr>\n",
        "    <tr>\n",
        "      <th>1434</th>\n",
        "      <td>                                         \ubcf4\uc19c\uc774 \ucc9c\uc5f0\ucf54\ud2bc </td>\n",
        "    </tr>\n",
        "    <tr>\n",
        "      <th>1435</th>\n",
        "      <td>       \ub178\ud2b8\ubd81 \ub4dc\ub9b4 \ub4dc\ub9b4 \ub4dc\ub9b4 \ub4dc\ub9b4 \uc120\ud48d\uae30 \ub178\ud2b8\ubd81 \uc548\ub9c8\uae30 \uc548\ub9c8\uae30 \uc548\ub9c8\uae30 \ub4dc\ub9b4 \ubc30\ud604\uc815 </td>\n",
        "    </tr>\n",
        "    <tr>\n",
        "      <th>1436</th>\n",
        "      <td>           \ub3c4\uae68\ube44\ubc29\ub9dd\uc774 \ub3c4\uae68\ube44\ubc29\ub9dd\uc774 \uac24\ub7ed\uc2dc \ub3c4\uae68\ube44\ubc29\ub9dd\uc774 \ub3c4\uae68\ube44\ubc29\ub9dd\uc774 \ub3c4\uae68\ube44\ubc29\ub9dd\uc774 </td>\n",
        "    </tr>\n",
        "    <tr>\n",
        "      <th>1437</th>\n",
        "      <td>                      \ud734\ub300\ud3f0 \ud734\ub300\ud3f0 \ud578\ub4dc\ud3f0 \ud578\ub4dc\ud3f0 \ud734\ub300\ud3f0 \ud578\ub4dc\ud3f0 \ud734\ub300\ud3f0 </td>\n",
        "    </tr>\n",
        "    <tr>\n",
        "      <th>1438</th>\n",
        "      <td>  \uac00\ubc29 \ub178\ube44\ud0c0 \ub178\ube44\ud0c0 \ub178\ube44\ud0c0 \ub178\ube44\ud0c0 \ube44\ub300 \ub178\ud2b8\ubd81 \ube44\ub300 \ub178\ube44\ud0c0 \ub178\ube44\ud0c0 \ub178\ube44\ud0c0 \ub178\ube44\ud0c0 ...</td>\n",
        "    </tr>\n",
        "    <tr>\n",
        "      <th>1439</th>\n",
        "      <td>              \uc5d0\ucf54\uadf8\ub9b4 \uc5d0\ucf54\uadf8\ub9b4 ecgh-100 \uc5d0\ucf54\uac00\uc2a4\uadf8\ub9b4 \uc5d0\ucf54\uadf8\ub9b4 \uc5d0\ucf54\uadf8\ub9b4 </td>\n",
        "    </tr>\n",
        "    <tr>\n",
        "      <th>1440</th>\n",
        "      <td>  \ub180\uc774\ubc29\ub9e4\ud2b8 \ub2e4\ubcf8\ub2e4\ube14\ub799\ubc15\uc2a4 \ucf54\ub7a0 \ub180\uc774\ubc29\ub9e4\ud2b8 \ub2e4\ubcf8\ub2e4\ube14\ub799\ubc15\uc2a4 \ub2e4\ubcf8\ub2e4\ube14\ub799\ubc15\uc2a4 \ucf54\ub0bc \ub77d\uc564\ub77d...</td>\n",
        "    </tr>\n",
        "    <tr>\n",
        "      <th>1441</th>\n",
        "      <td>  \ud734\ub86c 2\uc138\ub300 \uc18d\uc637 \uc18d\uc637 \ube14\ub8e8\ub798\ube57 \ud734\ub86c 2\uc138\ub300 \ub374\ube44 \uc560\ud50c\ube44 \ube14\ub8e8\ub798\ube57 \uc824\ub124\uc77c \ube14\ub8e8\ub798\ube57...</td>\n",
        "    </tr>\n",
        "    <tr>\n",
        "      <th>1442</th>\n",
        "      <td>                                        \uc6b4\ub3d9\ubcf5 \ud2b8\ub808\uc774\ub2dd\ubcf5 </td>\n",
        "    </tr>\n",
        "    <tr>\n",
        "      <th>1443</th>\n",
        "      <td>  \ud574\ud53c\ucf5c \uc9c4\uacf5\ub0c4\ube44\uc138\ud2b8 \ud574\ud53c\ucf5c \uc9c4\uacf5\ub0c4\ube44\uc138\ud2b8 \ud574\ud53c\ucf5c\ud6c4\ub77c\uc774\ud32c \ucc1c\uae30 \uc6d0\uc561\uae30 \uc0dd\uc120\ud68c \ubbf9\uc11c\uae30 ...</td>\n",
        "    </tr>\n",
        "    <tr>\n",
        "      <th>1444</th>\n",
        "      <td>                                              \uc815\uc218\uae30 </td>\n",
        "    </tr>\n",
        "    <tr>\n",
        "      <th>1445</th>\n",
        "      <td>                                  \ucfe0\ucfe0 \ucfe0\ucfe0 \ud734\ub86c 2\uc138\ub300 \ucfe0\ucfe0 </td>\n",
        "    </tr>\n",
        "  </tbody>\n",
        "</table>\n",
        "<p>1446 rows \u00d7 1 columns</p>\n",
        "</div>"
       ],
       "metadata": {},
       "output_type": "pyout",
       "prompt_number": 72,
       "text": [
        "                                                  query\n",
        "0                                          \uace0\uad6c\ub9c8 \uace0\uad6c\ub9c8 \uace0\uad6c\ub9c8 \n",
        "1                                                \ud150\ud2b8 \ud150\ud2b8 \n",
        "2                                \uae30\uc800\uadc0 \uae30\uc800\uadc0 \ucfe1\ub9c8\uc2a4\ud130 \ucfe1\ub9c8\uc2a4\ud130 \uc694\ubbf8\ub77d \n",
        "3                                               \ud578\ub4dc\ud3f0 \uac00\ubc29 \n",
        "4      \uc720\ubaa8\ucc28 \uc554\ub9c9\ucee4\ud2bc \uc554\ub9c9\ucee4\ud2bc \ucee4\ud2bc \uc554\ub9c9 \ud480\uc138\ud2b8 \uc544\uc774\uc624\ud398 \uc5d0\uc5b4\ucfe0\uc158 \ucee4\ud2bc \uc0f7\uc2dc \ucee4\ud2bc \ucee4\ud2bc...\n",
        "5      \ucf54\ub370\uc988 \ucf54\ub370\uc988\ucef4\ubc14\uc778 fila \ucf54\ub370\uc988 fila \ub4dc\ub85c\uc988 \ucf54\ub370\uc988 \ucf54\ub370\uc988 codes \ucf54\ub370...\n",
        "6      \uce90\ub17c 100d \ud0a4\uc988 \uc81c\ub108\ub7f4\uc544\uc774\ub514\uc5b4 \ucd5c\ubc94\uc11d \ucd5c\ubc94\uc11d \ub0a8\uc131\ubc14\uc9c0 \uc81c\ub108\ub7f4\uc544\uc774\ub514\uc5b4 \uac00\ubc29 \ub0a8\uc131...\n",
        "7                               \ub178\ud2b8\ubd81 \ub178\ud2b8\ubd81 \uc0bc\uc131\ub178\ud2b8\ubd81 \ube14\ub799\ubc15\uc2a4 \ub178\ud2b8\ubd81 \n",
        "8                                                  \uad6c\ub974\ub9c8 \n",
        "9                                            \ud544\ub9bd\uc2a4\uba74\ub3c4\uae30 \ubc45\ubc45 \n",
        "10     \ub2e5\ud130\ud544\ub85c \uc624\uc11d\uad00 \ub2e5\ud130\ud544\ub85c \uc624\uc11d\uad00 \uc624\uc11d\uad00\ub2e5\ud130\ud544\ub85c \uac00\ub204\ub2e4\ubca0\uac8c \ubca0\uac8c \ud15c\ud37c \uac00\ub204\ub2e4 \uc624\uc11d\uad00...\n",
        "11                          \ud604\ub300 \uac24\ub7ed\uc2dc\ub178\ud2b82 \ube45\ub9c8\ub9c8 \ud604\ub300 \ud604\ub300 \ud734\ub300\ud3f0 \ud604\ub300 \n",
        "12                                               \ucc28\ub7c9\ub0c9\uc7a5\uace0 \n",
        "13     \ub514\uc9c0\ud138\ud53c\uc544\ub178 \uacf5\uae30\uc21c\ud658\uae30 \uc548\ub9c8\uae30 \ubca0\ub9ac\ub5bc \ucfe0\uc158\ud30c\uc6b4\ub370\uc774\uc158 \uc5b4\ub9b0\uc774\ucc45\uc0c1 hud \ub514\uc9c0\ud138\ud53c\uc544\ub178...\n",
        "14                                             \uc6d0\ud53c\uc2a4 \ud2f0\uc154\uce20 \n",
        "15                                               \ubc1c\ub80c\uc2dc\uc544\uac00 \n",
        "16                                             \ube14\ub799\ubc15\uc2a4 \ub4f1\uc0b0 \n",
        "17     sep \uc81c\ub2c9 \uc2dc\uc98c7 sep \ub9c8\uc2a4\ud06c \uc81c\ub2c9 \uc140\ub354\ub9c8 \uc140\ub354\ub9c8 sep \ub9c8\uc2a4\ud06c\ud329 \ub77c\uc30d\ub5bc se...\n",
        "18     \ud734\ub300\ud3f0 \ud734\ub300\ud3f0 \ud578\ub4dc\ud3f0 \ud734\ub300\ud3f0 \ud578\ub4dc\ud3f0 \ud734\ub300\ud3f0 \ud578\ub4dc\ud3f0 \ud734\ub300\ud3f0 \ud734\ub300\ud3f0 \ud734\ub300\ud3f0 \ud578\ub4dc\ud3f0 \uccad...\n",
        "19             \uc2a4\ub9c8\ud2b8\ud3f0 \ub178\ud2b83 \uace0\uad74\uc120\uae00\ub77c\uc2a4 \ube44\ub204 \ud734\ub300\ud3f0 \uc720\uc790\ube44\ub204 \uc804\uae30\uc624\ube10 \ub178\ud2b82 \uc774\ube14 \n",
        "20                                   \uccad\ub3c4\uc5ec\ud589 \ud578\ub4dc\ud3f0 \uccad\ub3c4 \ubc31\ud329 \ubc31\ud329 \n",
        "21                               \ud654\uc774\ud2f0\uc2a4 \ub85c\ubca4\ud0c0 \ub85c\ubca4\ud0c0 \ud654\uc774\ud2f0\uc2a4 \ub85c\uc81c\ud0c0 \n",
        "22                                           \ubc14\ube44\ub9ac\uc2a4\ubbf8\ub77c\uceec\ud504\ub85c \n",
        "23     \uc5ec\uc131\ud32c\ud2f0 \ube14\ub8e8\ub798\ube57 \ud578\ub4dc\ud3f0 \uae40\uce58\ub0c9\uc7a5\uace0 \uc77c\uccb4\ud615pc \ube14\ub8e8\ub798\ube57 \ub9ac\uc19c\ub9ac\uc870\ud2b8 \uc2dd\ud0c1 \ub0a8\uc131\ud32c\ud2f0 ...\n",
        "24     \uc554\ubcf4\ud5d8 \uae00\ub77c\uc2a4\ub77d \uc628\uc218\ub9e4\ud2b8 \ub178\ud2b8\ubd81 \ub178\ud2b8\ubd81 \ud734\ub300\ud3f0 \ud328\ub529 \ub178\ud2b8\ubd81 \ub178\ud2b8\ubd81 \ub178\ud2b8\ubd81 \uac00\ubc29 \ub178...\n",
        "25                         \ubbf8\uad6d\uc5ec\ud589 \uc2a4\ub9c8\ud2b8\ud3f0 \ubbf8\uad6d \uc2a4\ub9c8\ud2b8\ud3f0 \uc2a4\ub9c8\ud2b8\ud3f0 \uc2a4\ub9c8\ud2b8\ud3f0 \n",
        "26                                   \uad6c\ucc0c \uac00\ubc29 \uc218\ud0a4\ubc31 \uc218\ud0a4\ubc31 \uc218\ud0a4\ubc31 \n",
        "27                                                 \ud578\ub4dc\ud3f0 \n",
        "28     \ucf54\ubca0\uc544 \uc53d\ud06c\ub300\uc120\ubc18 \ubc1c\ud310 \uc804\uae30\uadf8\ub9b4 \ucc28\ub7c9\uad11\ud0dd\uae30 \uc790\uc774\uae00 \ucf54\uc624\ub871 \uadf9\uc138\uc0ac \uc774\ubd88 \ub2e4\uc774\uc5b4\ud2b8 \ubcd1...\n",
        "29                                             \uc5d0\uc5b4\ucee8 \ud0c0\uc774\ub2c8 \n",
        "...                                                 ...\n",
        "1416                               \uc544\ub108\uc2a4 \uc12c\uc720\uc720\uc5f0\uc81c \uc544\ub108\uc2a4 \uc12c\uc720\uc720\uc5f0\uc81c \n",
        "1417   \uce6b\uc194\uc0b4\uade0\uae30 \uc548\ub9c8\uae30 \ub178\ud2b8\ubd81 \ub178\ud2b8\ubd81 \ub864\ud0a8 \ub178\ud2b8\ubd81 \uad11\ud30c\uc624\ube10 \ucd95\uad6c\ud654 \ud720\ub77c\uc18d\uc637 \ub178\ud2b8\ubd81 \ub178\ud2b8...\n",
        "1418                                         \uc544\uc774\uc624\ud398 \uc5d0\uc5b4\ucfe0\uc158 \n",
        "1419                                       \ud734\ub300\ud3f0 \ud734\ub300\ud3f0 \ud734\ub300\ud3f0 \n",
        "1420   \uc2a4\ud300\ub2e4\ub9ac\ubbf8 \ube14\ub799\ubc15\uc2a4 \ube14\ub799\ubc15\uc2a4 \ud578\ub4dc\ud3f0 \ube14\ub799\ubc15\uc2a4 \ud3f0 \uc138\ud0c1\uae30 \uc138\ud0c1\uae30 \ud1b5\ub3cc\uc774 \uc138\ud0c1\uae30 \ube14\ub799...\n",
        "1421                                       \uc640\uc774 \ub178\ud2b83 \uc544\ub514\ub2e4\uc2a4 \n",
        "1422                    \uc798\uc2a8\ube4c \ubcd1\ucc9c\uc21c\ub300 \uc21c\ub300\uad6d\ubc25 \uc18c\uacf1\ucc3d \uc548\ucc3d\uc0b4 \ubd80\ub300\ucc0c\uac8c \uc7cc\uc2a8\ube4c \n",
        "1423                 \uace8\ud504\ubc31 \uace8\ud504\ubc31 \uace8\ud504\ubc31 \uace8\ud504\ubc31 \ud2f0\ud0c0\ub284 \uace8\ud504\ubc31 \ud2f0\ud0c0\ub284\ud314\ucc0c \uace8\ud504\ubc31 \n",
        "1424                                      \uc2dc\uc6d0\uc2a4\ucfe8 \uc2dc\uc6d0\uc2a4\ucfe8 \uc2dc\uc6d0 \n",
        "1425                                              \ud574\uc678\uc5ec\ud589 \n",
        "1426                                         \uc544\uc774\uc624\ud398 \uc5d0\uc5b4\ucfe0\uc158 \n",
        "1427                             \uc9c4\uae30\ud604 \uc2e4\ube44\ubcf4\ud5d8 \uc0bf\ubf40\ub85c \ub315\uae30\uba38\ub9ac \ubd81\ud574\ub3c4 \n",
        "1428                                                \uc5ec\ud589 \n",
        "1429                              \ud734\ub86c \ud734\ub86c \ud734\ub86c \ud63c\ub2e4 \ud2f0\ube44 \ud734\ub86c \ud734\ub86c \n",
        "1430   \uc740\uac08\uce58 \uc815\uc218\uae30 \uace0\ub4f1\uc5b4 \uace0\ub4f1\uc5b4 \uc815\uc218\uae30 \uace0\ub4f1\uc5b4 \uac00\ubc29 \uc815\uc218\uae30 \ub3c8\uac00\uc2a4 \uace0\ub4f1\uc5b4 \uc815\uc218\uae30 \ub3c4\uae68...\n",
        "1431   \uc544\uc6c3\ub3c4\uc5b4\uc138\ud2b8 \uac00\ub204\ub2e4 \uc11c\uc720\ub7fd \uc5ec\ud589\uc0c1\ud488 \ud328\ud0a4\uc9c0\uc5ec\ud589 \uc5ec\ud589 \uc2dc\ud06c\ub9c1 \ube14\ub799\ubc15\uc2a4 \ube14\ub799\ubc15\uc2a4 \uc5d0\uc5b4...\n",
        "1432                               \uc2a4\ub9c8\ud2b8\ud3f0 \uac94\ub7ed\uc2dcs3 \uac94\ub7ed\uc2dcs \ud578\ub4dc\ud3f0 \n",
        "1433                                       \uc1fc\ud30c \uc1fc\ud30c \uc1fc\ud30c \uc1fc\ud30c \n",
        "1434                                          \ubcf4\uc19c\uc774 \ucc9c\uc5f0\ucf54\ud2bc \n",
        "1435        \ub178\ud2b8\ubd81 \ub4dc\ub9b4 \ub4dc\ub9b4 \ub4dc\ub9b4 \ub4dc\ub9b4 \uc120\ud48d\uae30 \ub178\ud2b8\ubd81 \uc548\ub9c8\uae30 \uc548\ub9c8\uae30 \uc548\ub9c8\uae30 \ub4dc\ub9b4 \ubc30\ud604\uc815 \n",
        "1436            \ub3c4\uae68\ube44\ubc29\ub9dd\uc774 \ub3c4\uae68\ube44\ubc29\ub9dd\uc774 \uac24\ub7ed\uc2dc \ub3c4\uae68\ube44\ubc29\ub9dd\uc774 \ub3c4\uae68\ube44\ubc29\ub9dd\uc774 \ub3c4\uae68\ube44\ubc29\ub9dd\uc774 \n",
        "1437                       \ud734\ub300\ud3f0 \ud734\ub300\ud3f0 \ud578\ub4dc\ud3f0 \ud578\ub4dc\ud3f0 \ud734\ub300\ud3f0 \ud578\ub4dc\ud3f0 \ud734\ub300\ud3f0 \n",
        "1438   \uac00\ubc29 \ub178\ube44\ud0c0 \ub178\ube44\ud0c0 \ub178\ube44\ud0c0 \ub178\ube44\ud0c0 \ube44\ub300 \ub178\ud2b8\ubd81 \ube44\ub300 \ub178\ube44\ud0c0 \ub178\ube44\ud0c0 \ub178\ube44\ud0c0 \ub178\ube44\ud0c0 ...\n",
        "1439               \uc5d0\ucf54\uadf8\ub9b4 \uc5d0\ucf54\uadf8\ub9b4 ecgh-100 \uc5d0\ucf54\uac00\uc2a4\uadf8\ub9b4 \uc5d0\ucf54\uadf8\ub9b4 \uc5d0\ucf54\uadf8\ub9b4 \n",
        "1440   \ub180\uc774\ubc29\ub9e4\ud2b8 \ub2e4\ubcf8\ub2e4\ube14\ub799\ubc15\uc2a4 \ucf54\ub7a0 \ub180\uc774\ubc29\ub9e4\ud2b8 \ub2e4\ubcf8\ub2e4\ube14\ub799\ubc15\uc2a4 \ub2e4\ubcf8\ub2e4\ube14\ub799\ubc15\uc2a4 \ucf54\ub0bc \ub77d\uc564\ub77d...\n",
        "1441   \ud734\ub86c 2\uc138\ub300 \uc18d\uc637 \uc18d\uc637 \ube14\ub8e8\ub798\ube57 \ud734\ub86c 2\uc138\ub300 \ub374\ube44 \uc560\ud50c\ube44 \ube14\ub8e8\ub798\ube57 \uc824\ub124\uc77c \ube14\ub8e8\ub798\ube57...\n",
        "1442                                         \uc6b4\ub3d9\ubcf5 \ud2b8\ub808\uc774\ub2dd\ubcf5 \n",
        "1443   \ud574\ud53c\ucf5c \uc9c4\uacf5\ub0c4\ube44\uc138\ud2b8 \ud574\ud53c\ucf5c \uc9c4\uacf5\ub0c4\ube44\uc138\ud2b8 \ud574\ud53c\ucf5c\ud6c4\ub77c\uc774\ud32c \ucc1c\uae30 \uc6d0\uc561\uae30 \uc0dd\uc120\ud68c \ubbf9\uc11c\uae30 ...\n",
        "1444                                               \uc815\uc218\uae30 \n",
        "1445                                   \ucfe0\ucfe0 \ucfe0\ucfe0 \ud734\ub86c 2\uc138\ub300 \ucfe0\ucfe0 \n",
        "\n",
        "[1446 rows x 1 columns]"
       ]
      }
     ],
     "prompt_number": 72
    },
    {
     "cell_type": "heading",
     "level": 2,
     "metadata": {},
     "source": [
      "CountVectorizer \uc774\uc6a9"
     ]
    },
    {
     "cell_type": "code",
     "collapsed": false,
     "input": [
      "from sklearn.grid_search import GridSearchCV\n",
      "from sklearn.feature_extraction.text import CountVectorizer\n",
      "from sklearn.feature_extraction.text import TfidfVectorizer\n",
      "from sklearn.svm import LinearSVC\n",
      "from sklearn import cross_validation\n",
      "import numpy as np"
     ],
     "language": "python",
     "metadata": {},
     "outputs": [],
     "prompt_number": 76
    },
    {
     "cell_type": "code",
     "collapsed": false,
     "input": [
      "vectorizer = CountVectorizer(min_df=1)\n",
      "X_train = vectorizer.fit_transform(train_query_all_list)\n",
      "y_train = len(train_query_female_list)*['female'] + len(train_query_male_list)*['male']\n",
      "# \ub0a8\uc790 : -1\n",
      "# \uc5ec\uc790 : 1"
     ],
     "language": "python",
     "metadata": {},
     "outputs": [],
     "prompt_number": 85
    },
    {
     "cell_type": "heading",
     "level": 2,
     "metadata": {},
     "source": [
      "Tf-idf vectorizer \uc774\uc6a9"
     ]
    },
    {
     "cell_type": "code",
     "collapsed": false,
     "input": [
      "# count vectorizer \ub300\uc2e0 tf-idf vectorizer\ub97c \uc0ac\uc6a9\n",
      "\n",
      "tfidf_vectorifzer = TfidfVectorizer(min_df=1)"
     ],
     "language": "python",
     "metadata": {},
     "outputs": [],
     "prompt_number": 77
    },
    {
     "cell_type": "code",
     "collapsed": false,
     "input": [
      "X_train2 = tfidf_vectorifzer.fit_transform(train_query_all_list)"
     ],
     "language": "python",
     "metadata": {},
     "outputs": [],
     "prompt_number": 78
    },
    {
     "cell_type": "code",
     "collapsed": false,
     "input": [
      "tfidf_clf = GridSearchCV(LinearSVC(loss='l2'), {'C':np.logspace(-3,0,100) }, cv=5)\n",
      "tfidf_clf.fit(X_train2, y_train)"
     ],
     "language": "python",
     "metadata": {},
     "outputs": [
      {
       "metadata": {},
       "output_type": "pyout",
       "prompt_number": 86,
       "text": [
        "GridSearchCV(cv=5,\n",
        "       estimator=LinearSVC(C=1.0, class_weight=None, dual=True, fit_intercept=True,\n",
        "     intercept_scaling=1, loss='l2', multi_class='ovr', penalty='l2',\n",
        "     random_state=None, tol=0.0001, verbose=0),\n",
        "       fit_params={}, iid=True, loss_func=None, n_jobs=1,\n",
        "       param_grid={'C': array([ 0.001  ,  0.00107, ...,  0.9326 ,  1.     ])},\n",
        "       pre_dispatch='2*n_jobs', refit=True, score_func=None, scoring=None,\n",
        "       verbose=0)"
       ]
      }
     ],
     "prompt_number": 86
    },
    {
     "cell_type": "code",
     "collapsed": false,
     "input": [
      "tfidf_clf.best_params_"
     ],
     "language": "python",
     "metadata": {},
     "outputs": [
      {
       "metadata": {},
       "output_type": "pyout",
       "prompt_number": 87,
       "text": [
        "{'C': 0.1519911082952933}"
       ]
      }
     ],
     "prompt_number": 87
    },
    {
     "cell_type": "code",
     "collapsed": false,
     "input": [
      "clf = LinearSVC()\n",
      "clf.fit(X_train, y_train)\n",
      "\n",
      "clf2 = GridSearchCV(LinearSVC(loss='l2'), {'C' : np.logspace(-3,0,100) }, cv=5)\n",
      "clf2.fit(X_train, y_train)"
     ],
     "language": "python",
     "metadata": {},
     "outputs": [
      {
       "metadata": {},
       "output_type": "pyout",
       "prompt_number": 88,
       "text": [
        "GridSearchCV(cv=5,\n",
        "       estimator=LinearSVC(C=1.0, class_weight=None, dual=True, fit_intercept=True,\n",
        "     intercept_scaling=1, loss='l2', multi_class='ovr', penalty='l2',\n",
        "     random_state=None, tol=0.0001, verbose=0),\n",
        "       fit_params={}, iid=True, loss_func=None, n_jobs=1,\n",
        "       param_grid={'C': array([ 0.001  ,  0.00107, ...,  0.9326 ,  1.     ])},\n",
        "       pre_dispatch='2*n_jobs', refit=True, score_func=None, scoring=None,\n",
        "       verbose=0)"
       ]
      }
     ],
     "prompt_number": 88
    },
    {
     "cell_type": "code",
     "collapsed": false,
     "input": [],
     "language": "python",
     "metadata": {},
     "outputs": [
      {
       "metadata": {},
       "output_type": "pyout",
       "prompt_number": 68,
       "text": [
        "0.011497569953977356"
       ]
      }
     ],
     "prompt_number": 68
    },
    {
     "cell_type": "code",
     "collapsed": false,
     "input": [
      "clf2.best_score_"
     ],
     "language": "python",
     "metadata": {},
     "outputs": [
      {
       "metadata": {},
       "output_type": "pyout",
       "prompt_number": 89,
       "text": [
        "0.81584130557118739"
       ]
      }
     ],
     "prompt_number": 89
    },
    {
     "cell_type": "code",
     "collapsed": false,
     "input": [
      "clf3 = LinearSVC(C=clf2.best_params_['C'])\n",
      "clf3.fit(X_train, y_train)"
     ],
     "language": "python",
     "metadata": {},
     "outputs": [
      {
       "metadata": {},
       "output_type": "pyout",
       "prompt_number": 90,
       "text": [
        "LinearSVC(C=0.011497569953977356, class_weight=None, dual=True,\n",
        "     fit_intercept=True, intercept_scaling=1, loss='l2', multi_class='ovr',\n",
        "     penalty='l2', random_state=None, tol=0.0001, verbose=0)"
       ]
      }
     ],
     "prompt_number": 90
    },
    {
     "cell_type": "code",
     "collapsed": false,
     "input": [
      "sample = vectorizer.transform(['\ud544\ub9bd\uc2a4\uba74\ub3c4\uae30 \ud544\ub9bd\uc2a4\uba74\ub3c4\uae30 \ud544\ub9bd\uc2a4\uba74\ub3c4\uae30 \ud544\ub9bd\uc2a4\uba74\ub3c4\uae30 \ud544\ub9bd\uc2a4\uba74\ub3c4\uae30 \ube14\ub799\ubc15\uc2a4']) \n",
      "print clf.predict(sample)\n",
      "print clf3.predict(sample)"
     ],
     "language": "python",
     "metadata": {},
     "outputs": [
      {
       "output_type": "stream",
       "stream": "stdout",
       "text": [
        "['male']\n",
        "['male']\n"
       ]
      }
     ],
     "prompt_number": 91
    },
    {
     "cell_type": "code",
     "collapsed": false,
     "input": [
      "# 5-fold cross validataion (cv = 5)\n",
      "# \uc804\uccb4 data\ub97c \ub2e4\uc12f \ubd80\ubd84\uc73c\ub85c \ub098\ub204\uace0, \ud55c \ubd80\ubd84\uc744 test set\uc73c\ub85c, \ub098\uba38\uc9c0 \ub124 \ubd80\ubd84\uc744 train set\uc73c\ub85c \uc774\uc6a9.\n",
      "# clf : C=1.0\n",
      "scores = cross_validation.cross_val_score(clf, X_train, y_train, cv=5)\n",
      "\n",
      "print scores\n",
      "print \"Accuracy: %0.2f (+/- %0.2f)\" % (scores.mean(), scores.std()*2)"
     ],
     "language": "python",
     "metadata": {},
     "outputs": [
      {
       "output_type": "stream",
       "stream": "stdout",
       "text": [
        "[ 0.78425861  0.78691983  0.7825475   0.78606615  0.78465869]\n",
        "Accuracy: 0.78 (+/- 0.00)\n"
       ]
      }
     ],
     "prompt_number": 93
    },
    {
     "cell_type": "code",
     "collapsed": false,
     "input": [
      "# clf3 : C is driven by gridsearch\n",
      "scores = cross_validation.cross_val_score(clf3, X_train, y_train, cv=5)\n",
      "print scores\n",
      "print \"Accuracy: %0.2f (+/- %0.2f)\" % (scores.mean(), scores.std()*2)"
     ],
     "language": "python",
     "metadata": {},
     "outputs": [
      {
       "output_type": "stream",
       "stream": "stdout",
       "text": [
        "[ 0.81799016  0.81786217  0.81491907  0.81984518  0.8085855 ]\n",
        "Accuracy: 0.82 (+/- 0.01)\n"
       ]
      }
     ],
     "prompt_number": 94
    },
    {
     "cell_type": "heading",
     "level": 2,
     "metadata": {},
     "source": [
      "cross validation\uc774 shuffle\uc744 \ud558\ub294\uc9c0 \uc548\ud558\ub294\uc9c0"
     ]
    },
    {
     "cell_type": "code",
     "collapsed": false,
     "input": [
      "# tf-idf \ubc84\uc804\n",
      "tfidf_clf = LinearSVC(C= 0.1519911082952933  )\n",
      "scores = cross_validation.cross_val_score(tfidf_clf, X_train2, y_train, cv=5)\n",
      "\n",
      "print scores\n",
      "print \"Accuracy: %0.2f (+/- %0.2f)\" % (scores.mean(), scores.std()*2)"
     ],
     "language": "python",
     "metadata": {},
     "outputs": []
    },
    {
     "cell_type": "heading",
     "level": 2,
     "metadata": {},
     "source": [
      "\ub0a8\ub140 \ub3d9\uc77c\ud55c \ube44\uc728\ub85c \uc9c4\ud589"
     ]
    },
    {
     "cell_type": "code",
     "collapsed": false,
     "input": [
      "train_query_all_list2 = train_query_male_list + train_query_female_list[:len(train_query_male_list)]\n",
      "print len(train_query_all_list2)"
     ],
     "language": "python",
     "metadata": {},
     "outputs": [
      {
       "output_type": "stream",
       "stream": "stdout",
       "text": [
        "2892\n"
       ]
      }
     ],
     "prompt_number": 295
    },
    {
     "cell_type": "code",
     "collapsed": false,
     "input": [
      "print '\ub0a8\uc790 :', len(train_query_male_list)\n",
      "print '\uc5ec\uc790 :', len(train_query_female_list)"
     ],
     "language": "python",
     "metadata": {},
     "outputs": [
      {
       "output_type": "stream",
       "stream": "stdout",
       "text": [
        "\ub0a8\uc790 : 1446\n",
        "\uc5ec\uc790 : 5662\n"
       ]
      }
     ],
     "prompt_number": 253
    },
    {
     "cell_type": "code",
     "collapsed": false,
     "input": [
      "from sklearn.feature_extraction.text import CountVectorizer\n",
      "vectorizer = CountVectorizer(min_df=1)\n",
      "X_train = vectorizer.fit_transform(train_query_all_list2)\n",
      "y_train = len(train_query_male_list)*['male'] + len(train_query_male_list)*['female']\n",
      "# \ub0a8\uc790\ub294 1, \uc5ec\uc790\ub294 -1"
     ],
     "language": "python",
     "metadata": {},
     "outputs": [],
     "prompt_number": 296
    },
    {
     "cell_type": "code",
     "collapsed": false,
     "input": [
      "clf = LinearSVC()\n",
      "clf.fit(X_train, y_train)\n",
      "\n",
      "clf2 = GridSearchCV(LinearSVC(loss='l2'), {'C' : np.logspace(-3,1,100) }, cv=5)\n",
      "clf2.fit(X_train, y_train)"
     ],
     "language": "python",
     "metadata": {},
     "outputs": [
      {
       "metadata": {},
       "output_type": "pyout",
       "prompt_number": 73,
       "text": [
        "GridSearchCV(cv=5,\n",
        "       estimator=LinearSVC(C=1.0, class_weight=None, dual=True, fit_intercept=True,\n",
        "     intercept_scaling=1, loss='l2', multi_class='ovr', penalty='l2',\n",
        "     random_state=None, tol=0.0001, verbose=0),\n",
        "       fit_params={}, iid=True, loss_func=None, n_jobs=1,\n",
        "       param_grid={'C': array([  1.00000e-03,   1.09750e-03, ...,   9.11163e+00,   1.00000e+01])},\n",
        "       pre_dispatch='2*n_jobs', refit=True, score_func=None, scoring=None,\n",
        "       verbose=0)"
       ]
      }
     ],
     "prompt_number": 73
    },
    {
     "cell_type": "code",
     "collapsed": false,
     "input": [
      "clf3 = LinearSVC(C=clf2.best_params_['C'])\n",
      "clf3.fit(X_train, y_train)"
     ],
     "language": "python",
     "metadata": {},
     "outputs": [
      {
       "metadata": {},
       "output_type": "pyout",
       "prompt_number": 74,
       "text": [
        "LinearSVC(C=0.017886495290574352, class_weight=None, dual=True,\n",
        "     fit_intercept=True, intercept_scaling=1, loss='l2', multi_class='ovr',\n",
        "     penalty='l2', random_state=None, tol=0.0001, verbose=0)"
       ]
      }
     ],
     "prompt_number": 74
    },
    {
     "cell_type": "heading",
     "level": 2,
     "metadata": {},
     "source": [
      "\ub0a8\ub140 \ub3d9\uc77c\ud55c \uc22b\uc790\ub85c \uc2e4\ud5d8\uc744 \uc9c4\ud589\ud588\uc744 \ub54c, \uc815\ud655\ub3c4\uac00 \ub9ce\uc774 \ub5a8\uc5b4\uc9c4\ub2e4"
     ]
    },
    {
     "cell_type": "code",
     "collapsed": false,
     "input": [
      "# Baseline\n",
      "scores = cross_validation.cross_val_score(clf3, X_train, y_train, cv=5)\n",
      "print scores\n",
      "print \"Accuracy: %0.2f (+/- %0.2f)\" % (scores.mean(), scores.std()*2)"
     ],
     "language": "python",
     "metadata": {},
     "outputs": [
      {
       "output_type": "stream",
       "stream": "stdout",
       "text": [
        "[ 0.71206897  0.71799308  0.69377163  0.71280277  0.67301038]\n",
        "Accuracy: 0.70 (+/- 0.03)\n"
       ]
      }
     ],
     "prompt_number": 77
    },
    {
     "cell_type": "heading",
     "level": 1,
     "metadata": {},
     "source": [
      "2014.08.21 \uc2dc\uc791"
     ]
    },
    {
     "cell_type": "heading",
     "level": 1,
     "metadata": {},
     "source": [
      "\uc900\ube44\ubb3c \uc81c\uc791 : unlabeled user\uc758 query \ubaa8\uc74c"
     ]
    },
    {
     "cell_type": "code",
     "collapsed": false,
     "input": [
      "query = query.sort('user_id')\n",
      "query.index = range(0, len(query))"
     ],
     "language": "python",
     "metadata": {},
     "outputs": [],
     "prompt_number": 5
    },
    {
     "cell_type": "code",
     "collapsed": false,
     "input": [
      "print '\uc804\uccb4 user\uac00 \uc785\ub825\ud55c query\uc758 \uac2f\uc218 : ', len(query)"
     ],
     "language": "python",
     "metadata": {},
     "outputs": [
      {
       "output_type": "stream",
       "stream": "stdout",
       "text": [
        "\uc804\uccb4 user\uac00 \uc785\ub825\ud55c query\uc758 \uac2f\uc218 :  3026513\n"
       ]
      }
     ],
     "prompt_number": 6
    },
    {
     "cell_type": "code",
     "collapsed": false,
     "input": [
      "print '\uc804\uccb4 user \uc218:',len(query.groupby('user_id').first())"
     ],
     "language": "python",
     "metadata": {},
     "outputs": [
      {
       "output_type": "stream",
       "stream": "stdout",
       "text": [
        "\uc804\uccb4 user \uc218: "
       ]
      },
      {
       "output_type": "stream",
       "stream": "stdout",
       "text": [
        "258308\n"
       ]
      }
     ],
     "prompt_number": 7
    },
    {
     "cell_type": "code",
     "collapsed": false,
     "input": [
      "# \uc804\uccb4 \ucffc\ub9ac\uc758 \uc218\n",
      "print len(query)"
     ],
     "language": "python",
     "metadata": {},
     "outputs": [
      {
       "output_type": "stream",
       "stream": "stdout",
       "text": [
        "3026513\n"
       ]
      }
     ],
     "prompt_number": 227
    },
    {
     "cell_type": "code",
     "collapsed": false,
     "input": [
      "# \uc804\uccb4 \ucffc\ub9ac\uac00 \ub108\ubb34 \ub9ce\uae30 \ub54c\ubb38\uc5d0, \uc791\uc740 \ubd80\ubd84\uc5d0 \ub300\ud574\uc11c \uba3c\uc800 \uc2e4\ud589\ud574\ubcf4\uc790\n",
      "query_subset = query[:2000000]"
     ],
     "language": "python",
     "metadata": {},
     "outputs": [],
     "prompt_number": 228
    },
    {
     "cell_type": "code",
     "collapsed": false,
     "input": [
      "queryOfunknown = []  # {'user_id', 'queryset'} \ud615\ud0dc\ub85c \uc800\uc7a5, \ub098\uc911\uc5d0 label\uc774 \uc788\ub294 user \uac78\ub7ec\ub0b4\uae30 \uc704\ud568\n",
      "before_id = \"\"\n",
      "queryset = \"\"\n",
      "for i in range(0, len(query_subset)):\n",
      "    word = query_subset['query'][i]\n",
      "    current_id = str(query_subset['user_id'][i])\n",
      "    \n",
      "    if before_id != current_id:\n",
      "#         print before_id, current_id\n",
      "        if len(queryset) > 0:\n",
      "            queryOfunknown.append({'user_id':before_id, 'query':queryset})\n",
      "        before_id = current_id\n",
      "        queryset = \"\"\n",
      "        \n",
      "    elif type(word) is str:  # \uc798\ubabb\ub41c \ucffc\ub9ac\ub97c \uac70\ub974\uae30 \uc704\ud574\n",
      "        queryset += word+\" \""
     ],
     "language": "python",
     "metadata": {},
     "outputs": [],
     "prompt_number": 229
    },
    {
     "cell_type": "code",
     "collapsed": false,
     "input": [
      "qou_df = pd.DataFrame(queryOfunknown) # qou => query of unknown"
     ],
     "language": "python",
     "metadata": {},
     "outputs": [],
     "prompt_number": 230
    },
    {
     "cell_type": "code",
     "collapsed": false,
     "input": [
      "print 'user \ud55c \uba85\ub2f9 \ucffc\ub9ac \uac2f\uc218:', len(query)/len(qou_df)"
     ],
     "language": "python",
     "metadata": {},
     "outputs": [
      {
       "output_type": "stream",
       "stream": "stdout",
       "text": [
        "user \ud55c \uba85\ub2f9 \ucffc\ub9ac \uac2f\uc218: 21\n"
       ]
      }
     ],
     "prompt_number": 234
    },
    {
     "cell_type": "code",
     "collapsed": false,
     "input": [
      "print qou_df.columns"
     ],
     "language": "python",
     "metadata": {},
     "outputs": [
      {
       "output_type": "stream",
       "stream": "stdout",
       "text": [
        "Index([u'query', u'user_id'], dtype='object')\n"
       ]
      }
     ],
     "prompt_number": 235
    },
    {
     "cell_type": "code",
     "collapsed": false,
     "input": [
      "qou_df.insert(loc=2, column='decision_score', value=0.0)"
     ],
     "language": "python",
     "metadata": {},
     "outputs": [],
     "prompt_number": 236
    },
    {
     "cell_type": "code",
     "collapsed": false,
     "input": [
      "print qou_df['query'][1]"
     ],
     "language": "python",
     "metadata": {},
     "outputs": [
      {
       "output_type": "stream",
       "stream": "stdout",
       "text": [
        "\uac00\ubc29 \ubc31 \ube14\ub77c\uc6b0\uc2a4 \ubc31 \ubc31 \ubc31 \ucf54\ud2b8 \uac00\ubc29 \ubc31 \ubc31\ud329 \ubc31 \ub77c\ud30c\ub808\ub728 \n"
       ]
      }
     ],
     "prompt_number": 237
    },
    {
     "cell_type": "code",
     "collapsed": false,
     "input": [
      "vectorizer.fit(train_query_all_list2)"
     ],
     "language": "python",
     "metadata": {},
     "outputs": [
      {
       "metadata": {},
       "output_type": "pyout",
       "prompt_number": 239,
       "text": [
        "CountVectorizer(analyzer=u'word', binary=False, charset=None,\n",
        "        charset_error=None, decode_error=u'strict',\n",
        "        dtype=<type 'numpy.int64'>, encoding=u'utf-8', input=u'content',\n",
        "        lowercase=True, max_df=1.0, max_features=None, min_df=1,\n",
        "        ngram_range=(1, 1), preprocessor=None, stop_words=None,\n",
        "        strip_accents=None, token_pattern=u'(?u)\\\\b\\\\w\\\\w+\\\\b',\n",
        "        tokenizer=None, vocabulary=None)"
       ]
      }
     ],
     "prompt_number": 239
    },
    {
     "cell_type": "code",
     "collapsed": false,
     "input": [
      "vectorizer.transform(['\ud544\ub9bd\uc2a4 \ud544\ub9bd\uc2a4 \uba74\ub3c4\uae30 \ub0a8\uc131\uc2a4\ud0a8'])"
     ],
     "language": "python",
     "metadata": {},
     "outputs": [
      {
       "metadata": {},
       "output_type": "pyout",
       "prompt_number": 240,
       "text": [
        "<1x5370 sparse matrix of type '<type 'numpy.int64'>'\n",
        "\twith 2 stored elements in Compressed Sparse Row format>"
       ]
      }
     ],
     "prompt_number": 240
    },
    {
     "cell_type": "code",
     "collapsed": false,
     "input": [
      "print clf3.decision_function(vectorizer.transform([qou_df['query'][1]]))"
     ],
     "language": "python",
     "metadata": {},
     "outputs": [
      {
       "output_type": "stream",
       "stream": "stdout",
       "text": [
        "[-0.30436204]\n"
       ]
      }
     ],
     "prompt_number": 241
    },
    {
     "cell_type": "code",
     "collapsed": false,
     "input": [
      "print qou_df['query'][1]"
     ],
     "language": "python",
     "metadata": {},
     "outputs": [
      {
       "output_type": "stream",
       "stream": "stdout",
       "text": [
        "\uac00\ubc29 \ubc31 \ube14\ub77c\uc6b0\uc2a4 \ubc31 \ubc31 \ubc31 \ucf54\ud2b8 \uac00\ubc29 \ubc31 \ubc31\ud329 \ubc31 \ub77c\ud30c\ub808\ub728 \n"
       ]
      }
     ],
     "prompt_number": 242
    },
    {
     "cell_type": "code",
     "collapsed": false,
     "input": [
      "print clf3.predict(vectorizer.transform([qou_df['query'][1]]))\n",
      "# 1\uc5d0 \uac00\uae4c\uc6b0\uba74 \ub0a8\uc790, -1\uc5d0 \uac00\uae4c\uc6b0\uba74 \uc5ec\uc790"
     ],
     "language": "python",
     "metadata": {},
     "outputs": [
      {
       "output_type": "stream",
       "stream": "stdout",
       "text": [
        "['female']\n"
       ]
      }
     ],
     "prompt_number": 243
    },
    {
     "cell_type": "code",
     "collapsed": false,
     "input": [
      "print qou_df['query'][3]"
     ],
     "language": "python",
     "metadata": {},
     "outputs": [
      {
       "output_type": "stream",
       "stream": "stdout",
       "text": [
        "\ubaa8\uae30\ud328\uce58 \uc2a4\uc704\uc2a4\ubc00\ub9ac\ud130\ub9ac \ub300\uba85\ub9ac\uc870\ud2b8 \ud55c\uc0d8 \uc544\uc774\uc624\ud398 \uc544\uc774\uc624\ud398 \ub300\uba85\ub9ac\uc870\ud2b8 \uc804\uc790\ub80c\uc9c0 \uae30\ucd08\ud654\uc7a5\ud488 \uc544\uc774\uc624\ud398 \uc544\uc774\uc624\ud398 \ud55c\uc0d8\ud0a4\uce5c \uc2e0\ud55c\uc0dd\uba85 \ud68c\uc6d0\uad8c \uc2a4\uc704\uc2a4\ubc00\ub9ac\ud130\ub9ac \uc2a4\uc704\ud2b8\ubc00\ub7ec \ubaa8\uae30\ud314\ucc0c \uc36c\ud06c\ub9bc \uc2e0\ud55c\uc0dd\uba85 \uc54c\uc9d1\ub9e4\ud2b8 \uc2e0\ud55c\uc0dd\uba85 \uc0dd\uba85 \ub300\uba85 \ud55c\uc0d8\uc695\uc2e4 \uc544\uc774\uc624\ud398 \uc2e0\ud55c\uc0dd\uba85 \uc2a4\uc704\ud2b8\ubc00\ub7ec \ub9ac\ube59\ubc15\uc2a4 \uc2e0\ud55c\uc0dd\uba85 \ud558\ub9bc\uce58\ud0a8\uc138\ud2b8 \ud558\ub9bc\ud6c8\uc81c\uce58\ud0a8 \uc2e0\ud55c\uc0dd\uba85 \uc2e0\ud55c \uc5d0\uc13c\uc2a4\ucee4\ubc84\ud329\ud2b8 \uc5ec\ud589\uc0c1\ud488 \uc2a4\uc704\uc2a4\ubc00\ub7ec \uc2a4\uc704\uc2a4\ubc00\ub9ac\ud130\ub9ac \uc5d0\uc13c\uc2a4\ud329\ud2b8 \uacac\ubbf8\ub9ac\ud329\ud2b8 \uc2a4\uc704\uc2a4\ubc00\ub7ec \n"
       ]
      }
     ],
     "prompt_number": 244
    },
    {
     "cell_type": "code",
     "collapsed": false,
     "input": [
      "clf3.decision_function(vectorizer.transform([qou_df['query'][3]]))[0]\n",
      "# \uc704\uc758 \ucffc\ub9ac\ub85c \ubcf4\uc558\uc744 \ub54c \uc5ec\uc790\uc77c \ub4ef \uc2f6\uc73c\ub098 \ub0a8\uc790\ub85c \ud310\ub2e8\ud568"
     ],
     "language": "python",
     "metadata": {},
     "outputs": [
      {
       "metadata": {},
       "output_type": "pyout",
       "prompt_number": 246,
       "text": [
        "-0.80312432626058994"
       ]
      }
     ],
     "prompt_number": 246
    },
    {
     "cell_type": "code",
     "collapsed": false,
     "input": [
      "# \uae30\uc874\uc758 \ub370\uc774\ud130\ub97c \uac00\uc9c0\uace0 unlabeled \ub370\uc774\ud130\ub97c \uc608\uce21\n",
      "positive_list = []\n",
      "negative_list = []\n",
      "cnt = 0\n",
      "for i in range(0, len(qou_df)):\n",
      "    score = clf3.decision_function(vectorizer.transform([qou_df['query'][i]]))[0]\n",
      "    qou_df['decision_score'][i] = score\n",
      "    if score >= 0:\n",
      "        positive_list.append(score);\n",
      "    else:\n",
      "        negative_list.append(score);"
     ],
     "language": "python",
     "metadata": {},
     "outputs": [],
     "prompt_number": 247
    },
    {
     "cell_type": "code",
     "collapsed": false,
     "input": [
      "positive_avg = pd.Series(positive_list).mean()\n",
      "negative_avg = pd.Series(negative_list).mean()\n",
      "\n",
      "print 'positive mean :', positive_avg\n",
      "print 'negative mean :', negative_avg"
     ],
     "language": "python",
     "metadata": {},
     "outputs": [
      {
       "output_type": "stream",
       "stream": "stdout",
       "text": [
        "positive mean : 0.347551167303\n",
        "negative mean : -0.7839908397\n"
       ]
      }
     ],
     "prompt_number": 248
    },
    {
     "cell_type": "code",
     "collapsed": false,
     "input": [
      "positive_std = pd.Series(positive_list).std()\n",
      "negative_std = pd.Series(negative_list).std()\n",
      "\n",
      "print 'positive stdev :', positive_std\n",
      "print 'negative stdev :', negative_std"
     ],
     "language": "python",
     "metadata": {},
     "outputs": [
      {
       "output_type": "stream",
       "stream": "stdout",
       "text": [
        "positive stdev : 0.991559787569\n",
        "negative stdev : 1.74516925041\n"
       ]
      }
     ],
     "prompt_number": 249
    },
    {
     "cell_type": "code",
     "collapsed": false,
     "input": [
      "import scipy.stats as st"
     ],
     "language": "python",
     "metadata": {},
     "outputs": [],
     "prompt_number": 206
    },
    {
     "cell_type": "code",
     "collapsed": false,
     "input": [
      "# C1\uc5d0\uc11c \ub0a8\uc790\ub85c \ucd94\uc815\ub418\ub294 \uc720\uc800\uc758 \uc218\n",
      "print len(positive_list)"
     ],
     "language": "python",
     "metadata": {},
     "outputs": [
      {
       "output_type": "stream",
       "stream": "stdout",
       "text": [
        "67872\n"
       ]
      }
     ],
     "prompt_number": 250
    },
    {
     "cell_type": "code",
     "collapsed": false,
     "input": [
      "# C2\uc5d0\uc11c \uc5ec\uc790\ub85c \ucd94\uc815\ub418\ub294 \uc720\uc800\uc758 \uc218\n",
      "print len(negative_list)"
     ],
     "language": "python",
     "metadata": {},
     "outputs": [
      {
       "output_type": "stream",
       "stream": "stdout",
       "text": [
        "73927\n"
       ]
      }
     ],
     "prompt_number": 251
    },
    {
     "cell_type": "code",
     "collapsed": false,
     "input": [
      "ppf = st.norm.ppf(0.80)\n",
      "cnt = 0\n",
      "for i in range(0, len(positive_list)):\n",
      "    z = (positive_list[i]-positive_avg)/positive_std\n",
      "    if ppf <= z <= 2.0:\n",
      "        cnt += 1\n",
      "#         print z, positive_list[i]\n",
      "print 'C1\uc73c\ub85c \uce21\uc815\ud588\uc744 \ub54c, \ub0a8\uc790\uc77c \ud655\ub960\uc774 90%\uac00 \ub118\ub294 Unlabeled user \uc218:', cnt"
     ],
     "language": "python",
     "metadata": {},
     "outputs": [
      {
       "output_type": "stream",
       "stream": "stdout",
       "text": [
        "C1\uc73c\ub85c \uce21\uc815\ud588\uc744 \ub54c, \ub0a8\uc790\uc77c \ud655\ub960\uc774 90%\uac00 \ub118\ub294 Unlabeled user \uc218: 2344\n"
       ]
      }
     ],
     "prompt_number": 309
    },
    {
     "cell_type": "code",
     "collapsed": false,
     "input": [
      "ppf = st.norm.ppf(0.86)\n",
      "cnt = 0\n",
      "for i in range(0, len(negative_list)):\n",
      "    z = abs((negative_list[i]-negative_avg)/negative_std)\n",
      "    if ppf <= z <= 2.0:\n",
      "        cnt += 1\n",
      "print 'C1\uc73c\ub85c \uce21\uc815\ud588\uc744 \ub54c, \uc5ec\uc790\uc77c \ud655\ub960\uc774 90%\uac00 \ub118\ub294 Unlabeled user \uc218:', cnt"
     ],
     "language": "python",
     "metadata": {},
     "outputs": [
      {
       "output_type": "stream",
       "stream": "stdout",
       "text": [
        "C1\uc73c\ub85c \uce21\uc815\ud588\uc744 \ub54c, \uc5ec\uc790\uc77c \ud655\ub960\uc774 90%\uac00 \ub118\ub294 Unlabeled user \uc218: 2389\n"
       ]
      }
     ],
     "prompt_number": 313
    },
    {
     "cell_type": "code",
     "collapsed": false,
     "input": [
      "qou_df.columns"
     ],
     "language": "python",
     "metadata": {},
     "outputs": [
      {
       "metadata": {},
       "output_type": "pyout",
       "prompt_number": 260,
       "text": [
        "Index([u'query', u'user_id', u'decision_score'], dtype='object')"
       ]
      }
     ],
     "prompt_number": 260
    },
    {
     "cell_type": "code",
     "collapsed": false,
     "input": [
      "qou_df.insert(loc=3, column='isinserted', value=False)"
     ],
     "language": "python",
     "metadata": {},
     "outputs": [],
     "prompt_number": 262
    },
    {
     "cell_type": "code",
     "collapsed": false,
     "input": [
      "add_male_list = []\n",
      "add_female_list = []\n",
      "\n",
      "for i in range(0, len(qou_df)):\n",
      "    querytrans = vectorizer.transform([qou_df['query'][i]])\n",
      "    score = clf3.decision_function(querytrans)\n",
      "    if score >= 0.0:\n",
      "        z = (score-positive_avg)/positive_std\n",
      "        if st.norm.ppf(0.80) <= z <= 2.0:\n",
      "            add_male_list.append(qou_df['query'][i])\n",
      "            qou_df['isinserted'] = True\n",
      "    else:\n",
      "        z = abs((score-negative_avg)/negative_std)\n",
      "        if st.norm.ppf(0.86) <= z <= 2.0:\n",
      "            add_female_list.append(qou_df['query'][i])\n",
      "            qou_df['isinserted'] = True\n",
      "print len(add_male_list), len(add_female_list)            "
     ],
     "language": "python",
     "metadata": {},
     "outputs": [
      {
       "output_type": "stream",
       "stream": "stdout",
       "text": [
        "2344 2389\n"
       ]
      }
     ],
     "prompt_number": 315
    },
    {
     "cell_type": "code",
     "collapsed": false,
     "input": [
      "mdf = pd.DataFrame(add_male_list)\n",
      "fdf = pd.DataFrame(add_female_list)"
     ],
     "language": "python",
     "metadata": {},
     "outputs": [],
     "prompt_number": 332
    },
    {
     "cell_type": "code",
     "collapsed": false,
     "input": [
      "mdf.to_csv(\"addmalelist\", encoding='utf-8')\n",
      "fdf.to_csv(\"addfemalelist\", encoding='utf-8')"
     ],
     "language": "python",
     "metadata": {},
     "outputs": [],
     "prompt_number": 333
    },
    {
     "cell_type": "code",
     "collapsed": false,
     "input": [
      "add_male_list = mdf[0].tolist()"
     ],
     "language": "python",
     "metadata": {},
     "outputs": [],
     "prompt_number": 338
    },
    {
     "cell_type": "code",
     "collapsed": false,
     "input": [
      "add_female_list = fdf[0].tolist()"
     ],
     "language": "python",
     "metadata": {},
     "outputs": [],
     "prompt_number": 339
    },
    {
     "cell_type": "code",
     "collapsed": false,
     "input": [
      "# \ub0a8\uc790\uc77c \uac00\ub2a5\uc131\uc774 \ub192\uc740 unlabeled user\uc758 \ucffc\ub9ac \ubaa9\ub85d\n",
      "print pd.DataFrame(add_male_list)"
     ],
     "language": "python",
     "metadata": {},
     "outputs": [
      {
       "output_type": "stream",
       "stream": "stdout",
       "text": [
        "                                                      0\n",
        "0                                      tv tv \ub178\ud2b8\ubd81 tv tv \n",
        "1     \ub450\uc720 \uc778\uacac \ud32c\uce20 \uc720\uc544 \uc790\uc804\uac70 \ub7f0\ub2dd\ud654 \ud2b8\ub798\ud0b9\ud654 \uc2a4\ud150 \ub0a8\uc131\ud32c\uce20 \uc2a4\ud150 \uc2a4\ud150\ub0c4\ube44 \uc2a4\ud150\ub0c4\ube44 ...\n",
        "2     \uc815\uc218\uae30 \ub450\uc720 \ud5c8\ub2c8 \ubcfc\ub968 \ud5c8\ub2c8\ube14\ub8f8 \uc815\uc218\uae30 \uc815\uc218\uae30 \uc815\uc218\uae30 \uc815\uc218\uae30 \ud5c8\ub2c8\ube14\ub8f8 \uc815\uc218\uae30 \uc815\uc218\uae30...\n",
        "3            \ub178\ud2b8\ubd81 \ub178\ud2b8\ubd81 \ub178\ud2b8\ubd81 \ub178\ud2b8\ubd81 \ub178\ud2b8\ubd81 \uc0bc\uc131\ub178\ud2b8\ubd81 \ub178\ud2b8\ubd81 \ub178\ud2b8\ubd81 \ub178\ud2b8\uc8fd \ub178\ud2b8\ubd81 \n",
        "4     tv \uc2a4\ub9c8\ud2b8 tv \uc2a4\ub9c8\ud2b8 \uc2dc\ub124\ub9c8 \uc2a4\ub9c8\ud2b8 tv \uc2dc\ub124\ub9c8 \uc2a4\ub9c8\ud2b8 tv \uc2a4\ub9c8\ud2b8 tv \uc2dc\ub124\ub9c8...\n",
        "5     \ud150\ud2b8 \ud0e0\ud2b8 \uc2a4\uc704\uc2a4\ubc00\ub9ac\ud130\ub9ac \ud0e0\ud2b8 \ud0e0\ud2b8 \ud150\ud2b8 \uc54c\ud504\ub791\ud150\ud2b8 \ud0e0\ud2b8 \ud0e0\ud2b8 \ud150\ud2b8 \uc2a4\uc704\uc2a4\ubc00\ub9ac\ud130\ub9ac ...\n",
        "6     \uc0bc\uc131 \uc778\ubc84\ud130\uc81c\uc2b5\uae30 LD-159DQV lg \uc778\ubc84\ud130 \uc81c\uc2b5\uae30 \ub9ac\ubc84\uc2a4 \ubcf4\ud2c0 \uc0bc\uc131 \uc778\ubc84\ud130\uc81c\uc2b5...\n",
        "7           \ud150\ud2b8 \ud150\ud2b8 \ub208\uc370\ub9e4 \ud150\ud2b8 \ud150\ud2b8 \ud150\ud2b8 \uc2a4\ub9c8\ud2b8\ud3f0 \uc2a4\ub9c8\ud2b8\ud3f0 \ud150\ud2b8 \ud150\ud2b8 \ud150\ud2b8 \uc5ec\uc131\uc2dc\uacc4 \n",
        "8       \uc2a4\ub9c8\ud2d2\ud3f0 \ucfe0\ucfe0\uc555\ub825\ubc25\uc1a5 \uac00\uc2a4\ud06c\ub9b4 \uc2a4\ub9c8\ud2b8\ud3f0 \uc2a4\ub9c8\ud2b8\ud3f0 \uc2a4\ub9c8\ud2b8\ud3f0 \uc2a4\ub9c8\ud2b8\ud3f0 \uc2a4\ub9c8\ud2b8\ud3f0 \uc2a4\ub9c8\ud2b8\ud3f0 \n",
        "9     \ucef4\ud4e8\ud130 TV \uc54c\uc9d1\ub9e4\ud2b8 \ud734\ub86c \uc138\ub178\ube44\uc2a4 \ube44\ud0c0\ubbfc \ud578\ub4dc\ud3f0 \uc5d0\uc5b4\ud504\ub77c\uc774\uc5b4 \ud578\ub4dc\ud3f0 \ub178\ud2b8\ubd81 \ub178\ud2b8\ubd81...\n",
        "10    \ub124\uc77c \ube14\ub799\ubc15\uc2a4 \uc544\uc774\ub098\ube44 \ub098\uc774\ud0a4 \ub124\uc77c \uc544\uc6c3\ub3c4\uc5b4 \ube14\ub799\ubc15\uc2a4 \uc544\uc774\ub098\ube44 \ube14\ub799\ubc15\uc2a4 \ub4f1\uc0c1\ubcf5\ubc14\uc9c0 ...\n",
        "11    \ub9c8\uc0ac\uc9c0\uae30 \uce90\ub9ac\ube44\uc548\ubca0\uc774 \uc2dc\uc6d0\uc2a4\ucfe8 \uc2dc\uc6d0\uc2a4\ucfe8 \uc2dc\uc6d0\uc2a4\ucfe8 \uc2dc\uc6d0\uc2a4\ucfe8 \uc548\ub9c8 \uc2dc\uc6d0\uc2a4\ucfe8 \uc2dc\uc6d0\uc2a4\ucfe8 \uc2dc...\n",
        "12              \ud504\ub9ac\ub9c8\ud074\ub77c\uc384 \ud578\ub4dc\ud3f0 \ud578\ub4dc\ud3f0 \ud578\ub4dc\ud3f0 \ud578\ub4dc\ud3f0 \ud578\ub4dc\ud3f0 \ud578\ub4dc\ud3f0 \ud578\ub4dc\ud3f0 \ud578\ub4dc\ud3f0 \n",
        "13    \ud0a4\uc988 \uc81c\ub108\ub7f4\uc544\uc774\ub514\uc5b4 \ucd5c\ubc94\uc11d \ucd5c\ubc94\uc11d \ub0a8\uc131\ubc14\uc9c0 \uc81c\ub108\ub7f4\uc544\uc774\ub514\uc5b4 \uac00\ubc29 \ub0a8\uc131\uc2e0\ubc1c genera...\n",
        "14    \ubcf4\ub2cc \uc0bc\uc131 \uc2a4\ub9c8\ud2b8 tv \ubcf4\ub2cc\ub0a8\uc131 lg \uc2a4\ub9c8\ud2b8 lg tv \ud574\uc624\uc8fc\uc2a4 lg tv tv \uad11...\n",
        "15    \ubd99\ubc15\uc7a5 \ud2f0\ube0c \uac00\uc2a4\ubc84\ub108 \ubd99\ubc15\uc774\uc7a5 \ub178\ud2b8\ubd81 \ubd99\ubc15\uc774\uc7a5 \ubc84\ub108 \ub178\ud2b8\ubd81 \uadf8\ub9b4 tv \uc5d0\ub125\uc2a4\uc1fc\ud30c \ud06c...\n",
        "16    \uc0bc\uc131\uc5d0\uc5b4\ucee8 \uc0bc\uc131\uc5d0\uc5b4\ucee8 \uc5d0\uc5b4\ucee8 \uc0bc\uc131\uc5d0\uc5b4\ucee8 \uc544\ubca1\uc194 \uc5ec\uc5d0\uc2a4\ub354\uc720\uc0b0\uade0 \uc0bc\uc131\uc5d0\uc5b4\ucee8 \ub791\ucf64\ub808 \uc5d0\uc5b4...\n",
        "17               \ud578\ub4dc\ud3f0 \ud578\ub4dc\ud3f0 \ud578\ub4dc\ud3f0 \ud578\ub4dc\ud3f0 \ud578\ub4dc\ud3f0 \uac24\ub7ed\uc2dcs4 \ud578\ub4dc\ud3f0 \ud578\ub4dc\ud3f0 \ud578\ub4dc\ud3f0 \n",
        "18                \ub0a8\uc131 \ub4f1\uc0b0\ubcf5 \ub4f1\uc0b0\ubcf5\uc138\ud2b8 \ub4f1\uc0b0\ubcf5\uc138\ud2b8 \ub0a8\uc131 \ub4f1\uc0b0\ubcf5 \ub0a8\uc131 \ub4f1\uc0b0\ubcf5 \ubc84\ud314\ub85c \n",
        "19    \ud0c0\ud504 \ubc29\uc218\ud3ec \ubbf8\ub2c8\ud14c\uc774\ube14 \uccad\uc560\ub730 \ucea0\ud551\uc758\uc790 \ucea0\ud551 \ud150\ud2b8 \ud150\ud2b8 \ucea0\ud551\uce68\ub300 \uadf8\ub987 \uad6c\uc774\ubc14\ub2e4 \uc62c\uc778...\n",
        "20    \uae30\ud0c0 \uc904 \uae30\ud0c0 \ud29c\ub108 \uae30\ud0c0 \ub315\uae30\uba38\ub9ac \ub315\uae30\uba38\ub9ac \ub315\uae30\uba38\ub9ac \uc5ec\uc131\ubc14\uc9c0 \ub315\uae30\uba38\ub9ac \ub315\uae30\uba38\ub9ac \ud1b5\uae30...\n",
        "21    \uc0bc\uc131 \uc5d0\uc5b4\ucee8 \uc0bc\uc131 \uc5d0\uc5b4\ucee8 \uc0bc\uc131 \uc5d0\uc5b4\ucee8 \uc0bc\uc131 \uc5d0\uc5b4\ucee8 \uc0bc\uc131 \uc5d0\uc5b4\ucee8 \uc5d0\uc5b4\ucee8 \uc0bc\uc131 \uc5d0\uc5b4\ucee8 ...\n",
        "22    \uc2a4\ub9c8\ud2b8 tv \uc0bc\uc131 \uc2a4\ub9c8\ud2b8 tv \uc2a4\ub9c8\ud2b8 tv tv tv tv \ub514\uc9c0\ud138\ub3c4\uc5b4\ub77d \uc0bc\uc131 \uc2a4\ub9c8\ud2b8...\n",
        "23    \uac24\ub7ed\uc2dc \ubca0\uac00 \ud578\ub4dc\ud3f0 \uac24\ub7ed\uc2dc \ub178\ud2b83 skt \ubca0\uac00 \uc635\ud2f0\uba38\uc2a4 \uc694\uae08\uc81c \uc2dc\ud06c\ub9bf \ud578\ub4dc\ud3f0 \uac24\ub7ed\uc2dc...\n",
        "24    \ud734\ub300\ud3f0 \ud734\ub86c 2\uc138\ub300 \ud734\ub300\ud3f0 \ud3ec\ucf13\ud3ec\ud3ec2 \ud3ec\ucf13\ud3ec\ud3ec2 \ud734\ub300\ud3f0 \ud734\ub86c 2\uc138\ub300 \ud734\ub300\ud3f0 \ud734\ub86c 2...\n",
        "25    \ucfe0\ucfe0 \ucfe0\ucfe0 \ucfe0\ucfe0 \uc637 \ubc14\uc9c0 \uc2e0\ubc1c \ud578\ub4dc\ud3f0 \uac00\ubc29 \ucfe0\ucfe0 \uadf8\ub989 \ud150\ud2b8 \ud578\ub4dc\ud3f0 \ub0a8\ube44 \ud578\ub4dc\ud3f0 \ub0a8\ube44...\n",
        "26                       \uc2a4\ub9c8\ud2b8\ud3f0 \uc2a4\ub9c8\ud2b8\ud3f0 \uc2a4\ub9c8\ud2b8\ud3f0 \uc2a4\ub9c8\ud2b8\ud3f0 \uc2a4\ub9c8\ud2b8\ud3f0 \uc2a4\ub9c8\ud2b8\ud3f0 \n",
        "27    \uc5d0\uc5b4\ucee8 \uc5d0\uc5b4\ucee8 \uc5d0\uc5b4\ucee8 \uc5d0\uc5b4\ucee8 \ud6c8\uc81c\uc5f0\uc5b4 \uc5d0\uc5b4\ucee8 \uc5d0\uc5b4\ucee8 \uc5d0\uc5b4\ucee8 \uc5d0\uc5b4\ucee8 \uc5d0\uc5b4\ucee8 \ud14c\ud314 \ud504\ub77c...\n",
        "28    \ub4f1\uc0b0\ubcf5 \ub77d\ub370\uc2a4 \ubc84\ud314\ub85c \ub77c\ud14d\uc2a4\ub9e4\ud2b8\ub9ac\uc2a4 \ub4f1\uc0b0\ud654 \ub4f1\uc0b0\ud654 \ub4f1\uc0b0\ud654 \ub4f1\uc0b0\ubcf5\uc138\ud2b8 \ub4f1\uc0b0\ubcf5 \ub4f1\uc0b0\ubcf5 ...\n",
        "29    dslr dslr dslr dslr dslr dslr dslr dslr dslr d...\n",
        "...                                                 ...\n",
        "2314  \uc0bc\uc131\ub178\ud2b8\ubd81 \uc0bc\uc131\ub178\ud2b8\ubd81 \uc0bc\uc131\ub178\ud2b8\ubd81 \uc0bc\uc131\ub178\ud2b8\ubd81 \ub178\ud2b8\ubd81 \uc0bc\uc131\ub178\ud2b8\ubd81 \uc0bc\uc131\ub178\ud2b8\ubd81 \uc544\ud2f0\ube0c \ub178\ud2b8...\n",
        "2315  \ub178\ud2b8\ubd81 \uc2ac\ub9bc\ub178\ud2b8\ubd81 \ub178\ud2b8\ubd81 \uc9c4\uacf5\uccad\uc18c\uae30 \ub178\ud2b8\ubd81 \ub178\ud2b8\ubd81 \ub178\ud2b8\ubd81 \uc0bc\uc131\ub178\ud2b8\ubd81 \ub178\ud2b8\ubd81 \uc0bc\uc131\ub178\ud2b8...\n",
        "2316  \uc5d0\uc5b4\ud504\ub77c\uc774\uc5b4 \uc5d0\uc5b4\ud504\ub77c\uc774\uc5b4 \uc5d0\uc5b4\ud504\ub77c\uc774\uc5b4 \uc5d0\uc5b4\ud504\ub77c\uc774\uc5b4 \uc790\uc774\uae00 \uc5d0\uc5b4\ud504\ub77c\uc774\uc5b4 \uc5d0\uc5b4\ud504\ub77c\uc774\uc5b4 ...\n",
        "2317  \ub85c\ubd07\uccad\ub178\uae30 BFL\ub4f1\uc0b0\ud654\uc138\ud2b8 BFL\ub4f1\uc0b0\ud654 \ub300\uc131\ud5ec\uc2a4\ubbf9 \ud5ec\uc2a4\ubbf9 \uccad\uc18c\uae30 \ub85c\ubd07\uccad\uc18c\uae30 \uccad\uc18c\uae30 ...\n",
        "2318  \ubaa8\ub274\uc5d8 \ub85c\uc774\uccb8 \ub85c\ubd07\uccad\uc18c\uae30 \ub85c\uc774\uccb8 \ubaa8\ub274\uc5d8 40\uc778\uce58tv \ubaa8\ub274\uc5d8 \ub85c\uc774\uccb8 \ud648\uc564\uc1fc\ud551\ub85c\ubd07\uccad\uc18c\uae30...\n",
        "2319  \ucc9c\ud638\uc2dd\ud488 \uc544\uc774\uc624\ud398 \uc5d0\uc5b4\ucfe0\uc158 xp \ud578\ub4dc\ud3f0 \ub178\ud2b8\ubd81 \uc544\uc774\uc624\ud398 \uc5d0\uc5b4\ucfe0\uc158 \uba54\ub974\ube44 \uba54\ub974\ube44 \uc138\ub178...\n",
        "2320       \ud734\ub300\ud3f0 \ud734\ub300\ud3f0 \ud734\ub300\ud3f0 \ud734\ub300\ud3f0 \ud734\ub300\ud3f0 \ud734\ub300\ud3f0 \ud734\ub300\ud3f0 \ud734\ub300\ud3f0 \ud734\ub300\ud3f0 \ud734\ub300\ud3f0 \ud734\ub300\ud3f0 \n",
        "2321  \uae40\uce58\ub0c9\uc7a5\uace0 \ubbf9\uc11c\uae30 \uc5d0\uc5b4\ucee8 \uce7c \uc5d0\uc5b4\ucee8 \uae40\uce58\ub0c9\uc7a5\uace0 \uae40\uce58\ub0c9\uc7a5\uace0 \uae40\uce58\ub0c9\uc7a5\uace0 \ucfe8\ubc14\uc9c0 \ubbf9\uc11c\uae30 ...\n",
        "2322                           \ud734\ub300\ud3f0 \ud734\ub300\ud3f0 \ud734\ub300\ud3f0 \ud734\ub300\ud3f0 \ud734\ub300\ud3f0 \ud734\ub300\ud3f0 \n",
        "2323  \ud55c\uc90c \uc218\ub824\ud55c \ud050\ube0c \ud328\ub9ac\uc568\ub9ac\uc2a4 \ud398\ub9ac\uc568\ub9ac\uc2a4 lg\ucef4\ud4e8\ud130 \ub9e8\ud22c\ub9e8 lg\ucef4\ud4e8\ud130 \ub9c8\uc720 \ub9e5\uc2a4\ud074\ub9ac\ub2c9...\n",
        "2324  \uace0\uad6c\ub9c8\ubbf8\uc778 \uac00\ubc29 \uac00\ubc29 \ud2b8\ub79c\uce58\ucf54\ud2b8 \ube14\ub799\ubc15\uc2a4 \ube14\ub799\ubc15\uc2a4 \ube14\ub799\ubc15\uc2a4 \ud150\ud2b8 \ube14\ub799\ubc15\uc2a4 \ubc31\ud329 \ubc31\ud329...\n",
        "2325  \uc5ec\ub9f9 \ub798\uc26c\uac00\ub4dc \uc5ec\ud589 \ub798\uc26c\uac00\ub4dc \ub798\uc26c\uac00\ub4dc \ub798\uc26c\uac00\ub4dc pic\uad0c \uad0c\uc5ec\ud589 \ub798\uc26c\uac00\ub4dc \ub798\uc26c\uac00\ub4dc \ub798...\n",
        "2326  \uc81c\uc2b5\uae30 \ucea0\ud551 \ucd08\uc720 \uc720\uc544\uc601\uc591\uc81c \uac00\uc2a4\uadf8\ub9b4 \ud150\ud2b8 \uc2a4\uc704\uc2a4\ubc00\ub9ac\ud130\ub9ac \ud150\ud2b8 \ud150\ud2b8 \uc704\ub2c8\uc544 \ucea0\ud551 \ud150...\n",
        "2327  \uace0\uae00 \ubcf5\ub300 \ud5ec\uc2a4\ubcf5 \ud2b8\ub808\uc774\ub2dd \uace0\uae00 \uc624\ud074\ub9ac \uc2f8\uc774\ud074 \uace0\uae00 \uc2a4\ud3ec\uce20\uace0\uae00 cd \uc624\ud074\ub9ac \uc624\ud074\ub9ac ...\n",
        "2328  \ud734\ub300\ud3f0 \ube14\ub799\ubc15\uc2a4 \ud578\ub4dc\ud3f0 \ud578\ub4dc\ud3f0 \ud6c4\ub4dc\uac00\ub4dc \ubc18\uac74\uc2dc \ucf58\uc194\ubc15\uc2a4 \ub3c4\uc2dc\ubc14 \ub178\ud2b8\ubd81 \ud578\ub4dc\ud3f0 \ube14\ub799\ubc15...\n",
        "2329         \ud55c\ub77c\ubd09 \ud578\ub4dc\ud3f0 \ud734\ub300\ud3f0 \ud578\ub4dc\ud3f0 \ub4f1\uc0b0\ubcf5 \ud578\ub4dc\ud3f0 \uc2a4\ub9c8\ud2b8\ud3f0 \uadf8\ub79c\ub4dc \ub0a8\uc131 \ud2f0 \ud578\ub4dc\ud3f0 \n",
        "2330  \uc11c\uc720\ub7fd \uc11c\uc720\ub7fd TV \uc11c\uc720\ub7fd \uc138\ud0c1\uae30 \uc11c\uc720\ub7fd \uc138\ud0c1 \uccad\uc18c\uae30 \uc548\ub9c8\uae30 \uc138\ud0c1\uc18c \uc11c\uc720\ub7fd \uc720\ub7fd \uc548...\n",
        "2331  \ube14\ub799\ubc15\uc2a4 \ube14\ub799\ubc15\uc2a4 \ub355\ub2e4\uc6b4 mach \ub374\ub9c8\ud06c\uc720\uc0b0\uade0 \ube14\ub799\ubc15\uc2a4 \ube14\ub799\ubc15\uc2a4 \ub9e4\uc9c1\uce94 \ud574\ud53c\ucf5c \uc720\uc0b0...\n",
        "2332             \ubc84\ud314\ub85c \ud734\ub300\ud3f0 \ud734\ub300\ud3f0 \ubc84\ud314\ub85c \ubc84\ud314\ub85c \ubc84\ud314\ub85c \ubc84\ud314\ub85c \ud150\ud2b8 \ud5e4\ub4dc\ud3f0 \ud150\ud2b8 \n",
        "2333  \uc0bc\uc131\ub178\ud2b8\ubd81 \ud544\ub9bd\uc2a4 2d \uc548\uba74\ubcf4\ud638\ub300 \uc678\uc7a5\ud558\ub4dc \uc804\ub3d9\uacf5\uad6c \uc138\ud0c1\uae30 \ub178\ube44\ud0c0 \ub178\ud2b8\ubd81 \ud589\uac70 \uc790\ub3d9...\n",
        "2334  g1 \uc1fc\ud30c\ubca0\ub4dc \ub0a8\uc131\uc9c0\uac11 \ub0a8\uc131\uc18d\uc637 tv \ub0c9\uc7a5\uace0 \ud654\ubd84 \uc5d0\uc5b4\ucee8 \ub0a8\uc131\uc758\ub958 \uc790\uc804\uac70 \ub4dc\ubca0\ub974\ub204\uc640...\n",
        "2335  \ud150\ud2b8 \uc138\ud0c1\uae30 \ubc84\ud314\ub85c \uc5ec\ud589 \ud0c0\ud504 \ube68\ub798 \uc5ec\ud589 \ud574\uc678\uc5ec\ud589 \ud574\uc678\uc5ec\ud589 \ub9e4\ud2b8 \ud150\ud2b8 \uacac\uacfc \ubc84\ud314\ub85c ...\n",
        "2336  \ube14\ub799\ubc15\uc2a4 \uc720\ub77c\uc774\ube0c \ube14\ub799\ubc15\uc2a4 \ube14\ub799\ubc15\uc2a4 \ube14\ub799\ubc15\uc2a4 \ube14\ub799\ubc15\uc2a4 \ube14\ub799\ubc15\uc2a4 \ube14\ub799\ubc15\uc2a4 \ube14\ub799\ubc15\uc2a4 \ube14...\n",
        "2337  \ub9e5\ud3ec\uba38\uc2a4 \ub9e5\ud3ec\uba38\uc2a4 \ub9e5\ud3ec\uba38\uc2a4 \ub9e5\ud3ec\uba38\uc2a4 \ub9e5\ud3ec\uba38\uc2a4 \ub9e5\ud3ec\uba38\uc2a4 \ub9e5\ud3ec\uba38\uc2a4 \ub9e5\ud3ec\uba38\uc2a4 \ub9e5\ud3ec\uba38\uc2a4 \ub9e5...\n",
        "2338  \uac08\ube44\ud0d5 \uac08\ube44\ud0d5 \uac08\ube44\ud0d5 \uac08\ube44\ud0d5 undefined \ud734\ub300\ud3f0 \uac08\ube44\ud0d5 \uac08\ube44\ud0d5 \ud734\ub300\ud3f0 \ud734\ub300\ud3f0 ...\n",
        "2339  \ucfe0\ucfe0\uc555\ub825\ubc25\uc1a510 \ud558\ub9bc\uce58\ud0a8\uc138\ud2b8 \uc544\ub514\ub2e4\uc2a4 \ub4dc\ub85c\uc988 \ub0a8\uc131\uc18d\uc637 ahc\uc544\uc774\ud06c\ub9bc \ud2b8\ub77c\uc774\uc5c4\ud504 \ucfe0\ucfe0...\n",
        "2340  \ud55c\ube5b\ub300\ub098\ubb34\ub3db\uc790\ub9ac \ubcf4\ud5d8 \ub0a8\uc131\uc18d\uc637 \uac08\uce58 \uc18d\uc637 \uce74\ub9e4\ud2b8 \uc5b4\ub9b0\uc774\ubcf4\ud5d8 \uac08\uce58 \uc138\ub77c\ubbf9 \ubcfc\ub968\uc5c5 \uac08\uce58...\n",
        "2341  \ud6c8\uc81c\uc624\ub9ac \ub0a8\uc131\ub4dc\ub85c\uc988 \uc300 \ud578\ub4dc\ud3f0 \ud6c8\uc81c\uc624\ub9ac \ud578\ub4dc\ud3f0 \ud578\ub4dc\ud3f0 \ud578\ub4dc\ud3f0 \ud6c8\uc81c\uc624\ub9ac \ud6c8\uc81c\uc624\ub9ac \ub2ed\ubc1c...\n",
        "2342  \uc624\ub974\ub2e4 \ube14\ub799\ubc15\uc2a4 \uc778\uacac\uc774\ubd88 \ube14\ub799\ubc15\uc2a4 \ube14\ub799\ubc15\uc2a4 \ube14\ub799\ubc15\uc2a4 \ube14\ub799\ubc15\uc2a4 \ube14\ub799\ubc15\uc2a4 \ube14\ub799\ubc15\uc2a4 \ube14\ub799...\n",
        "2343  \uccad\ubc14\uc9c0 7\ubd80\ubc14\uc9c0 \uc2e4\ud06c\ud14c\ub77c\ud53c \uc2e4\ud06c\ud14c\ub77c\ud53c \ub9ac\uc5d4\ucf00\uc774 \uc54c\uc9d1\ub9e4\ud2b8 \ud734\ub300\ud3f0 \uc774\ubd88 \uc2e4\ud06c\ud14c\ub77c\ud53c \ub9ac\uc5d4...\n",
        "\n",
        "[2344 rows x 1 columns]\n"
       ]
      }
     ],
     "prompt_number": 316
    },
    {
     "cell_type": "code",
     "collapsed": false,
     "input": [
      "#\uc5ec\uc790\uc77c \uac00\ub2a5\uc131\uc774 \ub192\uc740 unlabeled user\uc758 \ucffc\ub9ac \ubaa9\ub85d\n",
      "print pd.DataFrame(add_female_list)"
     ],
     "language": "python",
     "metadata": {},
     "outputs": [
      {
       "output_type": "stream",
       "stream": "stdout",
       "text": [
        "                                                      0\n",
        "0     \ud55c\uc0d8\ud0a4\uce5c \uc544\uc77c\ub79c\ub4dc\uc2dd\ud0c1 \ud398\uc778\ud2b8\uc778\ud14c\ub9ac\uc5b4 \ud55c\uc0d8\ud0a4\uce5c \ud55c\uc0d8\ud0a4\uce5c \ud55c\uc0d8\ud0a4\uce5c \uc2dd\ud0c1 \ud55c\uc0d8\ud0a4\uce5c \ud55c\uc0d8\ud0a4...\n",
        "1     \ucc28\uc564\ubc15 \ucc28\uc564\ubc15 \ucc28\uc564\ubc15 \ucc28\uc564\ubc15 \ubc14\ube44\ub9ac\uc2a4 \ucc28\uc564\ubc15 \ub974\ub124\uc0c1\uc2a4 \ucc28\uc564\ubc15 \ud654\uc774\ud2b8\ud544 \ucc28\uc564\ubc15 \ud3ec\ub098\ub9ac...\n",
        "2     \ube14\ub799\ubc15\uc2a4 \uae30\uc800\uadc0 \uadf8\ub987 \uc2a4\ud15c\uc140\uc544\uc774\uc624\ud398 \ubbf8\uc2f1 \uc720\ubaa8\ucc28 \ubbf8\uc2f1 \ubbf8\uc2f1 \ud574\ud53c\ucf5c \uc544\uc774\uc624\ud398 \ucf54\ub8104\uc778...\n",
        "3     \ubaa8\ub974\uac04 \uc544\uc774\uc624\ud398 \uc5d0\uc5b4\ucfe0\uc158 \ubaa8\ub974\uac04 \uc704\ube59\ubc31 \ubaa8\ub974\uac04 \uc704\ube59\ubc31 \ubaa8\ub974\uac04 \uc544\uc774\uc624\ud398 \uc544\uc774\uc624\ud398 \uc5d0\uc5b4...\n",
        "4     \uac00\ubc29 \uc870\uc131\uc54422\ubc14\uc6b4\uc2a4\uc5c5\ud329\ud2b8 \uc720\uc0b0\uade0 \ub3c4\uae68\ube44\ubc29\ub9dd\uc774 \ud54f\ud50c\ub78d \uc2ac\ub9ac\ud37c \ube0c\ub77c\uc2a4\ud30c\ud2f0 \ub3cc\uc678\uc78e \ud654\uc6b4...\n",
        "5     \uc544\uc774\uc624\ud398 \uc5d0\uc5b4\ucfe0\uc158 \uc544\uc774\uc624\ud398 \uc5d0\uc5b4\ucfe0\uc158 \uc544\uc774\uc624\ud398 \uc5d0\uc5b4\ucfe0\uc158 \uc544\uc774\uc624\ud398 \uc5d0\uc5b4\ucfe0\uc158 \uc544\uc774\uc624\ud398 \uc5d0...\n",
        "6     \uc544\uc774\uc624\ud398 rx \uc544\uc774\uc624\ud398rx \uc544\uc774\uc624\ud398rx \ubca0\ub9ac\ub5bc \uc544\uc774\uc624\ud398 rx \uc2a4\uc6e8\ub374 \uc5d0\uadf8\ud329 \uc544\uc774\uc624\ud398...\n",
        "7     \ubcf4\uc19c\uc774 \ucc9c\uc5f0\ucf54\ud2bc \ubcf4\uc19c\uc774 \ubcf4\uc19c\uc774 \ucc9c\uc5f0\ucf54\ud2bc \ube14\ub8e8\ub798\ube57 \uc560\ud50c\ube44 \ube14\ub8e8\ub798\ube57 \ubcf4\uc19c\uc774 \ucc9c\uc5f0\ucf54\ud2bc \ube14...\n",
        "8     \uce58\ub9c8 \uae30\ucd08\ud654\uc7a5\ud488\uc138\ud2b8 jmw \uc138\ud2b8 \uace0\ub370\uae30 \ubf55\uace0\ub370\uae30 \ucf00\uc774\uc2a4 \ubc14\ub2d0\ub77c\ucf54 \uc138\ud2b8 \uc544\uc774\uc138\ud2b8 \uac00\ubc29...\n",
        "9     \uc560\ud50c\ube44 \uc870\uc131\uc544 \uc560\ud50c\ube44 \uc528\uc81c\uc774 \uc5d0\ud2f0\ud29c\ub4dc \uc54c\uc9d1\ub9e4\ud2b8 \ud734\ub86c \uc870\uc131\uc544 \uc560\ud50c\ube44 \ube14\ub8e8\ub798\ube57 \ube14\ub8e8\ub798\ube57...\n",
        "10    \uc6d0\ud53c\uc2a4 \uc870\uc131\uc54422 \uc2dc\uc2ac\ub9ac \uac00\ubc29 \uac00\ubc29 \uac00\ubc29 \ubc14\uc9c0 \ubc31\ud329 \uac00\ubc29 \uc544\uba54\ub9ac\uce78\ud22c\uc5b4\ub9ac\uc2a4\ud130 \uac00\ubc29 \uac00...\n",
        "11    \ub3c4\uae68\ube44\ubc29\ub9dd\uc774 \uc790\uc774\uae00 \uc790\uc774\uae00 \ucf54\ub810 \uc790\uc774\uae00 \ub3c4\uae68\ube44\ubc29\ub9dd\uc774 \uc790\uc774\uae00 \ucf54\ub810 \uc790\uc774\uae00 \uc790\uc774\uae00 \uc790\uc774...\n",
        "12    \uc544\uc774\uc624\ud398 \uc544\uc774\uc624\ud398 \ud5e4\ub77c \uc544\uc774\uc624\ud398 \uc544\uc774\uc624\ud398 \uc544\uc774\uc624\ud398 \uc544\uc774\uc624\ud398 \ubca0\ub9ac\ub5bc \ucfe0\uc158\ud30c\uc6b4\ub370\uc774\uc158 \uc544...\n",
        "13    \uce74\uc2dc\uc624 \uce74\uc2dc\uc624 \uce74\uc2dc\uc624 \uce74\uc2dc\uc624 \uce74\uc2dc\uc624 \ud0a4\uc2dc\uc624 \uce74\uc2dc\uc624 \uce74\uc2dc\uc624 \uc54c\uc9d1\ub9e4\ud2b8 \uce74\uc2dc\uc624 \uce74\uc2dc\uc624 \uce74...\n",
        "14    \ubca0\ub9ac\ub5bc \ucfe0\uc158\ud30c\uc6b4\ub370\uc774\uc158 \uc544\uc774\uc624\ud398 \uc5d0\uc5b4\ucfe0\uc158 \ubca0\ub9ac\ub5bc \ucfe0\uc158\ud30c\uc6b4\ub370\uc774\uc158 \ubca0\ub9ac\ub5bc \ud55c\uc90c\uac74\uacfc \ud558\ub8e8\uacac...\n",
        "15    \ube14\ub77c\uc6b0\uc2a4 \ud2f0\uc154\uce20 \ud314\ucc0c \ube14\ub77c\uc6b0\uc2a4 \ud50c\ub8e8 \ud2f0\uc154\uce20 \ud2f0\uc154\uce20 \ube14\ub77c\uc6b0\uc2a4 \ud2f0\uc154\uce20 \uce58\ub9c8 \ube14\ub77c\uc6b0\uc2a4 \uc2a4...\n",
        "16    \ube14\ub799\ubc15\uc2a4 \uc758\ub958 \uc2dc\uc2ac\ub9ac \uc18d\uc637 \ube44\ube44\uc548 \uc544\ud1a0\ud31c \uc544\uc774\uc624\ud398 \uc18d\uc637 \ube14\ub799\ubc15\uc2a4 \ubcf4\uc19c\uc774 \ud574\ud53c\ucf5c \uc870\uc131...\n",
        "17    \ubaa8\ub974\uac04\uac00\ubc29 \uc544\uc774\uc624\ud398 \uc5d0\uc5b4\ucfe0\uc158 xp \uc2dc\uc2ac\ub9ac\ubc31 \ube0c\ub808\ub77c \uc5d0\uc5b4\ucfe0\uc158 \ube0c\ub808\ub77c \uc544\uc774\uc624\ud398 \uc5d0\uc5b4\ucfe0\uc158...\n",
        "18    \uc2a4\ud0a8\ub85c\uc158 \ub178\uc640\uc774\uc5b4 \uc870\uc131\uc544 \uc544\uc774\uc624\ud398 \uc5d0\uc5b4\ucfe0\uc158 xp \uc5d0\uc5b4\ucfe0\uc158 \uc5ec\ub984\uc774\ubd88 \uc544\ub108\uc2a4 \uc870\uc131\uc54422...\n",
        "19    bio\ub124\uc77c \uc774\ub86c \uc824\ub124\uc77c \ud669\uc131\uc8fc \ub450\uc720 \ub450\uc720 \uc824\ub124\uc77c \uc824\ub124\uc77c bio \uc824\ub124\uc77c \uc824\ub124\uc77c \ud558\uae30\uc2a4...\n",
        "20    \ud504\ub9ac\uc708 \uac00\ub204\ub2e4\ubca0\uac1c \ucfe0\ucfe0\uc555\ub825\ubc25\uc1a5 \uc544\uc774\uc624\ud398 \uc5d0\uc5b4\ucfe0\uc158 \uc544\uc774\uc624\ud398 \uc5d0\uc5b4\ucfe0\uc158 xp \ucea1\uc290\ud074\ub80c\uc838 ...\n",
        "21    \uc2e4\ub9ac\ud2b8 \ub374\ube44 \ub374\ube44 \uad6c\uc2a4\ub2e4\uc6b4 \ub374\ube44 \ub374\ube44 \ub2e4\uc774\uc2a8\uccad\uc18c\uae30 \uad11\ud30c\uc624\ube10 \ub77d\uc564\ub77d \ube44\uc2a4\ud504\ub9ac \uc218\uc800\uc138\ud2b8...\n",
        "22    \uc5ec\uc5d0\uc2a4\ub354 \ud734\ub86c 2\uc138\ub300 \ud734\ub86c 2\uc138\ub300 \ud574\ud53c\ucf5c\ud6c4\ub77c\uc774\ud32c \uc5ec\uc5d0\uc2a4\ub354 \ud734\ub86c 2\uc138\ub300 \ud574\ud53c\ucf5c\ud6c4\ub77c\uc774\ud32c...\n",
        "23    \uc2dc\uc2ac\ub9ac \uae40\ud61c\uc790 \ucc9c\uc5f0 \ub2e4\uc2dc\ud329 \ub85c\uc584\ub124\uc774\uccd0 \ud64d\uc0bc\uc9c4\uc561\uae30 \ub85c\uc584\ub124\uc774\uccd0 \ub85c\uc584\ub124\uc774\uccd0 \ucf54\ub810 \ub85c\uc584\ub124\uc774...\n",
        "24    \uc138\ud0c0\ud544 \ube44\ud0c0\ubbfc\ub9e4\uc9c1 \uc77c\ub3d9\uc54c\uce7c\ub9ac\uc774\uc628\uc218\uae30 \ud5f9\ucf08 \ud0a4\ud50c\ub9c1 \uce90\ub9ac\uc5b4 \ud0a4\ud50c\ub9c1 \ub124\ubc14\ub2e4 \uc625\uc2a4\ud3ec\ub4dc\ub9ac\ub529\ud2b8...\n",
        "25    \ud788 \ub2c9\uc2a4 \uc544\ub108\uc2a4 \ub9ac\ube59\ubc15\uc2a4 \uc2a4\ud0c0\uc77cJ\uc378\uba38 \uce90\ub17c \uc624\ud53c\uc2a4\ub8e9 \uac00\ubc29 \ud32c\ub514 \ucf54\uce58 \uac00\ubc29 \ucfe8\ube0c\ub77c \uac00...\n",
        "26    \ub514\uc790\uc778\uc2a4\ud0a8 \ud558\uae30\uc2a4 \uc720\uc544 \ubc15\uc2a4 \uc555\ucd95\ud329 \ub9ac\ube59 \uc720\uc544 \uc544\uae30 \uc544\uae30 \ub9ac\ube59\ubc15\uc2a4 \uc544\uae30\ub9e4\ud2b8 \uc555\ucd95\ud329 ...\n",
        "27    \ub17c\uc2ac\ub9bd \ud574\ud53c\ucf5c \ub974\ucfe0\ub974\uc81c \ud734\ub86c \ub9e5\ud3ec\uba38\uc2a4 \ub178\ubd80\uc601 \ud734\ub86c 2\uc138\ub300 \ubcfc\ub968\uace0\ub370\uae30 \ub178\ubd80\uc601 \ubcfc\ub968\uace0\ub370...\n",
        "28    \uae00\ub77c\uc2a4\ub77d \ud654\uc7ac \ubcf4\ud5d8 \uc5d8\ub80c\uc2e4\ub77c \uc5d8\ub80c\uc2e4\ub77c \uae00\ub77c\uc2a4\ub77d \uae00\ub77c\uc2a4\ub77d \uc6d0\ub354\ube0c\ub77c \uc5d8\ub80c\uc2e4\ub77c \uc6d0\ub354\ube0c\ub77c ...\n",
        "29    \ubca0\ub9ac\ub5bc \ucfe0\uc158\ud30c\uc6b4\ub370\uc774\uc158 \ube0c\ub808\ub77c \uc5ec\ud589\uc6a9\uac00\ubc29 \ubca0\ub9ac\ub5bc \ucfe0\uc158\ud30c\uc6b4\ub370\uc774\uc158 \ubca0\ub974\ub5bc \ube0c\ub808\ub77c \uc5ec\ud589\uc6a9\uac00...\n",
        "...                                                 ...\n",
        "983   \ub9e5\uc2a4\ud074\ub9ac\ub2c9 \ub9e5\uc2a4\ud074\ub9ac\ub2c9 \uc6d0\ub354\ube0c\ub77c \uc6d0\ub354\ube0c\ub77c \ud074\ub80c\uc9d5 \ud5c8\ub2c8\ube14\ub8f8 \uc6d0\ub354\ube0c\ub77c \ub9e5\uc2a4\ud074\ub9ac\ub2c9 \uc6d0\ub354\ube0c\ub77c...\n",
        "984   \uc824\ub124\uc77c \uc824\ub124\uc77c \uc824\ub124\uc77c \uc824\ub124\uc77c \uc824\ub124\uc77c \uc824\ub124\uc77c \uc824\ub124\uc77c \uc824\ub124\uc77c \uc824\ub124\uc77c \uc824\ub124\uc77c \ud558\uc720\ubbf8\ud329 \ud558...\n",
        "985   \ubca0\ub9ac\ub5bc\uc62c\uc778\uc6d0 \ubca0\ub9ac\ub5bc \ubca0\ub9ac\ub5bc \ub9ac\uc81c\ub5bc \ud3ec\ub3c4\uc528\uc720 \ub9ac\uc81c\ub5bc \ud3ec\ub3c4\uc528\uc720 \ub9ac\uc81c\ub5bc \ub9ac\uc81c\ub5bc \ub9ac\uc81c\ub5bc \ud150...\n",
        "986   \uc824\ub124\uc77c \ud328\ub9ac\uc2a4\ud790\ud2bc \uc824\ub124\uc77c \uc824\ub124\uc77c \uc824\ub124\uc77c \uc824\ub124\uc77c \ud328\ub9ac\uc2a4\ud790\ud2bc \uc824\ub124\uc77c \ud328\ub9ac\uc2a4\ud790\ud2bc \ud328\ub9ac\uc2a4\ud790...\n",
        "987   \uc544\uc774\uc624\ud398 \uc5d0\uc5b4\ucfe0\uc158 \ucf54\ub810 \uc544\uc774\uc624\ud398 \uc5d0\uc5b4\ucfe0\uc158 xp \uc544\uc774\uc624\ud398 \ube75\ube75\uace0\ub370\uae30 \uace0\ub370\uae30 g3 \uc544\uc774...\n",
        "988   \uac00\ubc29 \ube44\ud0a4 \uac00\ubc29 \ubc31 \ud2f0\uc154\uce20 \uc2dc\uc2ac\ub9ac \uac00\ubc29 \uc2dc\uc2ac\ub9ac \uc5d4\ub9ac\ucf54\ub8e8\uc544\ub098\uc1fc\ud37c\ubc31 \uac00\ubc29 \uc6b4\ub3d9\ud654 \uae40\uc131\uc740...\n",
        "989   \ub9ac\ube59\ubc15\uc2a4 \uc18d\uc637 \uc2a4\ud30c\uc774\ub354\ub77d \uce6b\uc194\uc0b4\uade0\uae30 \uc138\ud0c1\ubcf4\uad00\ud568 \uc0bc\uc131\ucef4 \uc5d8\ub80c\uc2e4\ub77c \ub3c4\ub9c8 \uc0e4\uc6cc\uae30 \uc5d8\ub80c\uc2e4\ub77c...\n",
        "990   gs\ud648\uc1fc\ud551 \uc544\uc774\uc624\ud398 \uc544\uc774\uc624\ud398 \uc544\uc774\uc624\ud398 \uc544\uc2dc\uc624\ud398\ud551\ud06c \uc544\uc774\uc624\ud398 \uc778\ud150\uc2a4 \uc544\ub3d9\ubd80\uce20 \uc544\uc774\uc624\ud398...\n",
        "991   \uc870\uc131\uc54422 \uac78\ub808 \uac78\ub808 \uc870\uc131\uc54422 \ub9ac\ud045 \uc2dd\ud488\uac74\uc870\uae30 \ub9ac\ud045 \uac78\ub808 \uc8fd\uc81c\uc870\uae30 \uc870\uc131\uc54422 \uc5d0\uc5b4...\n",
        "992   \ubca0\ub9ac\ub5bc \ucfe0\uc158\ud30c\uc6b4\ub370\uc774\uc158 \uce7c\ub77c\ud3f4\ub354 \ub77c\ud074\ub77c\uc6b0\ub4dc \uc54c\uc9d1\ub9e4\ud2b8 \uc720\ubaa8\ucc28 \uce7c\ub77c\ud3f4\ub354 f2 \ubc14\uc9c0 F2 ...\n",
        "993   \uc6d0\ub354\ube0c\ub77c \ubc14\uc9c8\uc528\uc557 \uc824\ub124\uc77c \uc2a4\ud06c\ub9b0\ud0c0\ud504 \uc870\uc131\uc54422 \uc6d0\ub354\ube0c\ub77c \ubc84\ud314\ub85c\ud0c0\ud504 \ud0c0\ud504\uc2a4\ud06c\ub9b0 \ud0c0\ud504\uc2a4...\n",
        "994   \uc9d0\ubcf4\ub9ac \uac00\ubc29 \uc138\ud0c1\uae30 \ud2f0\ube0c\uc774 \uce7c\uc138\ud2b8 \ud5f9\ucf08 \uc54c\uc9d1\ub9e4\ud2b8 \uce7c \ub3c4\uae68\ube44\ubc29\ub9dd\uc774 \uac08\ube44 \uc804\uc790\uc81c\ud488 \ud558\uae30...\n",
        "995   \ubcf4\uc19c\uc774 \uc774\uacbd\uc81c \uc120\uc2dd \uc774\uacbd\uc81c \ub354\ud798\ucc2c \uc5ec\uc131\ud2f0\uc154\uce20 \ubcf4\uc19c\uc774 4\uc885 \ubcf4\uc19c \ud338\ud37c\uc2a4 \ubb3c\ud2f0\uc288 \ubcf4\uc19c\uc774...\n",
        "996   \uc5d0\uc5b4\ucfe0\uc158 \uc18c\uac00\uc8fd\ubcf4\ud14c\uac00\uc288\uc988 \uc544\uc774\uc624\ud398 \uc5d0\uc5b4\ucfe0\uc158 \uc544\uc774\uc624\ud398 \uc5d0\uc5b4\ucfe0\uc158 \uc54c\uc9d1\ub9e4\ud2b8 \uc824\ub124\uc77c \uc6d0\ub354\ube0c...\n",
        "997   \uc218\ub824\ud55c \ucee4\ubc84 \ucfe0\uc158 \uc870\uc131\uc544 \uc218\ub824\ud55c \ubca0\ub9ac\ub5bc \ucfe0\uc158\ud30c\uc6b4\ub370\uc774\uc158 \ubca0\ub9ac\ub5bc \ucfe0\uc158\ud30c\uc6b4\ub370\uc774\uc158 \ubca0\ub9ac\ub5bc ...\n",
        "998   \ub3c4\uc5b4\ub77d \uc54c\uc9d1 \uc560\ud50c\ube44 \ube14\ub8e8\ub798\ube57 \ube14\ub8e8\ub798\ube57 \ube14\ub8e8\ub798\ube57 \uc54c\uc9d1\ub9e4\ud2b8 \uc560\ud50c\ube44 \ud53c\ud130\ub798\ube57 \ud504\ub8b0\ubca8 \ube14\ub8e8...\n",
        "999   \uae4c\uc0ac\uc628 \uc6cc\uc2f1\uc2a4\ud504\ub808\ub4dc \uae4c\uc0ac\uc628 \uc778\uacac \uae4c\uc0ac\uc628 \ub178\uc640\uc774\uc5b4 \ubc15\ud64d\uadfc \ubc15\ud64d\uadfc \uae4c\uc0ac\uc628 \ubc14\uc790\ub974 \uae4c\uc0ac\uc628...\n",
        "1000  \uc624\ucfe0 \uc624\ucfe0 \uc720\uc544\ub85c\uc158 \uc624\ucfe0 \ubca0\ub9ac\ub5bc \ucfe0\uc158\ud30c\uc6b4\ub370\uc774\uc158 \ubca0\ub9ac\ub5bc \ucfe0\uc158\ud30c\uc6b4\ub370\uc774\uc158 \uc624\ucfe0 \uc624\ucfe0 \ub354\ub9c8...\n",
        "1001  \uae30\uc800\uadc0 \uc2a4\ud33d\uc2a4 \ub864\uc2a4\ud06c\ub9b0 \uc2a4\ud33d\uc2a4 \uc2a4\ud33d\uc2a4 \uc2a4\ud33d\uc2a4 \ucee4\ud150 \uc2a4\ud33d\uc2a4 \uc2a4\ud33d\uc2a4 \uc2a4\ud33d\uc2a4 \ubcf4\uc628\ubcd1 \uc2a4\ud33d...\n",
        "1002  \uc560\ud50c\ube44 \ucc38\uc874 \uc720\uc9c4 \ubc14\ube44\ub9ac\uc2a4 \uac00\ube0c\ub9ac\uc5d8 \ud50c\ub8e8 \ucc38\uc874 \uc54c\ub85c\uc5d0\uac94 \uc124\ud654\uc218 \ud55c\uc90c\uc758\ubcf4\ub108\uce20 \uc885\uadfc\ub2f9 ...\n",
        "1003  \uace0\ubb34\uc2e0\ubc1c \uc18d\uc637 \ub86f\ub370\ud648\uc1fc\ud551 \ud788\ubbf8\ucf54\uc18d\uc637 \ud720\ub77c\uc18d\uc637 9\ubcf4\ubc14\uc9c0 \uc5ec\ub984\uc0cc\ub4e4 \uc5ec\ub984\uc0cc\ub4e4 \uc1a1\uc9c0\uc624\ubc31 \uc559...\n",
        "1004  \ubca0\ub9ac\ub5bc \ubca0\ub9ac\ub5bc \ubca0\ub9ac\ub5bc \ubca0\ub9ac\ub5bc \ubca0\ub9ac\ub5bc \ubca0\ub9ac\ub5bc \ubca0\ub9ac\ub5bc \ubca0\ub9ac\ub5bc \ubca0\ub9ac\ub5bc \ubca0\ub9ac\ub5bc \ubca0\ub9ac\ub5bc \ubca0\ub9ac...\n",
        "1005  \uc778\ud130\ub77d \ub77d\uc564\ub77d \uc778\ud130\ub77d \ub77d\uc564\ub77d \uc778\ud130\ub77d \uc778\ud130\ub77d \uc778\ud130\ub77d \uc778\ud130\ub77d \ub77d\uc564\ub77d \uc778\ud130\ub77d \uc778\ud130\ub77d \ub77d\uc564...\n",
        "1006  \ubca0\ub9ac\ub5bc\ud329\ud2b8 \uc2a4\ud504\uce20\ube0c\ub77c \ubca0\ub9ac\ub5bc \ucfe0\uc158\ud30c\uc6b4\ub370\uc774\uc158 \ud30c\uce20 \ub124\uc77c\ud30c\uce20 \ubca0\ub9ac\ub5bc \ucfe0\uc158\ud30c\uc6b4\ub370\uc774\uc158 \ub124\uc77c...\n",
        "1007  \ud734\ub86c 2\uc138\ub300 \ub77c\ub044\ubca0\ub974 \uc555\ub825\ubc25\uc1a5 \uccad\uc1e0 \uc218\ub824\ud55c \uc18d\uc637 \ub0a8\uc131\ub4dc\ub85c\uc988 \uc18d\uc637\uc138\ud2b8 \uc2e0\uc601 \uc624\ud718 \uc2e0\uc601...\n",
        "1008  ahc \uc545\ub9c8\ub2e4\uc774\uc5b4\ud2b8 \ubca0\ub9ac\ub5bc ahc ahc \uc870\uc131\uc544 \ube44\ub108\uc2a4 \ube44\ub108\uc2a4 \ub9ac\uc5bc \uc544\uc774\ud06c\ub9bc \ud3ec \ud398...\n",
        "1009  \uc720\uc9c4 \ube0c\ub808\ub77c \ud2f0\uc544\ub098\ubc31 \ub300\ub9cc\uc5ec\ud589 \ube0c\ub808\ub77c \ube0c\ub808\ub77c \uc140\ub9ac\ub098\ubc31 \uc140\ub9ac\ub098\ubc31 \ud574\uc678\uc5ec\ud589 \ube0c\ub808\ub77c \uc140\ub808...\n",
        "1010  \uc81c\ud2b8\uc194\ub808 \uace8\ud504\ucc44 \uc5ec\uc131 \uc120\uc2a4\ud504\ub808\uc774 \ube44\ud0c0\ud074\ub9ac\uc5b4 \uc36c\uc2a4\ud504\ub808\uc774 \uc81c\ud2b8\uc194\ub808 \uc81c\ud2b8\uc194\ub808 \uace8\ud504\ucc44 \uc5ec\uc131...\n",
        "1011  \ubca0\ub9ac\ub5bc \ucfe0\uc158\ud30c\uc6b4\ub370\uc774\uc158 \ubca0\ub9ac\ub5bc \ucfe0\uc158\ud30c\uc6b4\ub370\uc774\uc158 \ubca0\ub9ac\ub5bc \ucfe0\uc158\ud30c\uc6b4\ub370\uc774\uc158 \ubca0\ub9ac\ub5bc \ucfe0\uc158\ud30c\uc6b4\ub370\uc774...\n",
        "1012  \ub77d\uc564\ub77d \ub9ac\ube59\ubc15\uc2a4 \uc9c0\ube44\uc5d0\uc5b4 \uba74 \uc18d\uc637 \ubc30 \ubc30 \ub77d\uc564\ub77d \ub9ac\ube59\ubc15\uc2a4 \ubcf4\uc19c\uc774 \ucc9c\uc5f0\ucf54\ud2bc \uc6d0\ub354\ube0c\ub77c ...\n",
        "\n",
        "[1013 rows x 1 columns]\n"
       ]
      }
     ],
     "prompt_number": 277
    },
    {
     "cell_type": "code",
     "collapsed": false,
     "input": [
      "new_male_list = train_query_male_list + add_male_list\n",
      "print 'Training data\uc18d \ub0a8\uc790 \uc720\uc800 \uc218:', len(new_male_list)"
     ],
     "language": "python",
     "metadata": {},
     "outputs": [
      {
       "output_type": "stream",
       "stream": "stdout",
       "text": [
        "Training data\uc18d \ub0a8\uc790 \uc720\uc800 \uc218: 3790\n"
       ]
      }
     ],
     "prompt_number": 317
    },
    {
     "cell_type": "code",
     "collapsed": false,
     "input": [
      "new_female_list = train_query_female_list[:len(train_query_male_list)] + add_female_list\n",
      "print 'Training data\uc18d \uc5ec\uc790 \uc720\uc800 \uc218:', len(new_female_list)"
     ],
     "language": "python",
     "metadata": {},
     "outputs": [
      {
       "output_type": "stream",
       "stream": "stdout",
       "text": [
        "Training data\uc18d \uc5ec\uc790 \uc720\uc800 \uc218: 3835\n"
       ]
      }
     ],
     "prompt_number": 318
    },
    {
     "cell_type": "code",
     "collapsed": false,
     "input": [
      "new_all_list = new_male_list + new_female_list"
     ],
     "language": "python",
     "metadata": {},
     "outputs": [],
     "prompt_number": 319
    },
    {
     "cell_type": "code",
     "collapsed": false,
     "input": [
      "new_X_train = vectorizer.fit_transform(new_all_list)"
     ],
     "language": "python",
     "metadata": {},
     "outputs": [],
     "prompt_number": 320
    },
    {
     "cell_type": "code",
     "collapsed": false,
     "input": [
      "new_y_train = ['male']*len(new_male_list) + ['female']*len(new_female_list)"
     ],
     "language": "python",
     "metadata": {},
     "outputs": [],
     "prompt_number": 321
    },
    {
     "cell_type": "code",
     "collapsed": false,
     "input": [
      "new_clf = GridSearchCV(LinearSVC(loss='l2'), {'C' : np.logspace(-3,1,20) }, cv=5)"
     ],
     "language": "python",
     "metadata": {},
     "outputs": [],
     "prompt_number": 322
    },
    {
     "cell_type": "code",
     "collapsed": false,
     "input": [
      "new_clf.fit(new_X_train, new_y_train)"
     ],
     "language": "python",
     "metadata": {},
     "outputs": [
      {
       "metadata": {},
       "output_type": "pyout",
       "prompt_number": 323,
       "text": [
        "GridSearchCV(cv=5,\n",
        "       estimator=LinearSVC(C=1.0, class_weight=None, dual=True, fit_intercept=True,\n",
        "     intercept_scaling=1, loss='l2', multi_class='ovr', penalty='l2',\n",
        "     random_state=None, tol=0.0001, verbose=0),\n",
        "       fit_params={}, iid=True, loss_func=None, n_jobs=1,\n",
        "       param_grid={'C': array([  1.00000e-03,   1.62378e-03,   2.63665e-03,   4.28133e-03,\n",
        "         6.95193e-03,   1.12884e-02,   1.83298e-02,   2.97635e-02,\n",
        "         4.83293e-02,   7.84760e-02,   1.27427e-01,   2.06914e-01,\n",
        "         3.35982e-01,   5.45559e-01,   8.85867e-01,   1.43845e+00,\n",
        "         2.33572e+00,   3.79269e+00,   6.15848e+00,   1.00000e+01])},\n",
        "       pre_dispatch='2*n_jobs', refit=True, score_func=None, scoring=None,\n",
        "       verbose=0)"
       ]
      }
     ],
     "prompt_number": 323
    },
    {
     "cell_type": "code",
     "collapsed": false,
     "input": [
      "new_clf.best_score_"
     ],
     "language": "python",
     "metadata": {},
     "outputs": [
      {
       "metadata": {},
       "output_type": "pyout",
       "prompt_number": 324,
       "text": [
        "0.89298360655737707"
       ]
      }
     ],
     "prompt_number": 324
    },
    {
     "cell_type": "code",
     "collapsed": false,
     "input": [
      "scores = cross_validation.cross_val_score(new_clf, new_X_train, new_y_train, cv=5)\n",
      "print scores\n",
      "print \"Accuracy: %0.2f (+/- %0.2f)\" % (scores.mean(), scores.std()*2)"
     ],
     "language": "python",
     "metadata": {},
     "outputs": [
      {
       "output_type": "stream",
       "stream": "stdout",
       "text": [
        "[ 0.70819672  0.72786885  0.99868852  1.          0.99868852]\n",
        "Accuracy: 0.89 (+/- 0.28)\n"
       ]
      }
     ],
     "prompt_number": 325
    },
    {
     "cell_type": "code",
     "collapsed": false,
     "input": [
      "sample_query = '\uc0dd\ub9ac\ub300'\n",
      "new_clf.predict(vectorizer.transform([sample_query]))"
     ],
     "language": "python",
     "metadata": {},
     "outputs": [
      {
       "metadata": {},
       "output_type": "pyout",
       "prompt_number": 331,
       "text": [
        "array(['female'], \n",
        "      dtype='|S6')"
       ]
      }
     ],
     "prompt_number": 331
    },
    {
     "cell_type": "heading",
     "level": 1,
     "metadata": {},
     "source": [
      "list -> \ud30c\uc77c\ub85c \uc800\uc7a5\ud574\ub193\uc744\uac83"
     ]
    },
    {
     "cell_type": "code",
     "collapsed": false,
     "input": [],
     "language": "python",
     "metadata": {},
     "outputs": []
    }
   ],
   "metadata": {}
  }
 ]
}